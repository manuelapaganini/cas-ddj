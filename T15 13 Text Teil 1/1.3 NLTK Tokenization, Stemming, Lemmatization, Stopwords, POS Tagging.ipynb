{
 "cells": [
  {
   "cell_type": "markdown",
   "metadata": {},
   "source": [
    "## Agenda"
   ]
  },
  {
   "cell_type": "markdown",
   "metadata": {},
   "source": [
    "- Tokenization\n",
    "- Stemming\n",
    "- Lemmatization\n",
    "    - Pattern\n",
    "    - TextBlob\n",
    "- POS Tagging\n",
    "    - Pattern\n",
    "    - TextBlob\n",
    "- Stop Word removal"
   ]
  },
  {
   "cell_type": "markdown",
   "metadata": {},
   "source": [
    "## Tokenizer\n",
    "- Wie splittet man einfach einen Satz in Wörter auf?\n",
    "- https://www.admin.ch/opc/de/classified-compilation/19995395/index.html#a8"
   ]
  },
  {
   "cell_type": "code",
   "execution_count": 9,
   "metadata": {},
   "outputs": [],
   "source": [
    "import nltk\n",
    "from nltk.tokenize import word_tokenize"
   ]
  },
  {
   "cell_type": "code",
   "execution_count": 2,
   "metadata": {},
   "outputs": [],
   "source": [
    "verfassung = '''\n",
    "Im Namen Gottes des Allmächtigen!\n",
    "\n",
    "Das Schweizervolk und die Kantone,\n",
    "\n",
    "in der Verantwortung gegenüber der Schöpfung,\n",
    "\n",
    "im Bestreben, den Bund zu erneuern, um Freiheit und Demokratie, Unabhängigkeit und Frieden in Solidarität und Offenheit gegenüber der Welt zu stärken,\n",
    "\n",
    "im Willen, in gegenseitiger Rücksichtnahme und Achtung ihre Vielfalt in der Einheit zu leben,\n",
    "\n",
    "im Bewusstsein der gemeinsamen Errungenschaften und der Verantwortung gegenüber den künftigen Generationen,\n",
    "\n",
    "gewiss, dass frei nur ist, wer seine Freiheit gebraucht, und dass die Stärke des Volkes sich misst am Wohl der Schwachen,\n",
    "\n",
    "geben sich folgende Verfassung:\n",
    "'''"
   ]
  },
  {
   "cell_type": "code",
   "execution_count": 3,
   "metadata": {},
   "outputs": [
    {
     "data": {
      "text/plain": [
       "'\\nIm Namen Gottes des Allmächtigen!\\n\\nDas Schweizervolk und die Kantone,\\n\\nin der Verantwortung gegenüber der Schöpfung,\\n\\nim Bestreben, den Bund zu erneuern, um Freiheit und Demokratie, Unabhängigkeit und Frieden in Solidarität und Offenheit gegenüber der Welt zu stärken,\\n\\nim Willen, in gegenseitiger Rücksichtnahme und Achtung ihre Vielfalt in der Einheit zu leben,\\n\\nim Bewusstsein der gemeinsamen Errungenschaften und der Verantwortung gegenüber den künftigen Generationen,\\n\\ngewiss, dass frei nur ist, wer seine Freiheit gebraucht, und dass die Stärke des Volkes sich misst am Wohl der Schwachen,\\n\\ngeben sich folgende Verfassung:\\n'"
      ]
     },
     "execution_count": 3,
     "metadata": {},
     "output_type": "execute_result"
    }
   ],
   "source": [
    "#verfassung = verfassung.decode('utf-8')\n",
    "verfassung"
   ]
  },
  {
   "cell_type": "markdown",
   "metadata": {},
   "source": [
    "### In einzelne Wörter + Zeichen"
   ]
  },
  {
   "cell_type": "code",
   "execution_count": 4,
   "metadata": {},
   "outputs": [
    {
     "data": {
      "text/plain": [
       "['Im',\n",
       " 'Namen',\n",
       " 'Gottes',\n",
       " 'des',\n",
       " 'Allmächtigen',\n",
       " '!',\n",
       " 'Das',\n",
       " 'Schweizervolk',\n",
       " 'und',\n",
       " 'die']"
      ]
     },
     "execution_count": 4,
     "metadata": {},
     "output_type": "execute_result"
    }
   ],
   "source": [
    "tokens = nltk.word_tokenize(verfassung)\n",
    "tokens[0:10]"
   ]
  },
  {
   "cell_type": "markdown",
   "metadata": {},
   "source": [
    "### In Wörter"
   ]
  },
  {
   "cell_type": "markdown",
   "metadata": {},
   "source": [
    "if word.isalpha() = alphanumerischer character, <- damit kann man Satzzeichen rausfiltern"
   ]
  },
  {
   "cell_type": "markdown",
   "metadata": {},
   "source": [
    "wörter in kleinzeichen konvertieren"
   ]
  },
  {
   "cell_type": "code",
   "execution_count": 8,
   "metadata": {},
   "outputs": [],
   "source": [
    "from nltk.tokenize import word_tokenize\n",
    "words = word_tokenize(verfassung)\n",
    "words=[word.lower() for word in words if word.isalpha()]\n",
    "#words[0:20]\n"
   ]
  },
  {
   "cell_type": "markdown",
   "metadata": {},
   "source": [
    "### Hier noch ein paar praktische Python funktionen wie isalpha\n",
    "\n",
    "|  s.startswith(t) | test if s starts with t |\n",
    "|  ------ | ------ |\n",
    "|  s.endswith(t) | test if s ends with t |\n",
    "|  t in s | test if t is a substring of s |\n",
    "|  s.islower() | test if s contains cased characters and all are lowercase |\n",
    "|  s.isupper() | test if s contains cased characters and all are uppercase |\n",
    "|  s.isalpha() | test if s is non-empty and all characters in s are alphabetic |\n",
    "|  s.isalnum() | test if s is non-empty and all characters in s are alphanumeric |\n",
    "|  s.isdigit() | test if s is non-empty and all characters in s are digits |\n",
    "|  s.istitle() | test if s contains cased characters and is titlecased (i.e. all words in s have initial capitals) |"
   ]
  },
  {
   "cell_type": "markdown",
   "metadata": {},
   "source": [
    "### In Sätze"
   ]
  },
  {
   "cell_type": "markdown",
   "metadata": {},
   "source": [
    "Anstatt in Wörter können wir den Text auch in Sätze zerlegen. Damit kann man zB. die Satzlänge analysieren."
   ]
  },
  {
   "cell_type": "code",
   "execution_count": 10,
   "metadata": {
    "scrolled": true
   },
   "outputs": [
    {
     "data": {
      "text/plain": [
       "['\\nIm Namen Gottes des Allmächtigen!',\n",
       " 'Das Schweizervolk und die Kantone,\\n\\nin der Verantwortung gegenüber der Schöpfung,\\n\\nim Bestreben, den Bund zu erneuern, um Freiheit und Demokratie, Unabhängigkeit und Frieden in Solidarität und Offenheit gegenüber der Welt zu stärken,\\n\\nim Willen, in gegenseitiger Rücksichtnahme und Achtung ihre Vielfalt in der Einheit zu leben,\\n\\nim Bewusstsein der gemeinsamen Errungenschaften und der Verantwortung gegenüber den künftigen Generationen,\\n\\ngewiss, dass frei nur ist, wer seine Freiheit gebraucht, und dass die Stärke des Volkes sich misst am Wohl der Schwachen,\\n\\ngeben sich folgende Verfassung:']"
      ]
     },
     "execution_count": 10,
     "metadata": {},
     "output_type": "execute_result"
    }
   ],
   "source": [
    "from nltk.tokenize import sent_tokenize\n",
    "sentences = sent_tokenize(verfassung)\n",
    "sentences"
   ]
  },
  {
   "cell_type": "markdown",
   "metadata": {},
   "source": [
    "## Stemming\n",
    "- d.h. das überführen von Wörtern in den gleichen Stamm. \n",
    "- Übliche Probleme die Sprache so mit sich bringt:\n",
    "    - Konjugation: gehe, gehst, gehen, geht, ... es handelt sich um das gleiche Wort. \n",
    "    - Plural, Groß/Kleinschreibung: katze, katzen, Katze ... es handelt sich auch um das gleiche Wort. \n",
    "    - ..."
   ]
  },
  {
   "cell_type": "code",
   "execution_count": 16,
   "metadata": {},
   "outputs": [],
   "source": [
    "porter = nltk.PorterStemmer()\n",
    "lancaster = nltk.LancasterStemmer()"
   ]
  },
  {
   "cell_type": "markdown",
   "metadata": {},
   "source": [
    "### Porter stemmer\n",
    "- geht ganz ok für Englisch\n",
    "- https://de.wikipedia.org/wiki/Porter-Stemmer-Algorithmus"
   ]
  },
  {
   "cell_type": "code",
   "execution_count": 17,
   "metadata": {},
   "outputs": [
    {
     "data": {
      "text/plain": [
       "['Universal',\n",
       " 'Declaration',\n",
       " 'of',\n",
       " 'Human',\n",
       " 'Rights',\n",
       " 'Preamble',\n",
       " 'Whereas',\n",
       " 'recognition',\n",
       " 'of',\n",
       " 'the',\n",
       " 'inherent',\n",
       " 'dignity',\n",
       " 'and',\n",
       " 'of',\n",
       " 'the',\n",
       " 'equal',\n",
       " 'and',\n",
       " 'inalienable',\n",
       " 'rights',\n",
       " 'of']"
      ]
     },
     "execution_count": 17,
     "metadata": {},
     "output_type": "execute_result"
    }
   ],
   "source": [
    "from nltk.corpus import udhr\n",
    "engl_words = udhr.words(\"English-Latin1\")\n",
    "engl_words[0:20]"
   ]
  },
  {
   "cell_type": "code",
   "execution_count": 18,
   "metadata": {},
   "outputs": [
    {
     "data": {
      "text/plain": [
       "'univers'"
      ]
     },
     "execution_count": 18,
     "metadata": {},
     "output_type": "execute_result"
    }
   ],
   "source": [
    "porter.stem(\"Universe\")"
   ]
  },
  {
   "cell_type": "code",
   "execution_count": 19,
   "metadata": {},
   "outputs": [
    {
     "data": {
      "text/plain": [
       "['univers',\n",
       " 'declar',\n",
       " 'of',\n",
       " 'human',\n",
       " 'right',\n",
       " 'preambl',\n",
       " 'wherea',\n",
       " 'recognit',\n",
       " 'of',\n",
       " 'the',\n",
       " 'inher',\n",
       " 'digniti',\n",
       " 'and',\n",
       " 'of',\n",
       " 'the',\n",
       " 'equal',\n",
       " 'and',\n",
       " 'inalien',\n",
       " 'right',\n",
       " 'of']"
      ]
     },
     "execution_count": 19,
     "metadata": {},
     "output_type": "execute_result"
    }
   ],
   "source": [
    "[porter.stem(w) for w in engl_words][0:20]"
   ]
  },
  {
   "cell_type": "markdown",
   "metadata": {},
   "source": [
    "### Lancaster Stemmer\n",
    "- kommt zu leicht anderen \"stämmen\"\n",
    "- funktioniert nicht so gut für deutsch"
   ]
  },
  {
   "cell_type": "code",
   "execution_count": 20,
   "metadata": {
    "scrolled": true
   },
   "outputs": [
    {
     "data": {
      "text/plain": [
       "['univers',\n",
       " 'decl',\n",
       " 'of',\n",
       " 'hum',\n",
       " 'right',\n",
       " 'preambl',\n",
       " 'wherea',\n",
       " 'recognit',\n",
       " 'of',\n",
       " 'the',\n",
       " 'inh',\n",
       " 'dign',\n",
       " 'and',\n",
       " 'of',\n",
       " 'the',\n",
       " 'eq',\n",
       " 'and',\n",
       " 'ina',\n",
       " 'right',\n",
       " 'of']"
      ]
     },
     "execution_count": 20,
     "metadata": {},
     "output_type": "execute_result"
    }
   ],
   "source": [
    "[lancaster.stem(w) for w in engl_words][0:20]"
   ]
  },
  {
   "cell_type": "markdown",
   "metadata": {},
   "source": [
    "### Snowball stemmer\n",
    "- Geht gut für deusch\n",
    "- http://snowball.tartarus.org/algorithms/german/stemmer.html"
   ]
  },
  {
   "cell_type": "code",
   "execution_count": 21,
   "metadata": {},
   "outputs": [],
   "source": [
    "snowball = nltk.stem.snowball.GermanStemmer()"
   ]
  },
  {
   "cell_type": "code",
   "execution_count": 22,
   "metadata": {},
   "outputs": [
    {
     "data": {
      "text/plain": [
       "['im',\n",
       " 'nam',\n",
       " 'gott',\n",
       " 'des',\n",
       " 'allmacht',\n",
       " 'das',\n",
       " 'schweizervolk',\n",
       " 'und',\n",
       " 'die',\n",
       " 'kanton',\n",
       " 'in',\n",
       " 'der',\n",
       " 'verantwort',\n",
       " 'gegenub',\n",
       " 'der',\n",
       " 'schopfung',\n",
       " 'im',\n",
       " 'bestreb',\n",
       " 'den',\n",
       " 'bund']"
      ]
     },
     "execution_count": 22,
     "metadata": {},
     "output_type": "execute_result"
    }
   ],
   "source": [
    "[snowball.stem(w) for w in words][0:20]"
   ]
  },
  {
   "cell_type": "code",
   "execution_count": 29,
   "metadata": {},
   "outputs": [],
   "source": [
    "# Für Vergleich unten: Stemmer führt ein Wort auf seinen Ursprung zurück. \n",
    "\n",
    "text = \"Women in technologies areas are amazing at coding. Especially one woman is great, her name is Ursula Burns.\"\n",
    "words = word_tokenize(text)\n",
    "words_engl =[word.lower() for word in words if word.isalpha()]"
   ]
  },
  {
   "cell_type": "code",
   "execution_count": 28,
   "metadata": {},
   "outputs": [
    {
     "data": {
      "text/plain": [
       "['wom',\n",
       " 'in',\n",
       " 'technolog',\n",
       " 'area',\n",
       " 'ar',\n",
       " 'amaz',\n",
       " 'at',\n",
       " 'cod',\n",
       " 'espec',\n",
       " 'on',\n",
       " 'wom',\n",
       " 'is',\n",
       " 'gre',\n",
       " 'her',\n",
       " 'nam',\n",
       " 'is',\n",
       " 'ursul',\n",
       " 'burn']"
      ]
     },
     "execution_count": 28,
     "metadata": {},
     "output_type": "execute_result"
    }
   ],
   "source": [
    "[lancaster.stem(w) for w in words_engl][0:20]"
   ]
  },
  {
   "cell_type": "markdown",
   "metadata": {},
   "source": [
    "## Lemmatizer\n",
    "\n",
    "Führt Worte auf Basis (wie im Wörterbuch) zurück."
   ]
  },
  {
   "cell_type": "code",
   "execution_count": 30,
   "metadata": {},
   "outputs": [],
   "source": [
    "text = \"Women in technologies areas are amazing at coding. Especially one woman is great, her name is Ursula Burns.\"\n",
    "words = word_tokenize(text)\n",
    "words_engl =[word.lower() for word in words if word.isalpha()]"
   ]
  },
  {
   "cell_type": "code",
   "execution_count": 31,
   "metadata": {},
   "outputs": [
    {
     "name": "stderr",
     "output_type": "stream",
     "text": [
      "[nltk_data] Downloading package wordnet to /Users/manuela/nltk_data...\n",
      "[nltk_data]   Package wordnet is already up-to-date!\n"
     ]
    },
    {
     "data": {
      "text/plain": [
       "['woman',\n",
       " 'in',\n",
       " 'technology',\n",
       " 'area',\n",
       " 'are',\n",
       " 'amazing',\n",
       " 'at',\n",
       " 'coding',\n",
       " 'especially',\n",
       " 'one',\n",
       " 'woman',\n",
       " 'is',\n",
       " 'great',\n",
       " 'her',\n",
       " 'name',\n",
       " 'is',\n",
       " 'ursula',\n",
       " 'burn']"
      ]
     },
     "execution_count": 31,
     "metadata": {},
     "output_type": "execute_result"
    }
   ],
   "source": [
    "nltk.download('wordnet')\n",
    "from nltk import WordNetLemmatizer\n",
    "\n",
    "lemma = nltk.WordNetLemmatizer() \n",
    "lemmas = [lemma.lemmatize(i) for i in words_engl]\n",
    "lemmas[0:20]"
   ]
  },
  {
   "cell_type": "markdown",
   "metadata": {},
   "source": [
    "### Lematizer Deutsch NLTK\n",
    "- Geht leider nicht für deusch :( in nltk"
   ]
  },
  {
   "cell_type": "code",
   "execution_count": 37,
   "metadata": {},
   "outputs": [],
   "source": [
    "party_text = '''\n",
    "Kurz vor 22.00 Uhr sind Polizisten der Stadtpolizei in alle Richtungen aber vor allem in Richtung Kreis 9 ausgerückt. Grund war eine Meldung zu einer privaten Party an der Aargauerstrasse, die angeblich ausser Kontrolle geraten sei. \n",
    "'''\n",
    "\n",
    "words = word_tokenize(party_text)\n",
    "words_german =[word.lower() for word in words if word.isalpha()]"
   ]
  },
  {
   "cell_type": "code",
   "execution_count": 36,
   "metadata": {},
   "outputs": [
    {
     "data": {
      "text/plain": [
       "['kurz',\n",
       " 'vor',\n",
       " 'uhr',\n",
       " 'sind',\n",
       " 'polizisten',\n",
       " 'der',\n",
       " 'stadtpolizei',\n",
       " 'in',\n",
       " 'alle',\n",
       " 'richtungen',\n",
       " 'aber',\n",
       " 'vor',\n",
       " 'allem',\n",
       " 'in',\n",
       " 'richtung',\n",
       " 'kreis',\n",
       " 'ausgerückt',\n",
       " 'grund',\n",
       " 'war',\n",
       " 'eine']"
      ]
     },
     "execution_count": 36,
     "metadata": {},
     "output_type": "execute_result"
    }
   ],
   "source": [
    "lemma = nltk.WordNetLemmatizer() \n",
    "lemmas = [lemma.lemmatize(i) for i in words_german]\n",
    "lemmas[0:20]"
   ]
  },
  {
   "cell_type": "markdown",
   "metadata": {},
   "source": [
    "## Lemmatizer in Pattern\n",
    "- Ähnlich wie NLTK funktioniert aber auch für deutsch\n",
    "- https://www.clips.uantwerpen.be/pattern\n",
    "- ```pip install pattern```\n",
    "- Deutsche modelle kommen übrigens von der Uni Zürich https://www.zora.uzh.ch/id/eprint/28579/"
   ]
  },
  {
   "cell_type": "code",
   "execution_count": 46,
   "metadata": {},
   "outputs": [
    {
     "name": "stdout",
     "output_type": "stream",
     "text": [
      "Collecting pattern\n",
      "  Using cached https://files.pythonhosted.org/packages/1e/07/b0e61b6c818ed4b6145fe01d1c341223aa6cfbc3928538ad1f2b890924a3/Pattern-3.6.0.tar.gz\n",
      "Requirement already satisfied: future in /Users/manuela/anaconda3/lib/python3.7/site-packages (from pattern) (0.17.1)\n",
      "Collecting backports.csv (from pattern)\n",
      "  Using cached https://files.pythonhosted.org/packages/8e/26/a6bd68f13e0f38fbb643d6e497fc3462be83a0b6c4d43425c78bb51a7291/backports.csv-1.0.7-py2.py3-none-any.whl\n",
      "Collecting mysqlclient (from pattern)\n",
      "  Using cached https://files.pythonhosted.org/packages/f8/9b/5db9a03e2088a87c26e3e4d4c7f7e8f4c2dbae610f9521cdfac15755a795/mysqlclient-1.4.5.tar.gz\n",
      "Requirement already satisfied: beautifulsoup4 in /Users/manuela/anaconda3/lib/python3.7/site-packages (from pattern) (4.8.0)\n",
      "Requirement already satisfied: lxml in /Users/manuela/anaconda3/lib/python3.7/site-packages (from pattern) (4.3.4)\n",
      "Collecting feedparser (from pattern)\n",
      "\u001b[?25l  Downloading https://files.pythonhosted.org/packages/91/d8/7d37fec71ff7c9dbcdd80d2b48bcdd86d6af502156fc93846fb0102cb2c4/feedparser-5.2.1.tar.bz2 (192kB)\n",
      "\u001b[K     |████████████████████████████████| 194kB 2.8MB/s eta 0:00:01\n",
      "\u001b[?25hRequirement already satisfied: pdfminer.six in /Users/manuela/anaconda3/lib/python3.7/site-packages (from pattern) (20181108)\n",
      "Requirement already satisfied: numpy in /Users/manuela/anaconda3/lib/python3.7/site-packages (from pattern) (1.16.4)\n",
      "Requirement already satisfied: scipy in /Users/manuela/anaconda3/lib/python3.7/site-packages (from pattern) (1.3.0)\n",
      "Requirement already satisfied: nltk in /Users/manuela/anaconda3/lib/python3.7/site-packages (from pattern) (3.4.4)\n",
      "Collecting python-docx (from pattern)\n",
      "  Using cached https://files.pythonhosted.org/packages/e4/83/c66a1934ed5ed8ab1dbb9931f1779079f8bca0f6bbc5793c06c4b5e7d671/python-docx-0.8.10.tar.gz\n",
      "Collecting cherrypy (from pattern)\n",
      "\u001b[?25l  Downloading https://files.pythonhosted.org/packages/2b/50/da443d5e52de445462d0c3852549d7fa2e226375a2cb4e9464545cacddb6/CherryPy-18.4.0-py2.py3-none-any.whl (418kB)\n",
      "\u001b[K     |████████████████████████████████| 419kB 4.3MB/s eta 0:00:01\n",
      "\u001b[?25hRequirement already satisfied: requests in /Users/manuela/anaconda3/lib/python3.7/site-packages (from pattern) (2.22.0)\n",
      "Requirement already satisfied: soupsieve>=1.2 in /Users/manuela/anaconda3/lib/python3.7/site-packages (from beautifulsoup4->pattern) (1.8)\n",
      "Requirement already satisfied: sortedcontainers in /Users/manuela/anaconda3/lib/python3.7/site-packages (from pdfminer.six->pattern) (2.1.0)\n",
      "Requirement already satisfied: pycryptodome in /Users/manuela/anaconda3/lib/python3.7/site-packages (from pdfminer.six->pattern) (3.9.0)\n",
      "Requirement already satisfied: six in /Users/manuela/anaconda3/lib/python3.7/site-packages (from pdfminer.six->pattern) (1.12.0)\n",
      "Collecting zc.lockfile (from cherrypy->pattern)\n",
      "  Downloading https://files.pythonhosted.org/packages/6c/2a/268389776288f0f26c7272c70c36c96dcc0bdb88ab6216ea18e19df1fadd/zc.lockfile-2.0-py2.py3-none-any.whl\n",
      "Collecting portend>=2.1.1 (from cherrypy->pattern)\n",
      "  Downloading https://files.pythonhosted.org/packages/d7/79/eee70a512bffe5ceb5008f8e3326581948f50ca393c3bcb4d557e4818bd1/portend-2.6-py2.py3-none-any.whl\n",
      "Requirement already satisfied: more-itertools in /Users/manuela/anaconda3/lib/python3.7/site-packages (from cherrypy->pattern) (7.0.0)\n",
      "Collecting cheroot>=8.2.1 (from cherrypy->pattern)\n",
      "\u001b[?25l  Downloading https://files.pythonhosted.org/packages/bf/be/51b1517c6dbf3851d44b36ff08a6e1012464149f89f74c46b29d2f76545e/cheroot-8.2.1-py2.py3-none-any.whl (79kB)\n",
      "\u001b[K     |████████████████████████████████| 81kB 5.8MB/s eta 0:00:011\n",
      "\u001b[?25hRequirement already satisfied: certifi>=2017.4.17 in /Users/manuela/anaconda3/lib/python3.7/site-packages (from requests->pattern) (2019.6.16)\n",
      "Requirement already satisfied: urllib3!=1.25.0,!=1.25.1,<1.26,>=1.21.1 in /Users/manuela/anaconda3/lib/python3.7/site-packages (from requests->pattern) (1.24.2)\n",
      "Requirement already satisfied: idna<2.9,>=2.5 in /Users/manuela/anaconda3/lib/python3.7/site-packages (from requests->pattern) (2.8)\n",
      "Requirement already satisfied: chardet<3.1.0,>=3.0.2 in /Users/manuela/anaconda3/lib/python3.7/site-packages (from requests->pattern) (3.0.4)\n",
      "Requirement already satisfied: setuptools in /Users/manuela/anaconda3/lib/python3.7/site-packages (from zc.lockfile->cherrypy->pattern) (41.0.1)\n",
      "Collecting tempora>=1.8 (from portend>=2.1.1->cherrypy->pattern)\n",
      "  Downloading https://files.pythonhosted.org/packages/5c/12/4c97c44e5c9d111649e363353a4ca3ece9c6cc04b11cc48540f26e42d7b9/tempora-1.14.1-py2.py3-none-any.whl\n",
      "Collecting jaraco.functools (from cheroot>=8.2.1->cherrypy->pattern)\n",
      "  Downloading https://files.pythonhosted.org/packages/12/a4/3e7366d0f5e75dcad7be88524c8cbd0f3a9fb1db243269550981740c57fe/jaraco.functools-2.0-py2.py3-none-any.whl\n",
      "Requirement already satisfied: pytz in /Users/manuela/anaconda3/lib/python3.7/site-packages (from tempora>=1.8->portend>=2.1.1->cherrypy->pattern) (2019.1)\n",
      "Building wheels for collected packages: pattern, mysqlclient, feedparser, python-docx\n",
      "  Building wheel for pattern (setup.py) ... \u001b[?25ldone\n",
      "\u001b[?25h  Stored in directory: /Users/manuela/Library/Caches/pip/wheels/dc/9a/0e/5fb1a603ed4e3aa8722a88e9cf4a82da7d1b63e3d2cc34bee5\n",
      "  Building wheel for mysqlclient (setup.py) ... \u001b[?25ldone\n",
      "\u001b[?25h  Stored in directory: /Users/manuela/Library/Caches/pip/wheels/26/51/0c/3b9ab7013c539c744cddb55989ef494779fa08e8b273ab5ddf\n",
      "  Building wheel for feedparser (setup.py) ... \u001b[?25ldone\n",
      "\u001b[?25h  Stored in directory: /Users/manuela/Library/Caches/pip/wheels/8c/69/b7/f52763c41c5471df57703a0ef718a32a5e81ee35dcf6d4f97f\n",
      "  Building wheel for python-docx (setup.py) ... \u001b[?25ldone\n",
      "\u001b[?25h  Stored in directory: /Users/manuela/Library/Caches/pip/wheels/18/0b/a0/1dd62ff812c857c9e487f27d80d53d2b40531bec1acecfa47b\n",
      "Successfully built pattern mysqlclient feedparser python-docx\n",
      "Installing collected packages: backports.csv, mysqlclient, feedparser, python-docx, zc.lockfile, jaraco.functools, tempora, portend, cheroot, cherrypy, pattern\n",
      "Successfully installed backports.csv-1.0.7 cheroot-8.2.1 cherrypy-18.4.0 feedparser-5.2.1 jaraco.functools-2.0 mysqlclient-1.4.5 pattern-3.6 portend-2.6 python-docx-0.8.10 tempora-1.14.1 zc.lockfile-2.0\n"
     ]
    }
   ],
   "source": [
    "!pip install pattern"
   ]
  },
  {
   "cell_type": "code",
   "execution_count": 47,
   "metadata": {},
   "outputs": [],
   "source": [
    "from pattern.de import parse"
   ]
  },
  {
   "cell_type": "code",
   "execution_count": null,
   "metadata": {},
   "outputs": [],
   "source": [
    "text = \"Richtungen Richtung.\"\n",
    "s = parse(text, relations=True, lemmata=True)\n",
    "s"
   ]
  },
  {
   "cell_type": "code",
   "execution_count": 49,
   "metadata": {},
   "outputs": [
    {
     "name": "stdout",
     "output_type": "stream",
     "text": [
      "/Users/manuela/anaconda3/bin/python\r\n"
     ]
    }
   ],
   "source": [
    "! which python"
   ]
  },
  {
   "cell_type": "code",
   "execution_count": null,
   "metadata": {},
   "outputs": [],
   "source": [
    "lemmata = []\n",
    "from pattern.de import parsetree\n",
    "s = parsetree(party_text,relations=True, lemmata=True) \n",
    "for sentence in s: \n",
    "    for chunk in sentence.chunks:\n",
    "        for word in chunk.words:\n",
    "            #print(\"%s (%s)\" %(word,word.lemma))\n",
    "            lemmata.append(word.lemma)\n",
    "lemmata[0:20]"
   ]
  },
  {
   "cell_type": "markdown",
   "metadata": {},
   "source": [
    "## Lemmatizer in Textblob\n",
    " - https://textblob.readthedocs.io/en/dev/quickstart.html\n",
    " - ```pip install -U textblob```\n",
    " - ```pip install -U textblob-de```\n",
    " - https://github.com/markuskiller/textblob-de"
   ]
  },
  {
   "cell_type": "code",
   "execution_count": 51,
   "metadata": {},
   "outputs": [
    {
     "name": "stdout",
     "output_type": "stream",
     "text": [
      "Requirement already up-to-date: textblob in /Users/manuela/anaconda3/lib/python3.7/site-packages (0.15.3)\r\n",
      "Requirement already satisfied, skipping upgrade: nltk>=3.1 in /Users/manuela/anaconda3/lib/python3.7/site-packages (from textblob) (3.4.4)\r\n",
      "Requirement already satisfied, skipping upgrade: six in /Users/manuela/anaconda3/lib/python3.7/site-packages (from nltk>=3.1->textblob) (1.12.0)\r\n"
     ]
    }
   ],
   "source": [
    "!pip install -U textblob"
   ]
  },
  {
   "cell_type": "code",
   "execution_count": 44,
   "metadata": {},
   "outputs": [
    {
     "name": "stdout",
     "output_type": "stream",
     "text": [
      "Collecting textblob-de\n",
      "\u001b[?25l  Downloading https://files.pythonhosted.org/packages/47/61/7a5759c3ac60bf9330a50ce81ebe7f0aac1bc6c674d45e00f7b3e190f5af/textblob_de-0.4.3-py2.py3-none-any.whl (468kB)\n",
      "\u001b[K     |████████████████████████████████| 471kB 3.0MB/s eta 0:00:01\n",
      "\u001b[?25hRequirement already satisfied, skipping upgrade: textblob>=0.9.0 in /Users/manuela/anaconda3/lib/python3.7/site-packages (from textblob-de) (0.15.3)\n",
      "Requirement already satisfied, skipping upgrade: nltk>=3.1 in /Users/manuela/anaconda3/lib/python3.7/site-packages (from textblob>=0.9.0->textblob-de) (3.4.4)\n",
      "Requirement already satisfied, skipping upgrade: six in /Users/manuela/anaconda3/lib/python3.7/site-packages (from nltk>=3.1->textblob>=0.9.0->textblob-de) (1.12.0)\n",
      "Installing collected packages: textblob-de\n",
      "Successfully installed textblob-de-0.4.3\n"
     ]
    }
   ],
   "source": [
    "!pip install -U textblob-de"
   ]
  },
  {
   "cell_type": "code",
   "execution_count": 64,
   "metadata": {
    "scrolled": true
   },
   "outputs": [
    {
     "data": {
      "text/plain": [
       "['kurz',\n",
       " 'vor',\n",
       " '22.00',\n",
       " 'Uhr',\n",
       " 'sein',\n",
       " 'Polizist',\n",
       " 'der',\n",
       " 'Stadtpolizei',\n",
       " 'in',\n",
       " 'all',\n",
       " 'Richtungen',\n",
       " 'aber',\n",
       " 'vor',\n",
       " 'all',\n",
       " 'in',\n",
       " 'Richtung',\n",
       " 'Kreis',\n",
       " '9',\n",
       " 'ausgerückt',\n",
       " 'Grund']"
      ]
     },
     "execution_count": 64,
     "metadata": {},
     "output_type": "execute_result"
    }
   ],
   "source": [
    "party_text = '''\n",
    "Kurz vor 22.00 Uhr sind Polizisten der Stadtpolizei in alle Richtungen aber vor allem in Richtung Kreis 9 ausgerückt. Grund war eine Meldung zu einer privaten Party an der Aargauerstrasse, die angeblich ausser Kontrolle geraten sei. \n",
    "'''\n",
    "#party_text = party_text.decode(\"UTF-8\")\n",
    "from textblob_de import TextBlobDE\n",
    "from textblob_de import PatternParser\n",
    "blob = TextBlobDE(party_text, parser=PatternParser(pprint=False, lemmata=True))\n",
    "blob.parse()\n",
    "list(blob.words.lemmatize())[0:20]"
   ]
  },
  {
   "cell_type": "code",
   "execution_count": 54,
   "metadata": {},
   "outputs": [
    {
     "data": {
      "text/plain": [
       "[('das', 'DT'),\n",
       " ('sein', 'VB'),\n",
       " ('ein', 'DT'),\n",
       " ('hässlich', 'JJ'),\n",
       " ('Auto', 'NN')]"
      ]
     },
     "execution_count": 54,
     "metadata": {},
     "output_type": "execute_result"
    }
   ],
   "source": [
    "from textblob_de.lemmatizers import PatternParserLemmatizer\n",
    "lemmatizer = PatternParserLemmatizer()\n",
    "lemmatizer.lemmatize(\"Das ist ein hässliches Auto.\")"
   ]
  },
  {
   "cell_type": "markdown",
   "metadata": {},
   "source": [
    "## POS Tagging (Part of Speech Tagging)\n",
    "- Ich bin nur interessiert an Substantiven oder Adjektiven oder Verben. \n",
    "- Wie kann ich nur diese filtern? \n",
    "- Funktioniert für Deutsch nicht auf Anhieb in NLTK :(\n",
    "- aber gut in pattern und textblob"
   ]
  },
  {
   "cell_type": "markdown",
   "metadata": {},
   "source": [
    "## Übersicht\n",
    "https://www.clips.uantwerpen.be/pages/mbsp-tags\n",
    "\n",
    "|  Tag | Description | Example |\n",
    "|  ------ | ------ | ------ |\n",
    "|  **CC** | conjunction, coordinating | and, or, but |\n",
    "|  **CD** | cardinal number | five, three, 13% |\n",
    "|  **DT** | determiner | the, a, these |\n",
    "|  **EX** | existential there | there were six boys |\n",
    "|  **FW** | foreign word | mais |\n",
    "|  **IN** | conjunction, subordinating or preposition | of, on, before, unless |\n",
    "|  **JJ** | adjective | nice, easy |\n",
    "|  **JJR** | adjective, comparative | nicer, easier |\n",
    "|  **JJS** | adjective, superlative | nicest, easiest |\n",
    "|  **LS** | list item marker |  |\n",
    "|  **MD** | verb, modal auxillary | may, should |\n",
    "|  **NN** | noun, singular or mass | tiger, chair, laughter |\n",
    "|  **NNS** | noun, plural | tigers, chairs, insects |\n",
    "|  **NNP** | noun, proper singular | Germany, God, Alice |\n",
    "|  **NNPS** | noun, proper plural | we met two Christmases ago |\n",
    "|  **PDT** | predeterminer | both his children |\n",
    "|  **POS** | possessive ending | s |\n",
    "|  **PRP** | pronoun, personal | me, you, it |\n",
    "|  **PRP** | pronoun, possessive | my, your, our |\n",
    "|  **RB** | adverb | extremely, loudly, hard |\n",
    "|  **RBR** | adverb, comparative | better |\n",
    "|  **RBS** | adverb, superlative | best |\n",
    "|  **RP** | adverb, particle | about, off, up |\n",
    "|  **SYM** | symbol | % |\n",
    "|  **TO** | infinitival to | what to do? |\n",
    "|  **UH** | interjection | oh, oops, gosh |\n",
    "|  **VB** | verb, base form | think |\n",
    "|  **VBZ** | verb, 3rd person singular present | she thinks |\n",
    "|  **VBP** | verb, non-3rd person singular present | I think |\n",
    "|  **VBD** | verb, past tense | they thought |\n",
    "|  **VBN** | verb, past participle | a sunken ship |\n",
    "|  **VBG** | verb, gerund or present participle | thinking is fun |\n",
    "|  **WDT** | wh-determiner | which, whatever, whichever |\n",
    "|  **WP** | wh-pronoun, personal | what, who, whom |\n",
    "|  **WP** | wh-pronoun, possessive | whose, whosever |\n",
    "|  **WRB** | wh-adverb | where, when |\n",
    "|  **.** | punctuation mark, sentence closer | .;?* |\n",
    "|  **,** | punctuation mark, comma | , |\n",
    "|  **:** | punctuation mark, colon | : |\n",
    "|  **(** | contextual separator, left paren | ( |\n",
    "|  **)** | contextual separator, right paren | ) |"
   ]
  },
  {
   "cell_type": "markdown",
   "metadata": {},
   "source": [
    "### POS Tags in pattern"
   ]
  },
  {
   "cell_type": "code",
   "execution_count": 58,
   "metadata": {},
   "outputs": [],
   "source": [
    "verben = []\n",
    "substantive = []\n",
    "adjektive = []\n",
    "from pattern.de import parsetree\n",
    "s = parsetree(party_text,relations=True, lemmata=True) \n",
    "for sentence in s: \n",
    "    for chunk in sentence.chunks:\n",
    "        for word in chunk.words:\n",
    "            if \"V\" in word.type:\n",
    "                verben.append(word)\n",
    "            if \"NN\" in word.type:\n",
    "                substantive.append(word)\n",
    "            if \"J\" in word.type:\n",
    "                adjektive.append(word)"
   ]
  },
  {
   "cell_type": "code",
   "execution_count": 59,
   "metadata": {},
   "outputs": [
    {
     "data": {
      "text/plain": [
       "[Word(u'sind/VB'), Word(u'war/VB'), Word(u'geraten/VBN'), Word(u'sei/VB')]"
      ]
     },
     "execution_count": 59,
     "metadata": {},
     "output_type": "execute_result"
    }
   ],
   "source": [
    "verben"
   ]
  },
  {
   "cell_type": "code",
   "execution_count": 60,
   "metadata": {},
   "outputs": [
    {
     "data": {
      "text/plain": [
       "[Word(u'Uhr/NN'),\n",
       " Word(u'Polizisten/NNS'),\n",
       " Word(u'Stadtpolizei/NN'),\n",
       " Word(u'Richtungen/NN'),\n",
       " Word(u'Richtung/NN'),\n",
       " Word(u'Kreis/NN'),\n",
       " Word(u'ausger\\xfcckt/NN'),\n",
       " Word(u'Meldung/NN'),\n",
       " Word(u'Party/NN'),\n",
       " Word(u'Aargauerstrasse/NNP'),\n",
       " Word(u'Kontrolle/NN')]"
      ]
     },
     "execution_count": 60,
     "metadata": {},
     "output_type": "execute_result"
    }
   ],
   "source": [
    "substantive"
   ]
  },
  {
   "cell_type": "code",
   "execution_count": 146,
   "metadata": {},
   "outputs": [
    {
     "data": {
      "text/plain": [
       "[Word(u'Kurz/JJ'),\n",
       " Word(u'alle/JJ'),\n",
       " Word(u'privaten/JJ'),\n",
       " Word(u'angeblich/JJ')]"
      ]
     },
     "execution_count": 146,
     "metadata": {},
     "output_type": "execute_result"
    }
   ],
   "source": [
    "adjektive"
   ]
  },
  {
   "cell_type": "markdown",
   "metadata": {},
   "source": [
    "### POS tags in textblob"
   ]
  },
  {
   "cell_type": "code",
   "execution_count": 116,
   "metadata": {},
   "outputs": [
    {
     "data": {
      "text/plain": [
       "'\\nKurz vor 22.00 Uhr sind Polizisten der Stadtpolizei in alle Richtungen aber vor allem in Richtung Kreis 9 ausgerückt. Grund war eine Meldung zu einer privaten Party an der Aargauerstrasse, die angeblich ausser Kontrolle geraten sei. \\n'"
      ]
     },
     "execution_count": 116,
     "metadata": {},
     "output_type": "execute_result"
    }
   ],
   "source": [
    "party_text"
   ]
  },
  {
   "cell_type": "code",
   "execution_count": 59,
   "metadata": {},
   "outputs": [
    {
     "data": {
      "text/plain": [
       "TextBlobDE(\"\n",
       "Kurz vor 22.00 Uhr sind Polizisten der Stadtpolizei in alle Richtungen aber vor allem in Richtung Kreis 9 ausgerückt. Grund war eine Meldung zu einer privaten Party an der Aargauerstrasse, die angeblich ausser Kontrolle geraten sei. \n",
       "\")"
      ]
     },
     "execution_count": 59,
     "metadata": {},
     "output_type": "execute_result"
    }
   ],
   "source": [
    "blob = TextBlobDE(party_text, parser=PatternParser(pprint=False, lemmata=True))\n",
    "blob"
   ]
  },
  {
   "cell_type": "code",
   "execution_count": 61,
   "metadata": {},
   "outputs": [
    {
     "data": {
      "text/plain": [
       "[('Kurz', 'JJ'),\n",
       " ('vor', 'IN'),\n",
       " ('22.00', 'CD'),\n",
       " ('Uhr', 'NN'),\n",
       " ('sind', 'VB'),\n",
       " ('Polizisten', 'NNS'),\n",
       " ('der', 'DT'),\n",
       " ('Stadtpolizei', 'NN'),\n",
       " ('in', 'IN'),\n",
       " ('alle', 'JJ'),\n",
       " ('Richtungen', 'NN'),\n",
       " ('aber', 'RB'),\n",
       " ('vor', 'IN'),\n",
       " ('allem', 'DT'),\n",
       " ('in', 'IN'),\n",
       " ('Richtung', 'NN'),\n",
       " ('Kreis', 'NN'),\n",
       " ('9', 'CD'),\n",
       " ('ausgerückt', 'NN'),\n",
       " ('Grund', 'NN'),\n",
       " ('war', 'VB'),\n",
       " ('eine', 'DT'),\n",
       " ('Meldung', 'NN'),\n",
       " ('zu', 'IN'),\n",
       " ('einer', 'DT'),\n",
       " ('privaten', 'JJ'),\n",
       " ('Party', 'NN'),\n",
       " ('an', 'IN'),\n",
       " ('der', 'DT'),\n",
       " ('Aargauerstrasse', 'NNP'),\n",
       " ('die', 'WDT'),\n",
       " ('angeblich', 'JJ'),\n",
       " ('ausser', 'IN'),\n",
       " ('Kontrolle', 'NN'),\n",
       " ('geraten', 'VBN'),\n",
       " ('sei', 'VB')]"
      ]
     },
     "execution_count": 61,
     "metadata": {},
     "output_type": "execute_result"
    }
   ],
   "source": [
    "#Jedes Wort hat jetzt ein Tag. \n",
    "\n",
    "blob.tags"
   ]
  },
  {
   "cell_type": "markdown",
   "metadata": {},
   "source": [
    "Nun sortieren wir die Wörter je nach Tag in eine Liste:"
   ]
  },
  {
   "cell_type": "code",
   "execution_count": 67,
   "metadata": {},
   "outputs": [],
   "source": [
    "substantive = []\n",
    "adjektive = []\n",
    "verben = []\n",
    "blob = TextBlobDE(party_text, parser=PatternParser(pprint=False, lemmata=True))\n",
    "for word in blob.tags:\n",
    "    if \"NN\" in word[1]:\n",
    "        substantive.append(word[0])\n",
    "    if \"V\" in word[1]:\n",
    "        verben.append(word[0])\n",
    "    if \"JJ\" in word[1]:\n",
    "        adjektive.append(word[0])"
   ]
  },
  {
   "cell_type": "code",
   "execution_count": 68,
   "metadata": {},
   "outputs": [
    {
     "data": {
      "text/plain": [
       "['Uhr',\n",
       " 'Polizisten',\n",
       " 'Stadtpolizei',\n",
       " 'Richtungen',\n",
       " 'Richtung',\n",
       " 'Kreis',\n",
       " 'ausgerückt',\n",
       " 'Grund',\n",
       " 'Meldung',\n",
       " 'Party',\n",
       " 'Aargauerstrasse',\n",
       " 'Kontrolle']"
      ]
     },
     "execution_count": 68,
     "metadata": {},
     "output_type": "execute_result"
    }
   ],
   "source": [
    "substantive"
   ]
  },
  {
   "cell_type": "code",
   "execution_count": 69,
   "metadata": {},
   "outputs": [
    {
     "data": {
      "text/plain": [
       "['Kurz', 'alle', 'privaten', 'angeblich']"
      ]
     },
     "execution_count": 69,
     "metadata": {},
     "output_type": "execute_result"
    }
   ],
   "source": [
    "adjektive"
   ]
  },
  {
   "cell_type": "code",
   "execution_count": 70,
   "metadata": {},
   "outputs": [
    {
     "data": {
      "text/plain": [
       "['sind', 'war', 'geraten', 'sei']"
      ]
     },
     "execution_count": 70,
     "metadata": {},
     "output_type": "execute_result"
    }
   ],
   "source": [
    "verben"
   ]
  },
  {
   "cell_type": "markdown",
   "metadata": {},
   "source": [
    "## Stop word removal\n"
   ]
  },
  {
   "cell_type": "code",
   "execution_count": 85,
   "metadata": {},
   "outputs": [
    {
     "name": "stderr",
     "output_type": "stream",
     "text": [
      "[nltk_data] Downloading package stopwords to\n",
      "[nltk_data]     /Users/manuela/nltk_data...\n",
      "[nltk_data]   Package stopwords is already up-to-date!\n"
     ]
    }
   ],
   "source": [
    "nltk.download('stopwords')\n",
    "from nltk.corpus import stopwords"
   ]
  },
  {
   "cell_type": "markdown",
   "metadata": {},
   "source": [
    "### Englisch"
   ]
  },
  {
   "cell_type": "code",
   "execution_count": 89,
   "metadata": {},
   "outputs": [
    {
     "data": {
      "text/plain": [
       "['i',\n",
       " 'me',\n",
       " 'my',\n",
       " 'myself',\n",
       " 'we',\n",
       " 'our',\n",
       " 'ours',\n",
       " 'ourselves',\n",
       " 'you',\n",
       " \"you're\",\n",
       " \"you've\",\n",
       " \"you'll\",\n",
       " \"you'd\",\n",
       " 'your',\n",
       " 'yours',\n",
       " 'yourself',\n",
       " 'yourselves',\n",
       " 'he',\n",
       " 'him',\n",
       " 'his']"
      ]
     },
     "execution_count": 89,
     "metadata": {},
     "output_type": "execute_result"
    }
   ],
   "source": [
    "stopwords.words('english')[0:20]"
   ]
  },
  {
   "cell_type": "code",
   "execution_count": 90,
   "metadata": {},
   "outputs": [
    {
     "data": {
      "text/plain": [
       "['aber',\n",
       " 'alle',\n",
       " 'allem',\n",
       " 'allen',\n",
       " 'aller',\n",
       " 'alles',\n",
       " 'als',\n",
       " 'also',\n",
       " 'am',\n",
       " 'an',\n",
       " 'ander',\n",
       " 'andere',\n",
       " 'anderem',\n",
       " 'anderen',\n",
       " 'anderer',\n",
       " 'anderes',\n",
       " 'anderm',\n",
       " 'andern',\n",
       " 'anderr',\n",
       " 'anders']"
      ]
     },
     "execution_count": 90,
     "metadata": {},
     "output_type": "execute_result"
    }
   ],
   "source": [
    "# Test ob auch in Deutsch\n",
    "stopwords.words('german')[0:20]"
   ]
  },
  {
   "cell_type": "code",
   "execution_count": 93,
   "metadata": {},
   "outputs": [
    {
     "data": {
      "text/plain": [
       "['big', 'tree', 'seven', 'duck']"
      ]
     },
     "execution_count": 93,
     "metadata": {},
     "output_type": "execute_result"
    }
   ],
   "source": [
    "words_engl = [\"the\", \"big\", \"tree\", \"and\", \"the\", \", \"duck\"]\n",
    "filtered_words = [word for word in words_engl if word not in stopwords.words('english')]\n",
    "filtered_words"
   ]
  },
  {
   "cell_type": "code",
   "execution_count": 103,
   "metadata": {},
   "outputs": [
    {
     "data": {
      "text/plain": [
       "['big', 'tree', 'ducks']"
      ]
     },
     "execution_count": 103,
     "metadata": {},
     "output_type": "execute_result"
    }
   ],
   "source": [
    "text_tree = \"The big tree and the 7 ducks\"\n",
    "words_engl = word_tokenize(text_tree)\n",
    "words_engl = [word.lower() for word in words_engl if word.isalpha()]\n",
    "filtred_words = [word for word in words_engl if word not in stopwords.words('english')]\n",
    "filtred_words"
   ]
  },
  {
   "cell_type": "code",
   "execution_count": null,
   "metadata": {},
   "outputs": [],
   "source": []
  },
  {
   "cell_type": "markdown",
   "metadata": {},
   "source": [
    "### Deutsch"
   ]
  },
  {
   "cell_type": "code",
   "execution_count": 74,
   "metadata": {},
   "outputs": [],
   "source": [
    "mylist = stopwords.words('german')"
   ]
  },
  {
   "cell_type": "code",
   "execution_count": 91,
   "metadata": {},
   "outputs": [
    {
     "data": {
      "text/plain": [
       "232"
      ]
     },
     "execution_count": 91,
     "metadata": {},
     "output_type": "execute_result"
    }
   ],
   "source": [
    "len(mylist)"
   ]
  },
  {
   "cell_type": "code",
   "execution_count": 75,
   "metadata": {},
   "outputs": [
    {
     "data": {
      "text/plain": [
       "['dieser',\n",
       " 'anderen',\n",
       " 'ihre',\n",
       " 'können',\n",
       " 'keines',\n",
       " 'derselbe',\n",
       " 'jedes',\n",
       " 'seiner',\n",
       " 'meine',\n",
       " 'diese',\n",
       " 'dessen',\n",
       " 'keiner',\n",
       " 'jede',\n",
       " 'ihnen',\n",
       " 'seinem',\n",
       " 'habe',\n",
       " 'unserem',\n",
       " 'einmal',\n",
       " 'keinem',\n",
       " 'ihrem',\n",
       " 'auf',\n",
       " 'wir',\n",
       " 'haben',\n",
       " 'dieselben',\n",
       " 'euren',\n",
       " 'bist',\n",
       " 'musste',\n",
       " 'anderr',\n",
       " 'meinen',\n",
       " 'keine',\n",
       " 'deiner',\n",
       " 'keinen',\n",
       " 'meinem',\n",
       " 'welchem',\n",
       " 'als',\n",
       " 'unseren',\n",
       " 'jenes',\n",
       " 'war',\n",
       " 'dasselbe',\n",
       " 'jenem',\n",
       " 'einiger',\n",
       " 'daß',\n",
       " 'seines',\n",
       " 'jetzt',\n",
       " 'wo',\n",
       " 'eurem',\n",
       " 'hatten',\n",
       " 'hin',\n",
       " 'jener',\n",
       " 'waren',\n",
       " 'solches',\n",
       " 'am',\n",
       " 'für',\n",
       " 'aber',\n",
       " 'uns',\n",
       " 'ob',\n",
       " 'allem',\n",
       " 'anderer',\n",
       " 'damit',\n",
       " 'denn',\n",
       " 'derer',\n",
       " 'einiges',\n",
       " 'manche',\n",
       " 'sollte',\n",
       " 'kann',\n",
       " 'nun',\n",
       " 'des',\n",
       " 'sie',\n",
       " 'deine',\n",
       " 'viel',\n",
       " 'meines',\n",
       " 'welches',\n",
       " 'etwas',\n",
       " 'vor',\n",
       " 'sich',\n",
       " 'also',\n",
       " 'solchem',\n",
       " 'die',\n",
       " 'eurer',\n",
       " 'einen',\n",
       " 'jeden',\n",
       " 'um',\n",
       " 'unseres',\n",
       " 'ist',\n",
       " 'doch',\n",
       " 'aus',\n",
       " 'auch',\n",
       " 'den',\n",
       " 'eine',\n",
       " 'dann',\n",
       " 'da',\n",
       " 'vom',\n",
       " 'dem',\n",
       " 'derselben',\n",
       " 'hatte',\n",
       " 'jedem',\n",
       " 'gewesen',\n",
       " 'euch',\n",
       " 'muss',\n",
       " 'noch',\n",
       " 'selbst',\n",
       " 'im',\n",
       " 'ihr',\n",
       " 'seine',\n",
       " 'seinen',\n",
       " 'du',\n",
       " 'mir',\n",
       " 'euer',\n",
       " 'ins',\n",
       " 'wirst',\n",
       " 'manchem',\n",
       " 'weil',\n",
       " 'es',\n",
       " 'ihrer',\n",
       " 'zwischen',\n",
       " 'kein',\n",
       " 'ihres',\n",
       " 'wie',\n",
       " 'werde',\n",
       " 'deinen',\n",
       " 'welchen',\n",
       " 'er',\n",
       " 'was',\n",
       " 'einigen',\n",
       " 'ein',\n",
       " 'dort',\n",
       " 'jene',\n",
       " 'eures',\n",
       " 'von',\n",
       " 'deinem',\n",
       " 'ohne',\n",
       " 'alle',\n",
       " 'so',\n",
       " 'zwar',\n",
       " 'unsere',\n",
       " 'zum',\n",
       " 'weg',\n",
       " 'und',\n",
       " 'diesen',\n",
       " 'bin',\n",
       " 'andere',\n",
       " 'ihn',\n",
       " 'welche',\n",
       " 'würde',\n",
       " 'machen',\n",
       " 'mich',\n",
       " 'manches',\n",
       " 'anderem',\n",
       " 'sein',\n",
       " 'indem',\n",
       " 'nicht',\n",
       " 'während',\n",
       " 'einigem',\n",
       " 'mit',\n",
       " 'allen',\n",
       " 'wird',\n",
       " 'wollen',\n",
       " 'dies',\n",
       " 'an',\n",
       " 'anderes',\n",
       " 'meiner',\n",
       " 'andern',\n",
       " 'in',\n",
       " 'einem',\n",
       " 'wollte',\n",
       " 'eines',\n",
       " 'denselben',\n",
       " 'oder',\n",
       " 'dir',\n",
       " 'hier',\n",
       " 'sonst',\n",
       " 'jeder',\n",
       " 'solche',\n",
       " 'bis',\n",
       " 'dein',\n",
       " 'jenen',\n",
       " 'würden',\n",
       " 'diesem',\n",
       " 'nur',\n",
       " 'sind',\n",
       " 'dass',\n",
       " 'hab',\n",
       " 'könnte',\n",
       " 'sehr',\n",
       " 'solcher',\n",
       " 'werden',\n",
       " 'alles',\n",
       " 'gegen',\n",
       " 'solchen',\n",
       " 'dieselbe',\n",
       " 'unser',\n",
       " 'über',\n",
       " 'man',\n",
       " 'aller',\n",
       " 'wieder',\n",
       " 'unter',\n",
       " 'dieses',\n",
       " 'soll',\n",
       " 'zur',\n",
       " 'welcher',\n",
       " 'manchen',\n",
       " 'weiter',\n",
       " 'anderm',\n",
       " 'nichts',\n",
       " 'ihren',\n",
       " 'sondern',\n",
       " 'wenn',\n",
       " 'hat',\n",
       " 'mancher',\n",
       " 'nach',\n",
       " 'einige',\n",
       " 'zu',\n",
       " 'demselben',\n",
       " 'einer',\n",
       " 'durch',\n",
       " 'dich',\n",
       " 'desselben',\n",
       " 'ander',\n",
       " 'der',\n",
       " 'einig',\n",
       " 'das',\n",
       " 'dazu',\n",
       " 'ihm',\n",
       " 'mein',\n",
       " 'deines',\n",
       " 'anders',\n",
       " 'hinter',\n",
       " 'bei',\n",
       " 'warst',\n",
       " 'will',\n",
       " 'eure']"
      ]
     },
     "execution_count": 75,
     "metadata": {},
     "output_type": "execute_result"
    }
   ],
   "source": [
    "my_new_list = list(set(mylist)- set([\"ich\"]))\n",
    "my_new_list"
   ]
  },
  {
   "cell_type": "code",
   "execution_count": 76,
   "metadata": {},
   "outputs": [
    {
     "data": {
      "text/plain": [
       "['wald', 'spazieren']"
      ]
     },
     "execution_count": 76,
     "metadata": {},
     "output_type": "execute_result"
    }
   ],
   "source": [
    "words_german = [\"ich\", \"war\", \"im\", \"wald\", \"spazieren\"]\n",
    "filtered_words = [word for word in words_german if word not in stopwords.words('german')]\n",
    "filtered_words = "
   ]
  },
  {
   "cell_type": "code",
   "execution_count": 92,
   "metadata": {},
   "outputs": [
    {
     "data": {
      "text/plain": [
       "['wald', 'spazieren']"
      ]
     },
     "execution_count": 92,
     "metadata": {},
     "output_type": "execute_result"
    }
   ],
   "source": [
    "# Das selbe geht auch wenn ich \"mylist\" verwende\n",
    "words_german = [\"ich\", \"war\", \"im\", \"wald\", \"spazieren\"]\n",
    "filtered_words = [word for word in words_german if word not in mylist]\n",
    "filtered_words"
   ]
  },
  {
   "cell_type": "code",
   "execution_count": null,
   "metadata": {},
   "outputs": [],
   "source": []
  },
  {
   "cell_type": "code",
   "execution_count": null,
   "metadata": {},
   "outputs": [],
   "source": []
  },
  {
   "cell_type": "code",
   "execution_count": null,
   "metadata": {},
   "outputs": [],
   "source": []
  },
  {
   "cell_type": "code",
   "execution_count": null,
   "metadata": {},
   "outputs": [],
   "source": []
  },
  {
   "cell_type": "code",
   "execution_count": null,
   "metadata": {},
   "outputs": [],
   "source": []
  },
  {
   "cell_type": "code",
   "execution_count": null,
   "metadata": {},
   "outputs": [],
   "source": []
  },
  {
   "cell_type": "code",
   "execution_count": null,
   "metadata": {},
   "outputs": [],
   "source": []
  },
  {
   "cell_type": "markdown",
   "metadata": {},
   "source": [
    "## Wordle 2.0"
   ]
  },
  {
   "cell_type": "markdown",
   "metadata": {},
   "source": [
    "- Tokenization\n",
    "- Lemmatization"
   ]
  },
  {
   "cell_type": "code",
   "execution_count": 106,
   "metadata": {},
   "outputs": [],
   "source": [
    "text = (\" \").join(udhr.words(\"German_Deutsch-Latin1\"))\n",
    "# tokenize and lemmatize\n",
    "words = word_tokenize(text)\n",
    "words_german =[word.lower() for word in words if word.isalpha()]\n",
    "lemma = nltk.WordNetLemmatizer()\n",
    "lemmas = [lemma.lemmatize(i) for i in words_german]\n",
    "clean_blob = lemmas"
   ]
  },
  {
   "cell_type": "markdown",
   "metadata": {},
   "source": [
    "- Numbers etc.. removal\n",
    "- Stop word removal"
   ]
  },
  {
   "cell_type": "code",
   "execution_count": 107,
   "metadata": {},
   "outputs": [
    {
     "data": {
      "text/plain": [
       "['allgemeine',\n",
       " 'erklärung',\n",
       " 'menschenrechte',\n",
       " 'resolution',\n",
       " 'präambel',\n",
       " 'anerkennung',\n",
       " 'angeborenen',\n",
       " 'gleichen',\n",
       " 'unveräußerlichen',\n",
       " 'rechte',\n",
       " 'mitglieder',\n",
       " 'gemeinschaft',\n",
       " 'menschen',\n",
       " 'grundlage',\n",
       " 'freiheit',\n",
       " 'gerechtigkeit',\n",
       " 'frieden',\n",
       " 'welt',\n",
       " 'bildet',\n",
       " 'nichtanerkennung']"
      ]
     },
     "execution_count": 107,
     "metadata": {},
     "output_type": "execute_result"
    }
   ],
   "source": [
    "from nltk.corpus import stopwords\n",
    "words_alpha =[word.lower() for word in clean_blob if word.isalpha()]\n",
    "stopwords = stopwords.words('german')\n",
    "stopwords.append(\"jede\")\n",
    "stopwords.append(\"a\")\n",
    "stopwords.append(\"iii\")\n",
    "result = [word for word in words_alpha if word not in stopwords]\n",
    "result[0:20]"
   ]
  },
  {
   "cell_type": "code",
   "execution_count": 108,
   "metadata": {},
   "outputs": [
    {
     "data": {
      "text/plain": [
       "['allgemeine',\n",
       " 'erklärung',\n",
       " 'menschenrechte',\n",
       " 'resolution',\n",
       " 'präambel',\n",
       " 'anerkennung',\n",
       " 'angeborenen',\n",
       " 'gleichen',\n",
       " 'unveräußerlichen',\n",
       " 'rechte',\n",
       " 'mitglieder',\n",
       " 'gemeinschaft',\n",
       " 'menschen',\n",
       " 'grundlage',\n",
       " 'freiheit',\n",
       " 'gerechtigkeit',\n",
       " 'frieden',\n",
       " 'welt',\n",
       " 'bildet',\n",
       " 'nichtanerkennung']"
      ]
     },
     "execution_count": 108,
     "metadata": {},
     "output_type": "execute_result"
    }
   ],
   "source": [
    "result[0:20]"
   ]
  },
  {
   "cell_type": "code",
   "execution_count": 114,
   "metadata": {},
   "outputs": [],
   "source": [
    "# Wir kleben das Resultat ohne Stopwords in einen string\n",
    "\n",
    "text = (\" \").join(result)\n"
   ]
  },
  {
   "cell_type": "code",
   "execution_count": 113,
   "metadata": {},
   "outputs": [
    {
     "data": {
      "text/plain": [
       "[123, 123]"
      ]
     },
     "execution_count": 113,
     "metadata": {},
     "output_type": "execute_result"
    }
   ],
   "source": [
    " a = [123,\n",
    "     123]\n",
    "a"
   ]
  },
  {
   "cell_type": "code",
   "execution_count": 118,
   "metadata": {},
   "outputs": [
    {
     "data": {
      "image/png": "[encoded data removed]",
      "text/plain": [
       "<Figure size 1080x576 with 1 Axes>"
      ]
     },
     "metadata": {
      "needs_background": "light"
     },
     "output_type": "display_data"
    }
   ],
   "source": [
    "from wordcloud import WordCloud\n",
    "import matplotlib.pyplot as plt\n",
    "import numpy as np\n",
    "from PIL import Image\n",
    "import os\n",
    "from os import path\n",
    "d = path.dirname(__file__) if \"__file__\" in locals() else os.getcwd()\n",
    "\n",
    "maske = np.array(Image.open(path.join(d, \"maske.png\")))\n",
    "\n",
    "wc = WordCloud(background_color=\"white\", max_words=100, mask=maske, contour_width=3, contour_color='steelblue',collocations=False, normalize_plurals=False)\n",
    "wc.generate(text)\n",
    "plt.figure(figsize=(15,8))\n",
    "plt.imshow(wc, interpolation=\"bilinear\")\n",
    "plt.axis(\"off\")\n",
    "plt.show()"
   ]
  },
  {
   "cell_type": "code",
   "execution_count": null,
   "metadata": {},
   "outputs": [],
   "source": []
  },
  {
   "cell_type": "code",
   "execution_count": null,
   "metadata": {},
   "outputs": [],
   "source": []
  }
 ],
 "metadata": {
  "kernelspec": {
   "display_name": "Python 3",
   "language": "python",
   "name": "python3"
  },
  "language_info": {
   "codemirror_mode": {
    "name": "ipython",
    "version": 3
   },
   "file_extension": ".py",
   "mimetype": "text/x-python",
   "name": "python",
   "nbconvert_exporter": "python",
   "pygments_lexer": "ipython3",
   "version": "3.7.3"
  }
 },
 "nbformat": 4,
 "nbformat_minor": 2
}
