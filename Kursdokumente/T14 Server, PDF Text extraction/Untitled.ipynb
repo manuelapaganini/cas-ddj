{
 "cells": [
  {
   "cell_type": "code",
   "execution_count": 1,
   "metadata": {},
   "outputs": [],
   "source": [
    "# Eine kleine Übung"
   ]
  },
  {
   "cell_type": "code",
   "execution_count": 6,
   "metadata": {},
   "outputs": [],
   "source": [
    "import requests\n",
    "from bs4 import BeautifulSoup\n",
    "import pandas as pd"
   ]
  },
  {
   "cell_type": "code",
   "execution_count": 7,
   "metadata": {},
   "outputs": [
    {
     "name": "stdout",
     "output_type": "stream",
     "text": [
      "Proteste in Chile: Ein Aufschrei gegen das neoliberale Regime.\n",
      "Seit dem 21.10 arbeiten Frauen* unentgeltlich. Ist das ihre* Privatsache?\n",
      "Zahlen und Züge, Fakten und Flüge\n",
      "Schweizer Waffengeschäfte mit chilenischen Militärs: wenig bekannt, aber verheerend\n",
      "„Ich habe mich selbst lange nicht als politisches Subjekt wahrgenommen“\n",
      "Diese Schweiz verträgt keine grossen Veränderungen\n",
      "Mattea Meyer, betreibt die SP Lagerpolitik?\n",
      "  Instagram \n",
      "  #Ernährung \n",
      "Die 6 häufigsten Einwände gegen die sogenannten Gutmenschen – und weshalb sie nichts taugen\n",
      "Glencores Meisterwerk im aufkommenden Genre des ‚Sustainability Porn’\n",
      "Drei Argumente gegen Plastikverpackungen – und drei Gegenargumente von Coop, Lidl, Spar und co.\n",
      "  #porträt \n",
      "„Wenn Sie die Lieferkette nachvollziehen wollen, müssen Sie neben den Steinen herlaufen.“ Ein Gespräch mit einem Diamantenhändler über die Konzernverantwortungsinitiative\n",
      "Sexuelle Gewalt auf der Flucht: Ein Monat, eine Woche und zwei Tage in der Hölle\n",
      "Schweizer Incel (17): „Ich möchte eigentlich keine Frauen hassen!“\n",
      "  #sommer \n",
      "Vegane Glace selber machen? So gehts!\n",
      "Wie man nachhaltige Ferien macht\n",
      "München-Wien. Eine Velotour zwischen Flüchtlingen, Verschwörungstheorien und Tomaten\n"
     ]
    }
   ],
   "source": [
    "url = \"https://daslamm.ch/\"\n",
    "\n",
    "r = requests.get(url)\n",
    "soup = BeautifulSoup(r.content, 'lxml')\n",
    "titles = soup.find_all('h2')\n",
    "\n",
    "lst = []\n",
    "for title in titles:\n",
    "    print(title.text)\n",
    "    lst.append(title.text)"
   ]
  },
  {
   "cell_type": "code",
   "execution_count": 10,
   "metadata": {},
   "outputs": [],
   "source": [
    "df = pd.DataFrame(lst)"
   ]
  },
  {
   "cell_type": "code",
   "execution_count": 11,
   "metadata": {},
   "outputs": [],
   "source": [
    "df.to_csv(\"Titel Das Lamm.csv\")"
   ]
  },
  {
   "cell_type": "code",
   "execution_count": null,
   "metadata": {},
   "outputs": [],
   "source": []
  }
 ],
 "metadata": {
  "kernelspec": {
   "display_name": "Python 3",
   "language": "python",
   "name": "python3"
  },
  "language_info": {
   "codemirror_mode": {
    "name": "ipython",
    "version": 3
   },
   "file_extension": ".py",
   "mimetype": "text/x-python",
   "name": "python",
   "nbconvert_exporter": "python",
   "pygments_lexer": "ipython3",
   "version": "3.7.3"
  }
 },
 "nbformat": 4,
 "nbformat_minor": 2
}
