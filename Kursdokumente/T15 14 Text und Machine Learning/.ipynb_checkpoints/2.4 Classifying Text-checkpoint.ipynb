{
 "cells": [
  {
   "cell_type": "markdown",
   "metadata": {},
   "source": [
    "# Document classifier"
   ]
  },
  {
   "cell_type": "markdown",
   "metadata": {},
   "source": [
    "## Daten\n",
    "- Wir brauchen zuerst daten um unser Modell zu trainieren"
   ]
  },
  {
   "cell_type": "code",
   "execution_count": 19,
   "metadata": {},
   "outputs": [],
   "source": [
    "from textblob.classifiers import NaiveBayesClassifier\n",
    "\n",
    "train = [\n",
    "    ('I love this sandwich.', 'pos'),\n",
    "    ('This is an amazing place!', 'pos'),\n",
    "    ('I feel very good about these beers.', 'pos'),\n",
    "    ('This is my best work.', 'pos'),\n",
    "    (\"What an awesome view\", 'pos'),\n",
    "    (\"What fantastic idea\", 'pos'),\n",
    "    ('I do not like this restaurant', 'neg'),\n",
    "    ('I am tired of this stuff.', 'neg'),\n",
    "    (\"I can't deal with this\", 'neg'),\n",
    "    ('He is my sworn enemy!', 'neg'),\n",
    "    ('My boss is horrible.', 'neg'),\n",
    "    ('They are really awkward.', 'neg')\n",
    "]\n",
    "test = [\n",
    "    ('The beer was good.', 'pos'),\n",
    "    ('I do not enjoy my job', 'neg'),\n",
    "    (\"I ain't feeling dandy today.\", 'neg'),\n",
    "    (\"I feel amazing!\", 'pos'),\n",
    "    ('Gary is a friend of mine.', 'pos'),\n",
    "    (\"I can't believe I'm doing this.\", 'neg'),\n",
    "    (\"She had a fantastic evening\", 'pos'),\n",
    "    (\"She had quite an awkward evening\", 'neg')\n",
    "]"
   ]
  },
  {
   "cell_type": "markdown",
   "metadata": {},
   "source": [
    "## Training"
   ]
  },
  {
   "cell_type": "code",
   "execution_count": 25,
   "metadata": {},
   "outputs": [
    {
     "data": {
      "text/plain": [
       "<NaiveBayesClassifier trained on 12 instances>"
      ]
     },
     "execution_count": 25,
     "metadata": {},
     "output_type": "execute_result"
    }
   ],
   "source": [
    "cl = NaiveBayesClassifier(train)\n",
    "cl"
   ]
  },
  {
   "cell_type": "markdown",
   "metadata": {},
   "source": [
    "## Test\n",
    "- Wie gut performed unser Modell bei Daten die es noch nie gesehen hat?"
   ]
  },
  {
   "cell_type": "code",
   "execution_count": 26,
   "metadata": {},
   "outputs": [
    {
     "data": {
      "text/plain": [
       "0.75"
      ]
     },
     "execution_count": 26,
     "metadata": {},
     "output_type": "execute_result"
    }
   ],
   "source": [
    "cl.accuracy(test)"
   ]
  },
  {
   "cell_type": "markdown",
   "metadata": {},
   "source": [
    "- Zu 80% korrekt, ok für mich :)"
   ]
  },
  {
   "cell_type": "markdown",
   "metadata": {},
   "source": [
    "## Features\n",
    "- Welche wörter sorgen am meisten dafür dass etwas positiv oder negativ klassifiziert wird?"
   ]
  },
  {
   "cell_type": "code",
   "execution_count": 27,
   "metadata": {},
   "outputs": [
    {
     "name": "stdout",
     "output_type": "stream",
     "text": [
      "Most Informative Features\n",
      "          contains(this) = True              neg : pos    =      2.3 : 1.0\n",
      "          contains(this) = False             pos : neg    =      1.6 : 1.0\n",
      "          contains(This) = False             neg : pos    =      1.4 : 1.0\n",
      "            contains(an) = False             neg : pos    =      1.4 : 1.0\n",
      "          contains(What) = False             neg : pos    =      1.4 : 1.0\n"
     ]
    }
   ],
   "source": [
    "cl.show_informative_features(5)"
   ]
  },
  {
   "cell_type": "markdown",
   "metadata": {},
   "source": [
    "Er ist der meinung wenn \"this\" vorkommt ist es eher positiv, was natürlich quatsch ist, aber das hat er nun mal so gelernt, deswegen braucht ihr gute trainingsdaten. "
   ]
  },
  {
   "cell_type": "markdown",
   "metadata": {},
   "source": [
    "## Klassifizierung"
   ]
  },
  {
   "cell_type": "code",
   "execution_count": 59,
   "metadata": {},
   "outputs": [],
   "source": [
    "from textblob import TextBlob\n",
    "blob = TextBlob(\"Their burgers are amazing. I don't like their pizza. I love my job.\", classifier = a)\n"
   ]
  },
  {
   "cell_type": "code",
   "execution_count": 67,
   "metadata": {},
   "outputs": [
    {
     "ename": "TypeError",
     "evalue": "not all arguments converted during string formatting",
     "output_type": "error",
     "traceback": [
      "\u001b[0;31m---------------------------------------------------------------------------\u001b[0m",
      "\u001b[0;31mTypeError\u001b[0m                                 Traceback (most recent call last)",
      "\u001b[0;32m<ipython-input-67-1df909d11c29>\u001b[0m in \u001b[0;36m<module>\u001b[0;34m\u001b[0m\n\u001b[1;32m      1\u001b[0m \u001b[0;32mfor\u001b[0m \u001b[0msentence\u001b[0m \u001b[0;32min\u001b[0m \u001b[0mblob\u001b[0m\u001b[0;34m.\u001b[0m\u001b[0msentences\u001b[0m\u001b[0;34m:\u001b[0m\u001b[0;34m\u001b[0m\u001b[0;34m\u001b[0m\u001b[0m\n\u001b[0;32m----> 2\u001b[0;31m     \u001b[0mprint\u001b[0m\u001b[0;34m(\u001b[0m\u001b[0;34m(\u001b[0m\u001b[0;34m\"%s, (&s))\"\u001b[0m \u001b[0;34m%\u001b[0m \u001b[0;34m(\u001b[0m\u001b[0msentence\u001b[0m\u001b[0;34m,\u001b[0m \u001b[0msentence\u001b[0m\u001b[0;34m.\u001b[0m\u001b[0mclassify\u001b[0m\u001b[0;34m)\u001b[0m\u001b[0;34m)\u001b[0m\u001b[0;34m)\u001b[0m\u001b[0;34m\u001b[0m\u001b[0;34m\u001b[0m\u001b[0m\n\u001b[0m",
      "\u001b[0;31mTypeError\u001b[0m: not all arguments converted during string formatting"
     ]
    }
   ],
   "source": [
    "for sentence in blob.sentences:\n",
    "    print((\"%s, (&s))\" % (sentence, sentence.classify)))"
   ]
  },
  {
   "cell_type": "code",
   "execution_count": 28,
   "metadata": {},
   "outputs": [
    {
     "data": {
      "text/plain": [
       "'pos'"
      ]
     },
     "execution_count": 28,
     "metadata": {},
     "output_type": "execute_result"
    }
   ],
   "source": [
    "cl.classify(\"Their burgers are amazing\")  # \"pos\""
   ]
  },
  {
   "cell_type": "code",
   "execution_count": null,
   "metadata": {},
   "outputs": [],
   "source": []
  },
  {
   "cell_type": "code",
   "execution_count": 29,
   "metadata": {},
   "outputs": [
    {
     "data": {
      "text/plain": [
       "'neg'"
      ]
     },
     "execution_count": 29,
     "metadata": {},
     "output_type": "execute_result"
    }
   ],
   "source": [
    "cl.classify(\"I don't like their pizza.\")  # \"neg\""
   ]
  },
  {
   "cell_type": "code",
   "execution_count": 30,
   "metadata": {},
   "outputs": [
    {
     "data": {
      "text/plain": [
       "'pos'"
      ]
     },
     "execution_count": 30,
     "metadata": {},
     "output_type": "execute_result"
    }
   ],
   "source": [
    "a.classify(\"I love my job.\")"
   ]
  },
  {
   "cell_type": "markdown",
   "metadata": {},
   "source": [
    "### Klassizierung nach Sätzen"
   ]
  },
  {
   "cell_type": "code",
   "execution_count": 31,
   "metadata": {},
   "outputs": [],
   "source": [
    "from textblob import TextBlob\n",
    "blob = TextBlob(\"The beer was amazing. \"\n",
    "                \"But the hangover was horrible. My boss was not happy.\",\n",
    "                classifier=a)"
   ]
  },
  {
   "cell_type": "code",
   "execution_count": 32,
   "metadata": {},
   "outputs": [
    {
     "name": "stdout",
     "output_type": "stream",
     "text": [
      "The beer was amazing. (pos)\n",
      "But the hangover was horrible. (neg)\n",
      "My boss was not happy. (neg)\n"
     ]
    }
   ],
   "source": [
    "for sentence in blob.sentences:\n",
    "    print((\"%s (%s)\") % (sentence,sentence.classify()))"
   ]
  },
  {
   "cell_type": "markdown",
   "metadata": {},
   "source": [
    "## Mit schweizer Songtexten Kommentare klassifizieren\n",
    "- http://www.falleri.ch"
   ]
  },
  {
   "cell_type": "code",
   "execution_count": 33,
   "metadata": {},
   "outputs": [
    {
     "data": {
      "text/plain": [
       "[('grüess', 'schweiz'),\n",
       " ('stö', 'schweiz'),\n",
       " ('ängel', 'schweiz'),\n",
       " ('süsch', 'schweiz'),\n",
       " ('dunklet', 'schweiz'),\n",
       " ('isch', 'schweiz'),\n",
       " ('chrippli', 'schweiz'),\n",
       " ('schlaus', 'schweiz'),\n",
       " ('oder', 'schweiz'),\n",
       " ('myni', 'schweiz'),\n",
       " ('schue', 'schweiz'),\n",
       " ('vögeli', 'schweiz'),\n",
       " ('einzigs', 'schweiz'),\n",
       " ('a', 'schweiz'),\n",
       " ('ds', 'schweiz'),\n",
       " ('schwän', 'schweiz'),\n",
       " ('als', 'schweiz'),\n",
       " ('wasser', 'schweiz'),\n",
       " ('s', 'schweiz'),\n",
       " ('himmel', 'schweiz'),\n",
       " ('mir', 'schweiz'),\n",
       " ('gange', 'schweiz'),\n",
       " ('uf', 'schweiz'),\n",
       " ('schwümme', 'schweiz'),\n",
       " ('wisli', 'schweiz'),\n",
       " ('drum', 'schweiz'),\n",
       " ('wie', 'schweiz'),\n",
       " ('jungi', 'schweiz'),\n",
       " ('schwänzli', 'schweiz'),\n",
       " ('lach', 'schweiz'),\n",
       " ('so', 'schweiz'),\n",
       " ('trotze', 'schweiz'),\n",
       " ('ob', 'schweiz'),\n",
       " ('d', 'schweiz'),\n",
       " ('schlüsseli', 'schweiz'),\n",
       " ('schell', 'schweiz'),\n",
       " ('sälber', 'schweiz'),\n",
       " ('nand', 'schweiz'),\n",
       " ('derzue', 'schweiz'),\n",
       " ('nid', 'schweiz'),\n",
       " ('wenn', 'schweiz'),\n",
       " ('bin', 'schweiz'),\n",
       " ('strümpf', 'schweiz'),\n",
       " ('gseh', 'schweiz'),\n",
       " ('schynt', 'schweiz'),\n",
       " ('alli', 'schweiz'),\n",
       " ('türli', 'schweiz'),\n",
       " ('im', 'schweiz'),\n",
       " ('em', 'schweiz'),\n",
       " ('si', 'schweiz'),\n",
       " ('ich', 'schweiz'),\n",
       " ('rue', 'schweiz'),\n",
       " ('liebe', 'schweiz'),\n",
       " ('es', 'schweiz'),\n",
       " ('heilige', 'schweiz'),\n",
       " ('äntehüüsli', 'schweiz'),\n",
       " ('gueti', 'schweiz'),\n",
       " ('chindli', 'schweiz'),\n",
       " ('cha', 'schweiz'),\n",
       " ('hell', 'schweiz'),\n",
       " ('jesuschindli', 'schweiz'),\n",
       " ('schnäderet', 'schweiz'),\n",
       " ('ding', 'schweiz'),\n",
       " ('ring', 'schweiz'),\n",
       " ('jetzt', 'schweiz'),\n",
       " ('du', 'schweiz'),\n",
       " ('singe', 'schweiz'),\n",
       " ('ufem', 'schweiz'),\n",
       " ('äs', 'schweiz'),\n",
       " ('wiehnachtszyt', 'schweiz'),\n",
       " ('gumpe', 'schweiz'),\n",
       " ('grosse', 'schweiz'),\n",
       " ('zur', 'schweiz'),\n",
       " ('sing', 'schweiz'),\n",
       " ('nacht', 'schweiz'),\n",
       " ('bürschteli', 'schweiz'),\n",
       " ('land', 'schweiz'),\n",
       " ('bruchsch', 'schweiz'),\n",
       " ('ha', 'schweiz'),\n",
       " ('stärndli', 'schweiz'),\n",
       " ('tanz', 'schweiz'),\n",
       " ('schüttle', 'schweiz'),\n",
       " ('wil', 'schweiz'),\n",
       " ('immerzue', 'schweiz'),\n",
       " ('spaziere', 'schweiz'),\n",
       " ('übere', 'schweiz'),\n",
       " ('hei', 'schweiz'),\n",
       " ('alles', 'schweiz'),\n",
       " ('bettli', 'schweiz'),\n",
       " ('ässe', 'schweiz'),\n",
       " ('ja', 'schweiz'),\n",
       " ('bisch', 'schweiz'),\n",
       " ('strecke', 'schweiz'),\n",
       " ('sie', 'schweiz'),\n",
       " ('härzli', 'schweiz'),\n",
       " ('äntli', 'schweiz'),\n",
       " ('gö', 'schweiz'),\n",
       " ('eiget', 'schweiz'),\n",
       " ('blettli', 'schweiz'),\n",
       " ('dir', 'schweiz'),\n",
       " ('o', 'schweiz'),\n",
       " ('wer', 'schweiz'),\n",
       " ('ganz', 'schweiz'),\n",
       " ('ou', 'schweiz'),\n",
       " ('ume', 'schweiz'),\n",
       " ('affe', 'schweiz'),\n",
       " ('das', 'schweiz'),\n",
       " ('z', 'schweiz'),\n",
       " ('guet', 'schweiz'),\n",
       " ('sand', 'schweiz'),\n",
       " ('füess', 'schweiz'),\n",
       " ('cho', 'schweiz'),\n",
       " ('dr', 'schweiz'),\n",
       " ('ängeli', 'schweiz'),\n",
       " ('darum', 'schweiz'),\n",
       " ('höö', 'schweiz'),\n",
       " ('eis', 'schweiz'),\n",
       " ('see', 'schweiz'),\n",
       " ('affetanz', 'schweiz'),\n",
       " ('i', 'schweiz'),\n",
       " ('het', 'schweiz'),\n",
       " ('ohni', 'schweiz'),\n",
       " ('ids', 'schweiz'),\n",
       " ('froh', 'schweiz'),\n",
       " ('hunger', 'schweiz'),\n",
       " ('lass', 'schweiz'),\n",
       " ('härzeli', 'schweiz'),\n",
       " ('am', 'schweiz'),\n",
       " ('zue', 'schweiz'),\n",
       " ('wei', 'schweiz'),\n",
       " ('chöpfli', 'schweiz'),\n",
       " ('chranz', 'schweiz'),\n",
       " ('mys', 'schweiz'),\n",
       " ('meiteli', 'schweiz'),\n",
       " ('grüene', 'schweiz'),\n",
       " ('scho', 'schweiz'),\n",
       " ('müed', 'schweiz'),\n",
       " ('wyt', 'schweiz'),\n",
       " ('glänzt', 'schweiz'),\n",
       " ('arme', 'schweiz'),\n",
       " ('lyt', 'schweiz'),\n",
       " ('us', 'schweiz'),\n",
       " ('chöme', 'schweiz'),\n",
       " ('e', 'schweiz'),\n",
       " ('ine', 'schweiz'),\n",
       " ('zum', 'schweiz'),\n",
       " ('de', 'schweiz'),\n",
       " ('bei', 'schweiz'),\n",
       " ('stägli', 'schweiz'),\n",
       " ('liebgott', 'schweiz'),\n",
       " ('wacht', 'schweiz'),\n",
       " ('viel', 'schweiz'),\n",
       " ('niemert', 'schweiz'),\n",
       " ('schwanz', 'schweiz'),\n",
       " ('ärde', 'schweiz'),\n",
       " ('tuusig', 'schweiz'),\n",
       " ('uftue', 'schweiz'),\n",
       " ('eim', 'schweiz'),\n",
       " ('ihre', 'schweiz'),\n",
       " ('würmli', 'schweiz'),\n",
       " ('stärn', 'schweiz'),\n",
       " ('und', 'schweiz'),\n",
       " ('u', 'schweiz'),\n",
       " ('macht', 'schweiz'),\n",
       " ('ga', 'schweiz'),\n",
       " ('winke', 'schweiz'),\n",
       " ('voll', 'deutschland'),\n",
       " ('andern', 'deutschland'),\n",
       " ('sangen', 'deutschland'),\n",
       " ('welch', 'deutschland'),\n",
       " ('urwald', 'deutschland'),\n",
       " ('wald', 'deutschland'),\n",
       " ('an', 'deutschland'),\n",
       " ('vögelein', 'deutschland'),\n",
       " ('tun', 'deutschland'),\n",
       " ('habe', 'deutschland'),\n",
       " ('affenbaby', 'deutschland'),\n",
       " ('dann', 'deutschland'),\n",
       " ('hier', 'deutschland'),\n",
       " ('ei', 'deutschland'),\n",
       " ('krümchen', 'deutschland'),\n",
       " ('vögel', 'deutschland'),\n",
       " ('von', 'deutschland'),\n",
       " ('tireliern', 'deutschland'),\n",
       " ('vogelschar', 'deutschland'),\n",
       " ('sein', 'deutschland'),\n",
       " ('bau', 'deutschland'),\n",
       " ('ist', 'deutschland'),\n",
       " ('keine', 'deutschland'),\n",
       " ('will', 'deutschland'),\n",
       " ('nun', 'deutschland'),\n",
       " ('tröpfchen', 'deutschland'),\n",
       " ('den', 'deutschland'),\n",
       " ('urwaldbäume', 'deutschland'),\n",
       " ('kehre', 'deutschland'),\n",
       " ('weil', 'deutschland'),\n",
       " ('hatten', 'deutschland'),\n",
       " ('so', 'deutschland'),\n",
       " ('trefflicher', 'deutschland'),\n",
       " ('wie', 'deutschland'),\n",
       " ('lauert', 'deutschland'),\n",
       " ('heil', 'deutschland'),\n",
       " ('denkt', 'deutschland'),\n",
       " ('affenonkel', 'deutschland'),\n",
       " ('lieblich', 'deutschland'),\n",
       " ('kokosnüsse', 'deutschland'),\n",
       " ('aus', 'deutschland'),\n",
       " ('honigkuchen', 'deutschland'),\n",
       " ('besten', 'deutschland'),\n",
       " ('schalle', 'deutschland'),\n",
       " ('lustig', 'deutschland'),\n",
       " ('besser', 'deutschland'),\n",
       " ('kokosmilch', 'deutschland'),\n",
       " ('kann', 'deutschland'),\n",
       " ('springen', 'deutschland'),\n",
       " ('sind', 'deutschland'),\n",
       " ('freudig', 'deutschland'),\n",
       " ('volle', 'deutschland'),\n",
       " ('bande', 'deutschland'),\n",
       " ('räumet', 'deutschland'),\n",
       " ('auch', 'deutschland'),\n",
       " ('ein', 'deutschland'),\n",
       " ('sitzt', 'deutschland'),\n",
       " ('lässt', 'deutschland'),\n",
       " ('sprach', 'deutschland'),\n",
       " ('geschicht', 'deutschland'),\n",
       " ('wir', 'deutschland'),\n",
       " ('im', 'deutschland'),\n",
       " ('christgeschenken', 'deutschland'),\n",
       " ('gesungen', 'deutschland'),\n",
       " ('einmarschiern', 'deutschland'),\n",
       " ('flink', 'deutschland'),\n",
       " ('mit', 'deutschland'),\n",
       " ('ich', 'deutschland'),\n",
       " ('scherzen', 'deutschland'),\n",
       " ('schon', 'deutschland'),\n",
       " ('jahr', 'deutschland'),\n",
       " ('spricht', 'deutschland'),\n",
       " ('es', 'deutschland'),\n",
       " ('er', 'deutschland'),\n",
       " ('esel', 'deutschland'),\n",
       " ('sänge', 'deutschland'),\n",
       " ('hand', 'deutschland'),\n",
       " ('gleich', 'deutschland'),\n",
       " ('ruft', 'deutschland'),\n",
       " ('wiesen', 'deutschland'),\n",
       " ('reißt', 'deutschland'),\n",
       " ('singen', 'deutschland'),\n",
       " ('komm', 'deutschland'),\n",
       " ('regen', 'deutschland'),\n",
       " ('maienzeit', 'deutschland'),\n",
       " ('du', 'deutschland'),\n",
       " ('felder', 'deutschland'),\n",
       " ('streit', 'deutschland'),\n",
       " ('wälder', 'deutschland'),\n",
       " ('brüllt', 'deutschland'),\n",
       " ('feldaus', 'deutschland'),\n",
       " ('zur', 'deutschland'),\n",
       " ('blümchen', 'deutschland'),\n",
       " ('wollen', 'deutschland'),\n",
       " ('affenmama', 'deutschland'),\n",
       " ('herum', 'deutschland'),\n",
       " ('wabe', 'deutschland'),\n",
       " ('durch', 'deutschland'),\n",
       " ('bienchen', 'deutschland'),\n",
       " ('dich', 'deutschland'),\n",
       " ('hält', 'deutschland'),\n",
       " ('aber', 'deutschland'),\n",
       " ('fluß', 'deutschland'),\n",
       " ('lasset', 'deutschland'),\n",
       " ('blüten', 'deutschland'),\n",
       " ('verkünden', 'deutschland'),\n",
       " ('beim', 'deutschland'),\n",
       " ('affenmilchmann', 'deutschland'),\n",
       " ('nichts', 'deutschland'),\n",
       " ('alle', 'deutschland'),\n",
       " ('zu', 'deutschland'),\n",
       " ('uns', 'deutschland'),\n",
       " ('auf', 'deutschland'),\n",
       " ('fiel', 'deutschland'),\n",
       " ('nur', 'deutschland'),\n",
       " ('angelt', 'deutschland'),\n",
       " ('dem', 'deutschland'),\n",
       " ('gelungen', 'deutschland'),\n",
       " ('sie', 'deutschland'),\n",
       " ('wo', 'deutschland'),\n",
       " ('da', 'deutschland'),\n",
       " ('manche', 'deutschland'),\n",
       " ('songtext', 'deutschland'),\n",
       " ('pfeffernüss', 'deutschland'),\n",
       " ('deiner', 'deutschland'),\n",
       " ('flieg', 'deutschland'),\n",
       " ('feld', 'deutschland'),\n",
       " ('kalt', 'deutschland'),\n",
       " ('dir', 'deutschland'),\n",
       " ('wer', 'deutschland'),\n",
       " ('kuß', 'deutschland'),\n",
       " ('sich', 'deutschland'),\n",
       " ('kokosnuß', 'deutschland'),\n",
       " ('star', 'deutschland'),\n",
       " ('schrein', 'deutschland'),\n",
       " ('heide', 'deutschland'),\n",
       " ('affenbraut', 'deutschland'),\n",
       " ('reicher', 'deutschland'),\n",
       " ('kommt', 'deutschland'),\n",
       " ('geklaut', 'deutschland'),\n",
       " ('das', 'deutschland'),\n",
       " ('suchen', 'deutschland'),\n",
       " ('elefant', 'deutschland'),\n",
       " ('heim', 'deutschland'),\n",
       " ('schrei', 'deutschland'),\n",
       " ('der', 'deutschland'),\n",
       " ('immer', 'deutschland'),\n",
       " ('feldein', 'deutschland'),\n",
       " ('wohl', 'deutschland'),\n",
       " ('ganze', 'deutschland'),\n",
       " ('nach', 'deutschland'),\n",
       " ('selbst', 'deutschland'),\n",
       " ('sang', 'deutschland'),\n",
       " ('einen', 'deutschland'),\n",
       " ('winter', 'deutschland'),\n",
       " ('nehmen', 'deutschland'),\n",
       " ('herzen', 'deutschland'),\n",
       " ('froh', 'deutschland'),\n",
       " ('fink', 'deutschland'),\n",
       " ('am', 'deutschland'),\n",
       " ('lauter', 'deutschland'),\n",
       " ('wachsstock', 'deutschland'),\n",
       " ('dickicht', 'deutschland'),\n",
       " ('klau', 'deutschland'),\n",
       " ('bald', 'deutschland'),\n",
       " ('wünschen', 'deutschland'),\n",
       " ('zwitschern', 'deutschland'),\n",
       " ('stelle', 'deutschland'),\n",
       " ('leide', 'deutschland'),\n",
       " ('gedenken', 'deutschland'),\n",
       " ('nah', 'deutschland'),\n",
       " ('frohes', 'deutschland'),\n",
       " ('was', 'deutschland'),\n",
       " ('amsel', 'deutschland'),\n",
       " ('hub', 'deutschland'),\n",
       " ('sonst', 'deutschland'),\n",
       " ('musiziern', 'deutschland'),\n",
       " ('eine', 'deutschland'),\n",
       " ('fern', 'deutschland'),\n",
       " ('dort', 'deutschland'),\n",
       " ('bei', 'deutschland'),\n",
       " ('kuckuck', 'deutschland'),\n",
       " ('segen', 'deutschland'),\n",
       " ('die', 'deutschland'),\n",
       " ('drossel', 'deutschland'),\n",
       " ('graus', 'deutschland'),\n",
       " ('n', 'deutschland'),\n",
       " ('summ', 'deutschland'),\n",
       " ('such', 'deutschland'),\n",
       " ('nicht', 'deutschland'),\n",
       " ('frühling', 'deutschland'),\n",
       " ('schönen', 'deutschland'),\n",
       " ('rasen', 'deutschland'),\n",
       " ('beide', 'deutschland'),\n",
       " ('in', 'deutschland'),\n",
       " ('tanzen', 'deutschland'),\n",
       " ('held', 'deutschland'),\n",
       " ('affen', 'deutschland'),\n",
       " ('pfeifen', 'deutschland'),\n",
       " ('genuß', 'deutschland'),\n",
       " ('macht', 'deutschland'),\n",
       " ('hat', 'deutschland'),\n",
       " ('affenbande', 'deutschland'),\n",
       " ('und', 'deutschland'),\n",
       " ('schlick', 'deutschland'),\n",
       " ('klang', 'deutschland'),\n",
       " ('schön', 'deutschland'),\n",
       " ('wird', 'deutschland'),\n",
       " ('moral', 'deutschland')]"
      ]
     },
     "execution_count": 33,
     "metadata": {},
     "output_type": "execute_result"
    }
   ],
   "source": [
    "import os,glob\n",
    "from nltk.tokenize import sent_tokenize\n",
    "from nltk.tokenize import word_tokenize\n",
    "\n",
    "\n",
    "from io import open\n",
    "\n",
    "\n",
    "train = []\n",
    "countries = [\"schweiz\", \"deutschland\"]\n",
    "for country in countries:\n",
    "    out = []\n",
    "    folder_path = 'songtexte/%s' % country \n",
    "    for filename in glob.glob(os.path.join(folder_path, '*.txt')):\n",
    "      with open(filename, 'r') as f:\n",
    "        text = f.read()\n",
    "        words = word_tokenize(text)\n",
    "        words=[word.lower() for word in words if word.isalpha()]\n",
    "        for word in words:\n",
    "            out.append(word)\n",
    "    out = set(out)\n",
    "    for word in out:\n",
    "        train.append((word,country))\n",
    "        #print (filename)\n",
    "        #print (len(text))\n",
    "train"
   ]
  },
  {
   "cell_type": "code",
   "execution_count": 47,
   "metadata": {},
   "outputs": [],
   "source": []
  },
  {
   "cell_type": "code",
   "execution_count": 48,
   "metadata": {},
   "outputs": [
    {
     "data": {
      "text/plain": [
       "'deutschland'"
      ]
     },
     "execution_count": 48,
     "metadata": {},
     "output_type": "execute_result"
    }
   ],
   "source": [
    "c2.classify(\"Ich gehe durch den Wald\")  # \"deutsch\""
   ]
  },
  {
   "cell_type": "code",
   "execution_count": 49,
   "metadata": {},
   "outputs": [
    {
     "data": {
      "text/plain": [
       "'schweiz'"
      ]
     },
     "execution_count": 49,
     "metadata": {},
     "output_type": "execute_result"
    }
   ],
   "source": [
    "c2.classify(\"Häsch es guet\")  # \"deutsch\""
   ]
  },
  {
   "cell_type": "code",
   "execution_count": 50,
   "metadata": {},
   "outputs": [
    {
     "data": {
      "text/plain": [
       "'deutschland'"
      ]
     },
     "execution_count": 50,
     "metadata": {},
     "output_type": "execute_result"
    }
   ],
   "source": [
    "c2.classify(\"Ich fahre mit meinem Porsche auf der Autobahn.\")"
   ]
  },
  {
   "cell_type": "code",
   "execution_count": 51,
   "metadata": {},
   "outputs": [
    {
     "name": "stdout",
     "output_type": "stream",
     "text": [
      "Most Informative Features\n",
      "           contains(das) = True           schwei : deutsc =      1.3 : 1.0\n",
      "           contains(bei) = True           schwei : deutsc =      1.3 : 1.0\n",
      "           contains(wie) = True           schwei : deutsc =      1.3 : 1.0\n",
      "           contains(wer) = True           schwei : deutsc =      1.3 : 1.0\n",
      "         contains(macht) = True           schwei : deutsc =      1.3 : 1.0\n"
     ]
    }
   ],
   "source": [
    "c2.show_informative_features(5)"
   ]
  },
  {
   "cell_type": "code",
   "execution_count": 52,
   "metadata": {},
   "outputs": [],
   "source": [
    "# Jetzt holen wir die Stopwörter raus"
   ]
  },
  {
   "cell_type": "code",
   "execution_count": null,
   "metadata": {},
   "outputs": [],
   "source": []
  },
  {
   "cell_type": "code",
   "execution_count": 55,
   "metadata": {},
   "outputs": [
    {
     "name": "stderr",
     "output_type": "stream",
     "text": [
      "[nltk_data] Downloading package stopwords to\n",
      "[nltk_data]     /Users/manuela/nltk_data...\n",
      "[nltk_data]   Package stopwords is already up-to-date!\n"
     ]
    }
   ],
   "source": [
    "import nltk\n",
    "from textblob.classifiers import NaiveBayesClassifier\n",
    "c2 = NaiveBayesClassifier(train)\n",
    "from nltk.corpus import stopwords\n",
    "nltk.download('stopwords')\n",
    "stopwords = stopwords.words('german')"
   ]
  },
  {
   "cell_type": "code",
   "execution_count": 56,
   "metadata": {},
   "outputs": [
    {
     "data": {
      "text/plain": [
       "[('grüess', 'schweiz'),\n",
       " ('stö', 'schweiz'),\n",
       " ('ängel', 'schweiz'),\n",
       " ('süsch', 'schweiz'),\n",
       " ('dunklet', 'schweiz'),\n",
       " ('isch', 'schweiz'),\n",
       " ('chrippli', 'schweiz'),\n",
       " ('schlaus', 'schweiz'),\n",
       " ('', 'schweiz'),\n",
       " ('myni', 'schweiz'),\n",
       " ('schue', 'schweiz'),\n",
       " ('vögeli', 'schweiz'),\n",
       " ('einzigs', 'schweiz'),\n",
       " ('a', 'schweiz'),\n",
       " ('ds', 'schweiz'),\n",
       " ('schwän', 'schweiz'),\n",
       " ('', 'schweiz'),\n",
       " ('wasser', 'schweiz'),\n",
       " ('s', 'schweiz'),\n",
       " ('himmel', 'schweiz'),\n",
       " ('', 'schweiz'),\n",
       " ('gange', 'schweiz'),\n",
       " ('uf', 'schweiz'),\n",
       " ('schwümme', 'schweiz'),\n",
       " ('wisli', 'schweiz'),\n",
       " ('drum', 'schweiz'),\n",
       " ('', 'schweiz'),\n",
       " ('jungi', 'schweiz'),\n",
       " ('schwänzli', 'schweiz'),\n",
       " ('lach', 'schweiz'),\n",
       " ('', 'schweiz'),\n",
       " ('trotze', 'schweiz'),\n",
       " ('', 'schweiz'),\n",
       " ('d', 'schweiz'),\n",
       " ('schlüsseli', 'schweiz'),\n",
       " ('schell', 'schweiz'),\n",
       " ('sälber', 'schweiz'),\n",
       " ('nand', 'schweiz'),\n",
       " ('derzue', 'schweiz'),\n",
       " ('nid', 'schweiz'),\n",
       " ('', 'schweiz'),\n",
       " ('', 'schweiz'),\n",
       " ('strümpf', 'schweiz'),\n",
       " ('gseh', 'schweiz'),\n",
       " ('schynt', 'schweiz'),\n",
       " ('alli', 'schweiz'),\n",
       " ('türli', 'schweiz'),\n",
       " ('', 'schweiz'),\n",
       " ('em', 'schweiz'),\n",
       " ('si', 'schweiz'),\n",
       " ('', 'schweiz'),\n",
       " ('rue', 'schweiz'),\n",
       " ('liebe', 'schweiz'),\n",
       " ('', 'schweiz'),\n",
       " ('heilige', 'schweiz'),\n",
       " ('äntehüüsli', 'schweiz'),\n",
       " ('gueti', 'schweiz'),\n",
       " ('chindli', 'schweiz'),\n",
       " ('cha', 'schweiz'),\n",
       " ('hell', 'schweiz'),\n",
       " ('jesuschindli', 'schweiz'),\n",
       " ('schnäderet', 'schweiz'),\n",
       " ('ding', 'schweiz'),\n",
       " ('ring', 'schweiz'),\n",
       " ('', 'schweiz'),\n",
       " ('', 'schweiz'),\n",
       " ('singe', 'schweiz'),\n",
       " ('ufem', 'schweiz'),\n",
       " ('äs', 'schweiz'),\n",
       " ('wiehnachtszyt', 'schweiz'),\n",
       " ('gumpe', 'schweiz'),\n",
       " ('grosse', 'schweiz'),\n",
       " ('', 'schweiz'),\n",
       " ('sing', 'schweiz'),\n",
       " ('nacht', 'schweiz'),\n",
       " ('bürschteli', 'schweiz'),\n",
       " ('land', 'schweiz'),\n",
       " ('bruchsch', 'schweiz'),\n",
       " ('ha', 'schweiz'),\n",
       " ('stärndli', 'schweiz'),\n",
       " ('tanz', 'schweiz'),\n",
       " ('schüttle', 'schweiz'),\n",
       " ('wil', 'schweiz'),\n",
       " ('immerzue', 'schweiz'),\n",
       " ('spaziere', 'schweiz'),\n",
       " ('übere', 'schweiz'),\n",
       " ('hei', 'schweiz'),\n",
       " ('', 'schweiz'),\n",
       " ('bettli', 'schweiz'),\n",
       " ('ässe', 'schweiz'),\n",
       " ('ja', 'schweiz'),\n",
       " ('bisch', 'schweiz'),\n",
       " ('strecke', 'schweiz'),\n",
       " ('', 'schweiz'),\n",
       " ('härzli', 'schweiz'),\n",
       " ('äntli', 'schweiz'),\n",
       " ('gö', 'schweiz'),\n",
       " ('eiget', 'schweiz'),\n",
       " ('blettli', 'schweiz'),\n",
       " ('', 'schweiz'),\n",
       " ('o', 'schweiz'),\n",
       " ('wer', 'schweiz'),\n",
       " ('ganz', 'schweiz'),\n",
       " ('ou', 'schweiz'),\n",
       " ('ume', 'schweiz'),\n",
       " ('affe', 'schweiz'),\n",
       " ('', 'schweiz'),\n",
       " ('z', 'schweiz'),\n",
       " ('guet', 'schweiz'),\n",
       " ('sand', 'schweiz'),\n",
       " ('füess', 'schweiz'),\n",
       " ('cho', 'schweiz'),\n",
       " ('dr', 'schweiz'),\n",
       " ('ängeli', 'schweiz'),\n",
       " ('darum', 'schweiz'),\n",
       " ('höö', 'schweiz'),\n",
       " ('eis', 'schweiz'),\n",
       " ('see', 'schweiz'),\n",
       " ('affetanz', 'schweiz'),\n",
       " ('i', 'schweiz'),\n",
       " ('het', 'schweiz'),\n",
       " ('ohni', 'schweiz'),\n",
       " ('ids', 'schweiz'),\n",
       " ('froh', 'schweiz'),\n",
       " ('hunger', 'schweiz'),\n",
       " ('lass', 'schweiz'),\n",
       " ('härzeli', 'schweiz'),\n",
       " ('', 'schweiz'),\n",
       " ('zue', 'schweiz'),\n",
       " ('wei', 'schweiz'),\n",
       " ('chöpfli', 'schweiz'),\n",
       " ('chranz', 'schweiz'),\n",
       " ('mys', 'schweiz'),\n",
       " ('meiteli', 'schweiz'),\n",
       " ('grüene', 'schweiz'),\n",
       " ('scho', 'schweiz'),\n",
       " ('müed', 'schweiz'),\n",
       " ('wyt', 'schweiz'),\n",
       " ('glänzt', 'schweiz'),\n",
       " ('arme', 'schweiz'),\n",
       " ('lyt', 'schweiz'),\n",
       " ('us', 'schweiz'),\n",
       " ('chöme', 'schweiz'),\n",
       " ('e', 'schweiz'),\n",
       " ('ine', 'schweiz'),\n",
       " ('', 'schweiz'),\n",
       " ('de', 'schweiz'),\n",
       " ('', 'schweiz'),\n",
       " ('stägli', 'schweiz'),\n",
       " ('liebgott', 'schweiz'),\n",
       " ('wacht', 'schweiz'),\n",
       " ('', 'schweiz'),\n",
       " ('niemert', 'schweiz'),\n",
       " ('schwanz', 'schweiz'),\n",
       " ('ärde', 'schweiz'),\n",
       " ('tuusig', 'schweiz'),\n",
       " ('uftue', 'schweiz'),\n",
       " ('eim', 'schweiz'),\n",
       " ('', 'schweiz'),\n",
       " ('würmli', 'schweiz'),\n",
       " ('stärn', 'schweiz'),\n",
       " ('', 'schweiz'),\n",
       " ('u', 'schweiz'),\n",
       " ('macht', 'schweiz'),\n",
       " ('ga', 'schweiz'),\n",
       " ('winke', 'schweiz'),\n",
       " ('voll', 'deutschland'),\n",
       " ('', 'deutschland'),\n",
       " ('sangen', 'deutschland'),\n",
       " ('welch', 'deutschland'),\n",
       " ('urwald', 'deutschland'),\n",
       " ('wald', 'deutschland'),\n",
       " ('', 'deutschland'),\n",
       " ('vögelein', 'deutschland'),\n",
       " ('tun', 'deutschland'),\n",
       " ('', 'deutschland'),\n",
       " ('affenbaby', 'deutschland'),\n",
       " ('', 'deutschland'),\n",
       " ('', 'deutschland'),\n",
       " ('ei', 'deutschland'),\n",
       " ('krümchen', 'deutschland'),\n",
       " ('vögel', 'deutschland'),\n",
       " ('', 'deutschland'),\n",
       " ('tireliern', 'deutschland'),\n",
       " ('vogelschar', 'deutschland'),\n",
       " ('', 'deutschland'),\n",
       " ('bau', 'deutschland'),\n",
       " ('', 'deutschland'),\n",
       " ('', 'deutschland'),\n",
       " ('', 'deutschland'),\n",
       " ('', 'deutschland'),\n",
       " ('tröpfchen', 'deutschland'),\n",
       " ('', 'deutschland'),\n",
       " ('urwaldbäume', 'deutschland'),\n",
       " ('kehre', 'deutschland'),\n",
       " ('', 'deutschland'),\n",
       " ('', 'deutschland'),\n",
       " ('', 'deutschland'),\n",
       " ('trefflicher', 'deutschland'),\n",
       " ('', 'deutschland'),\n",
       " ('lauert', 'deutschland'),\n",
       " ('heil', 'deutschland'),\n",
       " ('denkt', 'deutschland'),\n",
       " ('affenonkel', 'deutschland'),\n",
       " ('lieblich', 'deutschland'),\n",
       " ('kokosnüsse', 'deutschland'),\n",
       " ('', 'deutschland'),\n",
       " ('honigkuchen', 'deutschland'),\n",
       " ('besten', 'deutschland'),\n",
       " ('schalle', 'deutschland'),\n",
       " ('lustig', 'deutschland'),\n",
       " ('besser', 'deutschland'),\n",
       " ('kokosmilch', 'deutschland'),\n",
       " ('', 'deutschland'),\n",
       " ('springen', 'deutschland'),\n",
       " ('', 'deutschland'),\n",
       " ('freudig', 'deutschland'),\n",
       " ('volle', 'deutschland'),\n",
       " ('bande', 'deutschland'),\n",
       " ('räumet', 'deutschland'),\n",
       " ('', 'deutschland'),\n",
       " ('', 'deutschland'),\n",
       " ('sitzt', 'deutschland'),\n",
       " ('lässt', 'deutschland'),\n",
       " ('sprach', 'deutschland'),\n",
       " ('geschicht', 'deutschland'),\n",
       " ('', 'deutschland'),\n",
       " ('', 'deutschland'),\n",
       " ('christgeschenken', 'deutschland'),\n",
       " ('gesungen', 'deutschland'),\n",
       " ('einmarschiern', 'deutschland'),\n",
       " ('flink', 'deutschland'),\n",
       " ('', 'deutschland'),\n",
       " ('', 'deutschland'),\n",
       " ('scherzen', 'deutschland'),\n",
       " ('schon', 'deutschland'),\n",
       " ('jahr', 'deutschland'),\n",
       " ('spricht', 'deutschland'),\n",
       " ('', 'deutschland'),\n",
       " ('', 'deutschland'),\n",
       " ('esel', 'deutschland'),\n",
       " ('sänge', 'deutschland'),\n",
       " ('hand', 'deutschland'),\n",
       " ('gleich', 'deutschland'),\n",
       " ('ruft', 'deutschland'),\n",
       " ('wiesen', 'deutschland'),\n",
       " ('reißt', 'deutschland'),\n",
       " ('singen', 'deutschland'),\n",
       " ('komm', 'deutschland'),\n",
       " ('regen', 'deutschland'),\n",
       " ('maienzeit', 'deutschland'),\n",
       " ('', 'deutschland'),\n",
       " ('felder', 'deutschland'),\n",
       " ('streit', 'deutschland'),\n",
       " ('wälder', 'deutschland'),\n",
       " ('brüllt', 'deutschland'),\n",
       " ('feldaus', 'deutschland'),\n",
       " ('', 'deutschland'),\n",
       " ('blümchen', 'deutschland'),\n",
       " ('', 'deutschland'),\n",
       " ('affenmama', 'deutschland'),\n",
       " ('herum', 'deutschland'),\n",
       " ('wabe', 'deutschland'),\n",
       " ('', 'deutschland'),\n",
       " ('bienchen', 'deutschland'),\n",
       " ('', 'deutschland'),\n",
       " ('hält', 'deutschland'),\n",
       " ('', 'deutschland'),\n",
       " ('fluß', 'deutschland'),\n",
       " ('lasset', 'deutschland'),\n",
       " ('blüten', 'deutschland'),\n",
       " ('verkünden', 'deutschland'),\n",
       " ('beim', 'deutschland'),\n",
       " ('affenmilchmann', 'deutschland'),\n",
       " ('', 'deutschland'),\n",
       " ('', 'deutschland'),\n",
       " ('', 'deutschland'),\n",
       " ('', 'deutschland'),\n",
       " ('', 'deutschland'),\n",
       " ('fiel', 'deutschland'),\n",
       " ('', 'deutschland'),\n",
       " ('angelt', 'deutschland'),\n",
       " ('', 'deutschland'),\n",
       " ('gelungen', 'deutschland'),\n",
       " ('', 'deutschland'),\n",
       " ('', 'deutschland'),\n",
       " ('', 'deutschland'),\n",
       " ('', 'deutschland'),\n",
       " ('songtext', 'deutschland'),\n",
       " ('pfeffernüss', 'deutschland'),\n",
       " ('', 'deutschland'),\n",
       " ('flieg', 'deutschland'),\n",
       " ('feld', 'deutschland'),\n",
       " ('kalt', 'deutschland'),\n",
       " ('', 'deutschland'),\n",
       " ('wer', 'deutschland'),\n",
       " ('kuß', 'deutschland'),\n",
       " ('', 'deutschland'),\n",
       " ('kokosnuß', 'deutschland'),\n",
       " ('star', 'deutschland'),\n",
       " ('schrein', 'deutschland'),\n",
       " ('heide', 'deutschland'),\n",
       " ('affenbraut', 'deutschland'),\n",
       " ('reicher', 'deutschland'),\n",
       " ('kommt', 'deutschland'),\n",
       " ('geklaut', 'deutschland'),\n",
       " ('', 'deutschland'),\n",
       " ('suchen', 'deutschland'),\n",
       " ('elefant', 'deutschland'),\n",
       " ('heim', 'deutschland'),\n",
       " ('schrei', 'deutschland'),\n",
       " ('', 'deutschland'),\n",
       " ('immer', 'deutschland'),\n",
       " ('feldein', 'deutschland'),\n",
       " ('wohl', 'deutschland'),\n",
       " ('ganze', 'deutschland'),\n",
       " ('', 'deutschland'),\n",
       " ('', 'deutschland'),\n",
       " ('sang', 'deutschland'),\n",
       " ('', 'deutschland'),\n",
       " ('winter', 'deutschland'),\n",
       " ('nehmen', 'deutschland'),\n",
       " ('herzen', 'deutschland'),\n",
       " ('froh', 'deutschland'),\n",
       " ('fink', 'deutschland'),\n",
       " ('', 'deutschland'),\n",
       " ('lauter', 'deutschland'),\n",
       " ('wachsstock', 'deutschland'),\n",
       " ('dickicht', 'deutschland'),\n",
       " ('klau', 'deutschland'),\n",
       " ('bald', 'deutschland'),\n",
       " ('wünschen', 'deutschland'),\n",
       " ('zwitschern', 'deutschland'),\n",
       " ('stelle', 'deutschland'),\n",
       " ('leide', 'deutschland'),\n",
       " ('gedenken', 'deutschland'),\n",
       " ('nah', 'deutschland'),\n",
       " ('frohes', 'deutschland'),\n",
       " ('', 'deutschland'),\n",
       " ('amsel', 'deutschland'),\n",
       " ('hub', 'deutschland'),\n",
       " ('', 'deutschland'),\n",
       " ('musiziern', 'deutschland'),\n",
       " ('', 'deutschland'),\n",
       " ('fern', 'deutschland'),\n",
       " ('', 'deutschland'),\n",
       " ('', 'deutschland'),\n",
       " ('kuckuck', 'deutschland'),\n",
       " ('segen', 'deutschland'),\n",
       " ('', 'deutschland'),\n",
       " ('drossel', 'deutschland'),\n",
       " ('graus', 'deutschland'),\n",
       " ('n', 'deutschland'),\n",
       " ('summ', 'deutschland'),\n",
       " ('such', 'deutschland'),\n",
       " ('', 'deutschland'),\n",
       " ('frühling', 'deutschland'),\n",
       " ('schönen', 'deutschland'),\n",
       " ('rasen', 'deutschland'),\n",
       " ('beide', 'deutschland'),\n",
       " ('', 'deutschland'),\n",
       " ('tanzen', 'deutschland'),\n",
       " ('held', 'deutschland'),\n",
       " ('affen', 'deutschland'),\n",
       " ('pfeifen', 'deutschland'),\n",
       " ('genuß', 'deutschland'),\n",
       " ('macht', 'deutschland'),\n",
       " ('', 'deutschland'),\n",
       " ('affenbande', 'deutschland'),\n",
       " ('', 'deutschland'),\n",
       " ('schlick', 'deutschland'),\n",
       " ('klang', 'deutschland'),\n",
       " ('schön', 'deutschland'),\n",
       " ('', 'deutschland'),\n",
       " ('moral', 'deutschland')]"
      ]
     },
     "execution_count": 56,
     "metadata": {},
     "output_type": "execute_result"
    }
   ],
   "source": [
    "training_new = []\n",
    "\n",
    "for element in train:\n",
    "    words = word_tokenize(element[0])\n",
    "    words = [word.lower() for word in words if word.isalpha()]\n",
    "    words = [word for word in words if word not in stopwords]\n",
    "    training_new.append((\" \".join(words), element[1]))\n",
    "training_new"
   ]
  },
  {
   "cell_type": "code",
   "execution_count": 57,
   "metadata": {},
   "outputs": [
    {
     "name": "stdout",
     "output_type": "stream",
     "text": [
      "Most Informative Features\n",
      "           contains(wer) = True           schwei : deutsc =      1.3 : 1.0\n",
      "         contains(macht) = True           schwei : deutsc =      1.3 : 1.0\n",
      "          contains(froh) = True           schwei : deutsc =      1.3 : 1.0\n",
      "          contains(myni) = False          deutsc : schwei =      1.0 : 1.0\n",
      "          contains(isch) = False          deutsc : schwei =      1.0 : 1.0\n",
      "      contains(bruchsch) = False          deutsc : schwei =      1.0 : 1.0\n",
      "             contains(i) = False          deutsc : schwei =      1.0 : 1.0\n",
      "         contains(übere) = False          deutsc : schwei =      1.0 : 1.0\n",
      "        contains(stägli) = False          deutsc : schwei =      1.0 : 1.0\n",
      "          contains(affe) = False          deutsc : schwei =      1.0 : 1.0\n"
     ]
    }
   ],
   "source": [
    "c2 = NaiveBayesClassifier(training_new)\n",
    "c2.show_informative_features()"
   ]
  },
  {
   "cell_type": "markdown",
   "metadata": {},
   "source": [
    "### Orakel "
   ]
  },
  {
   "cell_type": "markdown",
   "metadata": {},
   "source": [
    "Ihr könnt natürlich jetzt Euer eigenes Orakel bauen wie hier: - http://home.datacomm.ch/cgi-heeb/dialect/chochi.pl?Hand=Hand&nicht=net&heute=hit&Fenster=Feischter&gestern=gescht&Abend=Abend&gehorchen=folge&Mond=Manat&jeweils=abe&Holzsplitter=Schepfa&Senden=Jetzt+analysieren%21"
   ]
  },
  {
   "cell_type": "markdown",
   "metadata": {},
   "source": [
    "## Hardcore Beispiel mit Film-review daten mit NLTK\n",
    "- https://www.nltk.org/book/ch06.html\n",
    "- Wir nutzen nur noch die 100 häufigsten Wörter in den Texten und schauen ob sie bei positiv oder negativ vorkommen"
   ]
  },
  {
   "cell_type": "code",
   "execution_count": null,
   "metadata": {},
   "outputs": [],
   "source": [
    "import random\n",
    "import nltk\n",
    "nltk.download(\"movie_reviews\")\n",
    "from nltk.corpus import movie_reviews\n",
    "documents = [(list(movie_reviews.words(fileid)), category)\n",
    "              for category in movie_reviews.categories()\n",
    "              for fileid in movie_reviews.fileids(category)]\n",
    "random.shuffle(documents)"
   ]
  },
  {
   "cell_type": "code",
   "execution_count": null,
   "metadata": {},
   "outputs": [],
   "source": [
    "(\" \").join(documents[1][0])"
   ]
  },
  {
   "cell_type": "code",
   "execution_count": null,
   "metadata": {},
   "outputs": [],
   "source": [
    "all_words = nltk.FreqDist(w.lower() for w in movie_reviews.words())\n",
    "word_features = list(all_words)[:2000]\n",
    "word_features[0:10]"
   ]
  },
  {
   "cell_type": "code",
   "execution_count": null,
   "metadata": {},
   "outputs": [],
   "source": [
    "all_words = nltk.FreqDist(w.lower() for w in movie_reviews.words())\n",
    "word_features = list(all_words)[:2000]\n",
    "\n",
    "def document_features(document): \n",
    "    document_words = set(document)\n",
    "    features = {}\n",
    "    for word in word_features:\n",
    "        features['contains({})'.format(word)] = (word in document_words)\n",
    "    return features"
   ]
  },
  {
   "cell_type": "code",
   "execution_count": null,
   "metadata": {
    "scrolled": false
   },
   "outputs": [],
   "source": [
    "print(document_features(movie_reviews.words('pos/cv957_8737.txt')))"
   ]
  },
  {
   "cell_type": "code",
   "execution_count": null,
   "metadata": {},
   "outputs": [],
   "source": [
    "featuresets = [(document_features(d), c) for (d,c) in documents]\n",
    "train_set, test_set = featuresets[100:], featuresets[:100]\n",
    "classifier = nltk.NaiveBayesClassifier.train(train_set)"
   ]
  },
  {
   "cell_type": "code",
   "execution_count": null,
   "metadata": {},
   "outputs": [],
   "source": [
    "classifier.classify(document_features(\"a movie with bad actors\".split(\" \")))"
   ]
  },
  {
   "cell_type": "code",
   "execution_count": null,
   "metadata": {},
   "outputs": [],
   "source": [
    "classifier.classify(document_features(\"an uplifting movie with russel crowe\".split(\" \")))"
   ]
  },
  {
   "cell_type": "code",
   "execution_count": null,
   "metadata": {},
   "outputs": [],
   "source": [
    "classifier.show_most_informative_features(10)"
   ]
  }
 ],
 "metadata": {
  "kernelspec": {
   "display_name": "Python 3",
   "language": "python",
   "name": "python3"
  },
  "language_info": {
   "codemirror_mode": {
    "name": "ipython",
    "version": 3
   },
   "file_extension": ".py",
   "mimetype": "text/x-python",
   "name": "python",
   "nbconvert_exporter": "python",
   "pygments_lexer": "ipython3",
   "version": "3.7.3"
  }
 },
 "nbformat": 4,
 "nbformat_minor": 2
}
