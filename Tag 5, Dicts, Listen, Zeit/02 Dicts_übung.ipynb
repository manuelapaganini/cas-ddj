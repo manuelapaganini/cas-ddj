{
 "cells": [
  {
   "cell_type": "markdown",
   "metadata": {},
   "source": [
    "## Dictionaries in Python\n",
    "\n",
    "Dictionaries sind unglaublich praktisch, damit kannst du z. B. folgendes machen:\n",
    "\n",
    "- Du kannst Wertezuordnungen speichern (z.B. Telefonbuch: Ein Nachname hat eine Telefonnummer).\n",
    "- Du kannst nachträglich Elemente verändern / entfernen / hinzufügen.\n",
    "- Dictionaries brauchst du wirklich immer wieder...\n",
    "\n",
    "Machen wir mal ein Beispiel..."
   ]
  },
  {
   "cell_type": "code",
   "execution_count": 26,
   "metadata": {},
   "outputs": [],
   "source": [
    "d = {\"Berlin\": \"BER\", \"Helsinki\": \"HEL\", \"Saigon\": \"SGN\"}"
   ]
  },
  {
   "cell_type": "code",
   "execution_count": 27,
   "metadata": {},
   "outputs": [
    {
     "name": "stdout",
     "output_type": "stream",
     "text": [
      "{'Berlin': 'BER', 'Helsinki': 'HEL', 'Saigon': 'SGN'}\n"
     ]
    }
   ],
   "source": [
    "print(d)"
   ]
  },
  {
   "cell_type": "markdown",
   "metadata": {},
   "source": [
    "Zugriff auf ein einzelnes Element:"
   ]
  },
  {
   "cell_type": "code",
   "execution_count": 28,
   "metadata": {},
   "outputs": [
    {
     "name": "stdout",
     "output_type": "stream",
     "text": [
      "HEL\n"
     ]
    }
   ],
   "source": [
    "print(d[\"Helsinki\"])"
   ]
  },
  {
   "cell_type": "markdown",
   "metadata": {},
   "source": [
    "## Ein element hinzufügen"
   ]
  },
  {
   "cell_type": "code",
   "execution_count": 85,
   "metadata": {},
   "outputs": [
    {
     "ename": "AttributeError",
     "evalue": "'str' object has no attribute 'append'",
     "output_type": "error",
     "traceback": [
      "\u001b[0;31m---------------------------------------------------------------------------\u001b[0m",
      "\u001b[0;31mAttributeError\u001b[0m                            Traceback (most recent call last)",
      "\u001b[0;32m<ipython-input-85-c570079112df>\u001b[0m in \u001b[0;36m<module>\u001b[0;34m\u001b[0m\n\u001b[1;32m      1\u001b[0m \u001b[0md\u001b[0m\u001b[0;34m[\u001b[0m\u001b[0;34m\"Budapest\"\u001b[0m\u001b[0;34m]\u001b[0m \u001b[0;34m=\u001b[0m \u001b[0;34m\"BUD\"\u001b[0m\u001b[0;34m\u001b[0m\u001b[0;34m\u001b[0m\u001b[0m\n\u001b[1;32m      2\u001b[0m \u001b[0;34m\u001b[0m\u001b[0m\n\u001b[0;32m----> 3\u001b[0;31m \u001b[0md\u001b[0m\u001b[0;34m[\u001b[0m\u001b[0;34m\"Budapest\"\u001b[0m\u001b[0;34m]\u001b[0m \u001b[0;34m=\u001b[0m \u001b[0md\u001b[0m\u001b[0;34m[\u001b[0m\u001b[0;34m\"Budapest\"\u001b[0m\u001b[0;34m]\u001b[0m\u001b[0;34m.\u001b[0m\u001b[0mappend\u001b[0m\u001b[0;34m(\u001b[0m\u001b[0;34m\"AP\"\u001b[0m\u001b[0;34m)\u001b[0m\u001b[0;34m\u001b[0m\u001b[0;34m\u001b[0m\u001b[0m\n\u001b[0m",
      "\u001b[0;31mAttributeError\u001b[0m: 'str' object has no attribute 'append'"
     ]
    }
   ],
   "source": [
    "d[\"Budapest\"] = \"BUD\"\n",
    "\n"
   ]
  },
  {
   "cell_type": "code",
   "execution_count": 30,
   "metadata": {},
   "outputs": [
    {
     "name": "stdout",
     "output_type": "stream",
     "text": [
      "{'Berlin': 'BER', 'Helsinki': 'HEL', 'Saigon': 'SGN', 'Budapest': 'BUD'}\n"
     ]
    }
   ],
   "source": [
    "print(d)"
   ]
  },
  {
   "cell_type": "markdown",
   "metadata": {},
   "source": [
    "## Übung"
   ]
  },
  {
   "cell_type": "markdown",
   "metadata": {},
   "source": [
    "Legt ein eigenes Dict für die schweiz an mit den Flughäfen und den Abkürzungen. "
   ]
  },
  {
   "cell_type": "code",
   "execution_count": null,
   "metadata": {},
   "outputs": [],
   "source": [
    "flughaefen = {'Zürich': 'ZRH', 'Bern': 'BER', 'Basel': 'BSL', 'Genf': 'GVA'}\n",
    "\n",
    "print(flughaefen)\n",
    "print(flughaefen['Zürich'])\n",
    "\n"
   ]
  },
  {
   "cell_type": "markdown",
   "metadata": {},
   "source": [
    "## Element entfernen"
   ]
  },
  {
   "cell_type": "code",
   "execution_count": null,
   "metadata": {},
   "outputs": [],
   "source": [
    "del d[\"Budapest\"]"
   ]
  },
  {
   "cell_type": "code",
   "execution_count": null,
   "metadata": {},
   "outputs": [],
   "source": [
    "print(d)"
   ]
  },
  {
   "cell_type": "markdown",
   "metadata": {},
   "source": [
    "## Abfrage: Ist ein Element im Dictionary?"
   ]
  },
  {
   "cell_type": "code",
   "execution_count": null,
   "metadata": {},
   "outputs": [],
   "source": [
    "if \"Budapest\" in d:\n",
    "    print(\"Budapest ist im Dictionary enthalten\")\n",
    "if \"Saigon\" in d:\n",
    "    print(\"Saigon ist im Dicionary enthalten\")"
   ]
  },
  {
   "cell_type": "markdown",
   "metadata": {},
   "source": [
    "## Auf Elemente zugreifen..."
   ]
  },
  {
   "cell_type": "code",
   "execution_count": 31,
   "metadata": {},
   "outputs": [
    {
     "name": "stdout",
     "output_type": "stream",
     "text": [
      "SGN\n",
      "SGN\n"
     ]
    }
   ],
   "source": [
    "print(d[\"Saigon\"])\n",
    "print(d.get(\"Saigon\"))"
   ]
  },
  {
   "cell_type": "markdown",
   "metadata": {},
   "source": [
    "Warum sollte man get nutzen? Man kann doch auch einfach so drauf zugreifen? Die Lösung ist einfach aber sehr praktisch. Fehlertoleranz."
   ]
  },
  {
   "cell_type": "code",
   "execution_count": 34,
   "metadata": {},
   "outputs": [
    {
     "ename": "KeyError",
     "evalue": "'Madrid'",
     "output_type": "error",
     "traceback": [
      "\u001b[0;31m---------------------------------------------------------------------------\u001b[0m",
      "\u001b[0;31mKeyError\u001b[0m                                  Traceback (most recent call last)",
      "\u001b[0;32m<ipython-input-34-dd15c0d87d41>\u001b[0m in \u001b[0;36m<module>\u001b[0;34m\u001b[0m\n\u001b[0;32m----> 1\u001b[0;31m \u001b[0mprint\u001b[0m\u001b[0;34m(\u001b[0m\u001b[0md\u001b[0m\u001b[0;34m[\u001b[0m\u001b[0;34m\"Madrid\"\u001b[0m\u001b[0;34m]\u001b[0m\u001b[0;34m)\u001b[0m\u001b[0;34m\u001b[0m\u001b[0;34m\u001b[0m\u001b[0m\n\u001b[0m",
      "\u001b[0;31mKeyError\u001b[0m: 'Madrid'"
     ]
    }
   ],
   "source": [
    "print(d[\"Madrid\"])"
   ]
  },
  {
   "cell_type": "code",
   "execution_count": 35,
   "metadata": {
    "scrolled": true
   },
   "outputs": [
    {
     "name": "stdout",
     "output_type": "stream",
     "text": [
      "None\n"
     ]
    }
   ],
   "source": [
    "print(d.get(\"Madrid\"))"
   ]
  },
  {
   "cell_type": "markdown",
   "metadata": {},
   "source": [
    "## Dictionaries und Schleifen\n",
    "\n",
    "Du hast bei Dictionaries 2 Möglichkeiten, diese mit einer for - Schleife durchzugehen.\n",
    "\n",
    "Entweder direkt, dann gehst du die Schlüssel durch:"
   ]
  },
  {
   "cell_type": "code",
   "execution_count": 13,
   "metadata": {},
   "outputs": [
    {
     "name": "stdout",
     "output_type": "stream",
     "text": [
      "München : MUC\n",
      "Budapest : BUD\n",
      "Helsinki : HEL\n"
     ]
    }
   ],
   "source": [
    "d = {\"München\": \"MUC\", \"Budapest\": \"BUD\", \"Helsinki\": \"HEL\"}\n",
    "\n",
    "for key in d: \n",
    "    value = d[key]\n",
    "    print(key, \":\", value)"
   ]
  },
  {
   "cell_type": "markdown",
   "metadata": {},
   "source": [
    "Oder über die .items() - Methode, damit kannst du Schlüssel + Wert direkt durchgehen:"
   ]
  },
  {
   "cell_type": "code",
   "execution_count": 14,
   "metadata": {
    "scrolled": true
   },
   "outputs": [
    {
     "name": "stdout",
     "output_type": "stream",
     "text": [
      "München: MUC\n",
      "Budapest: BUD\n",
      "Helsinki: HEL\n"
     ]
    }
   ],
   "source": [
    "for key, value in d.items():\n",
    "    print(key + \": \" + value)"
   ]
  },
  {
   "cell_type": "markdown",
   "metadata": {},
   "source": [
    "## Übung \n",
    "Wie oft kommt jedes Wort in der liste vor?"
   ]
  },
  {
   "cell_type": "code",
   "execution_count": null,
   "metadata": {},
   "outputs": [],
   "source": [
    "liste = [\"Hallo\", \"Hallo\", \"Welt\", \"Hallo\", \"Mars\"]\n",
    "\n",
    "dict_count = {}\n",
    "\n",
    "for i in liste:\n",
    "    if i not in dict_count:\n",
    "        dict_count[i] = 1\n",
    "    else:\n",
    "        dict_count[i] += 1\n",
    "print(dict_count)\n"
   ]
  },
  {
   "cell_type": "markdown",
   "metadata": {},
   "source": [
    "## Übung Hardcore"
   ]
  },
  {
   "cell_type": "markdown",
   "metadata": {},
   "source": [
    "Für diejenigen die eine Herausforderung suchen, gibts hier auch einen echten datensatz. http://p3.snf.ch/Pages/DataAndDocumentation.aspx"
   ]
  },
  {
   "cell_type": "code",
   "execution_count": null,
   "metadata": {},
   "outputs": [],
   "source": [
    "# Notes\n",
    "print(row)\n",
    "    #if data[7] not in institutes:\n",
    "    #    institutes[data][7] = 1\n",
    "    #else:\n",
    "    #    institutes[data][7] += 1\n",
    "\n",
    "    import pandas as pd\n",
    "print(pd.DataFrame(personen))\n",
    "\n",
    "\n",
    "institutes = {}\n",
    "\n",
    "#for row in personen:\n",
    "#    print(row)\n",
    "#    if row[]\n",
    "    #if data[7] not in institutes:\n",
    "    #    institutes[data][7] = 1\n",
    "    #else:\n",
    "    #    institutes[data][7] += 1\n",
    "\n"
   ]
  },
  {
   "cell_type": "code",
   "execution_count": 19,
   "metadata": {},
   "outputs": [],
   "source": [
    "# where the fun starts\n",
    "import requests\n",
    "import csv\n",
    "data = requests.get(\"http://p3.snf.ch/P3Export/P3_PersonExport.csv\").text.splitlines()\n",
    "personen = csv.DictReader(data,delimiter=';')"
   ]
  },
  {
   "cell_type": "code",
   "execution_count": 18,
   "metadata": {},
   "outputs": [
    {
     "data": {
      "text/plain": [
       "OrderedDict([('Last Name', 'a Marca'),\n",
       "             ('First Name', 'Davide'),\n",
       "             ('Gender', 'male'),\n",
       "             ('Institute Name', ''),\n",
       "             ('Institute Place', ''),\n",
       "             ('Person ID SNSF', '53856'),\n",
       "             ('OCRID', ''),\n",
       "             ('Projects as responsible Applicant', ''),\n",
       "             ('Projects as Applicant', ''),\n",
       "             ('Projects as Partner', ''),\n",
       "             ('Projects as Practice Partner', ''),\n",
       "             ('Projects as Employee', '36549'),\n",
       "             ('Projects as Contact Person', '')])"
      ]
     },
     "execution_count": 18,
     "metadata": {},
     "output_type": "execute_result"
    }
   ],
   "source": [
    "next(personen)"
   ]
  },
  {
   "cell_type": "markdown",
   "metadata": {},
   "source": [
    "### So sieht ein Datensatz aus:"
   ]
  },
  {
   "cell_type": "markdown",
   "metadata": {},
   "source": [
    "Welche Institute hatten die meisten beiteiligten Personen?"
   ]
  },
  {
   "cell_type": "code",
   "execution_count": 171,
   "metadata": {},
   "outputs": [
    {
     "name": "stdout",
     "output_type": "stream",
     "text": [
      "i work\n"
     ]
    }
   ],
   "source": [
    "file_brut = open(\"P3 Testdatensatz hübsch.csv\", \"r\")\n",
    "\n",
    "d_institutes = {}\n",
    "d_projects = {}\n",
    "\n",
    "def create_d_institutes(file):\n",
    "    for line in file:\n",
    "        data = line.split(\",\")\n",
    "        # skip first line:\n",
    "        if data[3] == \"Institute Name 3\":\n",
    "            continue\n",
    "        # attribute project to institute:\n",
    "        if data[3] != \"\": # if institutes-cell is not empty\n",
    "            d_institutes[data[3]] = data[5] # create a dictionary {institute: project-number}\n",
    "           \n",
    "            \n",
    "def count_projects(file):\n",
    "    print(\"i work\")\n",
    "    for line in file:\n",
    "        data = line.split(\",\")\n",
    "        print(\"i work still\")\n",
    "        # count person per project and add to institute\n",
    "        if data[5] in d_institutes.values(): # now check if the project number is in the dictionary \"institutes\". \n",
    "            print(\"data found\")                               # create a new dictionary \"d_projects\"\n",
    "            if data[5] not in d_projects:  # check if the project-number is already in d_projects. if so: \n",
    "                d_projects[data[5]] = 1 # create a new entry in d_projects: universities: project number\n",
    "            else:\n",
    "                d_projects[data[5]] += 1 # !! append the item to the value\n",
    "\n",
    "        else: # if the project number is not in institutes, print \"not found\" <- this should not happen in the end.\n",
    "            print(\"couldn't attribute project\", data[5], \"to university\")\n",
    "\n",
    "create_d_institutes(file_brut)            \n",
    "count_projects(file_brut)\n",
    "    \n",
    "    \n",
    "for key, value in d_projects.items():\n",
    "    print(key + \": \" + str(value))\n",
    "\n",
    "file_brut.close()"
   ]
  },
  {
   "cell_type": "code",
   "execution_count": 180,
   "metadata": {},
   "outputs": [
    {
     "name": "stdout",
     "output_type": "stream",
     "text": [
      "i work\n",
      "Universität Zürich project 1\n",
      "Université de Fribourg project 2\n",
      "Uni Basel project 3\n",
      "Ecole de Physique project 4\n",
      "EPFL project 5\n",
      "The La Jolla Institute project 6\n",
      "Stavanger University project 7\n",
      "Universitaires de Gèneve project 8\n",
      "University of Turku project 9\n",
      "Uni Basel project 10\n",
      "Moscow State University project 11\n",
      "Universität Bayreuth project 12\n",
      "Clinique de Genolier project 13\n",
      "i work still\n",
      "couldn't attribute project Person ID SNSF 5 to institute\n",
      "last line ok again\n"
     ]
    }
   ],
   "source": [
    "file_brut = open(\"P3 Testdatensatz hübsch.csv\", \"r\")\n",
    "\n",
    "d_institutes = {}\n",
    "d_projects = {}\n",
    "\n",
    "def create_d_institutes(file):\n",
    "    for line in file:\n",
    "        data = line.split(\",\")\n",
    "        # skip first line:\n",
    "        if data[3] == \"Institute Name 3\":\n",
    "            continue\n",
    "        # attribute project to institute:\n",
    "        if data[3] != \"\": # if institutes-cell is not empty\n",
    "            d_institutes[data[3]] = data[5] # create a dictionary {institute: project-number}\n",
    "            print(data[3], data[5])\n",
    "            \n",
    "def count_projects(file):\n",
    "    print(\"i work\")\n",
    "    for line in file:\n",
    "        data = line.split(\",\")\n",
    "        create_d_institutes(file_brut)   \n",
    "        print(\"i work still\")\n",
    "        # count person per project and add to institute\n",
    "        if data[5] in d_institutes.values(): # now check if the project number is in the dictionary \"institutes\". \n",
    "            print(\"data found\")                               # create a new dictionary \"d_projects\"\n",
    "            if data[5] not in d_projects:  # check if the project-number is already in d_projects. if so: \n",
    "                d_projects[data[5]] = 1 # create a new entry in d_projects: universities: project number\n",
    "            else:\n",
    "                d_projects[data[5]] += 1 # !! append the item to the value\n",
    "\n",
    "\n",
    "        else: # if the project number is not in institutes, print \"not found\" <- this should not happen in the end.\n",
    "            print(\"couldn't attribute project\", data[5], \"to institute\")\n",
    "    print(\"last line ok again\")\n",
    "         \n",
    "count_projects(file_brut)\n",
    "    \n",
    "    \n",
    "for key, value in d_projects.items():\n",
    "    print(key + \": \" + str(value))\n",
    "\n",
    "file_brut.close()"
   ]
  },
  {
   "cell_type": "code",
   "execution_count": 202,
   "metadata": {},
   "outputs": [
    {
     "name": "stdout",
     "output_type": "stream",
     "text": [
      "couldn't attribute project 1 to institute\n",
      "couldn't attribute project 2 to institute\n",
      "couldn't attribute project 3 to institute\n",
      "project 1: 1\n",
      "project 2: 1\n",
      "project 3: 1\n",
      "project 4: 2\n",
      "project 5: 2\n",
      "project 6: 3\n",
      "project 7: 2\n",
      "project 8: 2\n",
      "project 9: 4\n",
      "project 10: 3\n",
      "project 11: 2\n",
      "project 12: 3\n",
      "project 13: 1\n"
     ]
    }
   ],
   "source": [
    "# Projekt zuordnen ok, aber nicht für die ersten drei\n",
    "\n",
    "file = open(\"P3 Testdatensatz hübsch.csv\", \"r\")\n",
    "\n",
    "d_institutes = {}\n",
    "d_projects = {}\n",
    "\n",
    "\n",
    "for line in file:\n",
    "    data = line.split(\",\")\n",
    "    # skip first line:\n",
    "    if data[3] == \"Institute Name 3\":\n",
    "        continue\n",
    "    # attribute project to institute:\n",
    "    if data[3] != \"\": # if institutes-cell is not empty\n",
    "        d_institutes[data[3]] = data[5] # create a dictionary {institute: project-number}\n",
    "        #print(data[3], data[5])\n",
    "\n",
    "    # count person per project and add to institute\n",
    "    if data[5] in d_institutes.values(): # now check if the project number is in the dictionary \"institutes\". \n",
    "                             # create a new dictionary \"d_projects\"\n",
    "        if data[5] not in d_projects:  # check if the project-number is already in d_projects. if so: \n",
    "            d_projects[data[5]] = 1 # create a new entry in d_projects: universities: project number\n",
    "        else:\n",
    "            d_projects[data[5]] += 1 # !! append the item to the value\n",
    "\n",
    "\n",
    "            \n",
    "\n",
    "    else: # if the project number is not in institutes, print \"not found\" <- this should not happen in the end.\n",
    "        print(\"couldn't attribute\", data[5], \"to institute\")\n",
    "\n",
    "        \n",
    "for key, value in d_projects.items():\n",
    "    print(key + \":\", value)\n",
    "    \n",
    "#for key, value in d_projects.items():\n",
    "#    print(key + \": \" + str(value))\n",
    "    \n",
    "#for key, value in d_fusion.items():\n",
    "#    print(key + \": \" + str(value))\n",
    "\n",
    "file.close()"
   ]
  },
  {
   "cell_type": "code",
   "execution_count": null,
   "metadata": {},
   "outputs": [],
   "source": []
  }
 ],
 "metadata": {
  "kernelspec": {
   "display_name": "Python 3",
   "language": "python",
   "name": "python3"
  },
  "language_info": {
   "codemirror_mode": {
    "name": "ipython",
    "version": 3
   },
   "file_extension": ".py",
   "mimetype": "text/x-python",
   "name": "python",
   "nbconvert_exporter": "python",
   "pygments_lexer": "ipython3",
   "version": "3.7.3"
  }
 },
 "nbformat": 4,
 "nbformat_minor": 2
}
