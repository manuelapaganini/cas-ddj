{
 "cells": [
  {
   "cell_type": "markdown",
   "metadata": {},
   "source": [
    "# Dictionaries Worksheet"
   ]
  },
  {
   "cell_type": "markdown",
   "metadata": {},
   "source": [
    "Einen Dictionary erstellen"
   ]
  },
  {
   "cell_type": "code",
   "execution_count": 6,
   "metadata": {},
   "outputs": [
    {
     "name": "stdout",
     "output_type": "stream",
     "text": [
      "{'Zürich': 'ZRH', 'Bern': 'BER', 'Basel': 'BSL', 'Genf': 'GVA'}\n"
     ]
    }
   ],
   "source": [
    "flughaefen = {'Zürich': 'ZRH', 'Bern': 'BER', 'Basel': 'BSL', 'Genf': 'GVA'}\n",
    "\n",
    "print(flughaefen)"
   ]
  },
  {
   "cell_type": "code",
   "execution_count": 8,
   "metadata": {},
   "outputs": [
    {
     "name": "stdout",
     "output_type": "stream",
     "text": [
      "{'Zürich': 'ZRH', 'Bern': 'BER', 'Basel': 'BSL', 'Genf': 'GVA', 'Samaden': 'SAM', 'Dübendorf': 'DUB'}\n"
     ]
    }
   ],
   "source": [
    "flughaefen[\"Samaden\"] = \"SAM\"\n",
    "flughaefen[\"Dübendorf\"] = \"DUB\"\n",
    "\n",
    "print(flughaefen)"
   ]
  },
  {
   "cell_type": "markdown",
   "metadata": {},
   "source": [
    "Ein Elemment ansteuern:"
   ]
  },
  {
   "cell_type": "code",
   "execution_count": 16,
   "metadata": {},
   "outputs": [
    {
     "name": "stdout",
     "output_type": "stream",
     "text": [
      "ZRH\n",
      "ZRH\n",
      "None\n"
     ]
    }
   ],
   "source": [
    "print(flughaefen['Zürich'])\n",
    "# <- ist aber fehleranfällig: weil wenn der key nicht vorhanden ist, ist der Code kaputt.\n",
    "# sicherer:\n",
    "print(flughaefen.get('Zürich'))\n",
    "print(flughaefen.get('Chur'))"
   ]
  },
  {
   "cell_type": "markdown",
   "metadata": {},
   "source": [
    "Ein dictionary ist nicht sortiert. Dh man kann nicht das 1. Element oä ansteuern. Hat den Vorteil, dass der Computer den dictionary schnell ansteuern kann. "
   ]
  },
  {
   "cell_type": "markdown",
   "metadata": {},
   "source": [
    "Checken ob ein Element in Dict ist:"
   ]
  },
  {
   "cell_type": "code",
   "execution_count": 11,
   "metadata": {},
   "outputs": [
    {
     "name": "stdout",
     "output_type": "stream",
     "text": [
      "Dübendorf in tha house\n"
     ]
    }
   ],
   "source": [
    "if \"Dübendorf\" in flughaefen:\n",
    "    print(\"Dübendorf in tha house\")\n",
    "if \"Winterthur\" in flughaefen:\n",
    "    print(\"Dübendorf in tha house\")"
   ]
  },
  {
   "cell_type": "markdown",
   "metadata": {},
   "source": [
    "Dictionaries und Schlaufen"
   ]
  },
  {
   "cell_type": "code",
   "execution_count": 18,
   "metadata": {},
   "outputs": [
    {
     "name": "stdout",
     "output_type": "stream",
     "text": [
      "Zürich: ZRH\n",
      "Bern: BER\n",
      "Basel: BSL\n",
      "Genf: GVA\n",
      "Samaden: SAM\n",
      "Dübendorf: DUB\n"
     ]
    }
   ],
   "source": [
    "for key, value in flughaefen.items(): # <- .items ist wichtig.\n",
    "    print(key + \":\", value)"
   ]
  },
  {
   "cell_type": "markdown",
   "metadata": {},
   "source": [
    "Very nice Listen-Dict, den Pandas lesen kann:"
   ]
  },
  {
   "cell_type": "code",
   "execution_count": 2,
   "metadata": {},
   "outputs": [
    {
     "name": "stdout",
     "output_type": "stream",
     "text": [
      "[{'row1_key1': 'value1', 'row1_key2': 'value3'}, {'row2_key1': 'value4', 'row2_key2': 'value6'}]\n"
     ]
    }
   ],
   "source": [
    "dict_städte = [{\"row1_key1\":\"value1\", \"row1_key2\":\"value2\", \"row1_key2\":\"value3\"},\n",
    "               {\"row2_key1\":\"value4\", \"row2_key2\":\"value5\", \"row2_key2\":\"value6\"}]\n",
    "print(dict_städte)"
   ]
  },
  {
   "cell_type": "code",
   "execution_count": 3,
   "metadata": {},
   "outputs": [
    {
     "data": {
      "text/html": [
       "<div>\n",
       "<style scoped>\n",
       "    .dataframe tbody tr th:only-of-type {\n",
       "        vertical-align: middle;\n",
       "    }\n",
       "\n",
       "    .dataframe tbody tr th {\n",
       "        vertical-align: top;\n",
       "    }\n",
       "\n",
       "    .dataframe thead th {\n",
       "        text-align: right;\n",
       "    }\n",
       "</style>\n",
       "<table border=\"1\" class=\"dataframe\">\n",
       "  <thead>\n",
       "    <tr style=\"text-align: right;\">\n",
       "      <th></th>\n",
       "      <th>row1_key1</th>\n",
       "      <th>row1_key2</th>\n",
       "      <th>row2_key1</th>\n",
       "      <th>row2_key2</th>\n",
       "    </tr>\n",
       "  </thead>\n",
       "  <tbody>\n",
       "    <tr>\n",
       "      <th>0</th>\n",
       "      <td>value1</td>\n",
       "      <td>value3</td>\n",
       "      <td>NaN</td>\n",
       "      <td>NaN</td>\n",
       "    </tr>\n",
       "    <tr>\n",
       "      <th>1</th>\n",
       "      <td>NaN</td>\n",
       "      <td>NaN</td>\n",
       "      <td>value4</td>\n",
       "      <td>value6</td>\n",
       "    </tr>\n",
       "  </tbody>\n",
       "</table>\n",
       "</div>"
      ],
      "text/plain": [
       "  row1_key1 row1_key2 row2_key1 row2_key2\n",
       "0    value1    value3       NaN       NaN\n",
       "1       NaN       NaN    value4    value6"
      ]
     },
     "execution_count": 3,
     "metadata": {},
     "output_type": "execute_result"
    }
   ],
   "source": [
    "import pandas as pd\n",
    "pd.DataFrame(dict_städte)"
   ]
  },
  {
   "cell_type": "code",
   "execution_count": null,
   "metadata": {},
   "outputs": [],
   "source": []
  }
 ],
 "metadata": {
  "kernelspec": {
   "display_name": "Python 3",
   "language": "python",
   "name": "python3"
  },
  "language_info": {
   "codemirror_mode": {
    "name": "ipython",
    "version": 3
   },
   "file_extension": ".py",
   "mimetype": "text/x-python",
   "name": "python",
   "nbconvert_exporter": "python",
   "pygments_lexer": "ipython3",
   "version": "3.7.3"
  }
 },
 "nbformat": 4,
 "nbformat_minor": 2
}
