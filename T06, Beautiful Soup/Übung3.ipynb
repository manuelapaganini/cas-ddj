{
 "cells": [
  {
   "cell_type": "markdown",
   "metadata": {},
   "source": [
    "# Übung 3"
   ]
  },
  {
   "cell_type": "markdown",
   "metadata": {},
   "source": [
    "#### 1. Importiere requests, BeautifulSoup und Pandas"
   ]
  },
  {
   "cell_type": "code",
   "execution_count": 3,
   "metadata": {},
   "outputs": [],
   "source": [
    "import requests\n",
    "from bs4 import BeautifulSoup\n",
    "import pandas as pd\n",
    "import re\n"
   ]
  },
  {
   "cell_type": "markdown",
   "metadata": {},
   "source": [
    "#### 2. Lade den Inhalt des Parkhaus-RSS-Feeds in eine Variabel"
   ]
  },
  {
   "cell_type": "code",
   "execution_count": 4,
   "metadata": {},
   "outputs": [
    {
     "data": {
      "text/plain": [
       "<?xml version=\"1.0\" encoding=\"utf-8\"?>\n",
       "<rss version=\"2.0\" xmlns:dc=\"http://purl.org/dc/elements/1.1/\">\n",
       "<channel>\n",
       "<title>FEED Parkleitsystem Stadt Zürich</title>\n",
       "<link>http://www.plszh.ch/plsFeed/rss</link>\n",
       "<description>http://www.plszh.ch/plsFeed/rss?type=rss_0.92 | rss_0.93 | rss_0.94 | rss_1.0 | rss_2.0 (=default) | atom_0.3 | atom_1.0</description>\n",
       "<copyright>Nutzungsbedingungen entsprechen der Creative-Commons-Null-Lizenz (CC-0)</copyright>\n",
       "<dc:rights>Nutzungsbedingungen entsprechen der Creative-Commons-Null-Lizenz (CC-0)</dc:rights>\n",
       "<item>\n",
       "<title>Parkgarage am Central / Seilergraben</title>\n",
       "<link>http://www.plszh.ch/plsNeu/parkhaus/central.jsp?pid=central</link>\n",
       "<description>open /    6</description>\n",
       "<guid>http://www.plszh.ch/plsNeu/parkhaus/central.jsp?pid=central</guid>\n",
       "</item>\n",
       "<item>\n",
       "<title>Parkhaus Accu / Otto-Schütz-Weg</title>\n",
       "<link>http://www.plszh.ch/plsNeu/parkhaus/accu.jsp?pid=accu</link>\n",
       "<description>open /  135</description>\n",
       "<guid>http://www.plszh.ch/plsNeu/parkhaus/accu.jsp?pid=accu</guid>\n",
       "</item>\n",
       "<item>\n",
       "<title>Parkhaus Albisriederplatz / Badenerstrasse 380</title>\n",
       "<link>http://www.plszh.ch/plsNeu/parkhaus/albisriederplatz.jsp?pid=albisriederplatz</link>\n",
       "<description>open /   59</description>\n",
       "<guid>http://www.plszh.ch/plsNeu/parkhaus/albisriederplatz.jsp?pid=albisriederplatz</guid>\n",
       "</item>\n",
       "<item>\n",
       "<title>Parkhaus Bleicherweg / Beethovenstrasse 35</title>\n",
       "<link>http://www.plszh.ch/plsNeu/parkhaus/bleicherweg.jsp?pid=bleicherweg</link>\n",
       "<description>open /   21</description>\n",
       "<guid>http://www.plszh.ch/plsNeu/parkhaus/bleicherweg.jsp?pid=bleicherweg</guid>\n",
       "</item>\n",
       "<item>\n",
       "<title>Parkhaus Center Eleven / Sophie-Täuber-Strasse 4</title>\n",
       "<link>http://www.plszh.ch/plsNeu/parkhaus/center_11.jsp?pid=center_11</link>\n",
       "<description>open /  184</description>\n",
       "<guid>http://www.plszh.ch/plsNeu/parkhaus/center_11.jsp?pid=center_11</guid>\n",
       "</item>\n",
       "<item>\n",
       "<title>Parkhaus City Parking / Gessnerallee 14</title>\n",
       "<link>http://www.plszh.ch/plsNeu/parkhaus/cp.jsp?pid=cp</link>\n",
       "<description>open /  161</description>\n",
       "<guid>http://www.plszh.ch/plsNeu/parkhaus/cp.jsp?pid=cp</guid>\n",
       "</item>\n",
       "<item>\n",
       "<title>Parkhaus Cityport / Affolternstrasse 56</title>\n",
       "<link>http://www.plszh.ch/plsNeu/parkhaus/cityport.jsp?pid=cityport</link>\n",
       "<description>open /   60</description>\n",
       "<guid>http://www.plszh.ch/plsNeu/parkhaus/cityport.jsp?pid=cityport</guid>\n",
       "</item>\n",
       "<item>\n",
       "<title>Parkhaus Crowne Plaza / Badenerstrasse 420</title>\n",
       "<link>http://www.plszh.ch/plsNeu/parkhaus/crowne_plaza.jsp?pid=crowne_plaza</link>\n",
       "<description>open /  161</description>\n",
       "<guid>http://www.plszh.ch/plsNeu/parkhaus/crowne_plaza.jsp?pid=crowne_plaza</guid>\n",
       "</item>\n",
       "<item>\n",
       "<title>Parkhaus Dorflinde / Schwamendingenstrasse 31</title>\n",
       "<link>http://www.plszh.ch/plsNeu/parkhaus/dorflinde.jsp?pid=dorflinde</link>\n",
       "<description>open /   34</description>\n",
       "<guid>http://www.plszh.ch/plsNeu/parkhaus/dorflinde.jsp?pid=dorflinde</guid>\n",
       "</item>\n",
       "<item>\n",
       "<title>Parkhaus Feldegg / Riesbachstrasse 7</title>\n",
       "<link>http://www.plszh.ch/plsNeu/parkhaus/feldegg.jsp?pid=feldegg</link>\n",
       "<description>open /   78</description>\n",
       "<guid>http://www.plszh.ch/plsNeu/parkhaus/feldegg.jsp?pid=feldegg</guid>\n",
       "</item>\n",
       "<item>\n",
       "<title>Parkhaus Globus / Löwenstrasse 50</title>\n",
       "<link>http://www.plszh.ch/plsNeu/parkhaus/globus.jsp?pid=globus</link>\n",
       "<description>open /   55</description>\n",
       "<guid>http://www.plszh.ch/plsNeu/parkhaus/globus.jsp?pid=globus</guid>\n",
       "</item>\n",
       "<item>\n",
       "<title>Parkhaus Hardau II / Bullingerstrasse 73</title>\n",
       "<link>http://www.plszh.ch/plsNeu/parkhaus/hardau.jsp?pid=hardau</link>\n",
       "<description>open /  100</description>\n",
       "<guid>http://www.plszh.ch/plsNeu/parkhaus/hardau.jsp?pid=hardau</guid>\n",
       "</item>\n",
       "<item>\n",
       "<title>Parkhaus Hauptbahnhof / Sihlquai 41</title>\n",
       "<link>http://www.plszh.ch/plsNeu/parkhaus/hb.jsp?pid=hb</link>\n",
       "<description>open /  100</description>\n",
       "<guid>http://www.plszh.ch/plsNeu/parkhaus/hb.jsp?pid=hb</guid>\n",
       "</item>\n",
       "<item>\n",
       "<title>Parkhaus Hohe Promenade / Rämistrasse 22a</title>\n",
       "<link>http://www.plszh.ch/plsNeu/parkhaus/promenade.jsp?pid=promenade</link>\n",
       "<description>open /  349</description>\n",
       "<guid>http://www.plszh.ch/plsNeu/parkhaus/promenade.jsp?pid=promenade</guid>\n",
       "</item>\n",
       "<item>\n",
       "<title>Parkhaus Jelmoli / Steinmühleplatz 1</title>\n",
       "<link>http://www.plszh.ch/plsNeu/parkhaus/jelmoli.jsp?pid=jelmoli</link>\n",
       "<description>open /   49</description>\n",
       "<guid>http://www.plszh.ch/plsNeu/parkhaus/jelmoli.jsp?pid=jelmoli</guid>\n",
       "</item>\n",
       "<item>\n",
       "<title>Parkhaus Jungholz / Jungholzstrasse 19</title>\n",
       "<link>http://www.plszh.ch/plsNeu/parkhaus/jungholz.jsp?pid=jungholz</link>\n",
       "<description>open /  101</description>\n",
       "<guid>http://www.plszh.ch/plsNeu/parkhaus/jungholz.jsp?pid=jungholz</guid>\n",
       "</item>\n",
       "<item>\n",
       "<title>Parkhaus Max-Bill-Platz / Armin-Bollinger-Weg</title>\n",
       "<link>http://www.plszh.ch/plsNeu/parkhaus/max_bill_platz.jsp?pid=max_bill_platz</link>\n",
       "<description>open /   77</description>\n",
       "<guid>http://www.plszh.ch/plsNeu/parkhaus/max_bill_platz.jsp?pid=max_bill_platz</guid>\n",
       "</item>\n",
       "<item>\n",
       "<title>Parkhaus Messe Zürich AG / Andreasstrasse 65</title>\n",
       "<link>http://www.plszh.ch/plsNeu/parkhaus/messe.jsp?pid=messe</link>\n",
       "<description>open /  999</description>\n",
       "<guid>http://www.plszh.ch/plsNeu/parkhaus/messe.jsp?pid=messe</guid>\n",
       "</item>\n",
       "<item>\n",
       "<title>Parkhaus Nordhaus / Siewerdtstrasse 8</title>\n",
       "<link>http://www.plszh.ch/plsNeu/parkhaus/nordhaus.jsp?pid=nordhaus</link>\n",
       "<description>open /   87</description>\n",
       "<guid>http://www.plszh.ch/plsNeu/parkhaus/nordhaus.jsp?pid=nordhaus</guid>\n",
       "</item>\n",
       "<item>\n",
       "<title>Parkhaus Octavo / Brown-Boveri-Strasse 2</title>\n",
       "<link>http://www.plszh.ch/plsNeu/parkhaus/octavo.jsp?pid=octavo</link>\n",
       "<description>open /  111</description>\n",
       "<guid>http://www.plszh.ch/plsNeu/parkhaus/octavo.jsp?pid=octavo</guid>\n",
       "</item>\n",
       "<item>\n",
       "<title>Parkhaus Opéra / Schillerstrasse 5</title>\n",
       "<link>http://www.plszh.ch/plsNeu/parkhaus/opera.jsp?pid=opera</link>\n",
       "<description>open /  124</description>\n",
       "<guid>http://www.plszh.ch/plsNeu/parkhaus/opera.jsp?pid=opera</guid>\n",
       "</item>\n",
       "<item>\n",
       "<title>Parkhaus P West / Förrlibuckstrasse 151</title>\n",
       "<link>http://www.plszh.ch/plsNeu/parkhaus/p_west.jsp?pid=p_west</link>\n",
       "<description>open /  291</description>\n",
       "<guid>http://www.plszh.ch/plsNeu/parkhaus/p_west.jsp?pid=p_west</guid>\n",
       "</item>\n",
       "<item>\n",
       "<title>Parkhaus Park Hyatt / Beethovenstrasse 21</title>\n",
       "<link>http://www.plszh.ch/plsNeu/parkhaus/park_hyatt.jsp?pid=park_hyatt</link>\n",
       "<description>open /  137</description>\n",
       "<guid>http://www.plszh.ch/plsNeu/parkhaus/park_hyatt.jsp?pid=park_hyatt</guid>\n",
       "</item>\n",
       "<item>\n",
       "<title>Parkhaus Parkside / Sophie-Täuber-Strasse 10</title>\n",
       "<link>http://www.plszh.ch/plsNeu/parkhaus/parkside.jsp?pid=parkside</link>\n",
       "<description>open /    3</description>\n",
       "<guid>http://www.plszh.ch/plsNeu/parkhaus/parkside.jsp?pid=parkside</guid>\n",
       "</item>\n",
       "<item>\n",
       "<title>Parkhaus Pfingstweid / Pfingstweidstrasse 1</title>\n",
       "<link>http://www.plszh.ch/plsNeu/parkhaus/pfingstweid.jsp?pid=pfingstweid</link>\n",
       "<description>open /  128</description>\n",
       "<guid>http://www.plszh.ch/plsNeu/parkhaus/pfingstweid.jsp?pid=pfingstweid</guid>\n",
       "</item>\n",
       "<item>\n",
       "<title>Parkhaus Stampfenbach / Niklausstrasse 1</title>\n",
       "<link>http://www.plszh.ch/plsNeu/parkhaus/stampfenbach.jsp?pid=stampfenbach</link>\n",
       "<description>open /  124</description>\n",
       "<guid>http://www.plszh.ch/plsNeu/parkhaus/stampfenbach.jsp?pid=stampfenbach</guid>\n",
       "</item>\n",
       "<item>\n",
       "<title>Parkhaus Talgarten / Nüschelerstrasse 31</title>\n",
       "<link>http://www.plszh.ch/plsNeu/parkhaus/talgarten.jsp?pid=talgarten</link>\n",
       "<description>open /   29</description>\n",
       "<guid>http://www.plszh.ch/plsNeu/parkhaus/talgarten.jsp?pid=talgarten</guid>\n",
       "</item>\n",
       "<item>\n",
       "<title>Parkhaus USZ Nord / Frauenklinikstrasse</title>\n",
       "<link>http://www.plszh.ch/plsNeu/parkhaus/unispital_nord.jsp?pid=unispital_nord</link>\n",
       "<description>open /   73</description>\n",
       "<guid>http://www.plszh.ch/plsNeu/parkhaus/unispital_nord.jsp?pid=unispital_nord</guid>\n",
       "</item>\n",
       "<item>\n",
       "<title>Parkhaus Uni Irchel / Winterthurerstrasse 181</title>\n",
       "<link>http://www.plszh.ch/plsNeu/parkhaus/uni_irchel.jsp?pid=uni_irchel</link>\n",
       "<description>open /  601</description>\n",
       "<guid>http://www.plszh.ch/plsNeu/parkhaus/uni_irchel.jsp?pid=uni_irchel</guid>\n",
       "</item>\n",
       "<item>\n",
       "<title>Parkhaus Urania / Uraniastrasse 3</title>\n",
       "<link>http://www.plszh.ch/plsNeu/parkhaus/urania.jsp?pid=urania</link>\n",
       "<description>open /  216</description>\n",
       "<guid>http://www.plszh.ch/plsNeu/parkhaus/urania.jsp?pid=urania</guid>\n",
       "</item>\n",
       "<item>\n",
       "<title>Parkhaus Utoquai / Färberstrasse 6</title>\n",
       "<link>http://www.plszh.ch/plsNeu/parkhaus/utoquai.jsp?pid=utoquai</link>\n",
       "<description>open /   44</description>\n",
       "<guid>http://www.plszh.ch/plsNeu/parkhaus/utoquai.jsp?pid=utoquai</guid>\n",
       "</item>\n",
       "<item>\n",
       "<title>Parkhaus Züri 11 Shopping / Nansenstrasse 5/7</title>\n",
       "<link>http://www.plszh.ch/plsNeu/parkhaus/zueri11.jsp?pid=zueri11</link>\n",
       "<description>open /   32</description>\n",
       "<guid>http://www.plszh.ch/plsNeu/parkhaus/zueri11.jsp?pid=zueri11</guid>\n",
       "</item>\n",
       "<item>\n",
       "<title>Parkhaus Zürichhorn / Dufourstrasse 142</title>\n",
       "<link>http://www.plszh.ch/plsNeu/parkhaus/zuerichhorn.jsp?pid=zuerichhorn</link>\n",
       "<description>open /   44</description>\n",
       "<guid>http://www.plszh.ch/plsNeu/parkhaus/zuerichhorn.jsp?pid=zuerichhorn</guid>\n",
       "</item>\n",
       "<item>\n",
       "<title>Parkplatz Eisfeld / Thurgauerstrasse 54</title>\n",
       "<link>http://www.plszh.ch/plsNeu/parkhaus/eisfeld.jsp?pid=eisfeld</link>\n",
       "<description>open /  111</description>\n",
       "<guid>http://www.plszh.ch/plsNeu/parkhaus/eisfeld.jsp?pid=eisfeld</guid>\n",
       "</item>\n",
       "<item>\n",
       "<title>Parkplatz Theater 11 / Dörfli-/Thurgauerstrasse</title>\n",
       "<link>http://www.plszh.ch/plsNeu/parkhaus/theater_11.jsp?pid=theater_11</link>\n",
       "<description>open /  137</description>\n",
       "<guid>http://www.plszh.ch/plsNeu/parkhaus/theater_11.jsp?pid=theater_11</guid>\n",
       "</item>\n",
       "<item>\n",
       "<title>Parkplatz USZ Süd / Gloriastrasse</title>\n",
       "<link>http://www.plszh.ch/plsNeu/parkhaus/unispital_sued.jsp?pid=unispital_sued</link>\n",
       "<description>open /   37</description>\n",
       "<guid>http://www.plszh.ch/plsNeu/parkhaus/unispital_sued.jsp?pid=unispital_sued</guid>\n",
       "</item>\n",
       "<item>\n",
       "<title>Puls 5 Parkgarage / Giessereistrasse 18</title>\n",
       "<link>http://www.plszh.ch/plsNeu/parkhaus/puls5.jsp?pid=puls5</link>\n",
       "<description>open /   28</description>\n",
       "<guid>http://www.plszh.ch/plsNeu/parkhaus/puls5.jsp?pid=puls5</guid>\n",
       "</item>\n",
       "</channel>\n",
       "</rss>"
      ]
     },
     "execution_count": 4,
     "metadata": {},
     "output_type": "execute_result"
    }
   ],
   "source": [
    "\n",
    "r = requests.get('http://www.plszh.ch/plsFeed/rss')\n",
    "contents = r.text\n",
    "soup = BeautifulSoup(contents, 'xml')\n",
    "soup"
   ]
  },
  {
   "cell_type": "markdown",
   "metadata": {},
   "source": [
    "#### 3. Ziehen wir alle Daten heraus und machen daraus eine Liste"
   ]
  },
  {
   "cell_type": "code",
   "execution_count": 12,
   "metadata": {},
   "outputs": [],
   "source": [
    "title_var = soup.find_all('title')\n",
    "\n",
    "title_lst = []\n",
    "\n",
    "#for element in garage:\n",
    "#    mini_dict = {'Parkgarage':element.text}\n",
    "#    title_lst.append(mini_dict)\n",
    "\n",
    "#pd.DataFrame(title_lst)"
   ]
  },
  {
   "cell_type": "markdown",
   "metadata": {},
   "source": [
    "#### 4. Ziehen wir alle Links heraus und machen daraus eine Liste"
   ]
  },
  {
   "cell_type": "code",
   "execution_count": 13,
   "metadata": {},
   "outputs": [],
   "source": [
    "link_var = soup.find_all('link')\n",
    "\n",
    "#link_lst = []\n",
    "\n",
    "#for element in link_var:\n",
    "#    mini_dict = {'Link_Garage':element.text}\n",
    "#    link_lst.append(mini_dict)\n",
    "\n",
    "#pd.DataFrame(link_lst)"
   ]
  },
  {
   "cell_type": "markdown",
   "metadata": {},
   "source": [
    "#### 7. Dazwischen bauen wir noch die Anzahl freie Plätze"
   ]
  },
  {
   "cell_type": "code",
   "execution_count": 14,
   "metadata": {},
   "outputs": [],
   "source": [
    "plätze_var = soup.find_all('description')"
   ]
  },
  {
   "cell_type": "markdown",
   "metadata": {},
   "source": [
    "#### 5. Nun bauen wir eine Dictionary aus den beiden Listen mit dem ersten Key \"Datum\" und zweiten Key \"URL\"."
   ]
  },
  {
   "cell_type": "code",
   "execution_count": 36,
   "metadata": {},
   "outputs": [],
   "source": [
    "pandas_liste = []\n",
    "\n",
    "for name, url, places in zip(title_var, link_var, plätze_var):\n",
    "    mini_dict = {\"Titel\":name.text,\n",
    "                 \"Link\":url.text,\n",
    "                \"Plätze\":int(re.findall(\"[0-9]+\", places.text)[0])}\n",
    "    pandas_liste.append(mini_dict)\n",
    "\n",
    "#Vorlage:\n",
    "#    a = pandas_liste\n",
    "#int(re.findall(\"[0-9]+\", places.text)[0])\n"
   ]
  },
  {
   "cell_type": "markdown",
   "metadata": {},
   "source": [
    "#### 6. Schliesslich machen wir daraus einen DataFrame (eine für uns Menschen lesbare Tabelle) und speichern das Ergebnis ab."
   ]
  },
  {
   "cell_type": "code",
   "execution_count": 37,
   "metadata": {},
   "outputs": [
    {
     "data": {
      "text/html": [
       "<div>\n",
       "<style scoped>\n",
       "    .dataframe tbody tr th:only-of-type {\n",
       "        vertical-align: middle;\n",
       "    }\n",
       "\n",
       "    .dataframe tbody tr th {\n",
       "        vertical-align: top;\n",
       "    }\n",
       "\n",
       "    .dataframe thead th {\n",
       "        text-align: right;\n",
       "    }\n",
       "</style>\n",
       "<table border=\"1\" class=\"dataframe\">\n",
       "  <thead>\n",
       "    <tr style=\"text-align: right;\">\n",
       "      <th></th>\n",
       "      <th>Link</th>\n",
       "      <th>Plätze</th>\n",
       "      <th>Titel</th>\n",
       "    </tr>\n",
       "  </thead>\n",
       "  <tbody>\n",
       "    <tr>\n",
       "      <th>0</th>\n",
       "      <td>http://www.plszh.ch/plsFeed/rss</td>\n",
       "      <td>0</td>\n",
       "      <td>FEED Parkleitsystem Stadt Zürich</td>\n",
       "    </tr>\n",
       "    <tr>\n",
       "      <th>1</th>\n",
       "      <td>http://www.plszh.ch/plsNeu/parkhaus/central.js...</td>\n",
       "      <td>6</td>\n",
       "      <td>Parkgarage am Central / Seilergraben</td>\n",
       "    </tr>\n",
       "    <tr>\n",
       "      <th>2</th>\n",
       "      <td>http://www.plszh.ch/plsNeu/parkhaus/accu.jsp?p...</td>\n",
       "      <td>135</td>\n",
       "      <td>Parkhaus Accu / Otto-Schütz-Weg</td>\n",
       "    </tr>\n",
       "    <tr>\n",
       "      <th>3</th>\n",
       "      <td>http://www.plszh.ch/plsNeu/parkhaus/albisriede...</td>\n",
       "      <td>59</td>\n",
       "      <td>Parkhaus Albisriederplatz / Badenerstrasse 380</td>\n",
       "    </tr>\n",
       "    <tr>\n",
       "      <th>4</th>\n",
       "      <td>http://www.plszh.ch/plsNeu/parkhaus/bleicherwe...</td>\n",
       "      <td>21</td>\n",
       "      <td>Parkhaus Bleicherweg / Beethovenstrasse 35</td>\n",
       "    </tr>\n",
       "  </tbody>\n",
       "</table>\n",
       "</div>"
      ],
      "text/plain": [
       "                                                Link  Plätze  \\\n",
       "0                    http://www.plszh.ch/plsFeed/rss       0   \n",
       "1  http://www.plszh.ch/plsNeu/parkhaus/central.js...       6   \n",
       "2  http://www.plszh.ch/plsNeu/parkhaus/accu.jsp?p...     135   \n",
       "3  http://www.plszh.ch/plsNeu/parkhaus/albisriede...      59   \n",
       "4  http://www.plszh.ch/plsNeu/parkhaus/bleicherwe...      21   \n",
       "\n",
       "                                            Titel  \n",
       "0                FEED Parkleitsystem Stadt Zürich  \n",
       "1            Parkgarage am Central / Seilergraben  \n",
       "2                 Parkhaus Accu / Otto-Schütz-Weg  \n",
       "3  Parkhaus Albisriederplatz / Badenerstrasse 380  \n",
       "4      Parkhaus Bleicherweg / Beethovenstrasse 35  "
      ]
     },
     "execution_count": 37,
     "metadata": {},
     "output_type": "execute_result"
    }
   ],
   "source": [
    "pd.DataFrame(pandas_liste).head()"
   ]
  },
  {
   "cell_type": "code",
   "execution_count": 39,
   "metadata": {},
   "outputs": [
    {
     "ename": "TypeError",
     "evalue": "'dict' object is not callable",
     "output_type": "error",
     "traceback": [
      "\u001b[0;31m---------------------------------------------------------------------------\u001b[0m",
      "\u001b[0;31mTypeError\u001b[0m                                 Traceback (most recent call last)",
      "\u001b[0;32m<ipython-input-39-318166790015>\u001b[0m in \u001b[0;36m<module>\u001b[0;34m\u001b[0m\n\u001b[1;32m      2\u001b[0m \u001b[0;34m\u001b[0m\u001b[0m\n\u001b[1;32m      3\u001b[0m \u001b[0;32mfor\u001b[0m \u001b[0mplaces\u001b[0m \u001b[0;32min\u001b[0m \u001b[0mpandas_liste\u001b[0m\u001b[0;34m:\u001b[0m\u001b[0;34m\u001b[0m\u001b[0;34m\u001b[0m\u001b[0m\n\u001b[0;32m----> 4\u001b[0;31m     \u001b[0msum_places\u001b[0m \u001b[0;34m+=\u001b[0m \u001b[0mplaces\u001b[0m\u001b[0;34m(\u001b[0m\u001b[0;34m\"Plätze\"\u001b[0m\u001b[0;34m)\u001b[0m\u001b[0;34m\u001b[0m\u001b[0;34m\u001b[0m\u001b[0m\n\u001b[0m\u001b[1;32m      5\u001b[0m \u001b[0;34m\u001b[0m\u001b[0m\n",
      "\u001b[0;31mTypeError\u001b[0m: 'dict' object is not callable"
     ]
    }
   ],
   "source": [
    "sum_places = 0\n",
    "\n",
    "for places in pandas_liste:\n",
    "    sum_places += places(\"Plätze\")\n",
    "\n",
    "# <- keine Ahnung."
   ]
  },
  {
   "cell_type": "code",
   "execution_count": 13,
   "metadata": {},
   "outputs": [
    {
     "data": {
      "text/plain": [
       "18"
      ]
     },
     "execution_count": 13,
     "metadata": {},
     "output_type": "execute_result"
    }
   ],
   "source": [
    "# Möglichkeiten, nur die Zahl zu printen:\n",
    "a = \"<description>open /    17\"\n",
    "int(a.split(\"/\")[1])\n",
    "a = \"<description>open /    18\"\n",
    "int(re.findall(\"[0-9]+\", a)[0])"
   ]
  }
 ],
 "metadata": {
  "kernelspec": {
   "display_name": "Python 3",
   "language": "python",
   "name": "python3"
  }
 },
 "nbformat": 4,
 "nbformat_minor": 2
}
