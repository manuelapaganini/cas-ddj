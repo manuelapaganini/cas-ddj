{
 "cells": [
  {
   "cell_type": "markdown",
   "metadata": {},
   "source": [
    "# Daten umwandeln - Strings und Zahlen\n",
    "Daten umzuwandeln ist wahrscheinlich, das was du am meisten machen wirst. Deshalb ist es praktisch es schon jetzt kennen zu lernen. "
   ]
  },
  {
   "cell_type": "markdown",
   "metadata": {},
   "source": [
    "### Einen String in eine Zahl umwandeln\n",
    "Dazu wenden wir den **int()**-Befehl auf einen String (direkt oder in einer Variable gespeichert) an: **int(string)**\n",
    "\n",
    "int steht für Integer, den englischen Begriff für Ganzzahl."
   ]
  },
  {
   "cell_type": "code",
   "execution_count": 1,
   "metadata": {},
   "outputs": [
    {
     "name": "stdout",
     "output_type": "stream",
     "text": [
      "11\n"
     ]
    }
   ],
   "source": [
    "a = \"5\"\n",
    "b = \"6\"\n",
    "\n",
    "print(int(a) + int(b))"
   ]
  },
  {
   "cell_type": "markdown",
   "metadata": {},
   "source": [
    "### Einen String in eine Kommazahl umwandeln\n",
    "Dazu wenden wir den **float()**-Befehl auf einen String (direkt oder in einer Variable gespeichert) an: **float(string)** \n",
    " \n",
    " \n",
    "Der Name float kommt daher, dass man Kommazahlen auch Fließkommazahlen nennt."
   ]
  },
  {
   "cell_type": "code",
   "execution_count": 2,
   "metadata": {},
   "outputs": [
    {
     "name": "stdout",
     "output_type": "stream",
     "text": [
      "12.1\n"
     ]
    }
   ],
   "source": [
    "a = \"5.5\"\n",
    "b = \"6.6\"\n",
    "\n",
    "print(float(a) + float(b))"
   ]
  },
  {
   "cell_type": "markdown",
   "metadata": {},
   "source": [
    "### Eine Zahl in einen String umwandeln\n",
    "Dazu wenden wir den **str()**-Befehl auf eine Ganzzahl oder Kommazahl an (direkt oder in einer Variable gespeichert): **str(zahl)**"
   ]
  },
  {
   "cell_type": "code",
   "execution_count": 3,
   "metadata": {},
   "outputs": [
    {
     "name": "stdout",
     "output_type": "stream",
     "text": [
      "Ich bin 21 Jahre alt\n"
     ]
    }
   ],
   "source": [
    "age = 21\n",
    "print(\"Ich bin \" + str(age) + \" Jahre alt\")"
   ]
  },
  {
   "cell_type": "markdown",
   "metadata": {},
   "source": [
    "## Übung\n",
    "\n",
    "- Speichere  die Zahl PI mit 4 Nachkommastellen in der Variable a. \n",
    "- Multipliziere sie mit 2. \n",
    "- Wandle die Zahl in einen String um und gebe sie aus als Satz: \"Das doppelter der Zahl Pi ist: a\"\n",
    "\n"
   ]
  },
  {
   "cell_type": "code",
   "execution_count": 4,
   "metadata": {},
   "outputs": [
    {
     "name": "stdout",
     "output_type": "stream",
     "text": [
      "Das doppelter der Zahl Pi ist: 6.283\n"
     ]
    }
   ],
   "source": [
    "a = 3.1415\n",
    "a = a*2\n",
    "a = str(a)\n",
    "print(\"Das doppelter der Zahl Pi ist:\", a)"
   ]
  },
  {
   "cell_type": "markdown",
   "metadata": {},
   "source": [
    "# Daten umwandeln - Listen und Strings\n",
    "Wir können mit Python Elemente zu einer Liste zusammenfügen oder eine Liste in einzelne Elemente zerlegen."
   ]
  },
  {
   "cell_type": "markdown",
   "metadata": {},
   "source": [
    "### Strings aus einer Liste zu einem String zusammenfügen\n",
    "\n",
    "Mit dem  **join()**-Befehl, der auf einen String angewendet wird, verbinden wir die Strings aus einer Liste zu einem neuen String: **string.join(liste)**\n",
    "\n",
    "Der String, auf den join() angewendet wird, bildet dabei die Nahtstelle: Dieser String wird als Verbindung zwischen den einzelnen Listenelementen im neuen String gesetzt."
   ]
  },
  {
   "cell_type": "code",
   "execution_count": 5,
   "metadata": {
    "scrolled": true
   },
   "outputs": [
    {
     "name": "stdout",
     "output_type": "stream",
     "text": [
      "Max, Monika, Erik, Franziska\n"
     ]
    }
   ],
   "source": [
    "students = [\"Max\", \"Monika\", \"Erik\", \"Franziska\"]\n",
    "print(\", \".join(students))"
   ]
  },
  {
   "cell_type": "code",
   "execution_count": 6,
   "metadata": {},
   "outputs": [
    {
     "name": "stdout",
     "output_type": "stream",
     "text": [
      "An unserer Uni studieren: Max, Monika, Erik, Franziska\n"
     ]
    }
   ],
   "source": [
    "students_as_string = \", \".join(students)\n",
    "print(\"An unserer Uni studieren: \" + students_as_string)"
   ]
  },
  {
   "cell_type": "code",
   "execution_count": 7,
   "metadata": {},
   "outputs": [
    {
     "name": "stdout",
     "output_type": "stream",
     "text": [
      "Max - Monika - Erik - Franziska\n"
     ]
    }
   ],
   "source": [
    "students = [\"Max\", \"Monika\", \"Erik\", \"Franziska\"]\n",
    "print(\" - \".join(students))"
   ]
  },
  {
   "cell_type": "markdown",
   "metadata": {},
   "source": [
    "### Einen String in eine Liste aufspalten\n",
    "\n",
    "Mit dem **split()**-Befehl, der auf einen String angewendet wird, wird dieser String an seinen Leerzeichen aufgespalten und die daraus resultierenden Einzelstrings in einer Liste gespeichert: **string.split()**"
   ]
  },
  {
   "cell_type": "code",
   "execution_count": 9,
   "metadata": {},
   "outputs": [],
   "source": [
    "i = \"Max, Monika, Erik, Franziska\""
   ]
  },
  {
   "cell_type": "code",
   "execution_count": 10,
   "metadata": {
    "scrolled": true
   },
   "outputs": [
    {
     "name": "stdout",
     "output_type": "stream",
     "text": [
      "['Max,', 'Monika,', 'Erik,', 'Franziska']\n"
     ]
    }
   ],
   "source": [
    "print(i.split())"
   ]
  },
  {
   "cell_type": "markdown",
   "metadata": {},
   "source": [
    "Wir können sogar noch genauer festlegen, an welchen Stellen der String von split() aufgespaltet werden soll."
   ]
  },
  {
   "cell_type": "code",
   "execution_count": 11,
   "metadata": {
    "scrolled": true
   },
   "outputs": [
    {
     "name": "stdout",
     "output_type": "stream",
     "text": [
      "['Max', 'Monika', 'Erik', 'Franziska']\n"
     ]
    }
   ],
   "source": [
    "print(i.split(\", \"))"
   ]
  },
  {
   "cell_type": "code",
   "execution_count": 12,
   "metadata": {},
   "outputs": [
    {
     "name": "stdout",
     "output_type": "stream",
     "text": [
      "['M', 'x, Monik', ', Erik, Fr', 'nzisk', '']\n"
     ]
    }
   ],
   "source": [
    "print(i.split(\"a\"))"
   ]
  },
  {
   "cell_type": "markdown",
   "metadata": {},
   "source": [
    "Insbesondere können wir auch mehrere der Befehle, die wir schon kennen gelernt haben, miteinander kombinieren:"
   ]
  },
  {
   "cell_type": "code",
   "execution_count": 13,
   "metadata": {},
   "outputs": [
    {
     "name": "stdout",
     "output_type": "stream",
     "text": [
      "7\n"
     ]
    }
   ],
   "source": [
    "# Hier zählen wir die Anzahl der Wörter des Satzes s\n",
    "\n",
    "s = \"Ich bin ein Satz mit vielen Wörtern\"\n",
    "print(len(s.split()))"
   ]
  },
  {
   "cell_type": "markdown",
   "metadata": {},
   "source": [
    "## Übung 1\n",
    "- Nimm einen Artikel aus 20 minuten. \n",
    "- Kopiere ihn in einen String. \n",
    "- Zerlege den Artikel in Wörter. \n",
    "- Zähle die Wörter. \n",
    "- Gib aus \" Der Artikel xyz enthält x wörter\" "
   ]
  },
  {
   "cell_type": "code",
   "execution_count": 20,
   "metadata": {},
   "outputs": [
    {
     "name": "stdout",
     "output_type": "stream",
     "text": [
      "Der Artikel \"Hat Johnson die Queen belogen?\" hat  850  Wörter.\n"
     ]
    }
   ],
   "source": [
    "artikel = \"\"\"Hat Johnson die Queen belogen? Darüber entscheidet das Gericht. Bild: EPA\n",
    "Das Vereinigte Königreich schaut momentan auf den «UK Supreme Court», das höchste Gericht des Landes. Und dies darf wörtlich verstanden werden. Denn: Jede Gerichtsverhandlung vor dem Obergericht wird per Livestream übertragen. Beschauliche 20'000 Menschen klicken so im Normalfall jeden Monat in die Live-Übertragungen rein. Am Dienstagmorgen jedoch waren es 4.8 Millionen Aufrufe.\n",
    "Der Grund: Während rund drei Tagen findet vor dem Supreme Court die Anhörung zu Premierminister Boris Johnsons Zwangsauflösung des Parlaments statt. Es geht darum, ob die Beurlaubung legal oder verfassungswidrig war. Es geht darum, ob Johnson die Queen belogen hat. Und es geht ganz grundsätzlich darum, wie es nun weiter geht. Die Zeitung The Guardian meint, «es geht um alles». Und für die BBC ist es die wichtigste Gerichtsverhandlung in der Geschichte des Landes.\n",
    "Die Gerichtsverhandlung im Livestream\n",
    "\n",
    "Wollen Sie ebenfalls einmal in die Gerichtsverhandlung am UK Supreme Court reinschauen? Das Gericht überträgt die Verhandlung hier.\n",
    "Hier sind fünf Dinge, die Sie zur «Gerichtsverhandlung des Jahrhunderts» wissen müssen:\n",
    "Um was geht es genau?\n",
    "Boris Johnson verhängte dem britischen Parlament eine fünfwöchige Zwangspause. Begründung der Regierung: Man wolle das Regierungsprogramm für die kommende Legislatur vorbereiten. Die Gegner kontern: Johnson handelt diktatorisch, schaltet das Parlament aus und drückt so einen No-Deal Brexit durch.\n",
    "\n",
    "Gegen diesen Entscheid legten 78 Parlamentarier Klage ein. Es schlossen sich mehrere Politiker an, etwa der ehemalige Premierminister John Major, und namhafte Vertreter der Zivilgesellschaft. Der High Court in England gab Johnson Recht, der Court of Session in Schottland gab den Klägern Recht. Eine Pattsituation also. Nun muss der oberste Gerichtshof des Vereinigten Königreichs, der UK Supreme Court, entscheiden.\n",
    "\n",
    "Bild: EPA\n",
    "Was ist der UK Supreme Court?\n",
    "Der Supreme Court kann bei uns theoretisch mit dem Bundesgericht verglichen werden. Nur funktioniert er etwas anders. Das Gericht besteht aus total zwölf adligen Richterinnen und Richtern, es sind die erfahrensten und langjährigsten Advokaten des Landes, die über verfassungs-, zivil-, und strafrechtliche Belange entscheiden.\n",
    "\n",
    "Oft tut es dies recht kurzfristig. Das Parlament ist seit dem 10. September in einer Zwangspause, bereits jetzt wird darüber verhandelt. Den Vorsitz über die dreitägige Anhörung hat Lady Brenda Hale. Das Gremium wird sich dabei die verschiedenen Standpunkte im Fall «Regierung versus Parlament» anhören.\n",
    "\n",
    "Der UK Supreme Court. Am rechten Tisch sitzen die elf Lordrichter, am linken Tisch die Ankläger und Verteidiger. Bild: EPA\n",
    "Wie läuft die Anhörung genau ab?\n",
    "Von Dienstagmorgen bis Donnerstagabend hören sich die elf Richterinnen und Richter die Standpunkte der beiden Streitparteien an. Auf der einen Seite sind das die Kläger: Politiker, Abgeordnete und Zivilisten, die mit ihren Anwälten versuchen aufzuzeigen, warum die Auflösung verfassungswidrig war.\n",
    "«Wenn Johnson die Verhandlung verliert, dann bleibt ihm keine Wahl. Er muss zurücktreten.»\n",
    "Guto Bebb. Konservativer Parlamentarier der Tory Partei. \n",
    "\n",
    "Auf der anderen Seite ist da die Regierung, vertreten durch den «Advocate General», bei uns entspricht das in etwa einem Bundesanwalt, der die Parlamentsauflösung rechtfertigt. Auch werden Vertreter der verschiedenen Landesteile England, Schottland, Wales und Nordirland angehört. Wenn am Donnerstag die Verhandlung geschlossen wird, beraten sich die Richter. Das Urteil wird entweder am Freitag oder dann in der kommenden Woche erwartet.\n",
    "Was passiert, wenn das Urteil gefällt ist?\n",
    "Mit dieser Frage Quälen sich Politiker, Journalisten, Anwälte und wohl die meisten Briten. Aktuell ist es schwierig, dies zu beantworten. Aber man kann es so zusammenfassen:\n",
    "\t•\tJohnson ist im Recht: Wenn das Gericht Johnson Recht gibt, also urteilt, dass er das Parlament rechtmässig aufgelöst hat, dann bleibt alles so, wie es jetzt ist. Das Parlament bleibt zwangsbeurlaubt bis zum 14. Oktober und darf in der Zwischenzeit nicht tagen.\n",
    "\t•\tDas Parlament ist im Recht: Wenn das Gericht urteilt, dass die Parlamentsauflösung verfassungswidrig und somit illegal war, dann muss Boris Johnson reagieren. Rechtlich wäre er gezwungen, die Queen zu bitten, das Parlament sofort wieder einzuberufen. Gegenüber der BBC wollte er dies jedoch nicht bestätigen. Auch stellt sich dann die Frage, inwiefern Johnson Queen Elizabeth II belogen hat, als er sie darum bat, das Parlament aufzulösen. Stellt sich heraus, dass Johnson die Monarchin extra hintergangen hat, um seine Pläne durchzuboxen, dann könnte es eng werden für ihn. Viele britische Medien sind sich einig. Ein Premierminister der die Queen belügt, hat einen schweren Stand im Land.\n",
    "\n",
    "\n",
    "Gina Miller, eine der Anklägerinnen, vor dem Supreme Court in London. Bild: EPA\n",
    "Warum ist die Gerichtsverhandlung so wichtig?\n",
    "Die Verhandlung ist so wichtig, weil der Supreme Court als Verfassungsgericht fungiert, Grossbritannien jedoch gar keine geschriebene Verfassung hat. Somit berührt der Streit über die Parlamentsauflösung das britische Demokratieverständnis.\n",
    "Denn Grossbritannien hat anstelle einer geschriebenen Verfassung eine grosse Ansammlung von Gesetzen, Gerichtsentscheidungen, Konventionen und Traditionen. Sie entwickelt sich durch Gesetzgebung oder neue Interpretationen bestehender Regeln ständig weiter und wird immer neu angepasst. Zwar ist die Verfassung so aktueller als in anderen Ländern, jedoch auch flexibler in ihrer Auslegung. Denn das System funktioniert nur, durch ein Zusammenspiel von verschiedenen Akteueren, die sich an meist ungeschriebene Regeln halten.\n",
    "Johnson tut dies nicht. Und so ist es nun an einem Verfassungsgericht, dass ohne eine Verfassung über eine politische Frage entscheiden muss. Und dabei, so sehen es viele britische Parlamentarier, gehe es um die Zukunft des Landes. \n",
    "\"\"\"\n",
    "a_words = artikel.split()\n",
    "\n",
    "print('Der Artikel \"Hat Johnson die Queen belogen?\" hat ', str(len(a_words)), ' Wörter.')"
   ]
  },
  {
   "cell_type": "markdown",
   "metadata": {},
   "source": [
    "## Übung 2 \n",
    "\n",
    "- Lass dir vom Nachbarn seine Email geben. \n",
    "- Wenn die Mailadresse _Max-Mustermann@gmail.com_ lautet, sollst du _Max-Mustermann_ ausgeben; wenn die Mailadresse _KlaraKlarnamen@uni-berlin.de_ heisst, sollst du _KlaraKlarnamen_ ausgeben."
   ]
  },
  {
   "cell_type": "code",
   "execution_count": 2,
   "metadata": {},
   "outputs": [
    {
     "name": "stdout",
     "output_type": "stream",
     "text": [
      "sven.zaugg\n",
      "sandra.rutschi\n"
     ]
    }
   ],
   "source": [
    "mail = \"sven.zaugg@gmx.net\"\n",
    "mail_split = mail.split(\"@\")\n",
    "print(mail_split[0])\n",
    "\n",
    "mail_sarah = \"sandra.rutschi@bernerzeitung.ch\"\n",
    "mail_split = mail_sarah.split(\"@\")\n",
    "print(mail_split[0])"
   ]
  },
  {
   "cell_type": "markdown",
   "metadata": {},
   "source": []
  },
  {
   "cell_type": "markdown",
   "metadata": {},
   "source": [
    "## Übung 3\n",
    "\n",
    "Aktuell legen alle Kunden (`mail1`, `mail2`, `mail3`) als separate Variable vor. Wir möchten daraus jetzt eine Liste bauen, sodass wir die Möglichkeit hätten, später noch weitere Kunden in diese Liste hinzuzufügen.\n",
    "\n",
    "Überführe deswegen die Kunden `mail1`, `mail2` und `mail3` in die Liste `clients` und lasse dir anschließend die Anzahl der Elemente der Liste `clients` mit Hilfe von Python ausgeben."
   ]
  },
  {
   "cell_type": "code",
   "execution_count": 29,
   "metadata": {},
   "outputs": [
    {
     "name": "stdout",
     "output_type": "stream",
     "text": [
      "3\n",
      "['zarah.zauber@zauberberg.de', 'thomas.plotkowiak@gmail.com', 'uwe_unhold@dunklerwald.de']\n"
     ]
    }
   ],
   "source": [
    "mail1 = \"zarah.zauber@zauberberg.de\"\n",
    "mail2 = \"thomas.plotkowiak@gmail.com\"\n",
    "mail3 = \"uwe_unhold@dunklerwald.de\" \n",
    "\n",
    "clients = [mail1, mail2, mail3]\n",
    "\n",
    "print(len(clients))\n",
    "\n",
    "# Füge hier mail1, mail2, mail3 zur clients - Liste hinzu \n",
    "# Zähle wieviele elemente die liste hat.\n",
    "\n",
    "print(clients)"
   ]
  }
 ],
 "metadata": {
  "kernelspec": {
   "display_name": "Python 3",
   "language": "python",
   "name": "python3"
  },
  "language_info": {
   "codemirror_mode": {
    "name": "ipython",
    "version": 3
   },
   "file_extension": ".py",
   "mimetype": "text/x-python",
   "name": "python",
   "nbconvert_exporter": "python",
   "pygments_lexer": "ipython3",
   "version": "3.7.3"
  }
 },
 "nbformat": 4,
 "nbformat_minor": 2
}
