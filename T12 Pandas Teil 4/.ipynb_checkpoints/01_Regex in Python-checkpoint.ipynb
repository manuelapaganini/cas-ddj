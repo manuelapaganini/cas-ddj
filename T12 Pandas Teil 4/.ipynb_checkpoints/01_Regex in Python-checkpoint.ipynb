{
 "cells": [
  {
   "cell_type": "markdown",
   "metadata": {},
   "source": [
    "# Regex in Python"
   ]
  },
  {
   "cell_type": "markdown",
   "metadata": {},
   "source": [
    "**Inhalt:** Text nach bestimmten Mustern durchsuchen\n",
    "\n",
    "**Nötige Skills:** Erste Schritte mit Pandas\n",
    "\n",
    "**Lernziele:**\n",
    "- Syntax für Regular Expressions kennenlernen\n",
    "- Anwendungsmöglichkeiten für Regex\n",
    "\n",
    "**Ressourcen:**\n",
    "- Simons Cheatsheet: https://github.com/MAZ-CAS-DDJ/kurs_19_20/blob/master/00%20weitere%C2%A0Dokumente/hilfsmaterial/regex.md\n",
    "- Offizielle Dokumentation: https://docs.python.org/3/library/re.html\n",
    "- Ein Online-Regex-Tester: https://pythex.org/\n",
    "- Ein weiterer Online-Texter: https://regex101.com/\n",
    "- Ein Cheat-Sheet: https://www.dataquest.io/blog/large_files/python-regular-expressions-cheat-sheet.pdf\n",
    "- Ein weiteres Cheat-Sheet: https://www.shortcutfoo.com/app/dojos/python-regex/cheatsheet\n",
    "- Ein Online Traningskurs: https://www.shortcutfoo.com/app/dojos/python-regex/learn"
   ]
  },
  {
   "cell_type": "markdown",
   "metadata": {},
   "source": [
    "## Worum es geht"
   ]
  },
  {
   "cell_type": "markdown",
   "metadata": {},
   "source": [
    "Regular Expressions sind eine super-sophistizierte Form von Such-Wildcards. Wir kennen solche Wildcards aus zB aus Windows-Explorer-Suche: Man benutzt Spezialcharaktere wie Sternchen `(*)` um der Suchmaschine anzuzeigen: Hier könnten verschiedene Buchstaben stehen. Regular Expressions dienen also zur Durchsuchung von Texten nach bestimmten, vordefinierten Mustern. Wir können Regex im Datenjournalismus brauchen, um zB Texte nach Emails oder Postleitzahlen zu durchsuchen, oder um Daten zu säubern und zu formatieren.\n",
    "\n",
    "Was für Muster gibt es? Wie komplex kann die Suche werden? Wir testen dies gleich selbst aus.\n",
    "- Diese Seite hier öffnen: https://regex101.com/ (in einem neuen Fenster)\n",
    "- Dieses Cheat-Sheet hier öffnen: https://github.com/MAZ-CAS-DDJ/kurs_19_20/blob/master/00%20weitere%C2%A0Dokumente/hilfsmaterial/regex.md\n",
    "- Den untenstehenden Text in die Zwischenablage kopieren:"
   ]
  },
  {
   "cell_type": "code",
   "execution_count": 22,
   "metadata": {},
   "outputs": [],
   "source": [
    "text = '''\n",
    "D'w. Nuss vo Bümpliz geit dür d'Strass\n",
    "liecht u flüchtig, wie nes Gas\n",
    "so unerreichbar höch\n",
    "\n",
    "Bockstössigi Himbeerbuebe\n",
    "schüüch u brav wie Schaf\n",
    "schön föhnfrisiert\n",
    "chöme tubetänzig nöch\n",
    "\n",
    "U d'Spargle wachse i bluetjung Morge\n",
    "d'Sunne chunnt 's wird langsam warm\n",
    "\n",
    "Sie het meh als hundert ching\n",
    "u jede Früehlig git 's es nöis\n",
    "het d'Chiuchefänschterouge off\n",
    "u macht se zue bi jedem Kuss\n",
    "u we sie lachet wärde Bärge zu schtoub\n",
    "u jedes zäihe Läderhärz wird weich\n",
    "\n",
    "D'w. Nuss vo Bümpliz\n",
    "isch schön win es Füür i dr Nacht\n",
    "win e Rose im Schnee\n",
    "we se gseh duss in Bümpliz\n",
    "de schlat mir mis Härz hert i Hals\n",
    "u i gseh win i ungergah\n",
    "\n",
    "Si wohnt im ne Huus us Glas\n",
    "hinger Türe ohni Schloss\n",
    "gseht dür jedi Muur\n",
    "dänkt wi nes Füürwärch\n",
    "win e Zuckerstock\n",
    "läbt win e Wasserfau\n",
    "für si git's nüt, wo's nid git\n",
    "u aus wo's git, git's nid für ging\n",
    "si nimmt's wi's chunnt u lat's la gah\n",
    "\n",
    "D'w. Nuss vo Bümpliz\n",
    "isch schön win es Füür i dr Nacht\n",
    "win e Rose im Schnee\n",
    "we se gseh duss in Bümpliz\n",
    "de schlat mir mis Härz hert i Hals\n",
    "u i gseh win i ungergah\n",
    "'''"
   ]
  },
  {
   "cell_type": "markdown",
   "metadata": {},
   "source": [
    "## Regular Expressions in Python\n",
    "\n",
    "Regex sind in den meisten Programmiersprachen ähnlich aufgebaut. Die Python-Library dazu heisst `re`"
   ]
  },
  {
   "cell_type": "code",
   "execution_count": 3,
   "metadata": {},
   "outputs": [],
   "source": [
    "import re"
   ]
  },
  {
   "cell_type": "markdown",
   "metadata": {},
   "source": [
    "## Funktionen"
   ]
  },
  {
   "cell_type": "markdown",
   "metadata": {},
   "source": [
    "In dieser Bibliothek gibt es fünf Funktionen, die wir benutzen können. Grundsätzlich geht es immer darum: anhand von einer Regex und einem String sollen ein oder mehrere Treffer erzielt werden. Die Funktionen machen daraufhin unterschiedliche Dinge mit dem Ergebnis\n",
    "\n",
    "**`match()`** und **`search()`**: Diese Funktionen sagen uns, ob *ein Treffer* erzielt wurde und an welchem Ort er sich befindet.\n",
    "\n",
    "**`findall()`**: Diese Funktion erstellt eine Liste von allen Treffern.\n",
    "\n",
    "**`split()`**: Splittet einen langen String in eine Liste von Substrings, und zwar an den Orten, wo ein Treffer erzielt wurde.\n",
    "\n",
    "**`sub()`**: Dort, wo ein Treffer erzielt wurde, wir der Suchstring durch einen anderen Text erstetzt."
   ]
  },
  {
   "cell_type": "markdown",
   "metadata": {},
   "source": [
    "### Markierungszeichen\n",
    "\n",
    "Um einen Regex-Suchausdruck zu benutzen, empfiehlt es sich, ein \"r\" vor den String zu stellen."
   ]
  },
  {
   "cell_type": "code",
   "execution_count": 4,
   "metadata": {},
   "outputs": [],
   "source": [
    "# Zum klarmachen, dass das ein Regex-Ausdruck ist\n",
    "suchausdruck = r\"n.ss\""
   ]
  },
  {
   "cell_type": "markdown",
   "metadata": {},
   "source": [
    "### search()"
   ]
  },
  {
   "cell_type": "markdown",
   "metadata": {},
   "source": [
    "Durchsucht den ganzen String, liefert das erste Ergebnis."
   ]
  },
  {
   "cell_type": "code",
   "execution_count": 16,
   "metadata": {},
   "outputs": [],
   "source": [
    "resultat = re.search(r\"n.ss\", text, re.IGNORECASE)"
   ]
  },
  {
   "cell_type": "markdown",
   "metadata": {},
   "source": [
    "Das Ergebnis ist eine Art ja/nein-Antwort mit einigen Details"
   ]
  },
  {
   "cell_type": "code",
   "execution_count": 17,
   "metadata": {},
   "outputs": [
    {
     "data": {
      "text/plain": [
       "<re.Match object; span=(6, 10), match='Nuss'>"
      ]
     },
     "execution_count": 17,
     "metadata": {},
     "output_type": "execute_result"
    }
   ],
   "source": [
    "resultat "
   ]
  },
  {
   "cell_type": "code",
   "execution_count": null,
   "metadata": {},
   "outputs": [],
   "source": []
  },
  {
   "cell_type": "markdown",
   "metadata": {},
   "source": [
    "Es handelt sich um ein so genanntes Match-Objekt: https://docs.python.org/3/library/re.html#match-objects\n",
    "\n",
    "Dieses Objekt hat einige Eigenschaften, die wir abfragen können:"
   ]
  },
  {
   "cell_type": "code",
   "execution_count": 7,
   "metadata": {},
   "outputs": [
    {
     "data": {
      "text/plain": [
       "'Nuss'"
      ]
     },
     "execution_count": 7,
     "metadata": {},
     "output_type": "execute_result"
    }
   ],
   "source": [
    "resultat.group() #Der gefundene String"
   ]
  },
  {
   "cell_type": "code",
   "execution_count": 8,
   "metadata": {},
   "outputs": [
    {
     "data": {
      "text/plain": [
       "6"
      ]
     },
     "execution_count": 8,
     "metadata": {},
     "output_type": "execute_result"
    }
   ],
   "source": [
    "resultat.start() #die Startposition des gefundenen Strings"
   ]
  },
  {
   "cell_type": "code",
   "execution_count": 9,
   "metadata": {},
   "outputs": [
    {
     "data": {
      "text/plain": [
       "10"
      ]
     },
     "execution_count": 9,
     "metadata": {},
     "output_type": "execute_result"
    }
   ],
   "source": [
    "resultat.end() #die Endposition des gefundenen Strings"
   ]
  },
  {
   "cell_type": "markdown",
   "metadata": {},
   "source": [
    "Die Regex-Funktionen nehmen eine Reihe von so genannten **Flags** an:\n",
    "- re.IGNORECASE = Gross-/Kleinschreibung ignorieren\n",
    "- re.MULTILINE = `^` und `$` schlagen bei Zeilenumbrüchen an\n",
    "- ... siehe auch: https://docs.python.org/3/library/re.html#module-contents"
   ]
  },
  {
   "cell_type": "markdown",
   "metadata": {},
   "source": [
    "Zum Beispiel können wir so Zeilen suchen, die mit dem Wort \"Bockstössigi\" anfangen"
   ]
  },
  {
   "cell_type": "code",
   "execution_count": 10,
   "metadata": {},
   "outputs": [
    {
     "data": {
      "text/plain": [
       "<re.Match object; span=(93, 105), match='Bockstössigi'>"
      ]
     },
     "execution_count": 10,
     "metadata": {},
     "output_type": "execute_result"
    }
   ],
   "source": [
    "re.search(r\"^Bockstössigi\", text, re.MULTILINE)"
   ]
  },
  {
   "cell_type": "markdown",
   "metadata": {},
   "source": [
    "### match()"
   ]
  },
  {
   "cell_type": "markdown",
   "metadata": {},
   "source": [
    "Durchsucht nur den *Anfang* des Strings. Am besten gleich wieder vergessen."
   ]
  },
  {
   "cell_type": "code",
   "execution_count": 18,
   "metadata": {},
   "outputs": [
    {
     "data": {
      "text/plain": [
       "<re.Match object; span=(0, 1), match='a'>"
      ]
     },
     "execution_count": 18,
     "metadata": {},
     "output_type": "execute_result"
    }
   ],
   "source": [
    "re.match(\"a\", \"abcdef\") #gibt ein Ergebnis"
   ]
  },
  {
   "cell_type": "code",
   "execution_count": 19,
   "metadata": {},
   "outputs": [],
   "source": [
    "re.match(\"b\", \"abcdef\") #gibt kein Ergebnis"
   ]
  },
  {
   "cell_type": "code",
   "execution_count": null,
   "metadata": {
    "collapsed": true
   },
   "outputs": [],
   "source": []
  },
  {
   "cell_type": "markdown",
   "metadata": {},
   "source": [
    "### findall()"
   ]
  },
  {
   "cell_type": "markdown",
   "metadata": {},
   "source": [
    "Durchsucht den ganzen String, liefert eine Liste aller Treffer."
   ]
  },
  {
   "cell_type": "code",
   "execution_count": 23,
   "metadata": {},
   "outputs": [],
   "source": [
    "words = re.findall(r\"\\b[iu]\\b\", text, re.IGNORECASE) #Alle Wörter, die nur aus \"i\" oder \"u\" bestehen"
   ]
  },
  {
   "cell_type": "code",
   "execution_count": 119,
   "metadata": {},
   "outputs": [
    {
     "name": "stdout",
     "output_type": "stream",
     "text": [
      "['Nuss', 'Bümpliz', 'geit', 'liecht', 'flüchtig', 'wie', 'unerreichbar', 'Bockstössigi', 'Himbeerbuebe', 'wie', 'föhnfrisiert', 'tubetänzig', 'bluetjung', 'Sunne', 'chunnt', 'wird', 'Sie', 'hundert', 'ching', 'Früehlig', 'git', 'nöis', 'Chiuchefänschterouge', 'zue', 'Kuss', 'sie', 'schtoub', 'zäihe', 'wird', 'weich', 'Nuss', 'Bümpliz', 'win', 'win', 'duss', 'Bümpliz', 'mir', 'mis', 'win', 'Huus', 'hinger', 'Muur', 'win', 'Zuckerstock', 'win', 'git', 'nid', 'git', 'aus', 'git', 'git', 'nid', 'ging', 'nimmt', 'chunnt', 'Nuss', 'Bümpliz', 'win', 'win', 'duss', 'Bümpliz', 'mir', 'mis', 'win']\n"
     ]
    }
   ],
   "source": [
    "print(words)"
   ]
  },
  {
   "cell_type": "markdown",
   "metadata": {},
   "source": [
    "Mit der Liste kann man alles machen, was man mit Listen halt so machen kann."
   ]
  },
  {
   "cell_type": "code",
   "execution_count": 25,
   "metadata": {},
   "outputs": [
    {
     "data": {
      "text/plain": [
       "20"
      ]
     },
     "execution_count": 25,
     "metadata": {},
     "output_type": "execute_result"
    }
   ],
   "source": [
    "len(words)"
   ]
  },
  {
   "cell_type": "code",
   "execution_count": 118,
   "metadata": {},
   "outputs": [
    {
     "name": "stdout",
     "output_type": "stream",
     "text": [
      "['Nuss', 'Bümpliz', 'geit', 'liecht', 'flüchtig', 'wie', 'unerreichbar', 'Bockstössigi', 'Himbeerbuebe', 'wie', 'föhnfrisiert', 'tubetänzig', 'bluetjung', 'Sunne', 'chunnt', 'wird', 'Sie', 'hundert', 'ching', 'Früehlig', 'git', 'nöis', 'Chiuchefänschterouge', 'zue', 'Kuss', 'sie', 'schtoub', 'zäihe', 'wird', 'weich', 'Nuss', 'Bümpliz', 'win', 'win', 'duss', 'Bümpliz', 'mir', 'mis', 'win', 'Huus', 'hinger', 'Muur', 'win', 'Zuckerstock', 'win', 'git', 'nid', 'git', 'aus', 'git', 'git', 'nid', 'ging', 'nimmt', 'chunnt', 'Nuss', 'Bümpliz', 'win', 'win', 'duss', 'Bümpliz', 'mir', 'mis', 'win']\n"
     ]
    }
   ],
   "source": [
    "# Eigener Test:\n",
    "words = re.findall(r\"\\b\\w+[iu]\\w+\\b\", text, re.IGNORECASE) #Alle Wörter, die nur aus \"i\" oder \"u\" bestehen\n",
    "print(words)"
   ]
  },
  {
   "cell_type": "markdown",
   "metadata": {},
   "source": [
    "### split()"
   ]
  },
  {
   "cell_type": "markdown",
   "metadata": {},
   "source": [
    "Splittet den Text überall dort, wo es einen Treffer gab, liefert das Ergebnis als Liste. Der Treffer selbst wird herausgeschnitten."
   ]
  },
  {
   "cell_type": "code",
   "execution_count": 40,
   "metadata": {},
   "outputs": [],
   "source": [
    "newlist = re.split(r\"\\b[iu]\\b\", text) #Wir splitten überall, wo i- und u-Wörter stehen"
   ]
  },
  {
   "cell_type": "code",
   "execution_count": null,
   "metadata": {},
   "outputs": [],
   "source": [
    "for line in newlist:\n",
    "    print(line)"
   ]
  },
  {
   "cell_type": "code",
   "execution_count": null,
   "metadata": {
    "collapsed": true
   },
   "outputs": [],
   "source": []
  },
  {
   "cell_type": "markdown",
   "metadata": {},
   "source": [
    "### sub()"
   ]
  },
  {
   "cell_type": "markdown",
   "metadata": {},
   "source": [
    "Ersetzt den Treffer durch einen anderen String."
   ]
  },
  {
   "cell_type": "code",
   "execution_count": 46,
   "metadata": {},
   "outputs": [
    {
     "name": "stdout",
     "output_type": "stream",
     "text": [
      "\n",
      "D'w. Nuss vo Züri geit dür d'Strass\n",
      "liecht u flüchtig, wie nes Gas\n",
      "so unerreichbar höch\n",
      "\n",
      "Bockstössigi Himbeerbuebe\n",
      "schüüch u brav wie Schaf\n",
      "schön föhnfrisiert\n",
      "chöme tubetänzig nöch\n",
      "\n",
      "U d'Spargle wachse i bluetjung Morge\n",
      "d'Sunne chunnt 's wird langsam warm\n",
      "\n",
      "Sie het meh als hundert ching\n",
      "u jede Früehlig git 's es nöis\n",
      "het d'Chiuchefänschterouge off\n",
      "u macht se zue bi jedem Kuss\n",
      "u we sie lachet wärde Bärge zu schtoub\n",
      "u jedes zäihe Läderhärz wird weich\n",
      "\n",
      "D'w. Nuss vo Züri\n",
      "isch schön win es Füür i dr Nacht\n",
      "win e Rose im Schnee\n",
      "we se gseh duss in Züri\n",
      "de schlat mir mis Härz hert i Hals\n",
      "u i gseh win i ungergah\n",
      "\n",
      "Si wohnt im ne Huus us Glas\n",
      "hinger Türe ohni Schloss\n",
      "gseht dür jedi Muur\n",
      "dänkt wi nes Füürwärch\n",
      "win e Zuckerstock\n",
      "läbt win e Wasserfau\n",
      "für si git's nüt, wo's nid git\n",
      "u aus wo's git, git's nid für ging\n",
      "si nimmt's wi's chunnt u lat's la gah\n",
      "\n",
      "D'w. Nuss vo Züri\n",
      "isch schön win es Füür i dr Nacht\n",
      "win e Rose im Schnee\n",
      "we se gseh duss in Züri\n",
      "de schlat mir mis Härz hert i Hals\n",
      "u i gseh win i ungergah\n",
      "\n"
     ]
    }
   ],
   "source": [
    "neuer_text = re.sub(r\"\\b Bümpliz\\b\", \" Züri\", text) #Ersetzt alle i durch çu\n",
    "print(neuer_text)"
   ]
  },
  {
   "cell_type": "code",
   "execution_count": 42,
   "metadata": {},
   "outputs": [
    {
     "name": "stdout",
     "output_type": "stream",
     "text": [
      "\n",
      "D'w. Nuss vo Bümpliz geit dür d'Strass\n",
      "liecht i flüchtig, wie nes Gas\n",
      "so unerreichbar höch\n",
      "\n",
      "Bockstössigi Himbeerbuebe\n",
      "schüüch i brav wie Schaf\n",
      "schön föhnfrisiert\n",
      "chöme tubetänzig nöch\n",
      "\n",
      "I d'Spargle wachse u bluetjung Morge\n",
      "d'Sunne chunnt 's wird langsam warm\n",
      "\n",
      "Sie het meh als hundert ching\n",
      "i jede Früehlig git 's es nöis\n",
      "het d'Chiuchefänschterouge off\n",
      "i macht se zue bi jedem Kuss\n",
      "i we sie lachet wärde Bärge zu schtoub\n",
      "i jedes zäihe Läderhärz wird weich\n",
      "\n",
      "D'w. Nuss vo Bümpliz\n",
      "isch schön win es Füür u dr Nacht\n",
      "win e Rose im Schnee\n",
      "we se gseh duss in Bümpliz\n",
      "de schlat mir mis Härz hert u Hals\n",
      "i u gseh win u ungergah\n",
      "\n",
      "Si wohnt im ne Huus us Glas\n",
      "hinger Türe ohni Schloss\n",
      "gseht dür jedi Muur\n",
      "dänkt wi nes Füürwärch\n",
      "win e Zuckerstock\n",
      "läbt win e Wasserfau\n",
      "für si git's nüt, wo's nid git\n",
      "i aus wo's git, git's nid für ging\n",
      "si nimmt's wi's chunnt i lat's la gah\n",
      "\n",
      "D'w. Nuss vo Bümpliz\n",
      "isch schön win es Füür u dr Nacht\n",
      "win e Rose im Schnee\n",
      "we se gseh duss in Bümpliz\n",
      "de schlat mir mis Härz hert u Hals\n",
      "i u gseh win u ungergah\n",
      "\n"
     ]
    }
   ],
   "source": [
    "neuer_text = re.sub(r\"\\bi\\b\", \"çu\", text) #Ersetzt alle i durch çu\n",
    "neuer_text = re.sub(r\"\\bI\\b\", \"çU\", neuer_text) #Grossbuchstaben separat\n",
    "\n",
    "neuer_text = re.sub(r\"\\bu\\b\", \"i\", neuer_text) #Ersetzt alle u durch i\n",
    "neuer_text = re.sub(r\"\\bU\\b\", \"I\", neuer_text) #Grossbuchstaben separat\n",
    "\n",
    "neuer_text = re.sub(r\"\\bçu\\b\", \"u\", neuer_text) #Ersetzt alle çu durch i\n",
    "neuer_text = re.sub(r\"\\bçU\\b\", \"U\", neuer_text) #Grossbuchstaben separat\n",
    "\n",
    "print(neuer_text)"
   ]
  },
  {
   "cell_type": "markdown",
   "metadata": {},
   "source": [
    "Wir können `sub()` auch mit einer Funktion benutzen:"
   ]
  },
  {
   "cell_type": "code",
   "execution_count": 47,
   "metadata": {},
   "outputs": [
    {
     "data": {
      "text/plain": [
       "['dür', 'Füür', 'dür', 'für', 'nüt', 'für', 'Füür']"
      ]
     },
     "execution_count": 47,
     "metadata": {},
     "output_type": "execute_result"
    }
   ],
   "source": [
    "re.findall(r\"\\b\\w*ü\\w\\b\", text) # Zum Testen: Alle Wörter mit einem ü drin"
   ]
  },
  {
   "cell_type": "code",
   "execution_count": 48,
   "metadata": {},
   "outputs": [],
   "source": [
    "def replace(match): # Diese Funktion wollen wir drauf anwenden (wir kriegen das Resultat als Match-Objekt geliefert)\n",
    "    word = match.group() + \" - oh, yeah! - \"\n",
    "    return word"
   ]
  },
  {
   "cell_type": "code",
   "execution_count": 49,
   "metadata": {},
   "outputs": [],
   "source": [
    "neuer_text = re.sub(r\"\\b\\w*ü\\w\\b\", replace, text) #Hier rufen wir unsere replace-Funktion auf"
   ]
  },
  {
   "cell_type": "code",
   "execution_count": 50,
   "metadata": {},
   "outputs": [
    {
     "name": "stdout",
     "output_type": "stream",
     "text": [
      "\n",
      "D'w. Nuss vo Bümpliz geit dür - oh, yeah! -  d'Strass\n",
      "liecht u flüchtig, wie nes Gas\n",
      "so unerreichbar höch\n",
      "\n",
      "Bockstössigi Himbeerbuebe\n",
      "schüüch u brav wie Schaf\n",
      "schön föhnfrisiert\n",
      "chöme tubetänzig nöch\n",
      "\n",
      "U d'Spargle wachse i bluetjung Morge\n",
      "d'Sunne chunnt 's wird langsam warm\n",
      "\n",
      "Sie het meh als hundert ching\n",
      "u jede Früehlig git 's es nöis\n",
      "het d'Chiuchefänschterouge off\n",
      "u macht se zue bi jedem Kuss\n",
      "u we sie lachet wärde Bärge zu schtoub\n",
      "u jedes zäihe Läderhärz wird weich\n",
      "\n",
      "D'w. Nuss vo Bümpliz\n",
      "isch schön win es Füür - oh, yeah! -  i dr Nacht\n",
      "win e Rose im Schnee\n",
      "we se gseh duss in Bümpliz\n",
      "de schlat mir mis Härz hert i Hals\n",
      "u i gseh win i ungergah\n",
      "\n",
      "Si wohnt im ne Huus us Glas\n",
      "hinger Türe ohni Schloss\n",
      "gseht dür - oh, yeah! -  jedi Muur\n",
      "dänkt wi nes Füürwärch\n",
      "win e Zuckerstock\n",
      "läbt win e Wasserfau\n",
      "für - oh, yeah! -  si git's nüt - oh, yeah! - , wo's nid git\n",
      "u aus wo's git, git's nid für - oh, yeah! -  ging\n",
      "si nimmt's wi's chunnt u lat's la gah\n",
      "\n",
      "D'w. Nuss vo Bümpliz\n",
      "isch schön win es Füür - oh, yeah! -  i dr Nacht\n",
      "win e Rose im Schnee\n",
      "we se gseh duss in Bümpliz\n",
      "de schlat mir mis Härz hert i Hals\n",
      "u i gseh win i ungergah\n",
      "\n"
     ]
    }
   ],
   "source": [
    "print (neuer_text)"
   ]
  },
  {
   "cell_type": "markdown",
   "metadata": {},
   "source": [
    "## Spezielles"
   ]
  },
  {
   "cell_type": "markdown",
   "metadata": {},
   "source": [
    "### Capture-Klammern"
   ]
  },
  {
   "cell_type": "markdown",
   "metadata": {},
   "source": [
    "Die Klammern dienen dazu, nur gewisse Teile einer Regex einzufangen:"
   ]
  },
  {
   "cell_type": "code",
   "execution_count": 51,
   "metadata": {},
   "outputs": [
    {
     "data": {
      "text/plain": [
       "['Nuss ', 'Bockstössigi ', 'Nuss ', 'duss ', 'Nuss ', 'duss ']"
      ]
     },
     "execution_count": 51,
     "metadata": {},
     "output_type": "execute_result"
    }
   ],
   "source": [
    "re.findall(r\"\\b\\w*ss\\w*\\b \", text) #Hier suchen wir zuerst mal nur alle Wörter, die zwei ss drin haben"
   ]
  },
  {
   "cell_type": "code",
   "execution_count": 52,
   "metadata": {},
   "outputs": [
    {
     "data": {
      "text/plain": [
       "['Nuss vo',\n",
       " 'Bockstössigi Himbeerbuebe',\n",
       " 'Nuss vo',\n",
       " 'duss in',\n",
       " 'Nuss vo',\n",
       " 'duss in']"
      ]
     },
     "execution_count": 52,
     "metadata": {},
     "output_type": "execute_result"
    }
   ],
   "source": [
    "re.findall(r\"\\b\\w*ss\\w*\\b \\w+\", text) #Nun suchen wir alle Wörter, die zwei ss drin haben plus das nächste Wort"
   ]
  },
  {
   "cell_type": "code",
   "execution_count": 53,
   "metadata": {},
   "outputs": [
    {
     "data": {
      "text/plain": [
       "['vo', 'Himbeerbuebe', 'vo', 'in', 'vo', 'in']"
      ]
     },
     "execution_count": 53,
     "metadata": {},
     "output_type": "execute_result"
    }
   ],
   "source": [
    "re.findall(r\"\\b\\w*ss\\w*\\b (\\w+)\", text) #Jetzt wollen wir nur das nächste Wort einfangen"
   ]
  },
  {
   "cell_type": "code",
   "execution_count": 54,
   "metadata": {},
   "outputs": [
    {
     "data": {
      "text/plain": [
       "[('Nuss', 'vo'),\n",
       " ('Bockstössigi', 'Himbeerbuebe'),\n",
       " ('Nuss', 'vo'),\n",
       " ('duss', 'in'),\n",
       " ('Nuss', 'vo'),\n",
       " ('duss', 'in')]"
      ]
     },
     "execution_count": 54,
     "metadata": {},
     "output_type": "execute_result"
    }
   ],
   "source": [
    "re.findall(r\"(\\b\\w*ss\\w*\\b) (\\w+)\", text) #Jetzt fangen wir die beiden Wörter separat ein"
   ]
  },
  {
   "cell_type": "markdown",
   "metadata": {},
   "source": [
    "### Lookahead / Lookbehind"
   ]
  },
  {
   "cell_type": "markdown",
   "metadata": {},
   "source": [
    "Eine Sonder-Funktionalität: Zeichen, die gefolgt werden von anderen Zeichen (die Klammern sind nicht zu verwechseln mit den Capture-Klammern."
   ]
  },
  {
   "cell_type": "code",
   "execution_count": 55,
   "metadata": {},
   "outputs": [
    {
     "data": {
      "text/plain": [
       "['w.', 'w.', 'w.']"
      ]
     },
     "execution_count": 55,
     "metadata": {},
     "output_type": "execute_result"
    }
   ],
   "source": [
    "re.findall(r\"w.(?= Nuss)\", text) #Lookahead"
   ]
  },
  {
   "cell_type": "code",
   "execution_count": 66,
   "metadata": {},
   "outputs": [
    {
     "data": {
      "text/plain": [
       "['Nuss', 'Nuss', 'Nuss']"
      ]
     },
     "execution_count": 66,
     "metadata": {},
     "output_type": "execute_result"
    }
   ],
   "source": [
    "re.findall(r\"(?<=w. )Nuss\", text) #Lookbehind"
   ]
  },
  {
   "cell_type": "markdown",
   "metadata": {},
   "source": [
    "## Lexikon\n",
    "\n",
    "Hier nochmals eine (nicht ganz abschliessende) Liste der Spezialzeichen.\n",
    "\n",
    "| repetitions | what it does |\n",
    "|--------|---------|\n",
    "| `*` | match 0 or more repetitions |\n",
    "| `+` | match 1 or more repetitions  |\n",
    "| `?` | match 0 or 1 repetitions  |\n",
    "| `{m}` | m specifies the number of repetitions  |\n",
    "| `{m,n}` | m and n specifies a range of repetitions  |\n",
    "| `{m,}` | m specifies the minimum number of repetitions  |\n",
    "\n",
    "| Shortcut | what it does |\n",
    "|--------|---------|\n",
    "| `.` | Match any character except newline |\n",
    "| `\\w` | letters |\n",
    "| `\\W` | not letters |\n",
    "| `\\d` | numbers [0-9] |\n",
    "| `\\D` | not numbers |\n",
    "| `\\s` | whitespace characters: space, tab... |\n",
    "| `\\S` | not space |\n",
    "| `\\b` | Word boundary: spaces, commas, end of line |\n",
    "| `\\B` | Not a word-boundary |\n",
    "| `^` | match the beginning of string |\n",
    "| `$` | match the end of string, including `\\n` |\n",
    "\n",
    "| enclosures | what it does |\n",
    "|--------|---------|\n",
    "| `[]` | A defined **set** of characters to search for |\n",
    "| `()` | A group of characters to search for, can be accessed in the results. |\n",
    "\n",
    "| Examples of sets | what it does |\n",
    "|--------|---------|\n",
    "| `[aeiou]` | Find any vowel |\n",
    "| `[Tt]` | Find a lowercase or uppercase t |\n",
    "| `[0-9]` | Find any number (there is a shortcut for this) |\n",
    "| `[^0-9]` | Find anything that's not number (there is a shortcut for this) |\n",
    "| `[13579]` | Find any odd numer |\n",
    "| `[A-Za-z]` | Find any letter (there is a shortcut for this too) |\n",
    "| `[+.*]` | Find those actual characters (special characters are canceled in sets) |\n",
    "\n",
    "| Lookahead/behind | what it does |\n",
    "|--------|---------|\n",
    "| `A(?=B)` | Find A if followed by B |\n",
    "| `A(?!B)` | Find A if not followed by B |\n",
    "| `(?<=B)A` | Find A if preceded by B |\n",
    "| `(?<!B)A` | Find A if not preceded by B |\n",
    "| `(A)\\1` | Backreferencing content of group 1 |"
   ]
  },
  {
   "cell_type": "markdown",
   "metadata": {},
   "source": [
    "# Übungen"
   ]
  },
  {
   "cell_type": "markdown",
   "metadata": {},
   "source": [
    "Wir arbeiten nach wie vor mit dem Patent-Ochsner-Song in der Variable `text`.\n",
    "\n",
    "Es gibt drei Schwierigkeitsgrade: easy, advanced, pro.\n",
    "\n",
    "Manchmal müssen Sie regex-Ausdrücke verwenden, manchmal ganz einfach Python-Funktionen verwenden, zB für Listen.\n",
    "\n",
    "Googeln ist erlaubt!!"
   ]
  },
  {
   "cell_type": "markdown",
   "metadata": {},
   "source": [
    "## Easy"
   ]
  },
  {
   "cell_type": "code",
   "execution_count": 70,
   "metadata": {},
   "outputs": [
    {
     "name": "stdout",
     "output_type": "stream",
     "text": [
      "['B', 'b', 'B', 'b', 'b', 'b', 'b', 'b', 'b', 'b', 'B', 'b', 'B', 'B', 'b', 'B', 'B']\n"
     ]
    }
   ],
   "source": [
    "# Finde alle b's im Text (Liste erstellen)\n",
    "b_list = re.findall(r\"[b]\", text, re.IGNORECASE)\n",
    "print(b_list)"
   ]
  },
  {
   "cell_type": "code",
   "execution_count": 76,
   "metadata": {},
   "outputs": [
    {
     "name": "stdout",
     "output_type": "stream",
     "text": [
      "['Bümpliz', 'bar', 'Bockstössigi', 'beerbuebe', 'brav', 'betänzig', 'bluetjung', 'bi', 'Bärge', 'Bümpliz', 'Bümpliz', 'bt', 'Bümpliz', 'Bümpliz']\n"
     ]
    }
   ],
   "source": [
    "# Finde alle Wörter, die mit b beginnen, unabhängig von Gross-/Kleinschreibung\n",
    "b_list = re.findall(r\"[b]\\w+\\b\", text, re.IGNORECASE)\n",
    "print(b_list)"
   ]
  },
  {
   "cell_type": "code",
   "execution_count": 78,
   "metadata": {},
   "outputs": [
    {
     "name": "stdout",
     "output_type": "stream",
     "text": [
      "['Bümpliz', 'unerreichbar', 'Bockstössigi', 'Himbeerbuebe', 'brav', 'tubetänzig', 'bluetjung', 'bi', 'Bärge', 'Bümpliz', 'Bümpliz', 'läbt', 'Bümpliz', 'Bümpliz']\n"
     ]
    }
   ],
   "source": [
    "# Finde alle Wörter, die ein b enthalten, unabhängig von Gross-/Kleinschreibung\n",
    "b_list = re.findall(r\"\\w*[b]\\w+\\b\", text, re.IGNORECASE)\n",
    "print(b_list)"
   ]
  },
  {
   "cell_type": "code",
   "execution_count": 81,
   "metadata": {},
   "outputs": [
    {
     "name": "stdout",
     "output_type": "stream",
     "text": [
      "['', \"D'w. Nuss vo Bümpliz geit dür d'Strass\", 'liecht u flüchtig, wie nes Gas', 'so unerreichbar höch', '', 'Bockstössigi Himbeerbuebe', 'schüüch u brav wie Schaf', 'schön föhnfrisiert', 'chöme tubetänzig nöch', '', \"U d'Spargle wachse i bluetjung Morge\", \"d'Sunne chunnt 's wird langsam warm\", '', 'Sie het meh als hundert ching', \"u jede Früehlig git 's es nöis\", \"het d'Chiuchefänschterouge off\", 'u macht se zue bi jedem Kuss', 'u we sie lachet wärde Bärge zu schtoub', 'u jedes zäihe Läderhärz wird weich', '', \"D'w. Nuss vo Bümpliz\", 'isch schön win es Füür i dr Nacht', 'win e Rose im Schnee', 'we se gseh duss in Bümpliz', 'de schlat mir mis Härz hert i Hals', 'u i gseh win i ungergah', '', 'Si wohnt im ne Huus us Glas', 'hinger Türe ohni Schloss', 'gseht dür jedi Muur', 'dänkt wi nes Füürwärch', 'win e Zuckerstock', 'läbt win e Wasserfau', \"für si git's nüt, wo's nid git\", \"u aus wo's git, git's nid für ging\", \"si nimmt's wi's chunnt u lat's la gah\", '', \"D'w. Nuss vo Bümpliz\", 'isch schön win es Füür i dr Nacht', 'win e Rose im Schnee', 'we se gseh duss in Bümpliz', 'de schlat mir mis Härz hert i Hals', 'u i gseh win i ungergah', '']\n"
     ]
    }
   ],
   "source": [
    "# Erstelle eine Liste aller Zeilen im Text\n",
    "lines = re.split(r\"\\n\", text)\n",
    "print(lines)"
   ]
  },
  {
   "cell_type": "code",
   "execution_count": 90,
   "metadata": {},
   "outputs": [
    {
     "name": "stdout",
     "output_type": "stream",
     "text": [
      "['D', 'Nuss', 'Bümpliz', 'Strass', 'Gas', 'Bockstössigi', 'Himbeerbuebe', 'Schaf', 'U', 'Spargle', 'Morge', 'Sunne', 'Sie', 'Früehlig', 'Chiuchefänschterouge', 'Kuss', 'Bärge', 'Läderhärz', 'D', 'Nuss', 'Bümpliz', 'Füür', 'Nacht', 'Rose', 'Schnee', 'Bümpliz', 'Härz', 'Hals', 'Si', 'Huus', 'Glas', 'Türe', 'Schloss', 'Muur', 'Füürwärch', 'Zuckerstock', 'Wasserfau', 'D', 'Nuss', 'Bümpliz', 'Füür', 'Nacht', 'Rose', 'Schnee', 'Bümpliz', 'Härz', 'Hals']\n"
     ]
    }
   ],
   "source": [
    "# eine Liste aller Wörter, die mit Grossbuchstaben beginnen\n",
    "up_list = re.findall(r\"\\b[A-Z]\\w*\", text)\n",
    "print(up_list)"
   ]
  },
  {
   "cell_type": "code",
   "execution_count": 117,
   "metadata": {},
   "outputs": [
    {
     "name": "stdout",
     "output_type": "stream",
     "text": [
      "['unerreichbar', 'Himbeerbuebe', 'hnfrisiert', 'bluetjung', 'Chiuchef', 'nschterouge', 'ungergah', 'Zuckerstock', 'Wasserfau', 'ungergah']\n"
     ]
    }
   ],
   "source": [
    "# Eine Liste aller Wörter, die mehr als 8 Buchstaben haben\n",
    "eight_list = re.findall(r\"[a-z]{8,}\", text, re.IGNORECASE) \n",
    "print(eight_list)\n",
    "\n",
    "#Chiuchefänschterauge??"
   ]
  },
  {
   "cell_type": "code",
   "execution_count": 115,
   "metadata": {},
   "outputs": [
    {
     "name": "stdout",
     "output_type": "stream",
     "text": [
      "['geit', 'liecht', 'wie', 'unerreichbar', 'Himbeerbuebe', 'wie', 'föhnfrisiert', 'bluetjung', 'Sie', 'Chiuchefänschterouge', 'zue', 'sie', 'schtoub', 'weich', 'Schnee', 'Huus', 'Muur', 'Wasserfau', 'aus', 'Schnee']\n"
     ]
    }
   ],
   "source": [
    "# Eine Liste aller Wörte, die einen Doppelvokal enthalten (z.B. \"geit\")\n",
    "\n",
    "vowel_list = re.findall(r\"\\w*[aeiou][aeiou]\\w*\", text, re.IGNORECASE) \n",
    "print(vowel_list)"
   ]
  },
  {
   "cell_type": "code",
   "execution_count": null,
   "metadata": {
    "collapsed": true
   },
   "outputs": [],
   "source": []
  },
  {
   "cell_type": "code",
   "execution_count": null,
   "metadata": {
    "collapsed": true
   },
   "outputs": [],
   "source": []
  },
  {
   "cell_type": "markdown",
   "metadata": {},
   "source": [
    "## Advanced"
   ]
  },
  {
   "cell_type": "code",
   "execution_count": 130,
   "metadata": {},
   "outputs": [
    {
     "name": "stdout",
     "output_type": "stream",
     "text": [
      "3\n",
      "5\n"
     ]
    }
   ],
   "source": [
    "# Welches Wort kommt im Text öfter vor: \"w. Nuss\" oder \"Bümpliz\"?\n",
    "nuss_list = re.findall(r\"w. Nuss\", text, re.IGNORECASE)\n",
    "bümpliz_list = re.findall(r\"Bümpliz\", text, re.IGNORECASE)\n",
    "print(len(nuss_list))\n",
    "print(len(bümpliz_list))\n"
   ]
  },
  {
   "cell_type": "code",
   "execution_count": null,
   "metadata": {},
   "outputs": [],
   "source": [
    "# An welcher Position (Zeichen-Nr) steht das Wort \"Zuckerstock\"?\n"
   ]
  },
  {
   "cell_type": "code",
   "execution_count": null,
   "metadata": {},
   "outputs": [],
   "source": [
    "# Sortieren Sie die Liedzeilen nach der Länge der Zeile\n"
   ]
  },
  {
   "cell_type": "code",
   "execution_count": null,
   "metadata": {},
   "outputs": [],
   "source": [
    "# Welches ist die längste Liedzeile?\n"
   ]
  },
  {
   "cell_type": "code",
   "execution_count": null,
   "metadata": {},
   "outputs": [],
   "source": [
    "# Ersetzen Sie \"v. Nuss\" durch \"Venus\"\n"
   ]
  },
  {
   "cell_type": "code",
   "execution_count": null,
   "metadata": {},
   "outputs": [],
   "source": [
    "# Entfernen Sie alle Wörter, die weniger als 3 Buchstaben lang sind, aus dem Text\n"
   ]
  },
  {
   "cell_type": "code",
   "execution_count": null,
   "metadata": {},
   "outputs": [],
   "source": [
    "# Entfernen Sie alle Wörter, die weniger als 3 Buchstaben lang sind, sowie alle Sonderzeichen aus dem Text\n"
   ]
  },
  {
   "cell_type": "code",
   "execution_count": null,
   "metadata": {},
   "outputs": [],
   "source": [
    "# Entfernen Sie alle Wörter, die weniger als 4 Buchstaben lang sind, sowie alle Sonderzeichen aus dem Text\n",
    "# Dann reduzieren Sie alle doppelten und dreifachen Leerschläge auf einen Leerschlag (die Strophen intakt lassen)\n",
    "# Dann entfernen Sie alle Leerschläge am Anfang von Zeilen. (Achtung, hier braucht es flags=re.MULTILINE)\n"
   ]
  },
  {
   "cell_type": "code",
   "execution_count": null,
   "metadata": {},
   "outputs": [],
   "source": [
    "# Entfernen Sie den letzten Buchstaben aus jedem Wort\n"
   ]
  },
  {
   "cell_type": "markdown",
   "metadata": {
    "collapsed": true
   },
   "source": [
    "## Pro"
   ]
  },
  {
   "cell_type": "code",
   "execution_count": null,
   "metadata": {},
   "outputs": [],
   "source": [
    "# Konvertieren Sie alles zu Kleinbuchstaben\n",
    "# Dann erstellen Sie eine Liste aller Wörter im Text\n",
    "# Dann sortieren Sie die Liste alphabetisch - jedes Wort soll nur einmal vorkommen\n"
   ]
  },
  {
   "cell_type": "code",
   "execution_count": null,
   "metadata": {},
   "outputs": [],
   "source": [
    "# Wie viele unterschiedliche Wörter kommen im Text vor?\n"
   ]
  },
  {
   "cell_type": "code",
   "execution_count": null,
   "metadata": {},
   "outputs": [],
   "source": [
    "# Welcher Buchstabe steht am häufigsten vor einem \"ä\" (Gross/Kleinschreibung egal)?\n"
   ]
  },
  {
   "cell_type": "code",
   "execution_count": null,
   "metadata": {},
   "outputs": [],
   "source": [
    "# Liste aller Buchstaben, die nochmals vom selben Buchstaben gefolgt werden\n"
   ]
  },
  {
   "cell_type": "code",
   "execution_count": null,
   "metadata": {},
   "outputs": [],
   "source": [
    "# Ersetzen Sie sämtliche Doppelbuchstaben (zB \"aa\") durch einfache Buchstaben (\"a)\n",
    "# Achtung: Sie müssen eine separate (Lambda-)Funktion dafür schreiben\n",
    "\n"
   ]
  },
  {
   "cell_type": "markdown",
   "metadata": {},
   "source": [
    "### Super-Pro 1"
   ]
  },
  {
   "cell_type": "markdown",
   "metadata": {},
   "source": [
    "Wenn wir mehr als eine Gruppe bilden, können wir die einzelnen Gruppen mit `group(1)`, `group(2)` etc. abrufen."
   ]
  },
  {
   "cell_type": "code",
   "execution_count": null,
   "metadata": {
    "collapsed": true
   },
   "outputs": [],
   "source": [
    "match = re.search(r\"(\\w)(\\w+)(\\w)\", text) #Findet ein Wort, das mindestens 4 Buchstaben hat, fängt 3 Gruppen ein"
   ]
  },
  {
   "cell_type": "code",
   "execution_count": null,
   "metadata": {},
   "outputs": [],
   "source": [
    "match.group() #Der ganze gematchte Inhalt"
   ]
  },
  {
   "cell_type": "code",
   "execution_count": null,
   "metadata": {},
   "outputs": [],
   "source": [
    "match.group(1) #Nur der Inhalt der ersten Unterruppe"
   ]
  },
  {
   "cell_type": "code",
   "execution_count": null,
   "metadata": {},
   "outputs": [],
   "source": [
    "match.group(3) #Nur der Inhalt der dritten Untergruppe"
   ]
  },
  {
   "cell_type": "code",
   "execution_count": null,
   "metadata": {
    "collapsed": true
   },
   "outputs": [],
   "source": [
    "# Vertauschen Sie in sämtlichen Wörtern mit mindestens 3 Buchstaben den ersten und letzten Buchstaben\n",
    "# Achtung: Sie müssen eine separate (Lambda-)Funktion dafür schreiben\n"
   ]
  },
  {
   "cell_type": "code",
   "execution_count": null,
   "metadata": {},
   "outputs": [],
   "source": []
  },
  {
   "cell_type": "markdown",
   "metadata": {},
   "source": [
    "### Super-Pro 2"
   ]
  },
  {
   "cell_type": "code",
   "execution_count": null,
   "metadata": {},
   "outputs": [],
   "source": [
    "# Wirbeln Sie die Wörter, die auf einer Zeile stehen, durcheinander. (Die Zeilen-Reihenfolge bleibt aber intakt)\n",
    "# Bsp:\n",
    "# w dür D Bümpliz d Nuss Strass vo geit\n",
    "# flüchtig liecht u wie Gas nes\n",
    "..."
   ]
  },
  {
   "cell_type": "code",
   "execution_count": null,
   "metadata": {},
   "outputs": [],
   "source": [
    "#Tipp 1: Hier ist eine Shuffle-Funktion\n",
    "from random import shuffle\n",
    "my_list = [\"a\", \"b\", \"c\", \"d\", \"e\"]\n",
    "shuffle(my_list)\n",
    "my_list"
   ]
  },
  {
   "cell_type": "code",
   "execution_count": null,
   "metadata": {},
   "outputs": [],
   "source": [
    "# Tipp 2: List comprehension (massiv) benutzen\n",
    "[element.upper() for element in my_list]"
   ]
  },
  {
   "cell_type": "code",
   "execution_count": null,
   "metadata": {},
   "outputs": [],
   "source": [
    "# Tipp 3: .join() benutzen\n",
    "\" \".join(my_list)"
   ]
  },
  {
   "cell_type": "code",
   "execution_count": null,
   "metadata": {},
   "outputs": [],
   "source": [
    "#Braucht ca 3-5 Zeilen Code...\n"
   ]
  },
  {
   "cell_type": "code",
   "execution_count": null,
   "metadata": {
    "collapsed": true
   },
   "outputs": [],
   "source": []
  }
 ],
 "metadata": {
  "kernelspec": {
   "display_name": "Python 3",
   "language": "python",
   "name": "python3"
  },
  "language_info": {
   "codemirror_mode": {
    "name": "ipython",
    "version": 3
   },
   "file_extension": ".py",
   "mimetype": "text/x-python",
   "name": "python",
   "nbconvert_exporter": "python",
   "pygments_lexer": "ipython3",
   "version": "3.7.3"
  }
 },
 "nbformat": 4,
 "nbformat_minor": 2
}
