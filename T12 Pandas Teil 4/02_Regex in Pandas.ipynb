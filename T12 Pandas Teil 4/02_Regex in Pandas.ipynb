{
 "cells": [
  {
   "cell_type": "markdown",
   "metadata": {},
   "source": [
    "# Regex in Pandas"
   ]
  },
  {
   "cell_type": "markdown",
   "metadata": {},
   "source": [
    "**Inhalt:** Regular Expressions in Pandas anwenden\n",
    "\n",
    "**Nötige Skills:** Regex in Python\n",
    "\n",
    "**Lernziele:**\n",
    "- Ein praktisches Beispiel kennenlernen, wo Regex nützlich sein kann"
   ]
  },
  {
   "cell_type": "markdown",
   "metadata": {},
   "source": [
    "# Das Beispiel"
   ]
  },
  {
   "cell_type": "markdown",
   "metadata": {},
   "source": [
    "Das Bundesamt für Statistik stellt oft Dateien in verknorkster Form zur Verfügung, zum Beispiel, wenn man Auswertungen nach Gemeinden, Bezirken und Kantonen über das interaktive Portal generieren lässt: https://www.pxweb.bfs.admin.ch/pxweb/de/\n",
    "\n",
    "Das vorliegende Beispiel beinhaltet die Bevölkerungszahlen, gegliedert nach Zivilstand einerseits (ledig, verheiratet, etc) und nach räumlicher Struktur (Gemeinden, Bezirke, Kantone) andererseits.\n",
    "\n",
    "Das File ist gespeichert unter `dataprojects/BFS/px-x-0102010000_103.xlsx`"
   ]
  },
  {
   "cell_type": "markdown",
   "metadata": {},
   "source": [
    "Unser 1. Ziel ist: Wir wollen die Tabelle filtern\n",
    "- nur die Gemeinden\n",
    "- nur die Bezirke\n",
    "- nur die Kantone"
   ]
  },
  {
   "cell_type": "markdown",
   "metadata": {
    "collapsed": true
   },
   "source": [
    "Unser 2. Ziel ist: Wir wollen bei den Gemeinden die jeweilige Nummer isolieren"
   ]
  },
  {
   "cell_type": "markdown",
   "metadata": {},
   "source": [
    "## Vorbereitung"
   ]
  },
  {
   "cell_type": "code",
   "execution_count": 10,
   "metadata": {},
   "outputs": [],
   "source": [
    "import pandas as pd"
   ]
  },
  {
   "cell_type": "code",
   "execution_count": 11,
   "metadata": {},
   "outputs": [],
   "source": [
    "import re"
   ]
  },
  {
   "cell_type": "code",
   "execution_count": 12,
   "metadata": {},
   "outputs": [],
   "source": [
    "%matplotlib inline"
   ]
  },
  {
   "cell_type": "markdown",
   "metadata": {},
   "source": [
    "## Datei laden"
   ]
  },
  {
   "cell_type": "code",
   "execution_count": 13,
   "metadata": {},
   "outputs": [],
   "source": [
    "path = 'dataprojects/BFS/px-x-0102010000_103.xlsx'"
   ]
  },
  {
   "cell_type": "code",
   "execution_count": 14,
   "metadata": {},
   "outputs": [],
   "source": [
    "df = pd.read_excel(path)"
   ]
  },
  {
   "cell_type": "markdown",
   "metadata": {},
   "source": [
    "## Explorieren"
   ]
  },
  {
   "cell_type": "code",
   "execution_count": 15,
   "metadata": {},
   "outputs": [
    {
     "data": {
      "text/html": [
       "<div>\n",
       "<style scoped>\n",
       "    .dataframe tbody tr th:only-of-type {\n",
       "        vertical-align: middle;\n",
       "    }\n",
       "\n",
       "    .dataframe tbody tr th {\n",
       "        vertical-align: top;\n",
       "    }\n",
       "\n",
       "    .dataframe thead th {\n",
       "        text-align: right;\n",
       "    }\n",
       "</style>\n",
       "<table border=\"1\" class=\"dataframe\">\n",
       "  <thead>\n",
       "    <tr style=\"text-align: right;\">\n",
       "      <th></th>\n",
       "      <th>Einheit</th>\n",
       "      <th>Zivilstand</th>\n",
       "      <th>Anzahl</th>\n",
       "    </tr>\n",
       "  </thead>\n",
       "  <tbody>\n",
       "    <tr>\n",
       "      <th>0</th>\n",
       "      <td>Schweiz</td>\n",
       "      <td>Ledig</td>\n",
       "      <td>3650651</td>\n",
       "    </tr>\n",
       "    <tr>\n",
       "      <th>1</th>\n",
       "      <td>Schweiz</td>\n",
       "      <td>Verheiratet</td>\n",
       "      <td>3583008</td>\n",
       "    </tr>\n",
       "    <tr>\n",
       "      <th>2</th>\n",
       "      <td>Schweiz</td>\n",
       "      <td>Verwitwet</td>\n",
       "      <td>407408</td>\n",
       "    </tr>\n",
       "    <tr>\n",
       "      <th>3</th>\n",
       "      <td>Schweiz</td>\n",
       "      <td>Geschieden</td>\n",
       "      <td>685622</td>\n",
       "    </tr>\n",
       "    <tr>\n",
       "      <th>4</th>\n",
       "      <td>- Zürich</td>\n",
       "      <td>Ledig</td>\n",
       "      <td>666873</td>\n",
       "    </tr>\n",
       "    <tr>\n",
       "      <th>5</th>\n",
       "      <td>- Zürich</td>\n",
       "      <td>Verheiratet</td>\n",
       "      <td>610396</td>\n",
       "    </tr>\n",
       "    <tr>\n",
       "      <th>6</th>\n",
       "      <td>- Zürich</td>\n",
       "      <td>Verwitwet</td>\n",
       "      <td>63173</td>\n",
       "    </tr>\n",
       "    <tr>\n",
       "      <th>7</th>\n",
       "      <td>- Zürich</td>\n",
       "      <td>Geschieden</td>\n",
       "      <td>125889</td>\n",
       "    </tr>\n",
       "    <tr>\n",
       "      <th>8</th>\n",
       "      <td>&gt;&gt; Bezirk Affoltern</td>\n",
       "      <td>Ledig</td>\n",
       "      <td>21785</td>\n",
       "    </tr>\n",
       "    <tr>\n",
       "      <th>9</th>\n",
       "      <td>&gt;&gt; Bezirk Affoltern</td>\n",
       "      <td>Verheiratet</td>\n",
       "      <td>23865</td>\n",
       "    </tr>\n",
       "    <tr>\n",
       "      <th>10</th>\n",
       "      <td>&gt;&gt; Bezirk Affoltern</td>\n",
       "      <td>Verwitwet</td>\n",
       "      <td>1875</td>\n",
       "    </tr>\n",
       "    <tr>\n",
       "      <th>11</th>\n",
       "      <td>&gt;&gt; Bezirk Affoltern</td>\n",
       "      <td>Geschieden</td>\n",
       "      <td>4076</td>\n",
       "    </tr>\n",
       "    <tr>\n",
       "      <th>12</th>\n",
       "      <td>......0001 Aeugst am Albis</td>\n",
       "      <td>Ledig</td>\n",
       "      <td>852</td>\n",
       "    </tr>\n",
       "    <tr>\n",
       "      <th>13</th>\n",
       "      <td>......0001 Aeugst am Albis</td>\n",
       "      <td>Verheiratet</td>\n",
       "      <td>908</td>\n",
       "    </tr>\n",
       "    <tr>\n",
       "      <th>14</th>\n",
       "      <td>......0001 Aeugst am Albis</td>\n",
       "      <td>Verwitwet</td>\n",
       "      <td>74</td>\n",
       "    </tr>\n",
       "    <tr>\n",
       "      <th>15</th>\n",
       "      <td>......0001 Aeugst am Albis</td>\n",
       "      <td>Geschieden</td>\n",
       "      <td>147</td>\n",
       "    </tr>\n",
       "    <tr>\n",
       "      <th>16</th>\n",
       "      <td>......0002 Affoltern am Albis</td>\n",
       "      <td>Ledig</td>\n",
       "      <td>5000</td>\n",
       "    </tr>\n",
       "    <tr>\n",
       "      <th>17</th>\n",
       "      <td>......0002 Affoltern am Albis</td>\n",
       "      <td>Verheiratet</td>\n",
       "      <td>5159</td>\n",
       "    </tr>\n",
       "    <tr>\n",
       "      <th>18</th>\n",
       "      <td>......0002 Affoltern am Albis</td>\n",
       "      <td>Verwitwet</td>\n",
       "      <td>545</td>\n",
       "    </tr>\n",
       "    <tr>\n",
       "      <th>19</th>\n",
       "      <td>......0002 Affoltern am Albis</td>\n",
       "      <td>Geschieden</td>\n",
       "      <td>1004</td>\n",
       "    </tr>\n",
       "  </tbody>\n",
       "</table>\n",
       "</div>"
      ],
      "text/plain": [
       "                          Einheit   Zivilstand   Anzahl\n",
       "0                         Schweiz        Ledig  3650651\n",
       "1                         Schweiz  Verheiratet  3583008\n",
       "2                         Schweiz    Verwitwet   407408\n",
       "3                         Schweiz   Geschieden   685622\n",
       "4                        - Zürich        Ledig   666873\n",
       "5                        - Zürich  Verheiratet   610396\n",
       "6                        - Zürich    Verwitwet    63173\n",
       "7                        - Zürich   Geschieden   125889\n",
       "8             >> Bezirk Affoltern        Ledig    21785\n",
       "9             >> Bezirk Affoltern  Verheiratet    23865\n",
       "10            >> Bezirk Affoltern    Verwitwet     1875\n",
       "11            >> Bezirk Affoltern   Geschieden     4076\n",
       "12     ......0001 Aeugst am Albis        Ledig      852\n",
       "13     ......0001 Aeugst am Albis  Verheiratet      908\n",
       "14     ......0001 Aeugst am Albis    Verwitwet       74\n",
       "15     ......0001 Aeugst am Albis   Geschieden      147\n",
       "16  ......0002 Affoltern am Albis        Ledig     5000\n",
       "17  ......0002 Affoltern am Albis  Verheiratet     5159\n",
       "18  ......0002 Affoltern am Albis    Verwitwet      545\n",
       "19  ......0002 Affoltern am Albis   Geschieden     1004"
      ]
     },
     "execution_count": 15,
     "metadata": {},
     "output_type": "execute_result"
    }
   ],
   "source": [
    "df.head(20)"
   ]
  },
  {
   "cell_type": "code",
   "execution_count": null,
   "metadata": {},
   "outputs": [],
   "source": []
  },
  {
   "cell_type": "markdown",
   "metadata": {},
   "source": [
    "Welche Einheitstypen gibt es? Und welches Muster haben sie?\n",
    "- Gemeinde (\"...... 9999 Gemeindename\")\n",
    "- Bezirk (\">> Bezirsname\")\n",
    "- Kantone (\"- Kantonsname\")\n",
    "- Land (\"Land\")"
   ]
  },
  {
   "cell_type": "markdown",
   "metadata": {},
   "source": [
    "## Pandas-Funktionen, die Regex brauchen können"
   ]
  },
  {
   "cell_type": "markdown",
   "metadata": {},
   "source": [
    "Einige Befehle heissen leicht anders, funktionieren aber sehr ähnlich wie in der re.Library\n",
    "\n",
    "- **`str.contains(r\"regex\")`**: das Pendant zu `re.search()` - ja/nein-Antwort\n",
    "\n",
    "- **`str.extract(r\"regex\")`**: auch ähnlich wie `re.search()` - Suchergebnis als Antwort\n",
    "\n",
    "- **`str.replace(r\"regex\", \"str\")`**: das Pendant zu `re.sub()` - ersetzt Match mit String"
   ]
  },
  {
   "cell_type": "markdown",
   "metadata": {},
   "source": [
    "Wir wenden diese Funktionen jetzt an."
   ]
  },
  {
   "cell_type": "markdown",
   "metadata": {},
   "source": [
    "### Aber zuerst ..."
   ]
  },
  {
   "cell_type": "markdown",
   "metadata": {},
   "source": [
    "**Quiz:** Zuerst brauchen wir die Regex-Ausdrücke, um die Einheiten zu erkennen.\n",
    "\n",
    "Am besten mit Tests beginnen, ob die Regex an einer Einheit anschlägt - und jeweils auch testen, ob die Regex bei Einheiten, die wir *nicht* wollen, auch *nicht* anschlägt."
   ]
  },
  {
   "cell_type": "markdown",
   "metadata": {},
   "source": [
    "**Test für Kantone**"
   ]
  },
  {
   "cell_type": "code",
   "execution_count": 16,
   "metadata": {},
   "outputs": [],
   "source": [
    "# Unsere Regex\n",
    "regex_k = r\"^- \""
   ]
  },
  {
   "cell_type": "code",
   "execution_count": 17,
   "metadata": {},
   "outputs": [
    {
     "data": {
      "text/plain": [
       "<re.Match object; span=(0, 2), match='- '>"
      ]
     },
     "execution_count": 17,
     "metadata": {},
     "output_type": "execute_result"
    }
   ],
   "source": [
    "# Schlägt die regex bei den Kantonen an?\n",
    "# (Gut ist, wenn wir ein \"Match\"-Objekt erhalten)\n",
    "re.search(regex_k, \"- Aargau\")"
   ]
  },
  {
   "cell_type": "code",
   "execution_count": 18,
   "metadata": {},
   "outputs": [],
   "source": [
    "# Schlägt die regex bei den Bezirken NICHT an?\n",
    "# (Gut ist hier, wenn wir nichts zurückerhalten)\n",
    "re.search(regex_k, \">> Wahlkreis Luzern-Stadt\")"
   ]
  },
  {
   "cell_type": "code",
   "execution_count": 19,
   "metadata": {},
   "outputs": [],
   "source": [
    "# Schlägt die regex bei den Gemeinden NICHT an?\n",
    "re.search(regex_k, \"......0001 Aeugst am Albis\")"
   ]
  },
  {
   "cell_type": "markdown",
   "metadata": {},
   "source": [
    "**Test für Bezirke**"
   ]
  },
  {
   "cell_type": "code",
   "execution_count": 20,
   "metadata": {},
   "outputs": [],
   "source": [
    "# Unsere Regex\n",
    "regex_b = r\"^>> \""
   ]
  },
  {
   "cell_type": "code",
   "execution_count": 21,
   "metadata": {},
   "outputs": [
    {
     "data": {
      "text/plain": [
       "<re.Match object; span=(0, 3), match='>> '>"
      ]
     },
     "execution_count": 21,
     "metadata": {},
     "output_type": "execute_result"
    }
   ],
   "source": [
    "# Schlägt die regex bei den Bezirken an?\n",
    "re.search(regex_b, \">> Wahlkreis Luzern-Stadt\")"
   ]
  },
  {
   "cell_type": "code",
   "execution_count": 22,
   "metadata": {},
   "outputs": [],
   "source": [
    "# Schlägt die regex bei den Kantonen NICHT an?\n",
    "re.search(regex_b, \"- Aargau\")"
   ]
  },
  {
   "cell_type": "code",
   "execution_count": 23,
   "metadata": {},
   "outputs": [],
   "source": [
    "# Schlägt die regex bei den Gemeinden NICHT an?\n",
    "re.search(regex_b, \"......0001 Aeugst am Albis\")"
   ]
  },
  {
   "cell_type": "markdown",
   "metadata": {},
   "source": [
    "**Test für Gemeinden**"
   ]
  },
  {
   "cell_type": "code",
   "execution_count": 24,
   "metadata": {},
   "outputs": [],
   "source": [
    "# Unsere Regex\n",
    "regex_g = r\"^\\.{6}\""
   ]
  },
  {
   "cell_type": "code",
   "execution_count": 25,
   "metadata": {},
   "outputs": [
    {
     "data": {
      "text/plain": [
       "<re.Match object; span=(0, 6), match='......'>"
      ]
     },
     "execution_count": 25,
     "metadata": {},
     "output_type": "execute_result"
    }
   ],
   "source": [
    "# Test für Gemeinde\n",
    "re.search(regex_g, \"......0001 Aeugst am Albis\")"
   ]
  },
  {
   "cell_type": "code",
   "execution_count": 26,
   "metadata": {},
   "outputs": [],
   "source": [
    "# Schlägt die regex bei den Kantonen NICHT an?\n",
    "re.search(regex_g, \"- Aargau\")"
   ]
  },
  {
   "cell_type": "code",
   "execution_count": 27,
   "metadata": {},
   "outputs": [],
   "source": [
    "# Schlägt die regex bei den Bezirken NICHT an?\n",
    "re.search(regex_g, \">> Wahlkreis Luzern-Stadt\")"
   ]
  },
  {
   "cell_type": "markdown",
   "metadata": {},
   "source": [
    "zum Zusammenfassen:"
   ]
  },
  {
   "cell_type": "code",
   "execution_count": 28,
   "metadata": {},
   "outputs": [],
   "source": [
    "regex_k = r\"^- \"\n",
    "regex_b = r\"^>> \"\n",
    "regex_g = r\"^\\.{6}\""
   ]
  },
  {
   "cell_type": "markdown",
   "metadata": {},
   "source": [
    "## 1. Daten filtern"
   ]
  },
  {
   "cell_type": "markdown",
   "metadata": {},
   "source": [
    "Nachdem wir nun die passenden Regex-Ausdrücke gefunden haben, können wir unsere Daten filtern.\n",
    "\n",
    "Ziel: Wir erstellen ein separates DF für Gemeinden, Bezirke, Kantone."
   ]
  },
  {
   "cell_type": "markdown",
   "metadata": {},
   "source": [
    "Hier können wir die Funktion `str.contains()` gut brauchen.\n",
    "\n",
    "Wir testen damit mal, ob die Einträge in der Spalte \"Einheit\" eine Gemeinde sind:"
   ]
  },
  {
   "cell_type": "code",
   "execution_count": 29,
   "metadata": {},
   "outputs": [
    {
     "data": {
      "text/plain": [
       "0     False\n",
       "1     False\n",
       "2     False\n",
       "3     False\n",
       "4     False\n",
       "5     False\n",
       "6     False\n",
       "7     False\n",
       "8     False\n",
       "9     False\n",
       "10    False\n",
       "11    False\n",
       "12     True\n",
       "13     True\n",
       "14     True\n",
       "Name: Einheit, dtype: bool"
      ]
     },
     "execution_count": 29,
     "metadata": {},
     "output_type": "execute_result"
    }
   ],
   "source": [
    "df['Einheit'].str.contains(regex_g).head(15)"
   ]
  },
  {
   "cell_type": "markdown",
   "metadata": {},
   "source": [
    "Basierend auf dieser True/False-Liste können wir nun die Tabelle filtern."
   ]
  },
  {
   "cell_type": "code",
   "execution_count": 30,
   "metadata": {},
   "outputs": [
    {
     "data": {
      "text/html": [
       "<div>\n",
       "<style scoped>\n",
       "    .dataframe tbody tr th:only-of-type {\n",
       "        vertical-align: middle;\n",
       "    }\n",
       "\n",
       "    .dataframe tbody tr th {\n",
       "        vertical-align: top;\n",
       "    }\n",
       "\n",
       "    .dataframe thead th {\n",
       "        text-align: right;\n",
       "    }\n",
       "</style>\n",
       "<table border=\"1\" class=\"dataframe\">\n",
       "  <thead>\n",
       "    <tr style=\"text-align: right;\">\n",
       "      <th></th>\n",
       "      <th>Einheit</th>\n",
       "      <th>Zivilstand</th>\n",
       "      <th>Anzahl</th>\n",
       "    </tr>\n",
       "  </thead>\n",
       "  <tbody>\n",
       "    <tr>\n",
       "      <th>12</th>\n",
       "      <td>......0001 Aeugst am Albis</td>\n",
       "      <td>Ledig</td>\n",
       "      <td>852</td>\n",
       "    </tr>\n",
       "    <tr>\n",
       "      <th>13</th>\n",
       "      <td>......0001 Aeugst am Albis</td>\n",
       "      <td>Verheiratet</td>\n",
       "      <td>908</td>\n",
       "    </tr>\n",
       "    <tr>\n",
       "      <th>14</th>\n",
       "      <td>......0001 Aeugst am Albis</td>\n",
       "      <td>Verwitwet</td>\n",
       "      <td>74</td>\n",
       "    </tr>\n",
       "    <tr>\n",
       "      <th>15</th>\n",
       "      <td>......0001 Aeugst am Albis</td>\n",
       "      <td>Geschieden</td>\n",
       "      <td>147</td>\n",
       "    </tr>\n",
       "    <tr>\n",
       "      <th>16</th>\n",
       "      <td>......0002 Affoltern am Albis</td>\n",
       "      <td>Ledig</td>\n",
       "      <td>5000</td>\n",
       "    </tr>\n",
       "  </tbody>\n",
       "</table>\n",
       "</div>"
      ],
      "text/plain": [
       "                          Einheit   Zivilstand  Anzahl\n",
       "12     ......0001 Aeugst am Albis        Ledig     852\n",
       "13     ......0001 Aeugst am Albis  Verheiratet     908\n",
       "14     ......0001 Aeugst am Albis    Verwitwet      74\n",
       "15     ......0001 Aeugst am Albis   Geschieden     147\n",
       "16  ......0002 Affoltern am Albis        Ledig    5000"
      ]
     },
     "execution_count": 30,
     "metadata": {},
     "output_type": "execute_result"
    }
   ],
   "source": [
    "df[df['Einheit'].str.contains(regex_g)].head()"
   ]
  },
  {
   "cell_type": "markdown",
   "metadata": {},
   "source": [
    "Wir speichern den Output in einer separaten DF (als Kopie, damit wir nachher keinen Ärger kriegen)."
   ]
  },
  {
   "cell_type": "code",
   "execution_count": 31,
   "metadata": {},
   "outputs": [],
   "source": [
    "df_g = df[df['Einheit'].str.contains(regex_g)].copy()"
   ]
  },
  {
   "cell_type": "markdown",
   "metadata": {},
   "source": [
    "**Quiz:** Erstellen Sie zwei weitere Dataframes, in denen nur die Kantone und Bezirke sind."
   ]
  },
  {
   "cell_type": "code",
   "execution_count": 32,
   "metadata": {},
   "outputs": [],
   "source": [
    "df_k = df[df['Einheit'].str.contains(regex_k)].copy()"
   ]
  },
  {
   "cell_type": "code",
   "execution_count": 33,
   "metadata": {},
   "outputs": [],
   "source": [
    "df_b = df[df['Einheit'].str.contains(regex_b)].copy()"
   ]
  },
  {
   "cell_type": "code",
   "execution_count": 34,
   "metadata": {},
   "outputs": [
    {
     "data": {
      "text/html": [
       "<div>\n",
       "<style scoped>\n",
       "    .dataframe tbody tr th:only-of-type {\n",
       "        vertical-align: middle;\n",
       "    }\n",
       "\n",
       "    .dataframe tbody tr th {\n",
       "        vertical-align: top;\n",
       "    }\n",
       "\n",
       "    .dataframe thead th {\n",
       "        text-align: right;\n",
       "    }\n",
       "</style>\n",
       "<table border=\"1\" class=\"dataframe\">\n",
       "  <thead>\n",
       "    <tr style=\"text-align: right;\">\n",
       "      <th></th>\n",
       "      <th>Einheit</th>\n",
       "      <th>Zivilstand</th>\n",
       "      <th>Anzahl</th>\n",
       "    </tr>\n",
       "  </thead>\n",
       "  <tbody>\n",
       "    <tr>\n",
       "      <th>4</th>\n",
       "      <td>- Zürich</td>\n",
       "      <td>Ledig</td>\n",
       "      <td>666873</td>\n",
       "    </tr>\n",
       "    <tr>\n",
       "      <th>5</th>\n",
       "      <td>- Zürich</td>\n",
       "      <td>Verheiratet</td>\n",
       "      <td>610396</td>\n",
       "    </tr>\n",
       "    <tr>\n",
       "      <th>6</th>\n",
       "      <td>- Zürich</td>\n",
       "      <td>Verwitwet</td>\n",
       "      <td>63173</td>\n",
       "    </tr>\n",
       "    <tr>\n",
       "      <th>7</th>\n",
       "      <td>- Zürich</td>\n",
       "      <td>Geschieden</td>\n",
       "      <td>125889</td>\n",
       "    </tr>\n",
       "    <tr>\n",
       "      <th>732</th>\n",
       "      <td>- Bern / Berne</td>\n",
       "      <td>Ledig</td>\n",
       "      <td>437186</td>\n",
       "    </tr>\n",
       "    <tr>\n",
       "      <th>733</th>\n",
       "      <td>- Bern / Berne</td>\n",
       "      <td>Verheiratet</td>\n",
       "      <td>439372</td>\n",
       "    </tr>\n",
       "    <tr>\n",
       "      <th>734</th>\n",
       "      <td>- Bern / Berne</td>\n",
       "      <td>Verwitwet</td>\n",
       "      <td>56513</td>\n",
       "    </tr>\n",
       "    <tr>\n",
       "      <th>735</th>\n",
       "      <td>- Bern / Berne</td>\n",
       "      <td>Geschieden</td>\n",
       "      <td>84364</td>\n",
       "    </tr>\n",
       "    <tr>\n",
       "      <th>2200</th>\n",
       "      <td>- Luzern</td>\n",
       "      <td>Ledig</td>\n",
       "      <td>181455</td>\n",
       "    </tr>\n",
       "    <tr>\n",
       "      <th>2201</th>\n",
       "      <td>- Luzern</td>\n",
       "      <td>Verheiratet</td>\n",
       "      <td>172144</td>\n",
       "    </tr>\n",
       "    <tr>\n",
       "      <th>2202</th>\n",
       "      <td>- Luzern</td>\n",
       "      <td>Verwitwet</td>\n",
       "      <td>18613</td>\n",
       "    </tr>\n",
       "    <tr>\n",
       "      <th>2203</th>\n",
       "      <td>- Luzern</td>\n",
       "      <td>Geschieden</td>\n",
       "      <td>26541</td>\n",
       "    </tr>\n",
       "    <tr>\n",
       "      <th>2560</th>\n",
       "      <td>- Uri</td>\n",
       "      <td>Ledig</td>\n",
       "      <td>15323</td>\n",
       "    </tr>\n",
       "    <tr>\n",
       "      <th>2561</th>\n",
       "      <td>- Uri</td>\n",
       "      <td>Verheiratet</td>\n",
       "      <td>16871</td>\n",
       "    </tr>\n",
       "    <tr>\n",
       "      <th>2562</th>\n",
       "      <td>- Uri</td>\n",
       "      <td>Verwitwet</td>\n",
       "      <td>2027</td>\n",
       "    </tr>\n",
       "    <tr>\n",
       "      <th>2563</th>\n",
       "      <td>- Uri</td>\n",
       "      <td>Geschieden</td>\n",
       "      <td>1751</td>\n",
       "    </tr>\n",
       "    <tr>\n",
       "      <th>2648</th>\n",
       "      <td>- Schwyz</td>\n",
       "      <td>Ledig</td>\n",
       "      <td>66828</td>\n",
       "    </tr>\n",
       "    <tr>\n",
       "      <th>2649</th>\n",
       "      <td>- Schwyz</td>\n",
       "      <td>Verheiratet</td>\n",
       "      <td>68701</td>\n",
       "    </tr>\n",
       "    <tr>\n",
       "      <th>2650</th>\n",
       "      <td>- Schwyz</td>\n",
       "      <td>Verwitwet</td>\n",
       "      <td>6920</td>\n",
       "    </tr>\n",
       "    <tr>\n",
       "      <th>2651</th>\n",
       "      <td>- Schwyz</td>\n",
       "      <td>Geschieden</td>\n",
       "      <td>11639</td>\n",
       "    </tr>\n",
       "    <tr>\n",
       "      <th>2796</th>\n",
       "      <td>- Obwalden</td>\n",
       "      <td>Ledig</td>\n",
       "      <td>16432</td>\n",
       "    </tr>\n",
       "    <tr>\n",
       "      <th>2797</th>\n",
       "      <td>- Obwalden</td>\n",
       "      <td>Verheiratet</td>\n",
       "      <td>16562</td>\n",
       "    </tr>\n",
       "    <tr>\n",
       "      <th>2798</th>\n",
       "      <td>- Obwalden</td>\n",
       "      <td>Verwitwet</td>\n",
       "      <td>1771</td>\n",
       "    </tr>\n",
       "    <tr>\n",
       "      <th>2799</th>\n",
       "      <td>- Obwalden</td>\n",
       "      <td>Geschieden</td>\n",
       "      <td>2311</td>\n",
       "    </tr>\n",
       "    <tr>\n",
       "      <th>2832</th>\n",
       "      <td>- Nidwalden</td>\n",
       "      <td>Ledig</td>\n",
       "      <td>18392</td>\n",
       "    </tr>\n",
       "    <tr>\n",
       "      <th>2833</th>\n",
       "      <td>- Nidwalden</td>\n",
       "      <td>Verheiratet</td>\n",
       "      <td>18905</td>\n",
       "    </tr>\n",
       "    <tr>\n",
       "      <th>2834</th>\n",
       "      <td>- Nidwalden</td>\n",
       "      <td>Verwitwet</td>\n",
       "      <td>1946</td>\n",
       "    </tr>\n",
       "    <tr>\n",
       "      <th>2835</th>\n",
       "      <td>- Nidwalden</td>\n",
       "      <td>Geschieden</td>\n",
       "      <td>3176</td>\n",
       "    </tr>\n",
       "    <tr>\n",
       "      <th>2884</th>\n",
       "      <td>- Glarus</td>\n",
       "      <td>Ledig</td>\n",
       "      <td>16607</td>\n",
       "    </tr>\n",
       "    <tr>\n",
       "      <th>2885</th>\n",
       "      <td>- Glarus</td>\n",
       "      <td>Verheiratet</td>\n",
       "      <td>18015</td>\n",
       "    </tr>\n",
       "    <tr>\n",
       "      <th>...</th>\n",
       "      <td>...</td>\n",
       "      <td>...</td>\n",
       "      <td>...</td>\n",
       "    </tr>\n",
       "    <tr>\n",
       "      <th>5662</th>\n",
       "      <td>- Aargau</td>\n",
       "      <td>Verwitwet</td>\n",
       "      <td>29873</td>\n",
       "    </tr>\n",
       "    <tr>\n",
       "      <th>5663</th>\n",
       "      <td>- Aargau</td>\n",
       "      <td>Geschieden</td>\n",
       "      <td>50715</td>\n",
       "    </tr>\n",
       "    <tr>\n",
       "      <th>6560</th>\n",
       "      <td>- Thurgau</td>\n",
       "      <td>Ledig</td>\n",
       "      <td>113225</td>\n",
       "    </tr>\n",
       "    <tr>\n",
       "      <th>6561</th>\n",
       "      <td>- Thurgau</td>\n",
       "      <td>Verheiratet</td>\n",
       "      <td>119530</td>\n",
       "    </tr>\n",
       "    <tr>\n",
       "      <th>6562</th>\n",
       "      <td>- Thurgau</td>\n",
       "      <td>Verwitwet</td>\n",
       "      <td>12428</td>\n",
       "    </tr>\n",
       "    <tr>\n",
       "      <th>6563</th>\n",
       "      <td>- Thurgau</td>\n",
       "      <td>Geschieden</td>\n",
       "      <td>22240</td>\n",
       "    </tr>\n",
       "    <tr>\n",
       "      <th>6904</th>\n",
       "      <td>- Ticino</td>\n",
       "      <td>Ledig</td>\n",
       "      <td>146039</td>\n",
       "    </tr>\n",
       "    <tr>\n",
       "      <th>6905</th>\n",
       "      <td>- Ticino</td>\n",
       "      <td>Verheiratet</td>\n",
       "      <td>155489</td>\n",
       "    </tr>\n",
       "    <tr>\n",
       "      <th>6906</th>\n",
       "      <td>- Ticino</td>\n",
       "      <td>Verwitwet</td>\n",
       "      <td>21428</td>\n",
       "    </tr>\n",
       "    <tr>\n",
       "      <th>6907</th>\n",
       "      <td>- Ticino</td>\n",
       "      <td>Geschieden</td>\n",
       "      <td>28986</td>\n",
       "    </tr>\n",
       "    <tr>\n",
       "      <th>7480</th>\n",
       "      <td>- Vaud</td>\n",
       "      <td>Ledig</td>\n",
       "      <td>353300</td>\n",
       "    </tr>\n",
       "    <tr>\n",
       "      <th>7481</th>\n",
       "      <td>- Vaud</td>\n",
       "      <td>Verheiratet</td>\n",
       "      <td>319635</td>\n",
       "    </tr>\n",
       "    <tr>\n",
       "      <th>7482</th>\n",
       "      <td>- Vaud</td>\n",
       "      <td>Verwitwet</td>\n",
       "      <td>34632</td>\n",
       "    </tr>\n",
       "    <tr>\n",
       "      <th>7483</th>\n",
       "      <td>- Vaud</td>\n",
       "      <td>Geschieden</td>\n",
       "      <td>65726</td>\n",
       "    </tr>\n",
       "    <tr>\n",
       "      <th>8796</th>\n",
       "      <td>- Valais / Wallis</td>\n",
       "      <td>Ledig</td>\n",
       "      <td>142216</td>\n",
       "    </tr>\n",
       "    <tr>\n",
       "      <th>8797</th>\n",
       "      <td>- Valais / Wallis</td>\n",
       "      <td>Verheiratet</td>\n",
       "      <td>149122</td>\n",
       "    </tr>\n",
       "    <tr>\n",
       "      <th>8798</th>\n",
       "      <td>- Valais / Wallis</td>\n",
       "      <td>Verwitwet</td>\n",
       "      <td>18131</td>\n",
       "    </tr>\n",
       "    <tr>\n",
       "      <th>8799</th>\n",
       "      <td>- Valais / Wallis</td>\n",
       "      <td>Geschieden</td>\n",
       "      <td>26205</td>\n",
       "    </tr>\n",
       "    <tr>\n",
       "      <th>9388</th>\n",
       "      <td>- Neuchâtel</td>\n",
       "      <td>Ledig</td>\n",
       "      <td>77637</td>\n",
       "    </tr>\n",
       "    <tr>\n",
       "      <th>9389</th>\n",
       "      <td>- Neuchâtel</td>\n",
       "      <td>Verheiratet</td>\n",
       "      <td>72766</td>\n",
       "    </tr>\n",
       "    <tr>\n",
       "      <th>9390</th>\n",
       "      <td>- Neuchâtel</td>\n",
       "      <td>Verwitwet</td>\n",
       "      <td>9890</td>\n",
       "    </tr>\n",
       "    <tr>\n",
       "      <th>9391</th>\n",
       "      <td>- Neuchâtel</td>\n",
       "      <td>Geschieden</td>\n",
       "      <td>17812</td>\n",
       "    </tr>\n",
       "    <tr>\n",
       "      <th>9564</th>\n",
       "      <td>- Genève</td>\n",
       "      <td>Ledig</td>\n",
       "      <td>224586</td>\n",
       "    </tr>\n",
       "    <tr>\n",
       "      <th>9565</th>\n",
       "      <td>- Genève</td>\n",
       "      <td>Verheiratet</td>\n",
       "      <td>193557</td>\n",
       "    </tr>\n",
       "    <tr>\n",
       "      <th>9566</th>\n",
       "      <td>- Genève</td>\n",
       "      <td>Verwitwet</td>\n",
       "      <td>20496</td>\n",
       "    </tr>\n",
       "    <tr>\n",
       "      <th>9567</th>\n",
       "      <td>- Genève</td>\n",
       "      <td>Geschieden</td>\n",
       "      <td>46072</td>\n",
       "    </tr>\n",
       "    <tr>\n",
       "      <th>9752</th>\n",
       "      <td>- Jura</td>\n",
       "      <td>Ledig</td>\n",
       "      <td>31049</td>\n",
       "    </tr>\n",
       "    <tr>\n",
       "      <th>9753</th>\n",
       "      <td>- Jura</td>\n",
       "      <td>Verheiratet</td>\n",
       "      <td>31408</td>\n",
       "    </tr>\n",
       "    <tr>\n",
       "      <th>9754</th>\n",
       "      <td>- Jura</td>\n",
       "      <td>Verwitwet</td>\n",
       "      <td>4538</td>\n",
       "    </tr>\n",
       "    <tr>\n",
       "      <th>9755</th>\n",
       "      <td>- Jura</td>\n",
       "      <td>Geschieden</td>\n",
       "      <td>5786</td>\n",
       "    </tr>\n",
       "  </tbody>\n",
       "</table>\n",
       "<p>104 rows × 3 columns</p>\n",
       "</div>"
      ],
      "text/plain": [
       "                Einheit   Zivilstand  Anzahl\n",
       "4              - Zürich        Ledig  666873\n",
       "5              - Zürich  Verheiratet  610396\n",
       "6              - Zürich    Verwitwet   63173\n",
       "7              - Zürich   Geschieden  125889\n",
       "732      - Bern / Berne        Ledig  437186\n",
       "733      - Bern / Berne  Verheiratet  439372\n",
       "734      - Bern / Berne    Verwitwet   56513\n",
       "735      - Bern / Berne   Geschieden   84364\n",
       "2200           - Luzern        Ledig  181455\n",
       "2201           - Luzern  Verheiratet  172144\n",
       "2202           - Luzern    Verwitwet   18613\n",
       "2203           - Luzern   Geschieden   26541\n",
       "2560              - Uri        Ledig   15323\n",
       "2561              - Uri  Verheiratet   16871\n",
       "2562              - Uri    Verwitwet    2027\n",
       "2563              - Uri   Geschieden    1751\n",
       "2648           - Schwyz        Ledig   66828\n",
       "2649           - Schwyz  Verheiratet   68701\n",
       "2650           - Schwyz    Verwitwet    6920\n",
       "2651           - Schwyz   Geschieden   11639\n",
       "2796         - Obwalden        Ledig   16432\n",
       "2797         - Obwalden  Verheiratet   16562\n",
       "2798         - Obwalden    Verwitwet    1771\n",
       "2799         - Obwalden   Geschieden    2311\n",
       "2832        - Nidwalden        Ledig   18392\n",
       "2833        - Nidwalden  Verheiratet   18905\n",
       "2834        - Nidwalden    Verwitwet    1946\n",
       "2835        - Nidwalden   Geschieden    3176\n",
       "2884           - Glarus        Ledig   16607\n",
       "2885           - Glarus  Verheiratet   18015\n",
       "...                 ...          ...     ...\n",
       "5662           - Aargau    Verwitwet   29873\n",
       "5663           - Aargau   Geschieden   50715\n",
       "6560          - Thurgau        Ledig  113225\n",
       "6561          - Thurgau  Verheiratet  119530\n",
       "6562          - Thurgau    Verwitwet   12428\n",
       "6563          - Thurgau   Geschieden   22240\n",
       "6904           - Ticino        Ledig  146039\n",
       "6905           - Ticino  Verheiratet  155489\n",
       "6906           - Ticino    Verwitwet   21428\n",
       "6907           - Ticino   Geschieden   28986\n",
       "7480             - Vaud        Ledig  353300\n",
       "7481             - Vaud  Verheiratet  319635\n",
       "7482             - Vaud    Verwitwet   34632\n",
       "7483             - Vaud   Geschieden   65726\n",
       "8796  - Valais / Wallis        Ledig  142216\n",
       "8797  - Valais / Wallis  Verheiratet  149122\n",
       "8798  - Valais / Wallis    Verwitwet   18131\n",
       "8799  - Valais / Wallis   Geschieden   26205\n",
       "9388        - Neuchâtel        Ledig   77637\n",
       "9389        - Neuchâtel  Verheiratet   72766\n",
       "9390        - Neuchâtel    Verwitwet    9890\n",
       "9391        - Neuchâtel   Geschieden   17812\n",
       "9564           - Genève        Ledig  224586\n",
       "9565           - Genève  Verheiratet  193557\n",
       "9566           - Genève    Verwitwet   20496\n",
       "9567           - Genève   Geschieden   46072\n",
       "9752             - Jura        Ledig   31049\n",
       "9753             - Jura  Verheiratet   31408\n",
       "9754             - Jura    Verwitwet    4538\n",
       "9755             - Jura   Geschieden    5786\n",
       "\n",
       "[104 rows x 3 columns]"
      ]
     },
     "execution_count": 34,
     "metadata": {},
     "output_type": "execute_result"
    }
   ],
   "source": [
    "df_k"
   ]
  },
  {
   "cell_type": "markdown",
   "metadata": {},
   "source": [
    "## 2. Daten extrahieren"
   ]
  },
  {
   "cell_type": "markdown",
   "metadata": {},
   "source": [
    "Wir wenden uns den Gemeinden zu. Unser Ziel: Die Gemeindenummer in eine separate Spalte ziehen."
   ]
  },
  {
   "cell_type": "code",
   "execution_count": 36,
   "metadata": {},
   "outputs": [
    {
     "data": {
      "text/html": [
       "<div>\n",
       "<style scoped>\n",
       "    .dataframe tbody tr th:only-of-type {\n",
       "        vertical-align: middle;\n",
       "    }\n",
       "\n",
       "    .dataframe tbody tr th {\n",
       "        vertical-align: top;\n",
       "    }\n",
       "\n",
       "    .dataframe thead th {\n",
       "        text-align: right;\n",
       "    }\n",
       "</style>\n",
       "<table border=\"1\" class=\"dataframe\">\n",
       "  <thead>\n",
       "    <tr style=\"text-align: right;\">\n",
       "      <th></th>\n",
       "      <th>Einheit</th>\n",
       "      <th>Zivilstand</th>\n",
       "      <th>Anzahl</th>\n",
       "    </tr>\n",
       "  </thead>\n",
       "  <tbody>\n",
       "    <tr>\n",
       "      <th>12</th>\n",
       "      <td>......0001 Aeugst am Albis</td>\n",
       "      <td>Ledig</td>\n",
       "      <td>852</td>\n",
       "    </tr>\n",
       "    <tr>\n",
       "      <th>13</th>\n",
       "      <td>......0001 Aeugst am Albis</td>\n",
       "      <td>Verheiratet</td>\n",
       "      <td>908</td>\n",
       "    </tr>\n",
       "  </tbody>\n",
       "</table>\n",
       "</div>"
      ],
      "text/plain": [
       "                       Einheit   Zivilstand  Anzahl\n",
       "12  ......0001 Aeugst am Albis        Ledig     852\n",
       "13  ......0001 Aeugst am Albis  Verheiratet     908"
      ]
     },
     "execution_count": 36,
     "metadata": {},
     "output_type": "execute_result"
    }
   ],
   "source": [
    "df_g.head(2)"
   ]
  },
  {
   "cell_type": "markdown",
   "metadata": {},
   "source": [
    "Hier kommt die Funktion `str.extract()` gelegen. Um sie zu benutzen, müssen wir zwei Dinge wissen:\n",
    "1. die Regex, die zu dem gesamten Ausdruck passt.\n",
    "2. Den Teil der Regex, den wir in Klammern `()` setzen und extrahieren wollen."
   ]
  },
  {
   "cell_type": "code",
   "execution_count": 50,
   "metadata": {},
   "outputs": [
    {
     "data": {
      "text/html": [
       "<div>\n",
       "<style scoped>\n",
       "    .dataframe tbody tr th:only-of-type {\n",
       "        vertical-align: middle;\n",
       "    }\n",
       "\n",
       "    .dataframe tbody tr th {\n",
       "        vertical-align: top;\n",
       "    }\n",
       "\n",
       "    .dataframe thead th {\n",
       "        text-align: right;\n",
       "    }\n",
       "</style>\n",
       "<table border=\"1\" class=\"dataframe\">\n",
       "  <thead>\n",
       "    <tr style=\"text-align: right;\">\n",
       "      <th></th>\n",
       "      <th>0</th>\n",
       "    </tr>\n",
       "  </thead>\n",
       "  <tbody>\n",
       "    <tr>\n",
       "      <th>12</th>\n",
       "      <td>0001</td>\n",
       "    </tr>\n",
       "    <tr>\n",
       "      <th>13</th>\n",
       "      <td>0001</td>\n",
       "    </tr>\n",
       "    <tr>\n",
       "      <th>14</th>\n",
       "      <td>0001</td>\n",
       "    </tr>\n",
       "    <tr>\n",
       "      <th>15</th>\n",
       "      <td>0001</td>\n",
       "    </tr>\n",
       "    <tr>\n",
       "      <th>16</th>\n",
       "      <td>0002</td>\n",
       "    </tr>\n",
       "  </tbody>\n",
       "</table>\n",
       "</div>"
      ],
      "text/plain": [
       "       0\n",
       "12  0001\n",
       "13  0001\n",
       "14  0001\n",
       "15  0001\n",
       "16  0002"
      ]
     },
     "execution_count": 50,
     "metadata": {},
     "output_type": "execute_result"
    }
   ],
   "source": [
    "    \n",
    "df_g['Einheit'].str.extract(r\"(\\d{4})\").head()"
   ]
  },
  {
   "cell_type": "markdown",
   "metadata": {},
   "source": [
    "Wir können den Output dieser Funktion für die neue Spalte setzen."
   ]
  },
  {
   "cell_type": "code",
   "execution_count": 51,
   "metadata": {},
   "outputs": [],
   "source": [
    "df_g['Code'] = df_g['Einheit'].str.extract(r\"(\\d{4})\")"
   ]
  },
  {
   "cell_type": "code",
   "execution_count": 52,
   "metadata": {
    "scrolled": true
   },
   "outputs": [
    {
     "data": {
      "text/html": [
       "<div>\n",
       "<style scoped>\n",
       "    .dataframe tbody tr th:only-of-type {\n",
       "        vertical-align: middle;\n",
       "    }\n",
       "\n",
       "    .dataframe tbody tr th {\n",
       "        vertical-align: top;\n",
       "    }\n",
       "\n",
       "    .dataframe thead th {\n",
       "        text-align: right;\n",
       "    }\n",
       "</style>\n",
       "<table border=\"1\" class=\"dataframe\">\n",
       "  <thead>\n",
       "    <tr style=\"text-align: right;\">\n",
       "      <th></th>\n",
       "      <th>Einheit</th>\n",
       "      <th>Zivilstand</th>\n",
       "      <th>Anzahl</th>\n",
       "      <th>Code</th>\n",
       "    </tr>\n",
       "  </thead>\n",
       "  <tbody>\n",
       "    <tr>\n",
       "      <th>12</th>\n",
       "      <td>......0001 Aeugst am Albis</td>\n",
       "      <td>Ledig</td>\n",
       "      <td>852</td>\n",
       "      <td>0001</td>\n",
       "    </tr>\n",
       "    <tr>\n",
       "      <th>13</th>\n",
       "      <td>......0001 Aeugst am Albis</td>\n",
       "      <td>Verheiratet</td>\n",
       "      <td>908</td>\n",
       "      <td>0001</td>\n",
       "    </tr>\n",
       "    <tr>\n",
       "      <th>14</th>\n",
       "      <td>......0001 Aeugst am Albis</td>\n",
       "      <td>Verwitwet</td>\n",
       "      <td>74</td>\n",
       "      <td>0001</td>\n",
       "    </tr>\n",
       "    <tr>\n",
       "      <th>15</th>\n",
       "      <td>......0001 Aeugst am Albis</td>\n",
       "      <td>Geschieden</td>\n",
       "      <td>147</td>\n",
       "      <td>0001</td>\n",
       "    </tr>\n",
       "    <tr>\n",
       "      <th>16</th>\n",
       "      <td>......0002 Affoltern am Albis</td>\n",
       "      <td>Ledig</td>\n",
       "      <td>5000</td>\n",
       "      <td>0002</td>\n",
       "    </tr>\n",
       "    <tr>\n",
       "      <th>17</th>\n",
       "      <td>......0002 Affoltern am Albis</td>\n",
       "      <td>Verheiratet</td>\n",
       "      <td>5159</td>\n",
       "      <td>0002</td>\n",
       "    </tr>\n",
       "    <tr>\n",
       "      <th>18</th>\n",
       "      <td>......0002 Affoltern am Albis</td>\n",
       "      <td>Verwitwet</td>\n",
       "      <td>545</td>\n",
       "      <td>0002</td>\n",
       "    </tr>\n",
       "    <tr>\n",
       "      <th>19</th>\n",
       "      <td>......0002 Affoltern am Albis</td>\n",
       "      <td>Geschieden</td>\n",
       "      <td>1004</td>\n",
       "      <td>0002</td>\n",
       "    </tr>\n",
       "    <tr>\n",
       "      <th>20</th>\n",
       "      <td>......0003 Bonstetten</td>\n",
       "      <td>Ledig</td>\n",
       "      <td>2336</td>\n",
       "      <td>0003</td>\n",
       "    </tr>\n",
       "    <tr>\n",
       "      <th>21</th>\n",
       "      <td>......0003 Bonstetten</td>\n",
       "      <td>Verheiratet</td>\n",
       "      <td>2452</td>\n",
       "      <td>0003</td>\n",
       "    </tr>\n",
       "  </tbody>\n",
       "</table>\n",
       "</div>"
      ],
      "text/plain": [
       "                          Einheit   Zivilstand  Anzahl  Code\n",
       "12     ......0001 Aeugst am Albis        Ledig     852  0001\n",
       "13     ......0001 Aeugst am Albis  Verheiratet     908  0001\n",
       "14     ......0001 Aeugst am Albis    Verwitwet      74  0001\n",
       "15     ......0001 Aeugst am Albis   Geschieden     147  0001\n",
       "16  ......0002 Affoltern am Albis        Ledig    5000  0002\n",
       "17  ......0002 Affoltern am Albis  Verheiratet    5159  0002\n",
       "18  ......0002 Affoltern am Albis    Verwitwet     545  0002\n",
       "19  ......0002 Affoltern am Albis   Geschieden    1004  0002\n",
       "20          ......0003 Bonstetten        Ledig    2336  0003\n",
       "21          ......0003 Bonstetten  Verheiratet    2452  0003"
      ]
     },
     "execution_count": 52,
     "metadata": {},
     "output_type": "execute_result"
    }
   ],
   "source": [
    "df_g.head(10)"
   ]
  },
  {
   "cell_type": "markdown",
   "metadata": {},
   "source": [
    "**Quiz:** Erstellen Sie im Gemeinde-DF eine weitere Spalte (\"Name\"), die den Namen der Gemeinde enthält!"
   ]
  },
  {
   "cell_type": "code",
   "execution_count": 54,
   "metadata": {},
   "outputs": [],
   "source": [
    "df_g['Name'] = df_g['Einheit'].str.extract(r\"\\.{6}\\d{4} (.+)$\")"
   ]
  },
  {
   "cell_type": "code",
   "execution_count": 55,
   "metadata": {},
   "outputs": [
    {
     "data": {
      "text/html": [
       "<div>\n",
       "<style scoped>\n",
       "    .dataframe tbody tr th:only-of-type {\n",
       "        vertical-align: middle;\n",
       "    }\n",
       "\n",
       "    .dataframe tbody tr th {\n",
       "        vertical-align: top;\n",
       "    }\n",
       "\n",
       "    .dataframe thead th {\n",
       "        text-align: right;\n",
       "    }\n",
       "</style>\n",
       "<table border=\"1\" class=\"dataframe\">\n",
       "  <thead>\n",
       "    <tr style=\"text-align: right;\">\n",
       "      <th></th>\n",
       "      <th>Einheit</th>\n",
       "      <th>Zivilstand</th>\n",
       "      <th>Anzahl</th>\n",
       "      <th>Code</th>\n",
       "      <th>Name</th>\n",
       "    </tr>\n",
       "  </thead>\n",
       "  <tbody>\n",
       "    <tr>\n",
       "      <th>12</th>\n",
       "      <td>......0001 Aeugst am Albis</td>\n",
       "      <td>Ledig</td>\n",
       "      <td>852</td>\n",
       "      <td>0001</td>\n",
       "      <td>Aeugst am Albis</td>\n",
       "    </tr>\n",
       "    <tr>\n",
       "      <th>13</th>\n",
       "      <td>......0001 Aeugst am Albis</td>\n",
       "      <td>Verheiratet</td>\n",
       "      <td>908</td>\n",
       "      <td>0001</td>\n",
       "      <td>Aeugst am Albis</td>\n",
       "    </tr>\n",
       "    <tr>\n",
       "      <th>14</th>\n",
       "      <td>......0001 Aeugst am Albis</td>\n",
       "      <td>Verwitwet</td>\n",
       "      <td>74</td>\n",
       "      <td>0001</td>\n",
       "      <td>Aeugst am Albis</td>\n",
       "    </tr>\n",
       "    <tr>\n",
       "      <th>15</th>\n",
       "      <td>......0001 Aeugst am Albis</td>\n",
       "      <td>Geschieden</td>\n",
       "      <td>147</td>\n",
       "      <td>0001</td>\n",
       "      <td>Aeugst am Albis</td>\n",
       "    </tr>\n",
       "    <tr>\n",
       "      <th>16</th>\n",
       "      <td>......0002 Affoltern am Albis</td>\n",
       "      <td>Ledig</td>\n",
       "      <td>5000</td>\n",
       "      <td>0002</td>\n",
       "      <td>Affoltern am Albis</td>\n",
       "    </tr>\n",
       "  </tbody>\n",
       "</table>\n",
       "</div>"
      ],
      "text/plain": [
       "                          Einheit   Zivilstand  Anzahl  Code  \\\n",
       "12     ......0001 Aeugst am Albis        Ledig     852  0001   \n",
       "13     ......0001 Aeugst am Albis  Verheiratet     908  0001   \n",
       "14     ......0001 Aeugst am Albis    Verwitwet      74  0001   \n",
       "15     ......0001 Aeugst am Albis   Geschieden     147  0001   \n",
       "16  ......0002 Affoltern am Albis        Ledig    5000  0002   \n",
       "\n",
       "                  Name  \n",
       "12     Aeugst am Albis  \n",
       "13     Aeugst am Albis  \n",
       "14     Aeugst am Albis  \n",
       "15     Aeugst am Albis  \n",
       "16  Affoltern am Albis  "
      ]
     },
     "execution_count": 55,
     "metadata": {},
     "output_type": "execute_result"
    }
   ],
   "source": [
    "df_g.head()"
   ]
  },
  {
   "cell_type": "code",
   "execution_count": 56,
   "metadata": {},
   "outputs": [
    {
     "data": {
      "text/plain": [
       "12         ......0001 Aeugst am Albis\n",
       "13         ......0001 Aeugst am Albis\n",
       "14         ......0001 Aeugst am Albis\n",
       "15         ......0001 Aeugst am Albis\n",
       "16      ......0002 Affoltern am Albis\n",
       "17      ......0002 Affoltern am Albis\n",
       "18      ......0002 Affoltern am Albis\n",
       "19      ......0002 Affoltern am Albis\n",
       "20              ......0003 Bonstetten\n",
       "21              ......0003 Bonstetten\n",
       "22              ......0003 Bonstetten\n",
       "23              ......0003 Bonstetten\n",
       "24         ......0004 Hausen am Albis\n",
       "25         ......0004 Hausen am Albis\n",
       "26         ......0004 Hausen am Albis\n",
       "27         ......0004 Hausen am Albis\n",
       "28                ......0005 Hedingen\n",
       "29                ......0005 Hedingen\n",
       "30                ......0005 Hedingen\n",
       "31                ......0005 Hedingen\n",
       "32         ......0006 Kappel am Albis\n",
       "33         ......0006 Kappel am Albis\n",
       "34         ......0006 Kappel am Albis\n",
       "35         ......0006 Kappel am Albis\n",
       "36                  ......0007 Knonau\n",
       "37                  ......0007 Knonau\n",
       "38                  ......0007 Knonau\n",
       "39                  ......0007 Knonau\n",
       "40             ......0008 Maschwanden\n",
       "41             ......0008 Maschwanden\n",
       "                    ...              \n",
       "9966                ......6793 Lugnez\n",
       "9967                ......6793 Lugnez\n",
       "9968            ......6800 Porrentruy\n",
       "9969            ......6800 Porrentruy\n",
       "9970            ......6800 Porrentruy\n",
       "9971            ......6800 Porrentruy\n",
       "9972               ......6803 Rocourt\n",
       "9973               ......6803 Rocourt\n",
       "9974               ......6803 Rocourt\n",
       "9975               ......6803 Rocourt\n",
       "9976          ......6806 Vendlincourt\n",
       "9977          ......6806 Vendlincourt\n",
       "9978          ......6806 Vendlincourt\n",
       "9979          ......6806 Vendlincourt\n",
       "9980         ......6807 Basse-Allaine\n",
       "9981         ......6807 Basse-Allaine\n",
       "9982         ......6807 Basse-Allaine\n",
       "9983         ......6807 Basse-Allaine\n",
       "9984         ......6808 Clos du Doubs\n",
       "9985         ......6808 Clos du Doubs\n",
       "9986         ......6808 Clos du Doubs\n",
       "9987         ......6808 Clos du Doubs\n",
       "9988           ......6809 Haute-Ajoie\n",
       "9989           ......6809 Haute-Ajoie\n",
       "9990           ......6809 Haute-Ajoie\n",
       "9991           ......6809 Haute-Ajoie\n",
       "9992            ......6810 La Baroche\n",
       "9993            ......6810 La Baroche\n",
       "9994            ......6810 La Baroche\n",
       "9995            ......6810 La Baroche\n",
       "Name: Einheit, Length: 9296, dtype: object"
      ]
     },
     "execution_count": 56,
     "metadata": {},
     "output_type": "execute_result"
    }
   ],
   "source": [
    "df_g.pop('Einheit')"
   ]
  },
  {
   "cell_type": "code",
   "execution_count": 57,
   "metadata": {},
   "outputs": [
    {
     "data": {
      "text/html": [
       "<div>\n",
       "<style scoped>\n",
       "    .dataframe tbody tr th:only-of-type {\n",
       "        vertical-align: middle;\n",
       "    }\n",
       "\n",
       "    .dataframe tbody tr th {\n",
       "        vertical-align: top;\n",
       "    }\n",
       "\n",
       "    .dataframe thead th {\n",
       "        text-align: right;\n",
       "    }\n",
       "</style>\n",
       "<table border=\"1\" class=\"dataframe\">\n",
       "  <thead>\n",
       "    <tr style=\"text-align: right;\">\n",
       "      <th></th>\n",
       "      <th>Zivilstand</th>\n",
       "      <th>Anzahl</th>\n",
       "      <th>Code</th>\n",
       "      <th>Name</th>\n",
       "    </tr>\n",
       "  </thead>\n",
       "  <tbody>\n",
       "    <tr>\n",
       "      <th>12</th>\n",
       "      <td>Ledig</td>\n",
       "      <td>852</td>\n",
       "      <td>0001</td>\n",
       "      <td>Aeugst am Albis</td>\n",
       "    </tr>\n",
       "    <tr>\n",
       "      <th>13</th>\n",
       "      <td>Verheiratet</td>\n",
       "      <td>908</td>\n",
       "      <td>0001</td>\n",
       "      <td>Aeugst am Albis</td>\n",
       "    </tr>\n",
       "    <tr>\n",
       "      <th>14</th>\n",
       "      <td>Verwitwet</td>\n",
       "      <td>74</td>\n",
       "      <td>0001</td>\n",
       "      <td>Aeugst am Albis</td>\n",
       "    </tr>\n",
       "    <tr>\n",
       "      <th>15</th>\n",
       "      <td>Geschieden</td>\n",
       "      <td>147</td>\n",
       "      <td>0001</td>\n",
       "      <td>Aeugst am Albis</td>\n",
       "    </tr>\n",
       "    <tr>\n",
       "      <th>16</th>\n",
       "      <td>Ledig</td>\n",
       "      <td>5000</td>\n",
       "      <td>0002</td>\n",
       "      <td>Affoltern am Albis</td>\n",
       "    </tr>\n",
       "  </tbody>\n",
       "</table>\n",
       "</div>"
      ],
      "text/plain": [
       "     Zivilstand  Anzahl  Code                Name\n",
       "12        Ledig     852  0001     Aeugst am Albis\n",
       "13  Verheiratet     908  0001     Aeugst am Albis\n",
       "14    Verwitwet      74  0001     Aeugst am Albis\n",
       "15   Geschieden     147  0001     Aeugst am Albis\n",
       "16        Ledig    5000  0002  Affoltern am Albis"
      ]
     },
     "execution_count": 57,
     "metadata": {},
     "output_type": "execute_result"
    }
   ],
   "source": [
    "df_g.head()"
   ]
  },
  {
   "cell_type": "markdown",
   "metadata": {},
   "source": [
    "## Übung"
   ]
  },
  {
   "cell_type": "markdown",
   "metadata": {},
   "source": [
    "### Teil 1"
   ]
  },
  {
   "cell_type": "markdown",
   "metadata": {},
   "source": [
    "**Hier haben Sie Gelegenheit noch etwas mit den Regex-Funktionen in Pandas zu experimentieren.**"
   ]
  },
  {
   "cell_type": "markdown",
   "metadata": {},
   "source": [
    "Wir arbeiten wieder mit dem Haupt-Dataframe am Anfang: `df`."
   ]
  },
  {
   "cell_type": "markdown",
   "metadata": {},
   "source": [
    "**Aufgabe 1:** Erstellen Sie im DF eine zusätzliche Spalte mit dem Namen \"Typ\". Darin soll stehen, ob es sich bei der betreffenden Zeile um eine Gemeinde, einen Bezirk, einen Kanton oder ein Land handelt.\n",
    "\n",
    "Tipp: Arbeiten Sie mit `df.loc[]`"
   ]
  },
  {
   "cell_type": "code",
   "execution_count": 35,
   "metadata": {},
   "outputs": [
    {
     "data": {
      "text/html": [
       "<div>\n",
       "<style scoped>\n",
       "    .dataframe tbody tr th:only-of-type {\n",
       "        vertical-align: middle;\n",
       "    }\n",
       "\n",
       "    .dataframe tbody tr th {\n",
       "        vertical-align: top;\n",
       "    }\n",
       "\n",
       "    .dataframe thead th {\n",
       "        text-align: right;\n",
       "    }\n",
       "</style>\n",
       "<table border=\"1\" class=\"dataframe\">\n",
       "  <thead>\n",
       "    <tr style=\"text-align: right;\">\n",
       "      <th></th>\n",
       "      <th>Einheit</th>\n",
       "      <th>Zivilstand</th>\n",
       "      <th>Anzahl</th>\n",
       "    </tr>\n",
       "  </thead>\n",
       "  <tbody>\n",
       "    <tr>\n",
       "      <th>12</th>\n",
       "      <td>......0001 Aeugst am Albis</td>\n",
       "      <td>Ledig</td>\n",
       "      <td>852</td>\n",
       "    </tr>\n",
       "    <tr>\n",
       "      <th>13</th>\n",
       "      <td>......0001 Aeugst am Albis</td>\n",
       "      <td>Verheiratet</td>\n",
       "      <td>908</td>\n",
       "    </tr>\n",
       "    <tr>\n",
       "      <th>14</th>\n",
       "      <td>......0001 Aeugst am Albis</td>\n",
       "      <td>Verwitwet</td>\n",
       "      <td>74</td>\n",
       "    </tr>\n",
       "    <tr>\n",
       "      <th>15</th>\n",
       "      <td>......0001 Aeugst am Albis</td>\n",
       "      <td>Geschieden</td>\n",
       "      <td>147</td>\n",
       "    </tr>\n",
       "    <tr>\n",
       "      <th>16</th>\n",
       "      <td>......0002 Affoltern am Albis</td>\n",
       "      <td>Ledig</td>\n",
       "      <td>5000</td>\n",
       "    </tr>\n",
       "    <tr>\n",
       "      <th>17</th>\n",
       "      <td>......0002 Affoltern am Albis</td>\n",
       "      <td>Verheiratet</td>\n",
       "      <td>5159</td>\n",
       "    </tr>\n",
       "    <tr>\n",
       "      <th>18</th>\n",
       "      <td>......0002 Affoltern am Albis</td>\n",
       "      <td>Verwitwet</td>\n",
       "      <td>545</td>\n",
       "    </tr>\n",
       "    <tr>\n",
       "      <th>19</th>\n",
       "      <td>......0002 Affoltern am Albis</td>\n",
       "      <td>Geschieden</td>\n",
       "      <td>1004</td>\n",
       "    </tr>\n",
       "    <tr>\n",
       "      <th>20</th>\n",
       "      <td>......0003 Bonstetten</td>\n",
       "      <td>Ledig</td>\n",
       "      <td>2336</td>\n",
       "    </tr>\n",
       "    <tr>\n",
       "      <th>21</th>\n",
       "      <td>......0003 Bonstetten</td>\n",
       "      <td>Verheiratet</td>\n",
       "      <td>2452</td>\n",
       "    </tr>\n",
       "    <tr>\n",
       "      <th>22</th>\n",
       "      <td>......0003 Bonstetten</td>\n",
       "      <td>Verwitwet</td>\n",
       "      <td>154</td>\n",
       "    </tr>\n",
       "    <tr>\n",
       "      <th>23</th>\n",
       "      <td>......0003 Bonstetten</td>\n",
       "      <td>Geschieden</td>\n",
       "      <td>383</td>\n",
       "    </tr>\n",
       "    <tr>\n",
       "      <th>24</th>\n",
       "      <td>......0004 Hausen am Albis</td>\n",
       "      <td>Ledig</td>\n",
       "      <td>1433</td>\n",
       "    </tr>\n",
       "    <tr>\n",
       "      <th>25</th>\n",
       "      <td>......0004 Hausen am Albis</td>\n",
       "      <td>Verheiratet</td>\n",
       "      <td>1596</td>\n",
       "    </tr>\n",
       "    <tr>\n",
       "      <th>26</th>\n",
       "      <td>......0004 Hausen am Albis</td>\n",
       "      <td>Verwitwet</td>\n",
       "      <td>131</td>\n",
       "    </tr>\n",
       "    <tr>\n",
       "      <th>27</th>\n",
       "      <td>......0004 Hausen am Albis</td>\n",
       "      <td>Geschieden</td>\n",
       "      <td>317</td>\n",
       "    </tr>\n",
       "    <tr>\n",
       "      <th>28</th>\n",
       "      <td>......0005 Hedingen</td>\n",
       "      <td>Ledig</td>\n",
       "      <td>1559</td>\n",
       "    </tr>\n",
       "    <tr>\n",
       "      <th>29</th>\n",
       "      <td>......0005 Hedingen</td>\n",
       "      <td>Verheiratet</td>\n",
       "      <td>1690</td>\n",
       "    </tr>\n",
       "    <tr>\n",
       "      <th>30</th>\n",
       "      <td>......0005 Hedingen</td>\n",
       "      <td>Verwitwet</td>\n",
       "      <td>117</td>\n",
       "    </tr>\n",
       "    <tr>\n",
       "      <th>31</th>\n",
       "      <td>......0005 Hedingen</td>\n",
       "      <td>Geschieden</td>\n",
       "      <td>294</td>\n",
       "    </tr>\n",
       "    <tr>\n",
       "      <th>32</th>\n",
       "      <td>......0006 Kappel am Albis</td>\n",
       "      <td>Ledig</td>\n",
       "      <td>454</td>\n",
       "    </tr>\n",
       "    <tr>\n",
       "      <th>33</th>\n",
       "      <td>......0006 Kappel am Albis</td>\n",
       "      <td>Verheiratet</td>\n",
       "      <td>460</td>\n",
       "    </tr>\n",
       "    <tr>\n",
       "      <th>34</th>\n",
       "      <td>......0006 Kappel am Albis</td>\n",
       "      <td>Verwitwet</td>\n",
       "      <td>38</td>\n",
       "    </tr>\n",
       "    <tr>\n",
       "      <th>35</th>\n",
       "      <td>......0006 Kappel am Albis</td>\n",
       "      <td>Geschieden</td>\n",
       "      <td>81</td>\n",
       "    </tr>\n",
       "    <tr>\n",
       "      <th>36</th>\n",
       "      <td>......0007 Knonau</td>\n",
       "      <td>Ledig</td>\n",
       "      <td>897</td>\n",
       "    </tr>\n",
       "    <tr>\n",
       "      <th>37</th>\n",
       "      <td>......0007 Knonau</td>\n",
       "      <td>Verheiratet</td>\n",
       "      <td>970</td>\n",
       "    </tr>\n",
       "    <tr>\n",
       "      <th>38</th>\n",
       "      <td>......0007 Knonau</td>\n",
       "      <td>Verwitwet</td>\n",
       "      <td>69</td>\n",
       "    </tr>\n",
       "    <tr>\n",
       "      <th>39</th>\n",
       "      <td>......0007 Knonau</td>\n",
       "      <td>Geschieden</td>\n",
       "      <td>161</td>\n",
       "    </tr>\n",
       "    <tr>\n",
       "      <th>40</th>\n",
       "      <td>......0008 Maschwanden</td>\n",
       "      <td>Ledig</td>\n",
       "      <td>292</td>\n",
       "    </tr>\n",
       "    <tr>\n",
       "      <th>41</th>\n",
       "      <td>......0008 Maschwanden</td>\n",
       "      <td>Verheiratet</td>\n",
       "      <td>279</td>\n",
       "    </tr>\n",
       "    <tr>\n",
       "      <th>...</th>\n",
       "      <td>...</td>\n",
       "      <td>...</td>\n",
       "      <td>...</td>\n",
       "    </tr>\n",
       "    <tr>\n",
       "      <th>9966</th>\n",
       "      <td>......6793 Lugnez</td>\n",
       "      <td>Verwitwet</td>\n",
       "      <td>15</td>\n",
       "    </tr>\n",
       "    <tr>\n",
       "      <th>9967</th>\n",
       "      <td>......6793 Lugnez</td>\n",
       "      <td>Geschieden</td>\n",
       "      <td>11</td>\n",
       "    </tr>\n",
       "    <tr>\n",
       "      <th>9968</th>\n",
       "      <td>......6800 Porrentruy</td>\n",
       "      <td>Ledig</td>\n",
       "      <td>2965</td>\n",
       "    </tr>\n",
       "    <tr>\n",
       "      <th>9969</th>\n",
       "      <td>......6800 Porrentruy</td>\n",
       "      <td>Verheiratet</td>\n",
       "      <td>2685</td>\n",
       "    </tr>\n",
       "    <tr>\n",
       "      <th>9970</th>\n",
       "      <td>......6800 Porrentruy</td>\n",
       "      <td>Verwitwet</td>\n",
       "      <td>466</td>\n",
       "    </tr>\n",
       "    <tr>\n",
       "      <th>9971</th>\n",
       "      <td>......6800 Porrentruy</td>\n",
       "      <td>Geschieden</td>\n",
       "      <td>713</td>\n",
       "    </tr>\n",
       "    <tr>\n",
       "      <th>9972</th>\n",
       "      <td>......6803 Rocourt</td>\n",
       "      <td>Ledig</td>\n",
       "      <td>56</td>\n",
       "    </tr>\n",
       "    <tr>\n",
       "      <th>9973</th>\n",
       "      <td>......6803 Rocourt</td>\n",
       "      <td>Verheiratet</td>\n",
       "      <td>82</td>\n",
       "    </tr>\n",
       "    <tr>\n",
       "      <th>9974</th>\n",
       "      <td>......6803 Rocourt</td>\n",
       "      <td>Verwitwet</td>\n",
       "      <td>7</td>\n",
       "    </tr>\n",
       "    <tr>\n",
       "      <th>9975</th>\n",
       "      <td>......6803 Rocourt</td>\n",
       "      <td>Geschieden</td>\n",
       "      <td>11</td>\n",
       "    </tr>\n",
       "    <tr>\n",
       "      <th>9976</th>\n",
       "      <td>......6806 Vendlincourt</td>\n",
       "      <td>Ledig</td>\n",
       "      <td>230</td>\n",
       "    </tr>\n",
       "    <tr>\n",
       "      <th>9977</th>\n",
       "      <td>......6806 Vendlincourt</td>\n",
       "      <td>Verheiratet</td>\n",
       "      <td>245</td>\n",
       "    </tr>\n",
       "    <tr>\n",
       "      <th>9978</th>\n",
       "      <td>......6806 Vendlincourt</td>\n",
       "      <td>Verwitwet</td>\n",
       "      <td>42</td>\n",
       "    </tr>\n",
       "    <tr>\n",
       "      <th>9979</th>\n",
       "      <td>......6806 Vendlincourt</td>\n",
       "      <td>Geschieden</td>\n",
       "      <td>43</td>\n",
       "    </tr>\n",
       "    <tr>\n",
       "      <th>9980</th>\n",
       "      <td>......6807 Basse-Allaine</td>\n",
       "      <td>Ledig</td>\n",
       "      <td>502</td>\n",
       "    </tr>\n",
       "    <tr>\n",
       "      <th>9981</th>\n",
       "      <td>......6807 Basse-Allaine</td>\n",
       "      <td>Verheiratet</td>\n",
       "      <td>545</td>\n",
       "    </tr>\n",
       "    <tr>\n",
       "      <th>9982</th>\n",
       "      <td>......6807 Basse-Allaine</td>\n",
       "      <td>Verwitwet</td>\n",
       "      <td>106</td>\n",
       "    </tr>\n",
       "    <tr>\n",
       "      <th>9983</th>\n",
       "      <td>......6807 Basse-Allaine</td>\n",
       "      <td>Geschieden</td>\n",
       "      <td>90</td>\n",
       "    </tr>\n",
       "    <tr>\n",
       "      <th>9984</th>\n",
       "      <td>......6808 Clos du Doubs</td>\n",
       "      <td>Ledig</td>\n",
       "      <td>547</td>\n",
       "    </tr>\n",
       "    <tr>\n",
       "      <th>9985</th>\n",
       "      <td>......6808 Clos du Doubs</td>\n",
       "      <td>Verheiratet</td>\n",
       "      <td>563</td>\n",
       "    </tr>\n",
       "    <tr>\n",
       "      <th>9986</th>\n",
       "      <td>......6808 Clos du Doubs</td>\n",
       "      <td>Verwitwet</td>\n",
       "      <td>89</td>\n",
       "    </tr>\n",
       "    <tr>\n",
       "      <th>9987</th>\n",
       "      <td>......6808 Clos du Doubs</td>\n",
       "      <td>Geschieden</td>\n",
       "      <td>107</td>\n",
       "    </tr>\n",
       "    <tr>\n",
       "      <th>9988</th>\n",
       "      <td>......6809 Haute-Ajoie</td>\n",
       "      <td>Ledig</td>\n",
       "      <td>380</td>\n",
       "    </tr>\n",
       "    <tr>\n",
       "      <th>9989</th>\n",
       "      <td>......6809 Haute-Ajoie</td>\n",
       "      <td>Verheiratet</td>\n",
       "      <td>429</td>\n",
       "    </tr>\n",
       "    <tr>\n",
       "      <th>9990</th>\n",
       "      <td>......6809 Haute-Ajoie</td>\n",
       "      <td>Verwitwet</td>\n",
       "      <td>68</td>\n",
       "    </tr>\n",
       "    <tr>\n",
       "      <th>9991</th>\n",
       "      <td>......6809 Haute-Ajoie</td>\n",
       "      <td>Geschieden</td>\n",
       "      <td>69</td>\n",
       "    </tr>\n",
       "    <tr>\n",
       "      <th>9992</th>\n",
       "      <td>......6810 La Baroche</td>\n",
       "      <td>Ledig</td>\n",
       "      <td>490</td>\n",
       "    </tr>\n",
       "    <tr>\n",
       "      <th>9993</th>\n",
       "      <td>......6810 La Baroche</td>\n",
       "      <td>Verheiratet</td>\n",
       "      <td>518</td>\n",
       "    </tr>\n",
       "    <tr>\n",
       "      <th>9994</th>\n",
       "      <td>......6810 La Baroche</td>\n",
       "      <td>Verwitwet</td>\n",
       "      <td>75</td>\n",
       "    </tr>\n",
       "    <tr>\n",
       "      <th>9995</th>\n",
       "      <td>......6810 La Baroche</td>\n",
       "      <td>Geschieden</td>\n",
       "      <td>100</td>\n",
       "    </tr>\n",
       "  </tbody>\n",
       "</table>\n",
       "<p>9296 rows × 3 columns</p>\n",
       "</div>"
      ],
      "text/plain": [
       "                            Einheit   Zivilstand  Anzahl\n",
       "12       ......0001 Aeugst am Albis        Ledig     852\n",
       "13       ......0001 Aeugst am Albis  Verheiratet     908\n",
       "14       ......0001 Aeugst am Albis    Verwitwet      74\n",
       "15       ......0001 Aeugst am Albis   Geschieden     147\n",
       "16    ......0002 Affoltern am Albis        Ledig    5000\n",
       "17    ......0002 Affoltern am Albis  Verheiratet    5159\n",
       "18    ......0002 Affoltern am Albis    Verwitwet     545\n",
       "19    ......0002 Affoltern am Albis   Geschieden    1004\n",
       "20            ......0003 Bonstetten        Ledig    2336\n",
       "21            ......0003 Bonstetten  Verheiratet    2452\n",
       "22            ......0003 Bonstetten    Verwitwet     154\n",
       "23            ......0003 Bonstetten   Geschieden     383\n",
       "24       ......0004 Hausen am Albis        Ledig    1433\n",
       "25       ......0004 Hausen am Albis  Verheiratet    1596\n",
       "26       ......0004 Hausen am Albis    Verwitwet     131\n",
       "27       ......0004 Hausen am Albis   Geschieden     317\n",
       "28              ......0005 Hedingen        Ledig    1559\n",
       "29              ......0005 Hedingen  Verheiratet    1690\n",
       "30              ......0005 Hedingen    Verwitwet     117\n",
       "31              ......0005 Hedingen   Geschieden     294\n",
       "32       ......0006 Kappel am Albis        Ledig     454\n",
       "33       ......0006 Kappel am Albis  Verheiratet     460\n",
       "34       ......0006 Kappel am Albis    Verwitwet      38\n",
       "35       ......0006 Kappel am Albis   Geschieden      81\n",
       "36                ......0007 Knonau        Ledig     897\n",
       "37                ......0007 Knonau  Verheiratet     970\n",
       "38                ......0007 Knonau    Verwitwet      69\n",
       "39                ......0007 Knonau   Geschieden     161\n",
       "40           ......0008 Maschwanden        Ledig     292\n",
       "41           ......0008 Maschwanden  Verheiratet     279\n",
       "...                             ...          ...     ...\n",
       "9966              ......6793 Lugnez    Verwitwet      15\n",
       "9967              ......6793 Lugnez   Geschieden      11\n",
       "9968          ......6800 Porrentruy        Ledig    2965\n",
       "9969          ......6800 Porrentruy  Verheiratet    2685\n",
       "9970          ......6800 Porrentruy    Verwitwet     466\n",
       "9971          ......6800 Porrentruy   Geschieden     713\n",
       "9972             ......6803 Rocourt        Ledig      56\n",
       "9973             ......6803 Rocourt  Verheiratet      82\n",
       "9974             ......6803 Rocourt    Verwitwet       7\n",
       "9975             ......6803 Rocourt   Geschieden      11\n",
       "9976        ......6806 Vendlincourt        Ledig     230\n",
       "9977        ......6806 Vendlincourt  Verheiratet     245\n",
       "9978        ......6806 Vendlincourt    Verwitwet      42\n",
       "9979        ......6806 Vendlincourt   Geschieden      43\n",
       "9980       ......6807 Basse-Allaine        Ledig     502\n",
       "9981       ......6807 Basse-Allaine  Verheiratet     545\n",
       "9982       ......6807 Basse-Allaine    Verwitwet     106\n",
       "9983       ......6807 Basse-Allaine   Geschieden      90\n",
       "9984       ......6808 Clos du Doubs        Ledig     547\n",
       "9985       ......6808 Clos du Doubs  Verheiratet     563\n",
       "9986       ......6808 Clos du Doubs    Verwitwet      89\n",
       "9987       ......6808 Clos du Doubs   Geschieden     107\n",
       "9988         ......6809 Haute-Ajoie        Ledig     380\n",
       "9989         ......6809 Haute-Ajoie  Verheiratet     429\n",
       "9990         ......6809 Haute-Ajoie    Verwitwet      68\n",
       "9991         ......6809 Haute-Ajoie   Geschieden      69\n",
       "9992          ......6810 La Baroche        Ledig     490\n",
       "9993          ......6810 La Baroche  Verheiratet     518\n",
       "9994          ......6810 La Baroche    Verwitwet      75\n",
       "9995          ......6810 La Baroche   Geschieden     100\n",
       "\n",
       "[9296 rows x 3 columns]"
      ]
     },
     "execution_count": 35,
     "metadata": {},
     "output_type": "execute_result"
    }
   ],
   "source": [
    "\n",
    "df_g"
   ]
  },
  {
   "cell_type": "code",
   "execution_count": null,
   "metadata": {},
   "outputs": [],
   "source": []
  },
  {
   "cell_type": "code",
   "execution_count": null,
   "metadata": {},
   "outputs": [],
   "source": []
  },
  {
   "cell_type": "markdown",
   "metadata": {
    "collapsed": true
   },
   "source": [
    "**Aufgabe 2:** Bereinigen Sie die Bezeichnungen in der Spalte \"Einheit\". Wir wollen keine Nummern und keine Sonderzeichen mehr darin sehen, nur noch die Namen der Gemeinden, Bezirke und Kantone.\n",
    "\n",
    "Tipp: Arbeiten Sie mit `str.replace()`"
   ]
  },
  {
   "cell_type": "code",
   "execution_count": null,
   "metadata": {},
   "outputs": [],
   "source": []
  },
  {
   "cell_type": "code",
   "execution_count": null,
   "metadata": {},
   "outputs": [],
   "source": []
  },
  {
   "cell_type": "code",
   "execution_count": null,
   "metadata": {},
   "outputs": [],
   "source": []
  },
  {
   "cell_type": "code",
   "execution_count": null,
   "metadata": {},
   "outputs": [],
   "source": []
  },
  {
   "cell_type": "code",
   "execution_count": null,
   "metadata": {},
   "outputs": [],
   "source": [
    "# zum Testen, ob es bei den Kantonen funktioniert hat:\n",
    "df[df['Typ'] == 'Kanton'].head(10)"
   ]
  },
  {
   "cell_type": "code",
   "execution_count": null,
   "metadata": {},
   "outputs": [],
   "source": [
    "# zum Testen, ob es bei den Bezirken funktioniert hat:\n",
    "df[df['Typ'] == 'Bezirk'].head(10)"
   ]
  },
  {
   "cell_type": "code",
   "execution_count": null,
   "metadata": {},
   "outputs": [],
   "source": [
    "# zum Testen, ob es bei den Gemeinden funktioniert hat:\n",
    "df[df['Typ'] == 'Gemeinde'].head(10)"
   ]
  },
  {
   "cell_type": "markdown",
   "metadata": {},
   "source": [
    "### Teil 2"
   ]
  },
  {
   "cell_type": "markdown",
   "metadata": {},
   "source": [
    "**Hier können Sie nochmals etwas Pivoting und Plotting trainieren**"
   ]
  },
  {
   "cell_type": "code",
   "execution_count": null,
   "metadata": {},
   "outputs": [],
   "source": [
    "df.to_csv('dataprojects/BFS/Einheiten_kategorisiert.csv', index=False)"
   ]
  },
  {
   "cell_type": "markdown",
   "metadata": {},
   "source": [
    "Zur Sicherheit laden wir die Daten nochmals neu - mit dem Stand der Übung bis hier."
   ]
  },
  {
   "cell_type": "code",
   "execution_count": null,
   "metadata": {},
   "outputs": [],
   "source": [
    "df = pd.read_csv('dataprojects/BFS/Einheiten_kategorisiert.csv')"
   ]
  },
  {
   "cell_type": "markdown",
   "metadata": {},
   "source": [
    "**Aufgabe 1:** Finden Sie die drei Gemeinden mit der höchsten Quote an Verwitweten Personen in der Bevölkerung.\n",
    "\n",
    "Tipp zum Vorgehen:\n",
    "1. DF nach Gemeinden filtern\n",
    "1. DF nach Zivilstand pivotieren\n",
    "1. Total der Bevölkerung mit `sum()` ausrechnen (`axis=1`)\n",
    "1. Verwitweten-Quote ausrechnen\n",
    "1. DF sortieren"
   ]
  },
  {
   "cell_type": "code",
   "execution_count": null,
   "metadata": {},
   "outputs": [],
   "source": [
    "# DF nach gemeinden filtern und pivotieren\n"
   ]
  },
  {
   "cell_type": "code",
   "execution_count": null,
   "metadata": {},
   "outputs": [],
   "source": [
    "# Bevölkerungstotal ausrechnen pro Gemeinde\n"
   ]
  },
  {
   "cell_type": "code",
   "execution_count": null,
   "metadata": {},
   "outputs": [],
   "source": [
    "# Verwitweten-Quote ausrechnen\n"
   ]
  },
  {
   "cell_type": "code",
   "execution_count": null,
   "metadata": {},
   "outputs": [],
   "source": [
    "# Sortieren und Top 3\n"
   ]
  },
  {
   "cell_type": "code",
   "execution_count": null,
   "metadata": {},
   "outputs": [],
   "source": []
  },
  {
   "cell_type": "code",
   "execution_count": null,
   "metadata": {},
   "outputs": [],
   "source": []
  },
  {
   "cell_type": "markdown",
   "metadata": {},
   "source": [
    "**Aufgabe 2:** Welcher Kanton hat die höchste Ledigen-Quote?"
   ]
  },
  {
   "cell_type": "code",
   "execution_count": null,
   "metadata": {},
   "outputs": [],
   "source": [
    "# DF nach Kantonen filtern und pivotieren\n"
   ]
  },
  {
   "cell_type": "code",
   "execution_count": null,
   "metadata": {},
   "outputs": [],
   "source": [
    "# Bevölkerungstotal ausrechnen pro Kanton\n"
   ]
  },
  {
   "cell_type": "code",
   "execution_count": null,
   "metadata": {},
   "outputs": [],
   "source": [
    "# Ledigen-Quote ausrechnen\n"
   ]
  },
  {
   "cell_type": "code",
   "execution_count": null,
   "metadata": {},
   "outputs": [],
   "source": [
    "# Sortieren und obersten anzeigen\n"
   ]
  },
  {
   "cell_type": "code",
   "execution_count": null,
   "metadata": {},
   "outputs": [],
   "source": []
  },
  {
   "cell_type": "code",
   "execution_count": null,
   "metadata": {},
   "outputs": [],
   "source": []
  },
  {
   "cell_type": "markdown",
   "metadata": {},
   "source": [
    "**Aufgabe 3:** Zeichnen Sie einen Bar-Chart mit der Verheirateten-Quote aller Kantone\n",
    "\n",
    "Tipp: Benutzen Sie das pivotierte DF, das Sie in Aufgabe 2 erstellt haben."
   ]
  },
  {
   "cell_type": "code",
   "execution_count": null,
   "metadata": {},
   "outputs": [],
   "source": [
    "# Verheirateten-Quote ausrechnen\n"
   ]
  },
  {
   "cell_type": "code",
   "execution_count": null,
   "metadata": {},
   "outputs": [],
   "source": [
    "#Sortieren und plotten\n"
   ]
  },
  {
   "cell_type": "code",
   "execution_count": null,
   "metadata": {},
   "outputs": [],
   "source": []
  },
  {
   "cell_type": "markdown",
   "metadata": {},
   "source": [
    "**Aufgabe 4:** Zeichnen Sie ein Stacked-Bar-Chart mit den relativen Zivilstands-Anteilen in zwei Gemeinden:\n",
    "- Corippo\n",
    "- Meienried\n",
    "\n",
    "Tipp zu Vorgehen:\n",
    "1. DF nach Gemeinden filtern und pivotieren\n",
    "1. Total der Einwohner für jede Gemeinde (in separater Series ablegen)\n",
    "1. Pivotiertes DF mit `div()` durch das Total dividieren (`axis=1`)\n",
    "1. mit `.loc[]` die beiden Gemeinden wählen\n",
    "1. Plot mit `stacked=True`"
   ]
  },
  {
   "cell_type": "code",
   "execution_count": null,
   "metadata": {},
   "outputs": [],
   "source": [
    "# DF nach gemeinden filtern und pivotieren\n"
   ]
  },
  {
   "cell_type": "code",
   "execution_count": null,
   "metadata": {},
   "outputs": [],
   "source": [
    "# Total der Einwohner für jede Gemeinde\n"
   ]
  },
  {
   "cell_type": "code",
   "execution_count": null,
   "metadata": {},
   "outputs": [],
   "source": [
    "# Neues DF mit relativen Werten\n"
   ]
  },
  {
   "cell_type": "code",
   "execution_count": null,
   "metadata": {},
   "outputs": [],
   "source": [
    "# Nur Meienried und Corippo anzeigen\n"
   ]
  },
  {
   "cell_type": "code",
   "execution_count": null,
   "metadata": {},
   "outputs": [],
   "source": [
    "# Plot\n"
   ]
  },
  {
   "cell_type": "code",
   "execution_count": null,
   "metadata": {},
   "outputs": [],
   "source": []
  }
 ],
 "metadata": {
  "kernelspec": {
   "display_name": "Python 3",
   "language": "python",
   "name": "python3"
  },
  "language_info": {
   "codemirror_mode": {
    "name": "ipython",
    "version": 3
   },
   "file_extension": ".py",
   "mimetype": "text/x-python",
   "name": "python",
   "nbconvert_exporter": "python",
   "pygments_lexer": "ipython3",
   "version": "3.7.3"
  }
 },
 "nbformat": 4,
 "nbformat_minor": 2
}
