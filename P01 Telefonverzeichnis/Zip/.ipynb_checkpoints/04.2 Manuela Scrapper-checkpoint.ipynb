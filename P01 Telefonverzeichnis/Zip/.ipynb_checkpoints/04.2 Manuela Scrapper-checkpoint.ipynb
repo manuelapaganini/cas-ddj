{
 "cells": [
  {
   "cell_type": "markdown",
   "metadata": {},
   "source": [
    "# Scraper (Post-Request)"
   ]
  },
  {
   "cell_type": "markdown",
   "metadata": {},
   "source": [
    "Der Reihe nach:\n",
    "\n",
    "  * Url (mit post anstatt get) aufrufen.\n",
    "  * Dabei Post-Info senden\n",
    "  * Antwort als Json weiterverarbeiten.\n",
    "\n",
    "For-Loop:\n",
    "\n",
    "  * Mit einer For-Loop auf das Json-Array zugreifen\n",
    "  * In der Loop ein Dictionary mit den Angaben die mir interessieren aufsetzen\n",
    "  * & das Dictionary zu einer Liste hinzufügen.\n",
    "      * in der For-Loop die sub_url des Eintrags aufrufen (url + id)\n",
    "      * Mit BeautifulSoup auf die sub_page angucken & die Elemente \"legend\" abgreifen\n",
    "      * Das legend-Element das \"Herr\"/\"Frau\" enthält zum dictionary hinzufügen.\n",
    "\n",
    "Die fertige Liste mit Pandas angucken und freuen.\n"
   ]
  },
  {
   "cell_type": "code",
   "execution_count": 1,
   "metadata": {},
   "outputs": [],
   "source": [
    "import requests\n",
    "from bs4 import BeautifulSoup\n",
    "import pandas as pd\n",
    "import js"
   ]
  },
  {
   "cell_type": "code",
   "execution_count": null,
   "metadata": {},
   "outputs": [],
   "source": [
    "# Sachen vorbereiten\n",
    "\n",
    "data = {'page': '1',\n",
    "        'pageSize': '50',   #'1593',  <- Für vollständigen Datensatz\n",
    "        'mainSearchText': '*'\n",
    "       }\n",
    "\n",
    "cookies = {'ASP.NET_SessionId': 'nt4pmcae3gesz4kk41h2lang'}\n",
    "\n",
    "url = 'http://appl.fr.ch/ate/Person/FilterGridWithIds'\n",
    "sub_base = 'http://appl.fr.ch/ate/Person/Detail/'\n",
    "\n",
    "\n",
    "# Zugriff auf die Webseite\n",
    "\n",
    "response = requests.post(url, data=data, cookies=cookies)\n",
    "response_as_json = json.loads(response.text)\n",
    "\n",
    "# For Loop\n",
    "\n",
    "verzeichnis = []\n",
    "\n",
    "for person in response_as_json['Data']:\n",
    "    thisperson = {}\n",
    "    thisperson['1 Name'] = person['DisplayName'] if not person['DisplayName'] is None else ''\n",
    "    thisperson['2 ID'] = person['Id'] if not person['Id'] is None else ''\n",
    "    thisperson['3 Email'] = person['Email'] if not person['Email'] is None else ''\n",
    "    thisperson['4 Direktion'] = person['Roles'][0]['DirectionName'] if not person['Roles'] is None and len(person['Roles']) > 0 else ''\n",
    "    thisperson['5 Sektion'] = person['UnitsDisplay'] if not person['UnitsDisplay'] is None else ''\n",
    "    thisperson['6 Abteilung'] = person['UnitsExports'] if not person['UnitsExports'] is None else ''\n",
    "    thisperson['7 Funktion'] = person['RolesDisplay'] if not person['RolesDisplay'] is None else ''\n",
    "    \n",
    "    # Uuund das Sub-Page Aufrufen.\n",
    "    sub_url = sub_base + str(person['Id'])\n",
    "    \n",
    "    r = requests.get(sub_url)\n",
    "    soup = BeautifulSoup(r.content, 'lxml')\n",
    "    legend = soup.find_all('legend')[0]\n",
    "    for span in legend('span'):\n",
    "        span.decompose()\n",
    "    \n",
    "    thisperson['8 Gender'] = legend\n",
    "    \n",
    "    verzeichnis.append(thisperson)\n",
    "    \n",
    "pd.DataFrame(verzeichnis)"
   ]
  }
 ],
 "metadata": {
  "kernelspec": {
   "display_name": "Python 3",
   "language": "python",
   "name": "python3"
  },
  "language_info": {
   "codemirror_mode": {
    "name": "ipython",
    "version": 3
   },
   "file_extension": ".py",
   "mimetype": "text/x-python",
   "name": "python",
   "nbconvert_exporter": "python",
   "pygments_lexer": "ipython3",
   "version": "3.7.3"
  }
 },
 "nbformat": 4,
 "nbformat_minor": 2
}
