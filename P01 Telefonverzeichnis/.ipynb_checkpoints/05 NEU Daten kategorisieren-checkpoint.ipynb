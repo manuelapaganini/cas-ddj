{
 "cells": [
  {
   "cell_type": "markdown",
   "metadata": {},
   "source": [
    "# 05 NEU: Daten kategorisieren"
   ]
  },
  {
   "cell_type": "markdown",
   "metadata": {},
   "source": [
    "Was ich hier vorhabe:\n",
    "* Datensatz (von Doppel bereinigt) laden\n",
    "* Kader einteilen"
   ]
  },
  {
   "cell_type": "code",
   "execution_count": 3,
   "metadata": {},
   "outputs": [],
   "source": [
    "# Sachen importieren\n",
    "\n",
    "import pandas as pd"
   ]
  },
  {
   "cell_type": "code",
   "execution_count": 5,
   "metadata": {},
   "outputs": [
    {
     "data": {
      "text/html": [
       "<div>\n",
       "<style scoped>\n",
       "    .dataframe tbody tr th:only-of-type {\n",
       "        vertical-align: middle;\n",
       "    }\n",
       "\n",
       "    .dataframe tbody tr th {\n",
       "        vertical-align: top;\n",
       "    }\n",
       "\n",
       "    .dataframe thead th {\n",
       "        text-align: right;\n",
       "    }\n",
       "</style>\n",
       "<table border=\"1\" class=\"dataframe\">\n",
       "  <thead>\n",
       "    <tr style=\"text-align: right;\">\n",
       "      <th></th>\n",
       "      <th>Name</th>\n",
       "      <th>Gender</th>\n",
       "      <th>ID</th>\n",
       "      <th>Email</th>\n",
       "      <th>Direktion</th>\n",
       "      <th>Sektion</th>\n",
       "      <th>Abteilung</th>\n",
       "      <th>Funktion</th>\n",
       "    </tr>\n",
       "  </thead>\n",
       "  <tbody>\n",
       "    <tr>\n",
       "      <th>0</th>\n",
       "      <td>Abeztout Abderrahim</td>\n",
       "      <td>Herr</td>\n",
       "      <td>4423</td>\n",
       "      <td>abderrahim.abeztout@fr.ch</td>\n",
       "      <td>Raumplanungs-, Umwelt- und Baudirektion</td>\n",
       "      <td>RUBD - Hochbauamt</td>\n",
       "      <td>Technische Abteilung</td>\n",
       "      <td>Architektin</td>\n",
       "    </tr>\n",
       "    <tr>\n",
       "      <th>1</th>\n",
       "      <td>Ackermann Christophe</td>\n",
       "      <td>Herr</td>\n",
       "      <td>1544</td>\n",
       "      <td>christophe.ackermann@fr.ch</td>\n",
       "      <td>Finanzdirektion</td>\n",
       "      <td>FIND - Finanzinspektorat</td>\n",
       "      <td>Finanzinspektorat</td>\n",
       "      <td>Adjunkt der Dienstchefin</td>\n",
       "    </tr>\n",
       "    <tr>\n",
       "      <th>2</th>\n",
       "      <td>Ackermann Urs</td>\n",
       "      <td>Herr</td>\n",
       "      <td>3557</td>\n",
       "      <td>urs.ackermann@fr.ch</td>\n",
       "      <td>Direktion der Institutionen und der Land- und ...</td>\n",
       "      <td>ILFD - Amt für institutionelle Angelegenheiten...</td>\n",
       "      <td>Abteilung Institutionen und Rechtsangelenheiten</td>\n",
       "      <td>Höherer Verwaltungssachbearbeiter</td>\n",
       "    </tr>\n",
       "    <tr>\n",
       "      <th>3</th>\n",
       "      <td>Adam Samuel</td>\n",
       "      <td>Herr</td>\n",
       "      <td>2628</td>\n",
       "      <td>NaN</td>\n",
       "      <td>Direktion für Gesundheit und Soziales</td>\n",
       "      <td>GSD - Kantonsarztamt</td>\n",
       "      <td>Kantonsarztamt</td>\n",
       "      <td>Adjunkt des Dienstchefs</td>\n",
       "    </tr>\n",
       "    <tr>\n",
       "      <th>4</th>\n",
       "      <td>Aebischer Adrian</td>\n",
       "      <td>Herr</td>\n",
       "      <td>1289</td>\n",
       "      <td>adrian.aebischer@fr.ch</td>\n",
       "      <td>Direktion der Institutionen und der Land- und ...</td>\n",
       "      <td>ILFD - Amt für Wald und Natur</td>\n",
       "      <td>Sektor Faune, Biodiversität, Jagd und Fischerei</td>\n",
       "      <td>Wissenschaftlicher Mitarbeiter Waldbiodiversität</td>\n",
       "    </tr>\n",
       "  </tbody>\n",
       "</table>\n",
       "</div>"
      ],
      "text/plain": [
       "                   Name Gender    ID                       Email  \\\n",
       "0   Abeztout Abderrahim   Herr  4423   abderrahim.abeztout@fr.ch   \n",
       "1  Ackermann Christophe   Herr  1544  christophe.ackermann@fr.ch   \n",
       "2         Ackermann Urs   Herr  3557         urs.ackermann@fr.ch   \n",
       "3           Adam Samuel   Herr  2628                         NaN   \n",
       "4      Aebischer Adrian   Herr  1289      adrian.aebischer@fr.ch   \n",
       "\n",
       "                                           Direktion  \\\n",
       "0            Raumplanungs-, Umwelt- und Baudirektion   \n",
       "1                                    Finanzdirektion   \n",
       "2  Direktion der Institutionen und der Land- und ...   \n",
       "3              Direktion für Gesundheit und Soziales   \n",
       "4  Direktion der Institutionen und der Land- und ...   \n",
       "\n",
       "                                             Sektion  \\\n",
       "0                                  RUBD - Hochbauamt   \n",
       "1                           FIND - Finanzinspektorat   \n",
       "2  ILFD - Amt für institutionelle Angelegenheiten...   \n",
       "3                               GSD - Kantonsarztamt   \n",
       "4                      ILFD - Amt für Wald und Natur   \n",
       "\n",
       "                                         Abteilung  \\\n",
       "0                             Technische Abteilung   \n",
       "1                                Finanzinspektorat   \n",
       "2  Abteilung Institutionen und Rechtsangelenheiten   \n",
       "3                                   Kantonsarztamt   \n",
       "4  Sektor Faune, Biodiversität, Jagd und Fischerei   \n",
       "\n",
       "                                           Funktion  \n",
       "0                                       Architektin  \n",
       "1                          Adjunkt der Dienstchefin  \n",
       "2                 Höherer Verwaltungssachbearbeiter  \n",
       "3                           Adjunkt des Dienstchefs  \n",
       "4  Wissenschaftlicher Mitarbeiter Waldbiodiversität  "
      ]
     },
     "execution_count": 5,
     "metadata": {},
     "output_type": "execute_result"
    }
   ],
   "source": [
    "df = pd.read_csv('Verzeichnis_per_neu.csv')\n",
    "\n",
    "df.head()"
   ]
  },
  {
   "cell_type": "code",
   "execution_count": null,
   "metadata": {},
   "outputs": [],
   "source": [
    "df"
   ]
  },
  {
   "cell_type": "code",
   "execution_count": null,
   "metadata": {},
   "outputs": [],
   "source": []
  }
 ],
 "metadata": {
  "kernelspec": {
   "display_name": "Python 3",
   "language": "python",
   "name": "python3"
  },
  "language_info": {
   "codemirror_mode": {
    "name": "ipython",
    "version": 3
   },
   "file_extension": ".py",
   "mimetype": "text/x-python",
   "name": "python",
   "nbconvert_exporter": "python",
   "pygments_lexer": "ipython3",
   "version": "3.7.3"
  }
 },
 "nbformat": 4,
 "nbformat_minor": 2
}
