{
 "cells": [
  {
   "cell_type": "markdown",
   "metadata": {},
   "source": [
    "# 05 NEU: Daten kategorisieren"
   ]
  },
  {
   "cell_type": "markdown",
   "metadata": {},
   "source": [
    "Was ich hier vorhabe:\n",
    "* Datensatz (von Doppel bereinigt) laden\n",
    "* Kader einteilen\n",
    "* Prozent m/w pro Direktion & Prozent Kader m/w pro Direktion plotten"
   ]
  },
  {
   "cell_type": "code",
   "execution_count": 4,
   "metadata": {},
   "outputs": [],
   "source": [
    "# Sachen importieren\n",
    "\n",
    "import pandas as pd\n",
    "import re\n",
    "import numpy as np\n",
    "%matplotlib inline\n",
    "import matplotlib.pyplot as plt\n",
    "plt.style.use('ggplot')\n"
   ]
  },
  {
   "cell_type": "code",
   "execution_count": 34,
   "metadata": {},
   "outputs": [
    {
     "data": {
      "text/html": [
       "<div>\n",
       "<style scoped>\n",
       "    .dataframe tbody tr th:only-of-type {\n",
       "        vertical-align: middle;\n",
       "    }\n",
       "\n",
       "    .dataframe tbody tr th {\n",
       "        vertical-align: top;\n",
       "    }\n",
       "\n",
       "    .dataframe thead th {\n",
       "        text-align: right;\n",
       "    }\n",
       "</style>\n",
       "<table border=\"1\" class=\"dataframe\">\n",
       "  <thead>\n",
       "    <tr style=\"text-align: right;\">\n",
       "      <th></th>\n",
       "      <th>Name</th>\n",
       "      <th>Gender</th>\n",
       "      <th>Email</th>\n",
       "      <th>Direktion</th>\n",
       "      <th>Sektion</th>\n",
       "      <th>Abteilung</th>\n",
       "      <th>Funktion</th>\n",
       "    </tr>\n",
       "  </thead>\n",
       "  <tbody>\n",
       "    <tr>\n",
       "      <th>0</th>\n",
       "      <td>Abeztout Abderrahim</td>\n",
       "      <td>Herr</td>\n",
       "      <td>abderrahim.abeztout@fr.ch</td>\n",
       "      <td>Raumplanungs-, Umwelt- und Baudirektion</td>\n",
       "      <td>RUBD - Hochbauamt</td>\n",
       "      <td>Technische Abteilung</td>\n",
       "      <td>Architektin</td>\n",
       "    </tr>\n",
       "    <tr>\n",
       "      <th>1</th>\n",
       "      <td>Ackermann Christophe</td>\n",
       "      <td>Herr</td>\n",
       "      <td>christophe.ackermann@fr.ch</td>\n",
       "      <td>Finanzdirektion</td>\n",
       "      <td>FIND - Finanzinspektorat</td>\n",
       "      <td>Finanzinspektorat</td>\n",
       "      <td>Adjunkt der Dienstchefin</td>\n",
       "    </tr>\n",
       "    <tr>\n",
       "      <th>2</th>\n",
       "      <td>Ackermann Urs</td>\n",
       "      <td>Herr</td>\n",
       "      <td>urs.ackermann@fr.ch</td>\n",
       "      <td>Direktion der Institutionen und der Land- und ...</td>\n",
       "      <td>ILFD - Amt für institutionelle Angelegenheiten...</td>\n",
       "      <td>Abteilung Institutionen und Rechtsangelenheiten</td>\n",
       "      <td>Höherer Verwaltungssachbearbeiter</td>\n",
       "    </tr>\n",
       "    <tr>\n",
       "      <th>3</th>\n",
       "      <td>Adam Samuel</td>\n",
       "      <td>Herr</td>\n",
       "      <td>NaN</td>\n",
       "      <td>Direktion für Gesundheit und Soziales</td>\n",
       "      <td>GSD - Kantonsarztamt</td>\n",
       "      <td>Kantonsarztamt</td>\n",
       "      <td>Adjunkt des Dienstchefs</td>\n",
       "    </tr>\n",
       "    <tr>\n",
       "      <th>4</th>\n",
       "      <td>Aebischer Adrian</td>\n",
       "      <td>Herr</td>\n",
       "      <td>adrian.aebischer@fr.ch</td>\n",
       "      <td>Direktion der Institutionen und der Land- und ...</td>\n",
       "      <td>ILFD - Amt für Wald und Natur</td>\n",
       "      <td>Sektor Faune, Biodiversität, Jagd und Fischerei</td>\n",
       "      <td>Wissenschaftlicher Mitarbeiter Waldbiodiversität</td>\n",
       "    </tr>\n",
       "  </tbody>\n",
       "</table>\n",
       "</div>"
      ],
      "text/plain": [
       "                   Name Gender                       Email  \\\n",
       "0   Abeztout Abderrahim   Herr   abderrahim.abeztout@fr.ch   \n",
       "1  Ackermann Christophe   Herr  christophe.ackermann@fr.ch   \n",
       "2         Ackermann Urs   Herr         urs.ackermann@fr.ch   \n",
       "3           Adam Samuel   Herr                         NaN   \n",
       "4      Aebischer Adrian   Herr      adrian.aebischer@fr.ch   \n",
       "\n",
       "                                           Direktion  \\\n",
       "0            Raumplanungs-, Umwelt- und Baudirektion   \n",
       "1                                    Finanzdirektion   \n",
       "2  Direktion der Institutionen und der Land- und ...   \n",
       "3              Direktion für Gesundheit und Soziales   \n",
       "4  Direktion der Institutionen und der Land- und ...   \n",
       "\n",
       "                                             Sektion  \\\n",
       "0                                  RUBD - Hochbauamt   \n",
       "1                           FIND - Finanzinspektorat   \n",
       "2  ILFD - Amt für institutionelle Angelegenheiten...   \n",
       "3                               GSD - Kantonsarztamt   \n",
       "4                      ILFD - Amt für Wald und Natur   \n",
       "\n",
       "                                         Abteilung  \\\n",
       "0                             Technische Abteilung   \n",
       "1                                Finanzinspektorat   \n",
       "2  Abteilung Institutionen und Rechtsangelenheiten   \n",
       "3                                   Kantonsarztamt   \n",
       "4  Sektor Faune, Biodiversität, Jagd und Fischerei   \n",
       "\n",
       "                                           Funktion  \n",
       "0                                       Architektin  \n",
       "1                          Adjunkt der Dienstchefin  \n",
       "2                 Höherer Verwaltungssachbearbeiter  \n",
       "3                           Adjunkt des Dienstchefs  \n",
       "4  Wissenschaftlicher Mitarbeiter Waldbiodiversität  "
      ]
     },
     "execution_count": 34,
     "metadata": {},
     "output_type": "execute_result"
    }
   ],
   "source": [
    "# DataFrame laden\n",
    "\n",
    "df = pd.read_csv('Verzeichnis_cut.csv')\n",
    "\n",
    "df.head()\n"
   ]
  },
  {
   "cell_type": "markdown",
   "metadata": {},
   "source": [
    "## Kader einteilen\n",
    "### Regex Begriffe testen"
   ]
  },
  {
   "cell_type": "code",
   "execution_count": 35,
   "metadata": {},
   "outputs": [],
   "source": [
    "# Liste der Suchbegriffe, mit denen ich eine neue Spalte \"Kader\" anlegen will\n",
    "\n",
    "overhead = ['chef', 'Vorsteher', 'Staatsrat', 'Staatsrätin', \n",
    "            'leiter', 'Verantwortliche', 'Direktor', 'Oberamtmann']"
   ]
  },
  {
   "cell_type": "code",
   "execution_count": 36,
   "metadata": {},
   "outputs": [
    {
     "data": {
      "text/plain": [
       "<re.Match object; span=(12, 24), match='Dienstchefin'>"
      ]
     },
     "execution_count": 36,
     "metadata": {},
     "output_type": "execute_result"
    }
   ],
   "source": [
    "# Test für \"chef\"\n",
    "\n",
    "r_chef = r\"\\w*chef\\w*\"\n",
    "re.search(r_chef, \"Adjunkt der Dienstchefin\")"
   ]
  },
  {
   "cell_type": "code",
   "execution_count": 37,
   "metadata": {},
   "outputs": [],
   "source": [
    "# Das schlägt an. \n",
    "# im Beispiel unten jedoch nicht. -> funktioniert. =)\n",
    "\n",
    "re.search(r_chef, \"Höherer Verwaltungssachbearbeiter\")"
   ]
  },
  {
   "cell_type": "code",
   "execution_count": 38,
   "metadata": {},
   "outputs": [
    {
     "data": {
      "text/plain": [
       "<re.Match object; span=(0, 15), match='Vizeoberamtmann'>"
      ]
     },
     "execution_count": 38,
     "metadata": {},
     "output_type": "execute_result"
    }
   ],
   "source": [
    "# Weitere Begriffe formatieren:\n",
    "\n",
    "r_test = r\"\\w*beramtmann\"\n",
    "re.search(r_test, \"Vizeoberamtmann\")\n"
   ]
  },
  {
   "cell_type": "markdown",
   "metadata": {},
   "source": [
    "### Neue Spalte mit Regex-Suche"
   ]
  },
  {
   "cell_type": "code",
   "execution_count": 39,
   "metadata": {},
   "outputs": [],
   "source": [
    "# so, jetzt die gewünschten Begriffe auf einmal suchen:\n",
    "\n",
    "searchfor = [r\"\\w*chef\\w*\", r\"Vorsteher\\w*\", r\"Staatsr\\wt\\w*\", r\"\\w*leiter\\S*\", \n",
    "            r\"\\w*erantwortliche\\w*\", \"\\w*irektor\\w*\", r\"\\w*beramtmann\"]\n",
    "\n",
    "df['Kader'] = df['Funktion'].str.contains('|'.join(searchfor))"
   ]
  },
  {
   "cell_type": "code",
   "execution_count": 40,
   "metadata": {},
   "outputs": [
    {
     "data": {
      "text/html": [
       "<div>\n",
       "<style scoped>\n",
       "    .dataframe tbody tr th:only-of-type {\n",
       "        vertical-align: middle;\n",
       "    }\n",
       "\n",
       "    .dataframe tbody tr th {\n",
       "        vertical-align: top;\n",
       "    }\n",
       "\n",
       "    .dataframe thead th {\n",
       "        text-align: right;\n",
       "    }\n",
       "</style>\n",
       "<table border=\"1\" class=\"dataframe\">\n",
       "  <thead>\n",
       "    <tr style=\"text-align: right;\">\n",
       "      <th></th>\n",
       "      <th>Name</th>\n",
       "      <th>Gender</th>\n",
       "      <th>Email</th>\n",
       "      <th>Direktion</th>\n",
       "      <th>Sektion</th>\n",
       "      <th>Abteilung</th>\n",
       "      <th>Funktion</th>\n",
       "      <th>Kader</th>\n",
       "    </tr>\n",
       "  </thead>\n",
       "  <tbody>\n",
       "    <tr>\n",
       "      <th>0</th>\n",
       "      <td>Abeztout Abderrahim</td>\n",
       "      <td>Herr</td>\n",
       "      <td>abderrahim.abeztout@fr.ch</td>\n",
       "      <td>Raumplanungs-, Umwelt- und Baudirektion</td>\n",
       "      <td>RUBD - Hochbauamt</td>\n",
       "      <td>Technische Abteilung</td>\n",
       "      <td>Architektin</td>\n",
       "      <td>False</td>\n",
       "    </tr>\n",
       "    <tr>\n",
       "      <th>1</th>\n",
       "      <td>Ackermann Christophe</td>\n",
       "      <td>Herr</td>\n",
       "      <td>christophe.ackermann@fr.ch</td>\n",
       "      <td>Finanzdirektion</td>\n",
       "      <td>FIND - Finanzinspektorat</td>\n",
       "      <td>Finanzinspektorat</td>\n",
       "      <td>Adjunkt der Dienstchefin</td>\n",
       "      <td>True</td>\n",
       "    </tr>\n",
       "    <tr>\n",
       "      <th>2</th>\n",
       "      <td>Ackermann Urs</td>\n",
       "      <td>Herr</td>\n",
       "      <td>urs.ackermann@fr.ch</td>\n",
       "      <td>Direktion der Institutionen und der Land- und ...</td>\n",
       "      <td>ILFD - Amt für institutionelle Angelegenheiten...</td>\n",
       "      <td>Abteilung Institutionen und Rechtsangelenheiten</td>\n",
       "      <td>Höherer Verwaltungssachbearbeiter</td>\n",
       "      <td>False</td>\n",
       "    </tr>\n",
       "    <tr>\n",
       "      <th>3</th>\n",
       "      <td>Adam Samuel</td>\n",
       "      <td>Herr</td>\n",
       "      <td>NaN</td>\n",
       "      <td>Direktion für Gesundheit und Soziales</td>\n",
       "      <td>GSD - Kantonsarztamt</td>\n",
       "      <td>Kantonsarztamt</td>\n",
       "      <td>Adjunkt des Dienstchefs</td>\n",
       "      <td>True</td>\n",
       "    </tr>\n",
       "    <tr>\n",
       "      <th>4</th>\n",
       "      <td>Aebischer Adrian</td>\n",
       "      <td>Herr</td>\n",
       "      <td>adrian.aebischer@fr.ch</td>\n",
       "      <td>Direktion der Institutionen und der Land- und ...</td>\n",
       "      <td>ILFD - Amt für Wald und Natur</td>\n",
       "      <td>Sektor Faune, Biodiversität, Jagd und Fischerei</td>\n",
       "      <td>Wissenschaftlicher Mitarbeiter Waldbiodiversität</td>\n",
       "      <td>False</td>\n",
       "    </tr>\n",
       "  </tbody>\n",
       "</table>\n",
       "</div>"
      ],
      "text/plain": [
       "                   Name Gender                       Email  \\\n",
       "0   Abeztout Abderrahim   Herr   abderrahim.abeztout@fr.ch   \n",
       "1  Ackermann Christophe   Herr  christophe.ackermann@fr.ch   \n",
       "2         Ackermann Urs   Herr         urs.ackermann@fr.ch   \n",
       "3           Adam Samuel   Herr                         NaN   \n",
       "4      Aebischer Adrian   Herr      adrian.aebischer@fr.ch   \n",
       "\n",
       "                                           Direktion  \\\n",
       "0            Raumplanungs-, Umwelt- und Baudirektion   \n",
       "1                                    Finanzdirektion   \n",
       "2  Direktion der Institutionen und der Land- und ...   \n",
       "3              Direktion für Gesundheit und Soziales   \n",
       "4  Direktion der Institutionen und der Land- und ...   \n",
       "\n",
       "                                             Sektion  \\\n",
       "0                                  RUBD - Hochbauamt   \n",
       "1                           FIND - Finanzinspektorat   \n",
       "2  ILFD - Amt für institutionelle Angelegenheiten...   \n",
       "3                               GSD - Kantonsarztamt   \n",
       "4                      ILFD - Amt für Wald und Natur   \n",
       "\n",
       "                                         Abteilung  \\\n",
       "0                             Technische Abteilung   \n",
       "1                                Finanzinspektorat   \n",
       "2  Abteilung Institutionen und Rechtsangelenheiten   \n",
       "3                                   Kantonsarztamt   \n",
       "4  Sektor Faune, Biodiversität, Jagd und Fischerei   \n",
       "\n",
       "                                           Funktion  Kader  \n",
       "0                                       Architektin  False  \n",
       "1                          Adjunkt der Dienstchefin   True  \n",
       "2                 Höherer Verwaltungssachbearbeiter  False  \n",
       "3                           Adjunkt des Dienstchefs   True  \n",
       "4  Wissenschaftlicher Mitarbeiter Waldbiodiversität  False  "
      ]
     },
     "execution_count": 40,
     "metadata": {},
     "output_type": "execute_result"
    }
   ],
   "source": [
    "# Tadaaa:\n",
    "\n",
    "df.head()"
   ]
  },
  {
   "cell_type": "code",
   "execution_count": 67,
   "metadata": {},
   "outputs": [
    {
     "name": "stdout",
     "output_type": "stream",
     "text": [
      "<class 'pandas.core.frame.DataFrame'>\n",
      "RangeIndex: 1560 entries, 0 to 1559\n",
      "Data columns (total 8 columns):\n",
      "Name         1503 non-null object\n",
      "Gender       1502 non-null object\n",
      "Email        1152 non-null object\n",
      "Direktion    1501 non-null object\n",
      "Sektion      1501 non-null object\n",
      "Abteilung    1501 non-null object\n",
      "Funktion     1501 non-null object\n",
      "Kader        1501 non-null object\n",
      "dtypes: object(8)\n",
      "memory usage: 97.6+ KB\n"
     ]
    }
   ],
   "source": [
    "df.info()"
   ]
  },
  {
   "cell_type": "code",
   "execution_count": null,
   "metadata": {},
   "outputs": [],
   "source": []
  },
  {
   "cell_type": "markdown",
   "metadata": {},
   "source": [
    "## Geschlechterverhältnis plotten\n"
   ]
  },
  {
   "cell_type": "markdown",
   "metadata": {},
   "source": [
    "Mich interessiert: \n",
    "* Verhältins Mann Frau nach Direktion\n",
    "* Prozent Verhältnis Mann Frau nach Direktion\n",
    "\n",
    "Und dann das selbe fürs Kader."
   ]
  },
  {
   "cell_type": "code",
   "execution_count": 12,
   "metadata": {},
   "outputs": [
    {
     "data": {
      "text/plain": [
       "<matplotlib.axes._subplots.AxesSubplot at 0x11e423a58>"
      ]
     },
     "execution_count": 12,
     "metadata": {},
     "output_type": "execute_result"
    },
    {
     "data": {
      "image/png": "[encoded data removed]",
      "text/plain": [
       "<Figure size 864x576 with 1 Axes>"
      ]
     },
     "metadata": {},
     "output_type": "display_data"
    }
   ],
   "source": [
    "# Chart mit absoluten Werten nach Direktion und Geschlecht:\n",
    "\n",
    "df.groupby('Direktion')['Gender'].value_counts().unstack().plot(kind='barh', stacked='True', figsize=(12, 8))\n"
   ]
  },
  {
   "cell_type": "code",
   "execution_count": 61,
   "metadata": {},
   "outputs": [
    {
     "data": {
      "text/html": [
       "<div>\n",
       "<style scoped>\n",
       "    .dataframe tbody tr th:only-of-type {\n",
       "        vertical-align: middle;\n",
       "    }\n",
       "\n",
       "    .dataframe tbody tr th {\n",
       "        vertical-align: top;\n",
       "    }\n",
       "\n",
       "    .dataframe thead th {\n",
       "        text-align: right;\n",
       "    }\n",
       "</style>\n",
       "<table border=\"1\" class=\"dataframe\">\n",
       "  <thead>\n",
       "    <tr style=\"text-align: right;\">\n",
       "      <th>Gender</th>\n",
       "      <th>Frau</th>\n",
       "      <th>Herr</th>\n",
       "    </tr>\n",
       "    <tr>\n",
       "      <th>Direktion</th>\n",
       "      <th></th>\n",
       "      <th></th>\n",
       "    </tr>\n",
       "  </thead>\n",
       "  <tbody>\n",
       "    <tr>\n",
       "      <th>Direktion der Institutionen und der Land- und Forstwirtschaft</th>\n",
       "      <td>170</td>\n",
       "      <td>211</td>\n",
       "    </tr>\n",
       "    <tr>\n",
       "      <th>Direktion für Erziehung, Kultur und Sport</th>\n",
       "      <td>241</td>\n",
       "      <td>190</td>\n",
       "    </tr>\n",
       "    <tr>\n",
       "      <th>Direktion für Gesundheit und Soziales</th>\n",
       "      <td>83</td>\n",
       "      <td>34</td>\n",
       "    </tr>\n",
       "    <tr>\n",
       "      <th>Finanzdirektion</th>\n",
       "      <td>43</td>\n",
       "      <td>59</td>\n",
       "    </tr>\n",
       "    <tr>\n",
       "      <th>Raumplanungs-, Umwelt- und Baudirektion</th>\n",
       "      <td>110</td>\n",
       "      <td>137</td>\n",
       "    </tr>\n",
       "    <tr>\n",
       "      <th>Sicherheits- und Justizdirektion</th>\n",
       "      <td>16</td>\n",
       "      <td>24</td>\n",
       "    </tr>\n",
       "    <tr>\n",
       "      <th>Volkswirtschaftsdirektion</th>\n",
       "      <td>102</td>\n",
       "      <td>80</td>\n",
       "    </tr>\n",
       "  </tbody>\n",
       "</table>\n",
       "</div>"
      ],
      "text/plain": [
       "Gender                                              Frau  Herr\n",
       "Direktion                                                     \n",
       "Direktion der Institutionen und der Land- und F...   170   211\n",
       "Direktion für Erziehung, Kultur und Sport            241   190\n",
       "Direktion für Gesundheit und Soziales                 83    34\n",
       "Finanzdirektion                                       43    59\n",
       "Raumplanungs-, Umwelt- und Baudirektion              110   137\n",
       "Sicherheits- und Justizdirektion                      16    24\n",
       "Volkswirtschaftsdirektion                            102    80"
      ]
     },
     "execution_count": 61,
     "metadata": {},
     "output_type": "execute_result"
    }
   ],
   "source": [
    "df.groupby('Direktion')['Gender'].value_counts().unstack()#.plot(kind='barh', stacked='True', figsize=(12, 8))"
   ]
  },
  {
   "cell_type": "markdown",
   "metadata": {},
   "source": [
    "### Prozent ausrechnen."
   ]
  },
  {
   "cell_type": "code",
   "execution_count": 69,
   "metadata": {},
   "outputs": [
    {
     "data": {
      "text/plain": [
       "Frau    767\n",
       "Herr    735\n",
       "Name: Gender, dtype: int64"
      ]
     },
     "execution_count": 69,
     "metadata": {},
     "output_type": "execute_result"
    }
   ],
   "source": [
    "# Zuerst die absoluten Zahlen\n",
    "\n",
    "df['Gender'].value_counts()"
   ]
  },
  {
   "cell_type": "code",
   "execution_count": 13,
   "metadata": {},
   "outputs": [
    {
     "data": {
      "text/plain": [
       "Frau    51.065246\n",
       "Herr    48.934754\n",
       "Name: Gender, dtype: float64"
      ]
     },
     "execution_count": 13,
     "metadata": {},
     "output_type": "execute_result"
    }
   ],
   "source": [
    "# Was geht:\n",
    "\n",
    "df['Gender'].value_counts() / df['Gender'].value_counts().sum()*100\n"
   ]
  },
  {
   "cell_type": "code",
   "execution_count": 14,
   "metadata": {},
   "outputs": [
    {
     "data": {
      "text/plain": [
       "<matplotlib.axes._subplots.AxesSubplot at 0x10d6535f8>"
      ]
     },
     "execution_count": 14,
     "metadata": {},
     "output_type": "execute_result"
    },
    {
     "data": {
      "image/png": "[encoded data removed]",
      "text/plain": [
       "<Figure size 432x288 with 1 Axes>"
      ]
     },
     "metadata": {},
     "output_type": "display_data"
    }
   ],
   "source": [
    "# Prozent aller Angestellten nach m/w\n",
    "\n",
    "(df['Gender'].value_counts() / df['Gender'].value_counts().sum()*100).plot(kind='bar')"
   ]
  },
  {
   "cell_type": "code",
   "execution_count": null,
   "metadata": {},
   "outputs": [],
   "source": [
    "# Das hier gibt zwar keinen Fehler, aber stimmt nicht: \n",
    "\n",
    "(df.groupby('Direktion')['Gender'].value_counts() / df['Direktion'].value_counts().sum())*100"
   ]
  },
  {
   "cell_type": "markdown",
   "metadata": {},
   "source": [
    "    # Input von Stack Overflow: \n",
    "\n",
    "    df_t = pd.DataFrame({'state': ['CA', 'WA', 'CO', 'AZ'] * 3,\n",
    "                       'office_id': list(range(1, 7)) * 2,\n",
    "                       'sales': [np.random.randint(100000, 999999)\n",
    "                                 for _ in range(12)]})\n",
    "\n",
    "    state_office = df_t.groupby(['state', 'office_id']).agg({'sales': 'sum'})\n",
    "    # Change: groupby state_office and divide by sum\n",
    "    state_pcts = state_office.groupby(level=0).apply(lambda x: 100 * x / float(x.sum()))\n",
    "    #state_pcts\n",
    "    state_office"
   ]
  },
  {
   "cell_type": "code",
   "execution_count": 63,
   "metadata": {},
   "outputs": [
    {
     "data": {
      "text/html": [
       "<div>\n",
       "<style scoped>\n",
       "    .dataframe tbody tr th:only-of-type {\n",
       "        vertical-align: middle;\n",
       "    }\n",
       "\n",
       "    .dataframe tbody tr th {\n",
       "        vertical-align: top;\n",
       "    }\n",
       "\n",
       "    .dataframe thead th {\n",
       "        text-align: right;\n",
       "    }\n",
       "</style>\n",
       "<table border=\"1\" class=\"dataframe\">\n",
       "  <thead>\n",
       "    <tr style=\"text-align: right;\">\n",
       "      <th>Gender</th>\n",
       "      <th>Frau</th>\n",
       "      <th>Herr</th>\n",
       "    </tr>\n",
       "    <tr>\n",
       "      <th>Direktion</th>\n",
       "      <th></th>\n",
       "      <th></th>\n",
       "    </tr>\n",
       "  </thead>\n",
       "  <tbody>\n",
       "    <tr>\n",
       "      <th>Direktion der Institutionen und der Land- und Forstwirtschaft</th>\n",
       "      <td>44.619423</td>\n",
       "      <td>55.380577</td>\n",
       "    </tr>\n",
       "    <tr>\n",
       "      <th>Direktion für Erziehung, Kultur und Sport</th>\n",
       "      <td>55.916473</td>\n",
       "      <td>44.083527</td>\n",
       "    </tr>\n",
       "    <tr>\n",
       "      <th>Direktion für Gesundheit und Soziales</th>\n",
       "      <td>70.940171</td>\n",
       "      <td>29.059829</td>\n",
       "    </tr>\n",
       "    <tr>\n",
       "      <th>Finanzdirektion</th>\n",
       "      <td>42.156863</td>\n",
       "      <td>57.843137</td>\n",
       "    </tr>\n",
       "    <tr>\n",
       "      <th>Raumplanungs-, Umwelt- und Baudirektion</th>\n",
       "      <td>44.534413</td>\n",
       "      <td>55.465587</td>\n",
       "    </tr>\n",
       "    <tr>\n",
       "      <th>Sicherheits- und Justizdirektion</th>\n",
       "      <td>40.000000</td>\n",
       "      <td>60.000000</td>\n",
       "    </tr>\n",
       "    <tr>\n",
       "      <th>Volkswirtschaftsdirektion</th>\n",
       "      <td>56.043956</td>\n",
       "      <td>43.956044</td>\n",
       "    </tr>\n",
       "  </tbody>\n",
       "</table>\n",
       "</div>"
      ],
      "text/plain": [
       "Gender                                                   Frau       Herr\n",
       "Direktion                                                               \n",
       "Direktion der Institutionen und der Land- und F...  44.619423  55.380577\n",
       "Direktion für Erziehung, Kultur und Sport           55.916473  44.083527\n",
       "Direktion für Gesundheit und Soziales               70.940171  29.059829\n",
       "Finanzdirektion                                     42.156863  57.843137\n",
       "Raumplanungs-, Umwelt- und Baudirektion             44.534413  55.465587\n",
       "Sicherheits- und Justizdirektion                    40.000000  60.000000\n",
       "Volkswirtschaftsdirektion                           56.043956  43.956044"
      ]
     },
     "execution_count": 63,
     "metadata": {},
     "output_type": "execute_result"
    }
   ],
   "source": [
    "# Prozent berechnen \n",
    "\n",
    "direktion_gender = df.groupby('Direktion')['Gender'].value_counts()\n",
    "direktion_gender.groupby(level=0).apply(lambda x: 100 * x / float(x.sum())).unstack()"
   ]
  },
  {
   "cell_type": "code",
   "execution_count": 17,
   "metadata": {},
   "outputs": [
    {
     "data": {
      "text/plain": [
       "<matplotlib.axes._subplots.AxesSubplot at 0x10e0a3940>"
      ]
     },
     "execution_count": 17,
     "metadata": {},
     "output_type": "execute_result"
    },
    {
     "data": {
      "image/png": "[encoded data removed]",
      "text/plain": [
       "<Figure size 864x576 with 1 Axes>"
      ]
     },
     "metadata": {},
     "output_type": "display_data"
    }
   ],
   "source": [
    "direktion_gender.groupby(level=0).apply(lambda x: 100 * x / float(x.sum())).unstack().plot(kind='barh', stacked = 'True', figsize=(12, 8))"
   ]
  },
  {
   "cell_type": "markdown",
   "metadata": {},
   "source": []
  },
  {
   "cell_type": "markdown",
   "metadata": {},
   "source": [
    "## Todo: \n",
    "* Nur bestimmte Werte aus Direktionen anzeigen [done]\n",
    "* Kader gruppieren"
   ]
  },
  {
   "cell_type": "markdown",
   "metadata": {},
   "source": [
    "## Kader Anteile"
   ]
  },
  {
   "cell_type": "code",
   "execution_count": 64,
   "metadata": {},
   "outputs": [
    {
     "data": {
      "text/html": [
       "<div>\n",
       "<style scoped>\n",
       "    .dataframe tbody tr th:only-of-type {\n",
       "        vertical-align: middle;\n",
       "    }\n",
       "\n",
       "    .dataframe tbody tr th {\n",
       "        vertical-align: top;\n",
       "    }\n",
       "\n",
       "    .dataframe thead th {\n",
       "        text-align: right;\n",
       "    }\n",
       "</style>\n",
       "<table border=\"1\" class=\"dataframe\">\n",
       "  <thead>\n",
       "    <tr style=\"text-align: right;\">\n",
       "      <th>Gender</th>\n",
       "      <th>Frau</th>\n",
       "      <th>Herr</th>\n",
       "    </tr>\n",
       "    <tr>\n",
       "      <th>Direktion</th>\n",
       "      <th></th>\n",
       "      <th></th>\n",
       "    </tr>\n",
       "  </thead>\n",
       "  <tbody>\n",
       "    <tr>\n",
       "      <th>Direktion der Institutionen und der Land- und Forstwirtschaft</th>\n",
       "      <td>16</td>\n",
       "      <td>56</td>\n",
       "    </tr>\n",
       "    <tr>\n",
       "      <th>Direktion für Erziehung, Kultur und Sport</th>\n",
       "      <td>73</td>\n",
       "      <td>96</td>\n",
       "    </tr>\n",
       "    <tr>\n",
       "      <th>Direktion für Gesundheit und Soziales</th>\n",
       "      <td>12</td>\n",
       "      <td>15</td>\n",
       "    </tr>\n",
       "    <tr>\n",
       "      <th>Finanzdirektion</th>\n",
       "      <td>6</td>\n",
       "      <td>13</td>\n",
       "    </tr>\n",
       "    <tr>\n",
       "      <th>Raumplanungs-, Umwelt- und Baudirektion</th>\n",
       "      <td>17</td>\n",
       "      <td>58</td>\n",
       "    </tr>\n",
       "    <tr>\n",
       "      <th>Sicherheits- und Justizdirektion</th>\n",
       "      <td>1</td>\n",
       "      <td>8</td>\n",
       "    </tr>\n",
       "    <tr>\n",
       "      <th>Volkswirtschaftsdirektion</th>\n",
       "      <td>20</td>\n",
       "      <td>28</td>\n",
       "    </tr>\n",
       "  </tbody>\n",
       "</table>\n",
       "</div>"
      ],
      "text/plain": [
       "Gender                                              Frau  Herr\n",
       "Direktion                                                     \n",
       "Direktion der Institutionen und der Land- und F...    16    56\n",
       "Direktion für Erziehung, Kultur und Sport             73    96\n",
       "Direktion für Gesundheit und Soziales                 12    15\n",
       "Finanzdirektion                                        6    13\n",
       "Raumplanungs-, Umwelt- und Baudirektion               17    58\n",
       "Sicherheits- und Justizdirektion                       1     8\n",
       "Volkswirtschaftsdirektion                             20    28"
      ]
     },
     "execution_count": 64,
     "metadata": {},
     "output_type": "execute_result"
    }
   ],
   "source": [
    "# Filter Nach Kader, .groupby Werte absolut\n",
    "\n",
    "df[df['Kader'] == True].groupby('Direktion')['Gender'].value_counts().unstack()"
   ]
  },
  {
   "cell_type": "code",
   "execution_count": 19,
   "metadata": {},
   "outputs": [
    {
     "data": {
      "text/plain": [
       "<matplotlib.axes._subplots.AxesSubplot at 0x11e89c208>"
      ]
     },
     "execution_count": 19,
     "metadata": {},
     "output_type": "execute_result"
    },
    {
     "data": {
      "image/png": "[encoded data removed]",
      "text/plain": [
       "<Figure size 864x576 with 1 Axes>"
      ]
     },
     "metadata": {},
     "output_type": "display_data"
    }
   ],
   "source": [
    "# Werte oben plotten\n",
    "\n",
    "df[df['Kader'] == True].groupby('Direktion')['Gender'].value_counts().unstack().plot(kind='bar', figsize=(12, 8))"
   ]
  },
  {
   "cell_type": "code",
   "execution_count": 65,
   "metadata": {},
   "outputs": [
    {
     "data": {
      "text/html": [
       "<div>\n",
       "<style scoped>\n",
       "    .dataframe tbody tr th:only-of-type {\n",
       "        vertical-align: middle;\n",
       "    }\n",
       "\n",
       "    .dataframe tbody tr th {\n",
       "        vertical-align: top;\n",
       "    }\n",
       "\n",
       "    .dataframe thead th {\n",
       "        text-align: right;\n",
       "    }\n",
       "</style>\n",
       "<table border=\"1\" class=\"dataframe\">\n",
       "  <thead>\n",
       "    <tr style=\"text-align: right;\">\n",
       "      <th>Gender</th>\n",
       "      <th>Frau</th>\n",
       "      <th>Herr</th>\n",
       "    </tr>\n",
       "    <tr>\n",
       "      <th>Direktion</th>\n",
       "      <th></th>\n",
       "      <th></th>\n",
       "    </tr>\n",
       "  </thead>\n",
       "  <tbody>\n",
       "    <tr>\n",
       "      <th>Direktion der Institutionen und der Land- und Forstwirtschaft</th>\n",
       "      <td>22.222222</td>\n",
       "      <td>77.777778</td>\n",
       "    </tr>\n",
       "    <tr>\n",
       "      <th>Direktion für Erziehung, Kultur und Sport</th>\n",
       "      <td>43.195266</td>\n",
       "      <td>56.804734</td>\n",
       "    </tr>\n",
       "    <tr>\n",
       "      <th>Direktion für Gesundheit und Soziales</th>\n",
       "      <td>44.444444</td>\n",
       "      <td>55.555556</td>\n",
       "    </tr>\n",
       "    <tr>\n",
       "      <th>Finanzdirektion</th>\n",
       "      <td>31.578947</td>\n",
       "      <td>68.421053</td>\n",
       "    </tr>\n",
       "    <tr>\n",
       "      <th>Raumplanungs-, Umwelt- und Baudirektion</th>\n",
       "      <td>22.666667</td>\n",
       "      <td>77.333333</td>\n",
       "    </tr>\n",
       "    <tr>\n",
       "      <th>Sicherheits- und Justizdirektion</th>\n",
       "      <td>11.111111</td>\n",
       "      <td>88.888889</td>\n",
       "    </tr>\n",
       "    <tr>\n",
       "      <th>Volkswirtschaftsdirektion</th>\n",
       "      <td>41.666667</td>\n",
       "      <td>58.333333</td>\n",
       "    </tr>\n",
       "  </tbody>\n",
       "</table>\n",
       "</div>"
      ],
      "text/plain": [
       "Gender                                                   Frau       Herr\n",
       "Direktion                                                               \n",
       "Direktion der Institutionen und der Land- und F...  22.222222  77.777778\n",
       "Direktion für Erziehung, Kultur und Sport           43.195266  56.804734\n",
       "Direktion für Gesundheit und Soziales               44.444444  55.555556\n",
       "Finanzdirektion                                     31.578947  68.421053\n",
       "Raumplanungs-, Umwelt- und Baudirektion             22.666667  77.333333\n",
       "Sicherheits- und Justizdirektion                    11.111111  88.888889\n",
       "Volkswirtschaftsdirektion                           41.666667  58.333333"
      ]
     },
     "execution_count": 65,
     "metadata": {},
     "output_type": "execute_result"
    }
   ],
   "source": [
    "# Prozent Kader berechnen\n",
    "\n",
    "\n",
    "direktion_kader = df[df['Kader'] == True].groupby('Direktion')['Gender'].value_counts()\n",
    "direktion_kader.groupby(level=0).apply(lambda x: 100 * x / float(x.sum())).unstack()"
   ]
  },
  {
   "cell_type": "code",
   "execution_count": 24,
   "metadata": {},
   "outputs": [
    {
     "data": {
      "text/plain": [
       "<matplotlib.axes._subplots.AxesSubplot at 0x11fd4b5c0>"
      ]
     },
     "execution_count": 24,
     "metadata": {},
     "output_type": "execute_result"
    },
    {
     "data": {
      "image/png": "[encoded data removed]",
      "text/plain": [
       "<Figure size 864x576 with 1 Axes>"
      ]
     },
     "metadata": {},
     "output_type": "display_data"
    },
    {
     "data": {
      "image/png": "[encoded data removed]",
      "text/plain": [
       "<Figure size 864x576 with 1 Axes>"
      ]
     },
     "metadata": {},
     "output_type": "display_data"
    }
   ],
   "source": [
    "# Prozent Kader plotten\n",
    "direktion_gender.groupby(level=0).apply(lambda x: 100 * x / float(x.sum())).unstack().plot(kind='bar', stacked = 'True', title='Anteil Frauen insgesamt', figsize=(12, 8))\n",
    "direktion_kader.groupby(level=0).apply(lambda x: 100 * x / float(x.sum())).unstack().plot(kind='bar', stacked = 'True', title='Anteil Frauen im Kader', figsize=(12, 8))\n"
   ]
  },
  {
   "cell_type": "code",
   "execution_count": 22,
   "metadata": {},
   "outputs": [],
   "source": [
    "# Zum gegenüberstellen noch einmal Prozent total\n"
   ]
  },
  {
   "cell_type": "markdown",
   "metadata": {},
   "source": [
    "So, und jetzt hätte ich gerne die Balken von Kader und total in einer Grafik kombiniert. \n"
   ]
  },
  {
   "cell_type": "code",
   "execution_count": 104,
   "metadata": {},
   "outputs": [],
   "source": [
    "# Test stacking"
   ]
  },
  {
   "cell_type": "code",
   "execution_count": null,
   "metadata": {},
   "outputs": [],
   "source": []
  },
  {
   "cell_type": "code",
   "execution_count": 32,
   "metadata": {},
   "outputs": [
    {
     "data": {
      "image/png": "[encoded data removed]",
      "text/plain": [
       "<Figure size 432x288 with 1 Axes>"
      ]
     },
     "metadata": {},
     "output_type": "display_data"
    }
   ],
   "source": [
    "# Input von Stack Overflow zu plots verbinden:\n",
    "\n",
    "df_t3 = pd.DataFrame({'a':[10, 20], 'b': [15, 25], 'c': [35, 40], 'd':[45, 50]}, index=['john', 'bob'])\n",
    "\n",
    "\n",
    "fig, ax = plt.subplots()\n",
    "df[['a', 'c']].plot.bar(stacked=True, width=0.1, position=1.5, colormap=\"bwr\", ax=ax, alpha=0.7)\n",
    "df[['b', 'd']].plot.bar(stacked=True, width=0.1, position=-0.5, colormap=\"RdGy\", ax=ax, alpha=0.7)\n",
    "df[['a', 'd']].plot.bar(stacked=True, width=0.1, position=0.5, colormap=\"BrBG\", ax=ax, alpha=0.7)\n",
    "plt.legend(loc=\"upper center\")\n",
    "plt.show()"
   ]
  },
  {
   "cell_type": "code",
   "execution_count": 54,
   "metadata": {},
   "outputs": [
    {
     "data": {
      "text/plain": [
       "Frau    51.065246\n",
       "Herr    48.934754\n",
       "Name: Gender, dtype: float64"
      ]
     },
     "execution_count": 54,
     "metadata": {},
     "output_type": "execute_result"
    }
   ],
   "source": [
    "df['Gender'].value_counts() / df['Gender'].value_counts().sum()*100"
   ]
  },
  {
   "cell_type": "code",
   "execution_count": 25,
   "metadata": {},
   "outputs": [
    {
     "data": {
      "text/plain": [
       "<matplotlib.axes._subplots.AxesSubplot at 0x11fdf6a90>"
      ]
     },
     "execution_count": 25,
     "metadata": {},
     "output_type": "execute_result"
    },
    {
     "data": {
      "image/png": "[encoded data removed]",
      "text/plain": [
       "<Figure size 432x288 with 1 Axes>"
      ]
     },
     "metadata": {},
     "output_type": "display_data"
    }
   ],
   "source": [
    "\n",
    "(df['Gender'].value_counts() / df['Gender'].value_counts().sum()*100).plot(kind='bar')"
   ]
  },
  {
   "cell_type": "code",
   "execution_count": null,
   "metadata": {},
   "outputs": [],
   "source": [
    "direktion_kader.groupby(level=0).apply(lambda x: 100 * x / float(x.sum())).unstack().plot(kind='bar', stacked = 'True')"
   ]
  },
  {
   "cell_type": "code",
   "execution_count": 50,
   "metadata": {},
   "outputs": [
    {
     "data": {
      "text/plain": [
       "Herr    274\n",
       "Frau    145\n",
       "Name: Gender, dtype: int64"
      ]
     },
     "execution_count": 50,
     "metadata": {},
     "output_type": "execute_result"
    }
   ],
   "source": [
    "\n",
    "kader_absolut = df[df['Kader'] == True]['Gender'].value_counts()\n",
    "\n",
    "kader_absolut \n"
   ]
  },
  {
   "cell_type": "code",
   "execution_count": 53,
   "metadata": {},
   "outputs": [
    {
     "data": {
      "text/plain": [
       "Herr    65.393795\n",
       "Frau    34.606205\n",
       "Name: Gender, dtype: float64"
      ]
     },
     "execution_count": 53,
     "metadata": {},
     "output_type": "execute_result"
    }
   ],
   "source": [
    "(kader_absolut / kader_absolut.sum())*100"
   ]
  },
  {
   "cell_type": "code",
   "execution_count": null,
   "metadata": {},
   "outputs": [],
   "source": [
    "(df['Gender'].value_counts() / df['Gender'].value_counts().sum()*100).plot(kind='bar')"
   ]
  },
  {
   "cell_type": "code",
   "execution_count": 72,
   "metadata": {},
   "outputs": [
    {
     "data": {
      "text/html": [
       "<div>\n",
       "<style scoped>\n",
       "    .dataframe tbody tr th:only-of-type {\n",
       "        vertical-align: middle;\n",
       "    }\n",
       "\n",
       "    .dataframe tbody tr th {\n",
       "        vertical-align: top;\n",
       "    }\n",
       "\n",
       "    .dataframe thead th {\n",
       "        text-align: right;\n",
       "    }\n",
       "</style>\n",
       "<table border=\"1\" class=\"dataframe\">\n",
       "  <thead>\n",
       "    <tr style=\"text-align: right;\">\n",
       "      <th>Gender</th>\n",
       "      <th>Frau</th>\n",
       "      <th>Herr</th>\n",
       "    </tr>\n",
       "    <tr>\n",
       "      <th>Direktion</th>\n",
       "      <th></th>\n",
       "      <th></th>\n",
       "    </tr>\n",
       "  </thead>\n",
       "  <tbody>\n",
       "    <tr>\n",
       "      <th>Direktion der Institutionen und der Land- und Forstwirtschaft</th>\n",
       "      <td>22.222222</td>\n",
       "      <td>77.777778</td>\n",
       "    </tr>\n",
       "    <tr>\n",
       "      <th>Direktion für Erziehung, Kultur und Sport</th>\n",
       "      <td>43.195266</td>\n",
       "      <td>56.804734</td>\n",
       "    </tr>\n",
       "    <tr>\n",
       "      <th>Direktion für Gesundheit und Soziales</th>\n",
       "      <td>44.444444</td>\n",
       "      <td>55.555556</td>\n",
       "    </tr>\n",
       "    <tr>\n",
       "      <th>Finanzdirektion</th>\n",
       "      <td>31.578947</td>\n",
       "      <td>68.421053</td>\n",
       "    </tr>\n",
       "    <tr>\n",
       "      <th>Raumplanungs-, Umwelt- und Baudirektion</th>\n",
       "      <td>22.666667</td>\n",
       "      <td>77.333333</td>\n",
       "    </tr>\n",
       "    <tr>\n",
       "      <th>Sicherheits- und Justizdirektion</th>\n",
       "      <td>11.111111</td>\n",
       "      <td>88.888889</td>\n",
       "    </tr>\n",
       "    <tr>\n",
       "      <th>Volkswirtschaftsdirektion</th>\n",
       "      <td>41.666667</td>\n",
       "      <td>58.333333</td>\n",
       "    </tr>\n",
       "  </tbody>\n",
       "</table>\n",
       "</div>"
      ],
      "text/plain": [
       "Gender                                                   Frau       Herr\n",
       "Direktion                                                               \n",
       "Direktion der Institutionen und der Land- und F...  22.222222  77.777778\n",
       "Direktion für Erziehung, Kultur und Sport           43.195266  56.804734\n",
       "Direktion für Gesundheit und Soziales               44.444444  55.555556\n",
       "Finanzdirektion                                     31.578947  68.421053\n",
       "Raumplanungs-, Umwelt- und Baudirektion             22.666667  77.333333\n",
       "Sicherheits- und Justizdirektion                    11.111111  88.888889\n",
       "Volkswirtschaftsdirektion                           41.666667  58.333333"
      ]
     },
     "execution_count": 72,
     "metadata": {},
     "output_type": "execute_result"
    }
   ],
   "source": [
    "# Prozent Kader Direktion\n",
    "\n",
    "direktion_kader = df[df['Kader'] == True].groupby('Direktion')['Gender'].value_counts()\n",
    "direktion_kader.groupby(level=0).apply(lambda x: 100 * x / float(x.sum())).unstack()"
   ]
  },
  {
   "cell_type": "code",
   "execution_count": null,
   "metadata": {},
   "outputs": [],
   "source": []
  }
 ],
 "metadata": {
  "kernelspec": {
   "display_name": "Python 3",
   "language": "python",
   "name": "python3"
  },
  "language_info": {
   "codemirror_mode": {
    "name": "ipython",
    "version": 3
   },
   "file_extension": ".py",
   "mimetype": "text/x-python",
   "name": "python",
   "nbconvert_exporter": "python",
   "pygments_lexer": "ipython3",
   "version": "3.7.3"
  }
 },
 "nbformat": 4,
 "nbformat_minor": 2
}
