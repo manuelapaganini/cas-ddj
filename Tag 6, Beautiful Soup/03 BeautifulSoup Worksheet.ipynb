{
 "cells": [
  {
   "cell_type": "markdown",
   "metadata": {},
   "source": [
    "# 03 Worksheet"
   ]
  },
  {
   "cell_type": "code",
   "execution_count": 25,
   "metadata": {},
   "outputs": [],
   "source": [
    "file = open('02 HTML Code.htm', 'r')"
   ]
  },
  {
   "cell_type": "code",
   "execution_count": 27,
   "metadata": {},
   "outputs": [
    {
     "data": {
      "text/plain": [
       "'<!DOCTYPE html>\\n<html>\\n<head>\\n<title>CV Manuela Paganini</title>\\n<style>\\nbody {background-color: white;\\n\\tfont-family: Avenir}\\nh1   {color: black;}\\np    {color: darkblue;}\\na    {color: darkblue;}\\n</style>\\n\\n</head>\\n\\n<h1> Manuela Paganini</h1>\\n\\n<!doctype html>\\n<html lang=\"de\">\\n\\n<head>\\n    <title>Lebenslauf</title>\\n</head>\\n    <img src=\"Manuela.jpg\" height=\"300px\">\\n<body>\\n    <h2>Berufserfahrung</h2>\\n    <a href=\"blog.manuelapaganini.ch\">blog.manuelapaganini.ch </a>\\n    <ul>\\n    <li>Radio Freiburg</li>\\n    <li>NZZ Ressort Zürich</li>\\n    <li>MB Yakinton</li>\\n    <li>Tink.ch</li>\\n    <li>Unternehmerzeitung</li>\\n</body>\\n</ul>\\n\\n<body>\\n<h2>Ausbildung</h2>\\n<p>Ganz viel Text könnte hier stehen. </p>\\n<ul>\\n<li>Diplomausbildung Journalismus</li>\\n<li>Lehrgang Öffentlichkeitsgesetz</li>\\n<li>BA Bildende Kunst</li>\\n<li>Matura</li>\\n</body>\\n<body>\\n</ul>\\n<h2>Fähigkeiten</h2>\\n<p>Hier steht der Einleitungstext meiner Website. </p>\\n<ul>\\n<li>Erster Listenpunkt</li>\\n<li>Zweiter Listenpunkt</li>\\n<li>Dritter Listenpunkt</li>\\n<li>Vierter Listenpunkt</li>\\n</body>\\n'"
      ]
     },
     "execution_count": 27,
     "metadata": {},
     "output_type": "execute_result"
    }
   ],
   "source": [
    "file.read()"
   ]
  },
  {
   "cell_type": "code",
   "execution_count": 28,
   "metadata": {},
   "outputs": [],
   "source": [
    "text = file.read()"
   ]
  },
  {
   "cell_type": "code",
   "execution_count": 29,
   "metadata": {},
   "outputs": [],
   "source": [
    "file = open('02 HTML Code.htm', 'r')"
   ]
  },
  {
   "cell_type": "code",
   "execution_count": 30,
   "metadata": {},
   "outputs": [
    {
     "data": {
      "text/plain": [
       "'<!DOCTYPE html>\\n'"
      ]
     },
     "execution_count": 30,
     "metadata": {},
     "output_type": "execute_result"
    }
   ],
   "source": [
    "file.readline()"
   ]
  },
  {
   "cell_type": "code",
   "execution_count": 31,
   "metadata": {},
   "outputs": [
    {
     "data": {
      "text/plain": [
       "'<!DOCTYPE html>\\n<html>\\n<head>\\n<title>CV Manuela Paganini</title>\\n<style>\\nbody {background-color: white;\\n\\tfont-family: Avenir}\\nh1   {color: black;}\\np    {color: darkblue;}\\na    {color: darkblue;}\\n</style>\\n\\n</head>\\n\\n<h1> Manuela Paganini</h1>\\n\\n<!doctype html>\\n<html lang=\"de\">\\n\\n<head>\\n    <title>Lebenslauf</title>\\n</head>\\n    <img src=\"Manuela.jpg\" height=\"300px\">\\n<body>\\n    <h2>Berufserfahrung</h2>\\n    <a href=\"blog.manuelapaganini.ch\">blog.manuelapaganini.ch </a>\\n    <ul>\\n    <li>Radio Freiburg</li>\\n    <li>NZZ Ressort Zürich</li>\\n    <li>MB Yakinton</li>\\n    <li>Tink.ch</li>\\n    <li>Unternehmerzeitung</li>\\n</body>\\n</ul>\\n\\n<body>\\n<h2>Ausbildung</h2>\\n<p>Ganz viel Text könnte hier stehen. </p>\\n<ul>\\n<li>Diplomausbildung Journalismus</li>\\n<li>Lehrgang Öffentlichkeitsgesetz</li>\\n<li>BA Bildende Kunst</li>\\n<li>Matura</li>\\n</body>\\n<body>\\n</ul>\\n<h2>Fähigkeiten</h2>\\n<p>Hier steht der Einleitungstext meiner Website. </p>\\n<ul>\\n<li>Erster Listenpunkt</li>\\n<li>Zweiter Listenpunkt</li>\\n<li>Dritter Listenpunkt</li>\\n<li>Vierter Listenpunkt</li>\\n</body>\\n'"
      ]
     },
     "execution_count": 31,
     "metadata": {},
     "output_type": "execute_result"
    }
   ],
   "source": [
    "file =open('02 HTML Code.htm', 'r')\n",
    "text = file.read()\n",
    "text"
   ]
  },
  {
   "cell_type": "code",
   "execution_count": 32,
   "metadata": {},
   "outputs": [],
   "source": [
    "from bs4 import BeautifulSoup"
   ]
  },
  {
   "cell_type": "code",
   "execution_count": 33,
   "metadata": {},
   "outputs": [],
   "source": [
    "soup = BeautifulSoup(text, 'lxml')"
   ]
  },
  {
   "cell_type": "code",
   "execution_count": 34,
   "metadata": {},
   "outputs": [
    {
     "data": {
      "text/plain": [
       "<h2>Berufserfahrung</h2>"
      ]
     },
     "execution_count": 34,
     "metadata": {},
     "output_type": "execute_result"
    }
   ],
   "source": [
    "soup.find('h2')"
   ]
  },
  {
   "cell_type": "code",
   "execution_count": 35,
   "metadata": {},
   "outputs": [
    {
     "data": {
      "text/plain": [
       "[<h2>Berufserfahrung</h2>, <h2>Ausbildung</h2>, <h2>Fähigkeiten</h2>]"
      ]
     },
     "execution_count": 35,
     "metadata": {},
     "output_type": "execute_result"
    }
   ],
   "source": [
    "soup.find_all('h2')"
   ]
  },
  {
   "cell_type": "code",
   "execution_count": 36,
   "metadata": {},
   "outputs": [
    {
     "data": {
      "text/plain": [
       "[<li>Radio Freiburg</li>,\n",
       " <li>NZZ Ressort Zürich</li>,\n",
       " <li>MB Yakinton</li>,\n",
       " <li>Tink.ch</li>,\n",
       " <li>Unternehmerzeitung</li>,\n",
       " <li>Diplomausbildung Journalismus</li>,\n",
       " <li>Lehrgang Öffentlichkeitsgesetz</li>,\n",
       " <li>BA Bildende Kunst</li>,\n",
       " <li>Matura</li>,\n",
       " <li>Erster Listenpunkt</li>,\n",
       " <li>Zweiter Listenpunkt</li>,\n",
       " <li>Dritter Listenpunkt</li>,\n",
       " <li>Vierter Listenpunkt</li>]"
      ]
     },
     "execution_count": 36,
     "metadata": {},
     "output_type": "execute_result"
    }
   ],
   "source": [
    "soup.find_all('li')"
   ]
  },
  {
   "cell_type": "code",
   "execution_count": 39,
   "metadata": {},
   "outputs": [],
   "source": [
    "# Bauen wir eine Liste von Dictionaries\n",
    "new_lst = []\n",
    "for element in soup.find_all('li'):\n",
    "    mini_dict = {'Überschrift':element.text}\n",
    "    new_lst.append(mini_dict)"
   ]
  },
  {
   "cell_type": "code",
   "execution_count": 40,
   "metadata": {},
   "outputs": [
    {
     "data": {
      "text/html": [
       "<div>\n",
       "<style scoped>\n",
       "    .dataframe tbody tr th:only-of-type {\n",
       "        vertical-align: middle;\n",
       "    }\n",
       "\n",
       "    .dataframe tbody tr th {\n",
       "        vertical-align: top;\n",
       "    }\n",
       "\n",
       "    .dataframe thead th {\n",
       "        text-align: right;\n",
       "    }\n",
       "</style>\n",
       "<table border=\"1\" class=\"dataframe\">\n",
       "  <thead>\n",
       "    <tr style=\"text-align: right;\">\n",
       "      <th></th>\n",
       "      <th>Überschrift</th>\n",
       "    </tr>\n",
       "  </thead>\n",
       "  <tbody>\n",
       "    <tr>\n",
       "      <th>0</th>\n",
       "      <td>Radio Freiburg</td>\n",
       "    </tr>\n",
       "    <tr>\n",
       "      <th>1</th>\n",
       "      <td>NZZ Ressort Zürich</td>\n",
       "    </tr>\n",
       "    <tr>\n",
       "      <th>2</th>\n",
       "      <td>MB Yakinton</td>\n",
       "    </tr>\n",
       "    <tr>\n",
       "      <th>3</th>\n",
       "      <td>Tink.ch</td>\n",
       "    </tr>\n",
       "    <tr>\n",
       "      <th>4</th>\n",
       "      <td>Unternehmerzeitung</td>\n",
       "    </tr>\n",
       "    <tr>\n",
       "      <th>5</th>\n",
       "      <td>Diplomausbildung Journalismus</td>\n",
       "    </tr>\n",
       "    <tr>\n",
       "      <th>6</th>\n",
       "      <td>Lehrgang Öffentlichkeitsgesetz</td>\n",
       "    </tr>\n",
       "    <tr>\n",
       "      <th>7</th>\n",
       "      <td>BA Bildende Kunst</td>\n",
       "    </tr>\n",
       "    <tr>\n",
       "      <th>8</th>\n",
       "      <td>Matura</td>\n",
       "    </tr>\n",
       "    <tr>\n",
       "      <th>9</th>\n",
       "      <td>Erster Listenpunkt</td>\n",
       "    </tr>\n",
       "    <tr>\n",
       "      <th>10</th>\n",
       "      <td>Zweiter Listenpunkt</td>\n",
       "    </tr>\n",
       "    <tr>\n",
       "      <th>11</th>\n",
       "      <td>Dritter Listenpunkt</td>\n",
       "    </tr>\n",
       "    <tr>\n",
       "      <th>12</th>\n",
       "      <td>Vierter Listenpunkt</td>\n",
       "    </tr>\n",
       "  </tbody>\n",
       "</table>\n",
       "</div>"
      ],
      "text/plain": [
       "                       Überschrift\n",
       "0                   Radio Freiburg\n",
       "1               NZZ Ressort Zürich\n",
       "2                      MB Yakinton\n",
       "3                          Tink.ch\n",
       "4               Unternehmerzeitung\n",
       "5    Diplomausbildung Journalismus\n",
       "6   Lehrgang Öffentlichkeitsgesetz\n",
       "7                BA Bildende Kunst\n",
       "8                           Matura\n",
       "9               Erster Listenpunkt\n",
       "10             Zweiter Listenpunkt\n",
       "11             Dritter Listenpunkt\n",
       "12             Vierter Listenpunkt"
      ]
     },
     "execution_count": 40,
     "metadata": {},
     "output_type": "execute_result"
    }
   ],
   "source": [
    "import pandas as pd\n",
    "pd.DataFrame(new_lst)"
   ]
  },
  {
   "cell_type": "markdown",
   "metadata": {},
   "source": [
    "## RSS-Feed"
   ]
  },
  {
   "cell_type": "code",
   "execution_count": 41,
   "metadata": {},
   "outputs": [],
   "source": [
    "import requests"
   ]
  },
  {
   "cell_type": "code",
   "execution_count": 52,
   "metadata": {},
   "outputs": [],
   "source": [
    "r = requests.get('http://www.plszh.ch/plsFeed/rss')\n",
    "contents = r.text\n",
    "soup = BeautifulSoup(contents, 'xml')\n",
    "titles = soup.find_all('title')\n",
    "#titles"
   ]
  },
  {
   "cell_type": "code",
   "execution_count": 53,
   "metadata": {},
   "outputs": [
    {
     "data": {
      "text/plain": [
       "<description>open /  129</description>"
      ]
     },
     "execution_count": 53,
     "metadata": {},
     "output_type": "execute_result"
    }
   ],
   "source": [
    "descr = soup.find_all('description')\n",
    "descr[2]"
   ]
  },
  {
   "cell_type": "code",
   "execution_count": 55,
   "metadata": {},
   "outputs": [
    {
     "data": {
      "text/html": [
       "<div>\n",
       "<style scoped>\n",
       "    .dataframe tbody tr th:only-of-type {\n",
       "        vertical-align: middle;\n",
       "    }\n",
       "\n",
       "    .dataframe tbody tr th {\n",
       "        vertical-align: top;\n",
       "    }\n",
       "\n",
       "    .dataframe thead th {\n",
       "        text-align: right;\n",
       "    }\n",
       "</style>\n",
       "<table border=\"1\" class=\"dataframe\">\n",
       "  <thead>\n",
       "    <tr style=\"text-align: right;\">\n",
       "      <th></th>\n",
       "      <th>Freie Plätze</th>\n",
       "      <th>Parkgarage</th>\n",
       "    </tr>\n",
       "  </thead>\n",
       "  <tbody>\n",
       "    <tr>\n",
       "      <th>0</th>\n",
       "      <td>http://www.plszh.ch/plsFeed/rss?type=rss_0.92 ...</td>\n",
       "      <td>FEED Parkleitsystem Stadt Zürich</td>\n",
       "    </tr>\n",
       "    <tr>\n",
       "      <th>1</th>\n",
       "      <td>open /    0</td>\n",
       "      <td>Parkgarage am Central / Seilergraben</td>\n",
       "    </tr>\n",
       "    <tr>\n",
       "      <th>2</th>\n",
       "      <td>open /  129</td>\n",
       "      <td>Parkhaus Accu / Otto-Schütz-Weg</td>\n",
       "    </tr>\n",
       "    <tr>\n",
       "      <th>3</th>\n",
       "      <td>open /   56</td>\n",
       "      <td>Parkhaus Albisriederplatz / Badenerstrasse 380</td>\n",
       "    </tr>\n",
       "    <tr>\n",
       "      <th>4</th>\n",
       "      <td>open /    2</td>\n",
       "      <td>Parkhaus Bleicherweg / Beethovenstrasse 35</td>\n",
       "    </tr>\n",
       "  </tbody>\n",
       "</table>\n",
       "</div>"
      ],
      "text/plain": [
       "                                        Freie Plätze  \\\n",
       "0  http://www.plszh.ch/plsFeed/rss?type=rss_0.92 ...   \n",
       "1                                        open /    0   \n",
       "2                                        open /  129   \n",
       "3                                        open /   56   \n",
       "4                                        open /    2   \n",
       "\n",
       "                                       Parkgarage  \n",
       "0                FEED Parkleitsystem Stadt Zürich  \n",
       "1            Parkgarage am Central / Seilergraben  \n",
       "2                 Parkhaus Accu / Otto-Schütz-Weg  \n",
       "3  Parkhaus Albisriederplatz / Badenerstrasse 380  \n",
       "4      Parkhaus Bleicherweg / Beethovenstrasse 35  "
      ]
     },
     "execution_count": 55,
     "metadata": {},
     "output_type": "execute_result"
    }
   ],
   "source": [
    "# Jetzt bauen wir title und description zusammen:\n",
    "\n",
    "#lst = list(zip(titles,descr))[1] \n",
    "\n",
    "lst = []\n",
    "\n",
    "for garage, places in zip(titles,descr):\n",
    "    mini_dict = {'Parkgarage':garage.text, \n",
    "                'Freie Plätze':places.text}\n",
    "    \n",
    "    lst.append(mini_dict)\n",
    "\n",
    "\n",
    "pd.DataFrame(lst).head()"
   ]
  },
  {
   "cell_type": "code",
   "execution_count": null,
   "metadata": {},
   "outputs": [],
   "source": []
  }
 ],
 "metadata": {
  "kernelspec": {
   "display_name": "Python 3",
   "language": "python",
   "name": "python3"
  },
  "language_info": {
   "codemirror_mode": {
    "name": "ipython",
    "version": 3
   },
   "file_extension": ".py",
   "mimetype": "text/x-python",
   "name": "python",
   "nbconvert_exporter": "python",
   "pygments_lexer": "ipython3",
   "version": "3.7.3"
  }
 },
 "nbformat": 4,
 "nbformat_minor": 2
}
