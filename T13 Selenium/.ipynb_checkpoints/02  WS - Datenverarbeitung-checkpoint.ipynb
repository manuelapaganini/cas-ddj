{
 "cells": [
  {
   "cell_type": "markdown",
   "metadata": {},
   "source": [
    "# Selenium Worksheet 2.0"
   ]
  },
  {
   "cell_type": "markdown",
   "metadata": {},
   "source": [
    "Sachen importieren:"
   ]
  },
  {
   "cell_type": "code",
   "execution_count": 3,
   "metadata": {},
   "outputs": [],
   "source": [
    "from bs4 import BeautifulSoup\n",
    "import pandas as pd\n",
    "import time\n",
    "import os\n",
    "import re\n",
    "from tqdm import tqdm"
   ]
  },
  {
   "cell_type": "code",
   "execution_count": null,
   "metadata": {},
   "outputs": [],
   "source": []
  },
  {
   "cell_type": "code",
   "execution_count": null,
   "metadata": {},
   "outputs": [],
   "source": [
    "len(lst)"
   ]
  },
  {
   "cell_type": "code",
   "execution_count": null,
   "metadata": {},
   "outputs": [],
   "source": [
    "file = open('pages/' + lst[0], 'r')\n",
    "text = file.read()\n",
    "h = BeautifulSoup(text, 'html.parser')"
   ]
  },
  {
   "cell_type": "code",
   "execution_count": null,
   "metadata": {},
   "outputs": [],
   "source": []
  },
  {
   "cell_type": "code",
   "execution_count": null,
   "metadata": {},
   "outputs": [],
   "source": [
    "# alle  Zeilen mit Unternehmen\n",
    "rows = h.find_all('tr', {'class': \"ng-scope\"})\n",
    "rows"
   ]
  },
  {
   "cell_type": "code",
   "execution_count": null,
   "metadata": {},
   "outputs": [],
   "source": [
    "rows[0]\n"
   ]
  },
  {
   "cell_type": "code",
   "execution_count": 9,
   "metadata": {},
   "outputs": [
    {
     "data": {
      "text/plain": [
       "'Bäckerei Bohnenblust AG'"
      ]
     },
     "execution_count": 9,
     "metadata": {},
     "output_type": "execute_result"
    }
   ],
   "source": [
    "#line.find_all('td')\n",
    "\n",
    "\n",
    "name = rows[0].find_all('div')[0].text \n",
    "name\n",
    "# {'ng-if':\"col.name === 'company'\"})\n",
    "#div class=\"company-name ng-scope\" ng-attr-title=\"{{row.name}}\" ng-if=\"col.name === 'company'\" title=\"Bäckerei Ruckli AG\">\n",
    "\n"
   ]
  },
  {
   "cell_type": "code",
   "execution_count": null,
   "metadata": {},
   "outputs": [],
   "source": [
    "u_id = rows[0].find_all('div')[2].text\n",
    "u_id "
   ]
  },
  {
   "cell_type": "code",
   "execution_count": null,
   "metadata": {},
   "outputs": [],
   "source": [
    "place = rows[0].find_all('div')[4].text \n",
    "place"
   ]
  },
  {
   "cell_type": "code",
   "execution_count": null,
   "metadata": {},
   "outputs": [],
   "source": [
    "canton = rows[0].find_all('div')[5].text \n",
    "canton"
   ]
  },
  {
   "cell_type": "code",
   "execution_count": null,
   "metadata": {},
   "outputs": [],
   "source": [
    "link = rows[0].find('div').find_next('div').find('a')['href']\n",
    "link"
   ]
  },
  {
   "cell_type": "code",
   "execution_count": null,
   "metadata": {},
   "outputs": [],
   "source": [
    "# Synthese For-Loop\n",
    "\n",
    "leere_liste = []\n",
    "\n",
    "rows = h.find_all('tr', {'class': \"ng-scope\"})\n",
    "for row in rows:\n",
    "    name = row.find_all('div')[].text \n",
    "    u_id = row.find_all('div')[2].text\n",
    "    place = row.find_all('div')[4].text \n",
    "    canton = row.find_all('div')[5].text \n",
    "    link = row.find('div').find_next('div').find('a')['href']\n",
    "    \n",
    "    mini_dict = {\n",
    "        \"Unternehmen\": name,\n",
    "        \"ID\": u_id,\n",
    "        \"Ort\": place,\n",
    "        \"Kanton\": canton}\n",
    "    leere_liste.append(mini_dict)\n",
    "    \n",
    "pd.DataFrame(leere_liste)"
   ]
  },
  {
   "cell_type": "code",
   "execution_count": null,
   "metadata": {},
   "outputs": [],
   "source": [
    "# Jetzt machen wir aus dem eine Funktion"
   ]
  },
  {
   "cell_type": "code",
   "execution_count": null,
   "metadata": {},
   "outputs": [],
   "source": [
    "# Funktion schreiben\n",
    "\n",
    "def extract_bakeries(elem):\n",
    "    b_list = []\n",
    "\n",
    "    rows = elem.find_all('tr', {'class': \"ng-scope\"})\n",
    "    for row in rows:\n",
    "        name = row.find_all('div')[0].text \n",
    "        u_id = row.find_all('div')[2].text\n",
    "        place = row.find_all('div')[4].text \n",
    "        canton = row.find_all('div')[5].text \n",
    "        link = row.find('div').find_next('div').find('a')['href']\n",
    "\n",
    "        mini_dict = {\n",
    "            \"Unternehmen\": name,\n",
    "            \"ID\": u_id,\n",
    "            \"Ort\": place,\n",
    "            \"Kanton\": canton}\n",
    "        b_list.append(mini_dict)\n",
    "    return b_list\n",
    "\n",
    "pd.to_csv('baeckereien.csv' index=False)"
   ]
  },
  {
   "cell_type": "code",
   "execution_count": null,
   "metadata": {},
   "outputs": [],
   "source": []
  },
  {
   "cell_type": "code",
   "execution_count": null,
   "metadata": {},
   "outputs": [],
   "source": [
    "#Durch einzelne Dateien durchgehen\n",
    "\n",
    "file = open('pages/' + lst[2], 'r')\n",
    "text = file.read()\n",
    "h = BeautifulSoup(text, 'html.parser')\n"
   ]
  },
  {
   "cell_type": "code",
   "execution_count": 4,
   "metadata": {},
   "outputs": [],
   "source": []
  },
  {
   "cell_type": "code",
   "execution_count": 22,
   "metadata": {},
   "outputs": [],
   "source": [
    "# alles zusammen\n",
    "\n",
    "from bs4 import BeautifulSoup\n",
    "import pandas as pd\n",
    "import time\n",
    "import os\n",
    "import re\n",
    "from tqdm import tqdm\n",
    "\n",
    "final_list = []\n",
    "lst =os.listdir('pages')\n",
    "\n",
    "def extract_bakeries(elem):\n",
    "    rows = elem.find_all('tr', {'class': \"ng-scope\"})\n",
    "    b_list = []\n",
    "    for row in rows:\n",
    "        name = row.find(\"div\").text  \n",
    "        u_id = row.find_all('div')[2].text\n",
    "        place = row.find_all('div')[4].text \n",
    "        canton = row.find_all('div')[5].text \n",
    "        link = row.find('div').find_next('div').find('a')['href']\n",
    "\n",
    "        mini_dict = {\n",
    "            \"Unternehmen\": name,\n",
    "            \"ID\": u_id,\n",
    "            \"Ort\": place,\n",
    "            \"Kanton\": canton}\n",
    "        b_list.append(mini_dict)\n",
    "    return b_list\n",
    "\n",
    "\n",
    "for filename in lst:\n",
    "    file = open('pages/' + filename, 'r')\n",
    "    text = file.read()\n",
    "    h = BeautifulSoup(text, 'html.parser')\n",
    "    \n",
    "    final_list = final_list + extract_bakeries(h)\n",
    "\n",
    "df= pd.DataFrame(final_list)\n",
    "\n",
    "df.to_csv(\"new_file.csv\", index=False)"
   ]
  },
  {
   "cell_type": "code",
   "execution_count": null,
   "metadata": {},
   "outputs": [],
   "source": []
  },
  {
   "cell_type": "code",
   "execution_count": null,
   "metadata": {},
   "outputs": [],
   "source": []
  },
  {
   "cell_type": "code",
   "execution_count": null,
   "metadata": {},
   "outputs": [],
   "source": []
  },
  {
   "cell_type": "code",
   "execution_count": null,
   "metadata": {},
   "outputs": [],
   "source": []
  },
  {
   "cell_type": "code",
   "execution_count": 19,
   "metadata": {},
   "outputs": [
    {
     "data": {
      "text/plain": [
       "Basel                       9\n",
       "Zürich                      9\n",
       "Thun                        5\n",
       "Bern                        5\n",
       "Luzern                      5\n",
       "St. Gallen                  4\n",
       "Köniz                       4\n",
       "Ostermundigen               3\n",
       "Adelboden                   3\n",
       "Niederglatt                 3\n",
       "Schangnau                   3\n",
       "Herisau                     3\n",
       "Seengen                     2\n",
       "Suhr                        2\n",
       "Grindelwald                 2\n",
       "Glarus                      2\n",
       "Ebnat-Kappel                2\n",
       "Wil (SG)                    2\n",
       "Diepoldsau                  2\n",
       "Winterthur                  2\n",
       "Oberriet (SG)               2\n",
       "Richterswil                 2\n",
       "Wetzikon (ZH)               2\n",
       "Saas-Fee                    2\n",
       "Seedorf (BE)                2\n",
       "Sigriswil                   2\n",
       "Plaffeien                   2\n",
       "Willisau                    2\n",
       "Aarau                       2\n",
       "Biel/Bienne                 2\n",
       "                           ..\n",
       "Röthenbach im Emmental      1\n",
       "Lütisburg                   1\n",
       "Wartau                      1\n",
       "Stein am Rhein              1\n",
       "Zofingen                    1\n",
       "Rüte                        1\n",
       "Sissach                     1\n",
       "Pfaffnau                    1\n",
       "Küssnacht (SZ)              1\n",
       "Malters                     1\n",
       "Unterlangenegg              1\n",
       "Ursenbach                   1\n",
       "Zollikofen                  1\n",
       "Ins                         1\n",
       "Meierskappel                1\n",
       "Eschenbach (LU)             1\n",
       "Reichenbach im Kandertal    1\n",
       "Erlenbach im Simmental      1\n",
       "Kaltbrunn                   1\n",
       "Solothurn                   1\n",
       "Sursee                      1\n",
       "Unterlunkhofen              1\n",
       "Wichtrach                   1\n",
       "Ueberstorf                  1\n",
       "Oberwil-Lieli               1\n",
       "Brig-Glis                   1\n",
       "Langenthal                  1\n",
       "Erlinsbach (SO)             1\n",
       "Huttwil                     1\n",
       "Uster                       1\n",
       "Name: Ort, Length: 269, dtype: int64"
      ]
     },
     "execution_count": 19,
     "metadata": {},
     "output_type": "execute_result"
    }
   ],
   "source": [
    "df['Ort'].value_counts(ascending=False)"
   ]
  },
  {
   "cell_type": "code",
   "execution_count": null,
   "metadata": {},
   "outputs": [],
   "source": []
  }
 ],
 "metadata": {
  "kernelspec": {
   "display_name": "Python 3",
   "language": "python",
   "name": "python3"
  },
  "language_info": {
   "codemirror_mode": {
    "name": "ipython",
    "version": 3
   },
   "file_extension": ".py",
   "mimetype": "text/x-python",
   "name": "python",
   "nbconvert_exporter": "python",
   "pygments_lexer": "ipython3",
   "version": "3.7.3"
  }
 },
 "nbformat": 4,
 "nbformat_minor": 2
}
