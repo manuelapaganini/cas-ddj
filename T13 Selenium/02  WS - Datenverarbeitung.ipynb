{
 "cells": [
  {
   "cell_type": "markdown",
   "metadata": {},
   "source": [
    "# Selenium WS 2.0 Datenverarbeitung\n"
   ]
  },
  {
   "cell_type": "markdown",
   "metadata": {},
   "source": [
    "Sachen importieren:"
   ]
  },
  {
   "cell_type": "code",
   "execution_count": null,
   "metadata": {},
   "outputs": [],
   "source": [
    "from bs4 import BeautifulSoup\n",
    "import pandas as pd\n",
    "import time\n",
    "import os\n",
    "import re\n",
    "from tqdm import tqdm"
   ]
  },
  {
   "cell_type": "code",
   "execution_count": null,
   "metadata": {},
   "outputs": [],
   "source": []
  },
  {
   "cell_type": "code",
   "execution_count": null,
   "metadata": {},
   "outputs": [],
   "source": [
    "len(lst)"
   ]
  },
  {
   "cell_type": "code",
   "execution_count": null,
   "metadata": {},
   "outputs": [],
   "source": [
    "file = open('pages/' + lst[0], 'r')\n",
    "text = file.read()\n",
    "h = BeautifulSoup(text, 'html.parser')"
   ]
  },
  {
   "cell_type": "code",
   "execution_count": null,
   "metadata": {},
   "outputs": [],
   "source": []
  },
  {
   "cell_type": "code",
   "execution_count": null,
   "metadata": {},
   "outputs": [],
   "source": [
    "# alle  Zeilen mit Unternehmen\n",
    "rows = h.find_all('tr', {'class': \"ng-scope\"})\n",
    "rows"
   ]
  },
  {
   "cell_type": "code",
   "execution_count": null,
   "metadata": {},
   "outputs": [],
   "source": [
    "rows[0]\n"
   ]
  },
  {
   "cell_type": "code",
   "execution_count": null,
   "metadata": {},
   "outputs": [],
   "source": [
    "#line.find_all('td')\n",
    "\n",
    "\n",
    "name = rows[0].find_all('div')[0].text \n",
    "name\n",
    "# {'ng-if':\"col.name === 'company'\"})\n",
    "#div class=\"company-name ng-scope\" ng-attr-title=\"{{row.name}}\" ng-if=\"col.name === 'company'\" title=\"Bäckerei Ruckli AG\">\n",
    "\n"
   ]
  },
  {
   "cell_type": "code",
   "execution_count": null,
   "metadata": {},
   "outputs": [],
   "source": [
    "u_id = rows[0].find_all('div')[2].text\n",
    "u_id "
   ]
  },
  {
   "cell_type": "code",
   "execution_count": null,
   "metadata": {},
   "outputs": [],
   "source": [
    "place = rows[0].find_all('div')[4].text \n",
    "place"
   ]
  },
  {
   "cell_type": "code",
   "execution_count": null,
   "metadata": {},
   "outputs": [],
   "source": [
    "canton = rows[0].find_all('div')[5].text \n",
    "canton"
   ]
  },
  {
   "cell_type": "code",
   "execution_count": null,
   "metadata": {},
   "outputs": [],
   "source": [
    "link = rows[0].find('div').find_next('div').find('a')['href']\n",
    "link"
   ]
  },
  {
   "cell_type": "code",
   "execution_count": null,
   "metadata": {},
   "outputs": [],
   "source": [
    "# Synthese For-Loop\n",
    "\n",
    "leere_liste = []\n",
    "\n",
    "rows = h.find_all('tr', {'class': \"ng-scope\"})\n",
    "for row in rows:\n",
    "    name = row.find_all('div').text \n",
    "    u_id = row.find_all('div')[2].text\n",
    "    place = row.find_all('div')[4].text \n",
    "    canton = row.find_all('div')[5].text \n",
    "    link = row.find('div').find_next('div').find('a')['href']\n",
    "    \n",
    "    mini_dict = {\n",
    "        \"Unternehmen\": name,\n",
    "        \"ID\": u_id,\n",
    "        \"Ort\": place,\n",
    "        \"Kanton\": canton}\n",
    "    leere_liste.append(mini_dict)\n",
    "    \n",
    "pd.DataFrame(leere_liste)"
   ]
  },
  {
   "cell_type": "code",
   "execution_count": null,
   "metadata": {},
   "outputs": [],
   "source": [
    "# Jetzt machen wir aus dem eine Funktion"
   ]
  },
  {
   "cell_type": "code",
   "execution_count": null,
   "metadata": {},
   "outputs": [],
   "source": [
    "# Funktion schreiben\n",
    "\n",
    "def extract_bakeries(elem):\n",
    "    b_list = []\n",
    "\n",
    "    rows = elem.find_all('tr', {'class': \"ng-scope\"})\n",
    "    for row in rows:\n",
    "        name = row.find_all('div')[0].text \n",
    "        u_id = row.find_all('div')[2].text\n",
    "        place = row.find_all('div')[4].text \n",
    "        canton = row.find_all('div')[5].text \n",
    "        link = row.find('div').find_next('div').find('a')['href']\n",
    "\n",
    "        mini_dict = {\n",
    "            \"Unternehmen\": name,\n",
    "            \"ID\": u_id,\n",
    "            \"Ort\": place,\n",
    "            \"Kanton\": canton}\n",
    "        b_list.append(mini_dict)\n",
    "    return b_list\n",
    "\n",
    "pd.to_csv('baeckereien.csv' index=False)"
   ]
  },
  {
   "cell_type": "code",
   "execution_count": null,
   "metadata": {},
   "outputs": [],
   "source": []
  },
  {
   "cell_type": "code",
   "execution_count": null,
   "metadata": {},
   "outputs": [],
   "source": [
    "#Durch einzelne Dateien durchgehen\n",
    "\n",
    "file = open('pages/' + lst[2], 'r')\n",
    "text = file.read()\n",
    "h = BeautifulSoup(text, 'html.parser')\n"
   ]
  },
  {
   "cell_type": "code",
   "execution_count": null,
   "metadata": {},
   "outputs": [],
   "source": []
  },
  {
   "cell_type": "code",
   "execution_count": null,
   "metadata": {},
   "outputs": [],
   "source": [
    "# alles zusammen\n",
    "\n",
    "from bs4 import BeautifulSoup\n",
    "import pandas as pd\n",
    "import time\n",
    "import os\n",
    "import re\n",
    "from tqdm import tqdm\n",
    "\n",
    "final_list = []\n",
    "lst =os.listdir('pages')\n",
    "\n",
    "def extract_bakeries(elem):\n",
    "    rows = elem.find_all('tr', {'class': \"ng-scope\"})\n",
    "    b_list = []\n",
    "    for row in rows:\n",
    "        name = row.find(\"div\").text  \n",
    "        u_id = row.find_all('div')[2].text\n",
    "        place = row.find_all('div')[4].text \n",
    "        canton = row.find_all('div')[5].text \n",
    "        link = row.find('div').find_next('div').find('a')['href']\n",
    "\n",
    "        mini_dict = {\n",
    "            \"Unternehmen\": name,\n",
    "            \"ID\": u_id,\n",
    "            \"Ort\": place,\n",
    "            \"Kanton\": canton}\n",
    "        b_list.append(mini_dict)\n",
    "    return b_list\n",
    "\n",
    "\n",
    "for filename in lst:\n",
    "    file = open('pages/' + filename, 'r')\n",
    "    text = file.read()\n",
    "    h = BeautifulSoup(text, 'html.parser')\n",
    "    \n",
    "    final_list = final_list + extract_bakeries(h)\n",
    "\n",
    "df= pd.DataFrame(final_list)\n",
    "\n",
    "df.to_csv(\"new_file.csv\", index=False)"
   ]
  },
  {
   "cell_type": "code",
   "execution_count": null,
   "metadata": {},
   "outputs": [],
   "source": [
    "df"
   ]
  },
  {
   "cell_type": "code",
   "execution_count": null,
   "metadata": {},
   "outputs": [],
   "source": []
  },
  {
   "cell_type": "code",
   "execution_count": null,
   "metadata": {},
   "outputs": [],
   "source": []
  },
  {
   "cell_type": "code",
   "execution_count": null,
   "metadata": {},
   "outputs": [],
   "source": []
  },
  {
   "cell_type": "code",
   "execution_count": null,
   "metadata": {},
   "outputs": [],
   "source": [
    "df['Ort'].value_counts(ascending=False)"
   ]
  },
  {
   "cell_type": "code",
   "execution_count": null,
   "metadata": {},
   "outputs": [],
   "source": []
  }
 ],
 "metadata": {
  "kernelspec": {
   "display_name": "Python 3",
   "language": "python",
   "name": "python3"
  },
  "language_info": {
   "codemirror_mode": {
    "name": "ipython",
    "version": 3
   },
   "file_extension": ".py",
   "mimetype": "text/x-python",
   "name": "python",
   "nbconvert_exporter": "python",
   "pygments_lexer": "ipython3",
   "version": "3.7.3"
  }
 },
 "nbformat": 4,
 "nbformat_minor": 2
}
