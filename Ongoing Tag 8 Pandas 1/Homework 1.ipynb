{
 "cells": [
  {
   "cell_type": "markdown",
   "metadata": {},
   "source": [
    "# Homework 1"
   ]
  },
  {
   "cell_type": "markdown",
   "metadata": {},
   "source": [
    "**Inhalt:** Datensets explorieren, filtern, Felder erstellen\n",
    "\n",
    "**Nötige Skills:** Erste Schritte mit Pandas\n",
    "\n",
    "**Lernziele:**\n",
    "- Review und Übung"
   ]
  },
  {
   "cell_type": "markdown",
   "metadata": {},
   "source": [
    "# Das Beispiel"
   ]
  },
  {
   "cell_type": "markdown",
   "metadata": {},
   "source": [
    "Fussballstadien\n",
    "\n",
    "Quelle/Beschreibung: http://opisthokonta.net/?cat=34\n",
    "\n",
    "Laden Sie das File von hier herunter: http://opisthokonta.net/wp-content/uploads/2015/03/stadiums_20150302.csv\n",
    "\n",
    "Speichern Sie das Datenfile an einem geeigneten Ort.\n",
    "\n",
    "(zum Beispiel in einem Unterordner `dataprojects/stadiums`)"
   ]
  },
  {
   "cell_type": "markdown",
   "metadata": {},
   "source": [
    "## Vorbereitung"
   ]
  },
  {
   "cell_type": "markdown",
   "metadata": {},
   "source": [
    "Importieren Sie die benötigten Libraries und stellen Sie die richtigen Settings für Matplotlib ein."
   ]
  },
  {
   "cell_type": "code",
   "execution_count": 2,
   "metadata": {},
   "outputs": [],
   "source": [
    "import pandas as pd"
   ]
  },
  {
   "cell_type": "code",
   "execution_count": 3,
   "metadata": {},
   "outputs": [],
   "source": [
    "%matplotlib inline"
   ]
  },
  {
   "cell_type": "markdown",
   "metadata": {},
   "source": [
    "## Daten laden"
   ]
  },
  {
   "cell_type": "markdown",
   "metadata": {},
   "source": [
    "Öffnen Sie das Datenfile in Pandas"
   ]
  },
  {
   "cell_type": "code",
   "execution_count": 4,
   "metadata": {},
   "outputs": [],
   "source": [
    "path = 'dataprojects/stadiums/stadiums_20150302.csv'\n",
    "\n",
    "df = pd.read_csv(path)"
   ]
  },
  {
   "cell_type": "markdown",
   "metadata": {},
   "source": [
    "Untersuchen Sie die Struktur der Daten: Länge, Datenfelder, erste Zeilen"
   ]
  },
  {
   "cell_type": "code",
   "execution_count": 5,
   "metadata": {},
   "outputs": [
    {
     "name": "stdout",
     "output_type": "stream",
     "text": [
      "<class 'pandas.core.frame.DataFrame'>\n",
      "RangeIndex: 164 entries, 0 to 163\n",
      "Data columns (total 8 columns):\n",
      "Team         164 non-null object\n",
      "FDCOUK       164 non-null object\n",
      "City         163 non-null object\n",
      "Stadium      164 non-null object\n",
      "Capacity     164 non-null int64\n",
      "Latitude     164 non-null float64\n",
      "Longitude    164 non-null float64\n",
      "Country      164 non-null object\n",
      "dtypes: float64(2), int64(1), object(5)\n",
      "memory usage: 10.3+ KB\n"
     ]
    }
   ],
   "source": [
    "df.info()"
   ]
  },
  {
   "cell_type": "code",
   "execution_count": 6,
   "metadata": {},
   "outputs": [
    {
     "data": {
      "text/html": [
       "<div>\n",
       "<style scoped>\n",
       "    .dataframe tbody tr th:only-of-type {\n",
       "        vertical-align: middle;\n",
       "    }\n",
       "\n",
       "    .dataframe tbody tr th {\n",
       "        vertical-align: top;\n",
       "    }\n",
       "\n",
       "    .dataframe thead th {\n",
       "        text-align: right;\n",
       "    }\n",
       "</style>\n",
       "<table border=\"1\" class=\"dataframe\">\n",
       "  <thead>\n",
       "    <tr style=\"text-align: right;\">\n",
       "      <th></th>\n",
       "      <th>Team</th>\n",
       "      <th>FDCOUK</th>\n",
       "      <th>City</th>\n",
       "      <th>Stadium</th>\n",
       "      <th>Capacity</th>\n",
       "      <th>Latitude</th>\n",
       "      <th>Longitude</th>\n",
       "      <th>Country</th>\n",
       "    </tr>\n",
       "  </thead>\n",
       "  <tbody>\n",
       "    <tr>\n",
       "      <th>0</th>\n",
       "      <td>Arsenal</td>\n",
       "      <td>Arsenal</td>\n",
       "      <td>London</td>\n",
       "      <td>Emirates Stadium</td>\n",
       "      <td>60361</td>\n",
       "      <td>51.555000</td>\n",
       "      <td>-0.108611</td>\n",
       "      <td>England</td>\n",
       "    </tr>\n",
       "    <tr>\n",
       "      <th>1</th>\n",
       "      <td>Aston Villa</td>\n",
       "      <td>Aston Villa</td>\n",
       "      <td>Birmingham</td>\n",
       "      <td>Villa Park</td>\n",
       "      <td>42785</td>\n",
       "      <td>52.509167</td>\n",
       "      <td>-1.884722</td>\n",
       "      <td>England</td>\n",
       "    </tr>\n",
       "    <tr>\n",
       "      <th>2</th>\n",
       "      <td>Blackburn Rovers</td>\n",
       "      <td>Blackburn</td>\n",
       "      <td>Blackburn</td>\n",
       "      <td>Ewood Park</td>\n",
       "      <td>31154</td>\n",
       "      <td>53.728611</td>\n",
       "      <td>-2.489167</td>\n",
       "      <td>England</td>\n",
       "    </tr>\n",
       "    <tr>\n",
       "      <th>3</th>\n",
       "      <td>Bolton Wanderers</td>\n",
       "      <td>Bolton</td>\n",
       "      <td>Bolton</td>\n",
       "      <td>Reebok Stadium</td>\n",
       "      <td>28100</td>\n",
       "      <td>53.580556</td>\n",
       "      <td>-2.535556</td>\n",
       "      <td>England</td>\n",
       "    </tr>\n",
       "    <tr>\n",
       "      <th>4</th>\n",
       "      <td>Chelsea</td>\n",
       "      <td>Chelsea</td>\n",
       "      <td>London</td>\n",
       "      <td>Stamford Bridge</td>\n",
       "      <td>42449</td>\n",
       "      <td>51.481667</td>\n",
       "      <td>-0.191111</td>\n",
       "      <td>England</td>\n",
       "    </tr>\n",
       "  </tbody>\n",
       "</table>\n",
       "</div>"
      ],
      "text/plain": [
       "                Team       FDCOUK         City            Stadium  Capacity  \\\n",
       "0           Arsenal       Arsenal      London   Emirates Stadium      60361   \n",
       "1       Aston Villa   Aston Villa  Birmingham         Villa Park      42785   \n",
       "2  Blackburn Rovers     Blackburn   Blackburn         Ewood Park      31154   \n",
       "3  Bolton Wanderers        Bolton      Bolton     Reebok Stadium      28100   \n",
       "4           Chelsea       Chelsea      London    Stamford Bridge      42449   \n",
       "\n",
       "    Latitude  Longitude  Country  \n",
       "0  51.555000  -0.108611  England  \n",
       "1  52.509167  -1.884722  England  \n",
       "2  53.728611  -2.489167  England  \n",
       "3  53.580556  -2.535556  England  \n",
       "4  51.481667  -0.191111  England  "
      ]
     },
     "execution_count": 6,
     "metadata": {},
     "output_type": "execute_result"
    }
   ],
   "source": [
    "df.head()"
   ]
  },
  {
   "cell_type": "code",
   "execution_count": null,
   "metadata": {},
   "outputs": [],
   "source": []
  },
  {
   "cell_type": "markdown",
   "metadata": {},
   "source": [
    "Sind die Daten vollständig?"
   ]
  },
  {
   "cell_type": "code",
   "execution_count": 7,
   "metadata": {},
   "outputs": [
    {
     "ename": "SyntaxError",
     "evalue": "invalid syntax (<ipython-input-7-68eaa794aaf2>, line 1)",
     "output_type": "error",
     "traceback": [
      "\u001b[0;36m  File \u001b[0;32m\"<ipython-input-7-68eaa794aaf2>\"\u001b[0;36m, line \u001b[0;32m1\u001b[0m\n\u001b[0;31m    sieht so aus.\u001b[0m\n\u001b[0m           ^\u001b[0m\n\u001b[0;31mSyntaxError\u001b[0m\u001b[0;31m:\u001b[0m invalid syntax\n"
     ]
    }
   ],
   "source": [
    "#sieht so aus. "
   ]
  },
  {
   "cell_type": "markdown",
   "metadata": {},
   "source": [
    "## Einfache Auswertungen"
   ]
  },
  {
   "cell_type": "markdown",
   "metadata": {},
   "source": [
    "Welche Länder sind in der Datenbank vertreten?"
   ]
  },
  {
   "cell_type": "code",
   "execution_count": 8,
   "metadata": {},
   "outputs": [
    {
     "data": {
      "text/plain": [
       "England     72\n",
       "France      26\n",
       "Spain       25\n",
       "Germany     23\n",
       "Scotland    18\n",
       "Name: Country, dtype: int64"
      ]
     },
     "execution_count": 8,
     "metadata": {},
     "output_type": "execute_result"
    }
   ],
   "source": [
    "df['Country'].value_counts()"
   ]
  },
  {
   "cell_type": "markdown",
   "metadata": {},
   "source": [
    "Wie viele Stadien sind pro Land in der Datenbank?"
   ]
  },
  {
   "cell_type": "code",
   "execution_count": 10,
   "metadata": {},
   "outputs": [],
   "source": [
    "#siehe oben"
   ]
  },
  {
   "cell_type": "markdown",
   "metadata": {},
   "source": [
    "In welchen fünf Städten stehen am meisten Fussballstadien?"
   ]
  },
  {
   "cell_type": "code",
   "execution_count": 11,
   "metadata": {},
   "outputs": [
    {
     "data": {
      "text/plain": [
       "London         9\n",
       "Glasgow        3\n",
       "Madrid         3\n",
       "Birmingham     2\n",
       "Seville        2\n",
       "Name: City, dtype: int64"
      ]
     },
     "execution_count": 11,
     "metadata": {},
     "output_type": "execute_result"
    }
   ],
   "source": [
    "df['City'].value_counts().head(5)"
   ]
  },
  {
   "cell_type": "markdown",
   "metadata": {},
   "source": [
    "Wie viele Stadien stehen östlich von Greenwich (also dem Null-Meridian)?"
   ]
  },
  {
   "cell_type": "code",
   "execution_count": 27,
   "metadata": {},
   "outputs": [
    {
     "data": {
      "text/plain": [
       "Team         52\n",
       "FDCOUK       52\n",
       "City         52\n",
       "Stadium      52\n",
       "Capacity     52\n",
       "Latitude     52\n",
       "Longitude    52\n",
       "Country      52\n",
       "dtype: int64"
      ]
     },
     "execution_count": 27,
     "metadata": {},
     "output_type": "execute_result"
    }
   ],
   "source": [
    "df[df['Longitude'] > 0].count()"
   ]
  },
  {
   "cell_type": "markdown",
   "metadata": {},
   "source": [
    "## Ranglisten"
   ]
  },
  {
   "cell_type": "markdown",
   "metadata": {},
   "source": [
    "Welche zehn Clubs haben die grössten Stadien?"
   ]
  },
  {
   "cell_type": "code",
   "execution_count": 50,
   "metadata": {},
   "outputs": [
    {
     "data": {
      "text/html": [
       "<div>\n",
       "<style scoped>\n",
       "    .dataframe tbody tr th:only-of-type {\n",
       "        vertical-align: middle;\n",
       "    }\n",
       "\n",
       "    .dataframe tbody tr th {\n",
       "        vertical-align: top;\n",
       "    }\n",
       "\n",
       "    .dataframe thead th {\n",
       "        text-align: right;\n",
       "    }\n",
       "</style>\n",
       "<table border=\"1\" class=\"dataframe\">\n",
       "  <thead>\n",
       "    <tr style=\"text-align: right;\">\n",
       "      <th></th>\n",
       "      <th>Team</th>\n",
       "      <th>FDCOUK</th>\n",
       "      <th>City</th>\n",
       "      <th>Stadium</th>\n",
       "      <th>Capacity</th>\n",
       "      <th>Latitude</th>\n",
       "      <th>Longitude</th>\n",
       "      <th>Country</th>\n",
       "    </tr>\n",
       "  </thead>\n",
       "  <tbody>\n",
       "    <tr>\n",
       "      <th>88</th>\n",
       "      <td>Barcelona</td>\n",
       "      <td>Barcelona</td>\n",
       "      <td>Barcelona</td>\n",
       "      <td>Camp Nou</td>\n",
       "      <td>99354</td>\n",
       "      <td>41.380870</td>\n",
       "      <td>2.122802</td>\n",
       "      <td>Spain</td>\n",
       "    </tr>\n",
       "    <tr>\n",
       "      <th>99</th>\n",
       "      <td>Real Madrid</td>\n",
       "      <td>Real Madrid</td>\n",
       "      <td>Madrid</td>\n",
       "      <td>Santiago Bernabéu</td>\n",
       "      <td>85454</td>\n",
       "      <td>40.453060</td>\n",
       "      <td>-3.688350</td>\n",
       "      <td>Spain</td>\n",
       "    </tr>\n",
       "    <tr>\n",
       "      <th>65</th>\n",
       "      <td>Borussia Dortmund</td>\n",
       "      <td>Dortmund</td>\n",
       "      <td>Dortmund</td>\n",
       "      <td>Signal Iduna Park</td>\n",
       "      <td>80645</td>\n",
       "      <td>51.492569</td>\n",
       "      <td>7.451842</td>\n",
       "      <td>Germany</td>\n",
       "    </tr>\n",
       "    <tr>\n",
       "      <th>9</th>\n",
       "      <td>Manchester United</td>\n",
       "      <td>Man United</td>\n",
       "      <td>Stretford</td>\n",
       "      <td>Old Trafford</td>\n",
       "      <td>75811</td>\n",
       "      <td>53.463056</td>\n",
       "      <td>-2.291389</td>\n",
       "      <td>England</td>\n",
       "    </tr>\n",
       "    <tr>\n",
       "      <th>72</th>\n",
       "      <td>Hertha BSC</td>\n",
       "      <td>Hertha</td>\n",
       "      <td>Berlin</td>\n",
       "      <td>Olympiastadion</td>\n",
       "      <td>74244</td>\n",
       "      <td>52.514722</td>\n",
       "      <td>13.239444</td>\n",
       "      <td>Germany</td>\n",
       "    </tr>\n",
       "  </tbody>\n",
       "</table>\n",
       "</div>"
      ],
      "text/plain": [
       "                  Team       FDCOUK        City             Stadium  Capacity  \\\n",
       "88          Barcelona     Barcelona  Barcelona            Camp Nou      99354   \n",
       "99        Real Madrid   Real Madrid     Madrid   Santiago Bernabéu      85454   \n",
       "65  Borussia Dortmund      Dortmund   Dortmund   Signal Iduna Park      80645   \n",
       "9   Manchester United    Man United  Stretford        Old Trafford      75811   \n",
       "72         Hertha BSC        Hertha     Berlin      Olympiastadion      74244   \n",
       "\n",
       "     Latitude  Longitude  Country  \n",
       "88  41.380870   2.122802    Spain  \n",
       "99  40.453060  -3.688350    Spain  \n",
       "65  51.492569   7.451842  Germany  \n",
       "9   53.463056  -2.291389  England  \n",
       "72  52.514722  13.239444  Germany  "
      ]
     },
     "execution_count": 50,
     "metadata": {},
     "output_type": "execute_result"
    }
   ],
   "source": [
    "df.sort_values('Capacity', ascending = False).head()"
   ]
  },
  {
   "cell_type": "markdown",
   "metadata": {},
   "source": [
    "Erstellen Sie eine neue Spalte (\"Bezeichnung\"), die den Teamnamen und das Stadion enthält (z.B. \"Barcelona: Camp Nou\")\n",
    "\n",
    "Hint: Man kann Serien mit Text-Content genauso wie Serien mit Zahlen-Content addieren."
   ]
  },
  {
   "cell_type": "code",
   "execution_count": 63,
   "metadata": {},
   "outputs": [],
   "source": [
    "df['Bezeichnung'] = df['Team'] + \": \" + df['Stadium']"
   ]
  },
  {
   "cell_type": "markdown",
   "metadata": {},
   "source": [
    "Speichern Sie die zehn Clubs mit den grössten Stadien in einem separaten Dataframe."
   ]
  },
  {
   "cell_type": "code",
   "execution_count": 64,
   "metadata": {},
   "outputs": [
    {
     "data": {
      "text/html": [
       "<div>\n",
       "<style scoped>\n",
       "    .dataframe tbody tr th:only-of-type {\n",
       "        vertical-align: middle;\n",
       "    }\n",
       "\n",
       "    .dataframe tbody tr th {\n",
       "        vertical-align: top;\n",
       "    }\n",
       "\n",
       "    .dataframe thead th {\n",
       "        text-align: right;\n",
       "    }\n",
       "</style>\n",
       "<table border=\"1\" class=\"dataframe\">\n",
       "  <thead>\n",
       "    <tr style=\"text-align: right;\">\n",
       "      <th></th>\n",
       "      <th>Team</th>\n",
       "      <th>FDCOUK</th>\n",
       "      <th>City</th>\n",
       "      <th>Stadium</th>\n",
       "      <th>Capacity</th>\n",
       "      <th>Latitude</th>\n",
       "      <th>Longitude</th>\n",
       "      <th>Country</th>\n",
       "      <th>Bezeichnung</th>\n",
       "    </tr>\n",
       "  </thead>\n",
       "  <tbody>\n",
       "    <tr>\n",
       "      <th>88</th>\n",
       "      <td>Barcelona</td>\n",
       "      <td>Barcelona</td>\n",
       "      <td>Barcelona</td>\n",
       "      <td>Camp Nou</td>\n",
       "      <td>99354</td>\n",
       "      <td>41.380870</td>\n",
       "      <td>2.122802</td>\n",
       "      <td>Spain</td>\n",
       "      <td>Barcelona : Camp Nou</td>\n",
       "    </tr>\n",
       "    <tr>\n",
       "      <th>99</th>\n",
       "      <td>Real Madrid</td>\n",
       "      <td>Real Madrid</td>\n",
       "      <td>Madrid</td>\n",
       "      <td>Santiago Bernabéu</td>\n",
       "      <td>85454</td>\n",
       "      <td>40.453060</td>\n",
       "      <td>-3.688350</td>\n",
       "      <td>Spain</td>\n",
       "      <td>Real Madrid : Santiago Bernabéu</td>\n",
       "    </tr>\n",
       "    <tr>\n",
       "      <th>65</th>\n",
       "      <td>Borussia Dortmund</td>\n",
       "      <td>Dortmund</td>\n",
       "      <td>Dortmund</td>\n",
       "      <td>Signal Iduna Park</td>\n",
       "      <td>80645</td>\n",
       "      <td>51.492569</td>\n",
       "      <td>7.451842</td>\n",
       "      <td>Germany</td>\n",
       "      <td>Borussia Dortmund : Signal Iduna Park</td>\n",
       "    </tr>\n",
       "    <tr>\n",
       "      <th>9</th>\n",
       "      <td>Manchester United</td>\n",
       "      <td>Man United</td>\n",
       "      <td>Stretford</td>\n",
       "      <td>Old Trafford</td>\n",
       "      <td>75811</td>\n",
       "      <td>53.463056</td>\n",
       "      <td>-2.291389</td>\n",
       "      <td>England</td>\n",
       "      <td>Manchester United : Old Trafford</td>\n",
       "    </tr>\n",
       "    <tr>\n",
       "      <th>72</th>\n",
       "      <td>Hertha BSC</td>\n",
       "      <td>Hertha</td>\n",
       "      <td>Berlin</td>\n",
       "      <td>Olympiastadion</td>\n",
       "      <td>74244</td>\n",
       "      <td>52.514722</td>\n",
       "      <td>13.239444</td>\n",
       "      <td>Germany</td>\n",
       "      <td>Hertha BSC : Olympiastadion</td>\n",
       "    </tr>\n",
       "    <tr>\n",
       "      <th>64</th>\n",
       "      <td>Bayern Munich</td>\n",
       "      <td>Bayern Munich</td>\n",
       "      <td>Munich</td>\n",
       "      <td>Allianz Arena</td>\n",
       "      <td>71000</td>\n",
       "      <td>48.218775</td>\n",
       "      <td>11.624753</td>\n",
       "      <td>Germany</td>\n",
       "      <td>Bayern Munich : Allianz Arena</td>\n",
       "    </tr>\n",
       "    <tr>\n",
       "      <th>76</th>\n",
       "      <td>Schalke 04</td>\n",
       "      <td>Schalke 04</td>\n",
       "      <td>Gelsenkirchen</td>\n",
       "      <td>Veltins-Arena</td>\n",
       "      <td>61673</td>\n",
       "      <td>51.554503</td>\n",
       "      <td>7.067589</td>\n",
       "      <td>Germany</td>\n",
       "      <td>Schalke 04 : Veltins-Arena</td>\n",
       "    </tr>\n",
       "    <tr>\n",
       "      <th>46</th>\n",
       "      <td>Celtic</td>\n",
       "      <td>Celtic</td>\n",
       "      <td>Glasgow</td>\n",
       "      <td>Celtic Park</td>\n",
       "      <td>60832</td>\n",
       "      <td>55.849711</td>\n",
       "      <td>-4.205589</td>\n",
       "      <td>Scotland</td>\n",
       "      <td>Celtic : Celtic Park</td>\n",
       "    </tr>\n",
       "    <tr>\n",
       "      <th>77</th>\n",
       "      <td>VfB Stuttgart</td>\n",
       "      <td>Stuttgart</td>\n",
       "      <td>Stuttgart</td>\n",
       "      <td>Mercedes-Benz Arena</td>\n",
       "      <td>60441</td>\n",
       "      <td>48.792269</td>\n",
       "      <td>9.232031</td>\n",
       "      <td>Germany</td>\n",
       "      <td>VfB Stuttgart : Mercedes-Benz Arena</td>\n",
       "    </tr>\n",
       "    <tr>\n",
       "      <th>0</th>\n",
       "      <td>Arsenal</td>\n",
       "      <td>Arsenal</td>\n",
       "      <td>London</td>\n",
       "      <td>Emirates Stadium</td>\n",
       "      <td>60361</td>\n",
       "      <td>51.555000</td>\n",
       "      <td>-0.108611</td>\n",
       "      <td>England</td>\n",
       "      <td>Arsenal : Emirates Stadium</td>\n",
       "    </tr>\n",
       "  </tbody>\n",
       "</table>\n",
       "</div>"
      ],
      "text/plain": [
       "                  Team         FDCOUK            City               Stadium  \\\n",
       "88          Barcelona       Barcelona      Barcelona              Camp Nou    \n",
       "99        Real Madrid     Real Madrid         Madrid     Santiago Bernabéu    \n",
       "65  Borussia Dortmund        Dortmund       Dortmund     Signal Iduna Park    \n",
       "9   Manchester United      Man United      Stretford          Old Trafford    \n",
       "72         Hertha BSC          Hertha         Berlin        Olympiastadion    \n",
       "64      Bayern Munich   Bayern Munich         Munich         Allianz Arena    \n",
       "76         Schalke 04      Schalke 04  Gelsenkirchen         Veltins-Arena    \n",
       "46             Celtic          Celtic         Glasgow          Celtic Park    \n",
       "77      VfB Stuttgart       Stuttgart      Stuttgart   Mercedes-Benz Arena    \n",
       "0             Arsenal         Arsenal         London      Emirates Stadium    \n",
       "\n",
       "    Capacity   Latitude  Longitude   Country  \\\n",
       "88     99354  41.380870   2.122802     Spain   \n",
       "99     85454  40.453060  -3.688350     Spain   \n",
       "65     80645  51.492569   7.451842   Germany   \n",
       "9      75811  53.463056  -2.291389   England   \n",
       "72     74244  52.514722  13.239444   Germany   \n",
       "64     71000  48.218775  11.624753   Germany   \n",
       "76     61673  51.554503   7.067589   Germany   \n",
       "46     60832  55.849711  -4.205589  Scotland   \n",
       "77     60441  48.792269   9.232031   Germany   \n",
       "0      60361  51.555000  -0.108611   England   \n",
       "\n",
       "                               Bezeichnung  \n",
       "88                   Barcelona : Camp Nou   \n",
       "99        Real Madrid : Santiago Bernabéu   \n",
       "65  Borussia Dortmund : Signal Iduna Park   \n",
       "9        Manchester United : Old Trafford   \n",
       "72            Hertha BSC : Olympiastadion   \n",
       "64          Bayern Munich : Allianz Arena   \n",
       "76             Schalke 04 : Veltins-Arena   \n",
       "46                   Celtic : Celtic Park   \n",
       "77    VfB Stuttgart : Mercedes-Benz Arena   \n",
       "0              Arsenal : Emirates Stadium   "
      ]
     },
     "execution_count": 64,
     "metadata": {},
     "output_type": "execute_result"
    }
   ],
   "source": [
    "top_10 = df.sort_values('Capacity', ascending = False).head(10)\n",
    "top_10"
   ]
  },
  {
   "cell_type": "markdown",
   "metadata": {},
   "source": [
    "Erstellen Sie einen horizontalen Barchart mit der Stadion-Bezeichnung und der Kapazität."
   ]
  },
  {
   "cell_type": "code",
   "execution_count": 73,
   "metadata": {},
   "outputs": [
    {
     "data": {
      "text/plain": [
       "<matplotlib.axes._subplots.AxesSubplot at 0x11d85d8d0>"
      ]
     },
     "execution_count": 73,
     "metadata": {},
     "output_type": "execute_result"
    },
    {
     "data": {
      "image/png": "[encoded data removed]",
      "text/plain": [
       "<Figure size 432x288 with 1 Axes>"
      ]
     },
     "metadata": {
      "needs_background": "light"
     },
     "output_type": "display_data"
    }
   ],
   "source": [
    "top_10.plot(kind='barh', x = 'Bezeichnung', y = 'Capacity')"
   ]
  },
  {
   "cell_type": "markdown",
   "metadata": {},
   "source": [
    "## Gruppierte Auswertung"
   ]
  },
  {
   "cell_type": "markdown",
   "metadata": {},
   "source": [
    "Ordnen Sie die Länder nach der Durchschnittsgrösse der Stadien."
   ]
  },
  {
   "cell_type": "code",
   "execution_count": null,
   "metadata": {
    "collapsed": true
   },
   "outputs": [],
   "source": []
  },
  {
   "cell_type": "markdown",
   "metadata": {},
   "source": [
    "Welches sind die grössten drei Stadien östlich des Null-Meridians?"
   ]
  },
  {
   "cell_type": "code",
   "execution_count": null,
   "metadata": {
    "collapsed": true
   },
   "outputs": [],
   "source": []
  },
  {
   "cell_type": "markdown",
   "metadata": {},
   "source": [
    "Welches sind die grössten drei Stadien westlich des Null-Meridians?"
   ]
  },
  {
   "cell_type": "code",
   "execution_count": null,
   "metadata": {
    "collapsed": true
   },
   "outputs": [],
   "source": []
  },
  {
   "cell_type": "markdown",
   "metadata": {},
   "source": [
    "Erstellen Sie ein Dataframe, das ausschliesslich die Stadien in London und Madrid enthält."
   ]
  },
  {
   "cell_type": "code",
   "execution_count": null,
   "metadata": {
    "collapsed": true
   },
   "outputs": [],
   "source": []
  },
  {
   "cell_type": "markdown",
   "metadata": {},
   "source": [
    "Bei den Städten hat es zT Leerschläge drin. Führen Sie folgenden Code aus, um sie zu entfernen:"
   ]
  },
  {
   "cell_type": "code",
   "execution_count": null,
   "metadata": {
    "collapsed": true
   },
   "outputs": [],
   "source": []
  },
  {
   "cell_type": "markdown",
   "metadata": {},
   "source": [
    "Erstellen Sie ein Dataframe, das nur die Stadien aus Madrid und Glasgow enthält."
   ]
  },
  {
   "cell_type": "code",
   "execution_count": null,
   "metadata": {
    "collapsed": true
   },
   "outputs": [],
   "source": []
  },
  {
   "cell_type": "markdown",
   "metadata": {},
   "source": [
    "Vergleichen Sie die Stadien der beiden Städe anhand des Medianwerts."
   ]
  },
  {
   "cell_type": "code",
   "execution_count": null,
   "metadata": {
    "collapsed": true
   },
   "outputs": [],
   "source": []
  },
  {
   "cell_type": "markdown",
   "metadata": {},
   "source": [
    "## Ein Histogramm"
   ]
  },
  {
   "cell_type": "markdown",
   "metadata": {},
   "source": [
    "Wie ist die Verteilung der Stadiongrösse? Zeichnen Sie ein Histogramm mit genügend feiner Aufgliederung."
   ]
  },
  {
   "cell_type": "code",
   "execution_count": null,
   "metadata": {
    "collapsed": true
   },
   "outputs": [],
   "source": []
  },
  {
   "cell_type": "markdown",
   "metadata": {},
   "source": [
    "## Ein hübscher Scatterplot"
   ]
  },
  {
   "cell_type": "markdown",
   "metadata": {},
   "source": [
    "Man würde das normalerweise anders machen, aber da wir hier schon die Koordinaten haben..."
   ]
  },
  {
   "cell_type": "markdown",
   "metadata": {},
   "source": [
    "- Definieren Sie einen Parameter \"area\" für die Punktegrösse, der sich an der Kapazität orientiert."
   ]
  },
  {
   "cell_type": "code",
   "execution_count": null,
   "metadata": {
    "collapsed": true
   },
   "outputs": [],
   "source": []
  },
  {
   "cell_type": "markdown",
   "metadata": {},
   "source": [
    "- Und plotten sie die Stadien auf einer \"Landkarte\" (Longitude auf der x-Achse, Latitude auf der y-Achse)"
   ]
  },
  {
   "cell_type": "code",
   "execution_count": null,
   "metadata": {
    "collapsed": true
   },
   "outputs": [],
   "source": []
  },
  {
   "cell_type": "code",
   "execution_count": null,
   "metadata": {
    "collapsed": true
   },
   "outputs": [],
   "source": []
  },
  {
   "cell_type": "code",
   "execution_count": null,
   "metadata": {
    "collapsed": true
   },
   "outputs": [],
   "source": []
  },
  {
   "cell_type": "code",
   "execution_count": null,
   "metadata": {
    "collapsed": true
   },
   "outputs": [],
   "source": []
  },
  {
   "cell_type": "code",
   "execution_count": null,
   "metadata": {
    "collapsed": true
   },
   "outputs": [],
   "source": []
  },
  {
   "cell_type": "code",
   "execution_count": null,
   "metadata": {
    "collapsed": true
   },
   "outputs": [],
   "source": []
  }
 ],
 "metadata": {
  "kernelspec": {
   "display_name": "Python 3",
   "language": "python",
   "name": "python3"
  },
  "language_info": {
   "codemirror_mode": {
    "name": "ipython",
    "version": 3
   },
   "file_extension": ".py",
   "mimetype": "text/x-python",
   "name": "python",
   "nbconvert_exporter": "python",
   "pygments_lexer": "ipython3",
   "version": "3.7.3"
  }
 },
 "nbformat": 4,
 "nbformat_minor": 2
}
