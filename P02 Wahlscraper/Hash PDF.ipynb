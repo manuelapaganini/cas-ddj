{
 "cells": [
  {
   "cell_type": "code",
   "execution_count": 1,
   "metadata": {},
   "outputs": [],
   "source": [
    "# Hash PDF"
   ]
  },
  {
   "cell_type": "code",
   "execution_count": 22,
   "metadata": {},
   "outputs": [],
   "source": [
    "# Import Zeug\n",
    "import hashlib\n",
    "import requests\n",
    "import time\n",
    "from bs4 import BeautifulSoup"
   ]
  },
  {
   "cell_type": "code",
   "execution_count": 20,
   "metadata": {},
   "outputs": [],
   "source": [
    "# irgendwas\n",
    "url = 'http://blog.manuelapaganini.ch/wordpress/wp-content/uploads/2019/10/test_pdf.pdf'\n",
    "pdf = requests.get(url)\n",
    "\n",
    "with open('test_pdf.pdf', 'rb') as f:\n",
    "    h1 = hashlib.sha256(f.read()).digest()\n",
    "h2 = hashlib.sha256(pdf.content).digest() \n",
    "h1 == h2\n",
    "True"
   ]
  },
  {
   "cell_type": "code",
   "execution_count": null,
   "metadata": {},
   "outputs": [],
   "source": [
    "\n"
   ]
  },
  {
   "cell_type": "code",
   "execution_count": 21,
   "metadata": {},
   "outputs": [
    {
     "data": {
      "text/plain": [
       "True"
      ]
     },
     "execution_count": 21,
     "metadata": {},
     "output_type": "execute_result"
    }
   ],
   "source": [
    "# so eine Vorlage\n",
    "with open('test_pdf.pdf', 'rb') as f:\n",
    "    h1 = hashlib.sha256(f.read()).digest()\n",
    "h2 = hashlib.sha256(pdf.content).digest() \n",
    "h1 == h2\n",
    "True"
   ]
  },
  {
   "cell_type": "code",
   "execution_count": 27,
   "metadata": {},
   "outputs": [
    {
     "data": {
      "text/plain": [
       "'http://blog.manuelapaganini.ch/wordpress/wp-content/uploads/2019/10/test_pdf.pdf'"
      ]
     },
     "execution_count": 27,
     "metadata": {},
     "output_type": "execute_result"
    }
   ],
   "source": [
    "# Test von Pycharm\n",
    "\n",
    "\n",
    "base_url = \"http://blog.manuelapaganini.ch/wordpress/das-hier-ist-ein-testeintrag/\"\n",
    "\n",
    "r = requests.get(base_url)\n",
    "soup = BeautifulSoup(r.content, 'lxml')\n",
    "\n",
    "pdf_link = soup.find(\"a\", {\"class\": \"fileName\"})\n",
    "\n",
    "pdf_link.get('href')\n",
    "\n"
   ]
  },
  {
   "cell_type": "code",
   "execution_count": null,
   "metadata": {},
   "outputs": [],
   "source": []
  }
 ],
 "metadata": {
  "kernelspec": {
   "display_name": "Python 3",
   "language": "python",
   "name": "python3"
  },
  "language_info": {
   "codemirror_mode": {
    "name": "ipython",
    "version": 3
   },
   "file_extension": ".py",
   "mimetype": "text/x-python",
   "name": "python",
   "nbconvert_exporter": "python",
   "pygments_lexer": "ipython3",
   "version": "3.7.3"
  }
 },
 "nbformat": 4,
 "nbformat_minor": 2
}
