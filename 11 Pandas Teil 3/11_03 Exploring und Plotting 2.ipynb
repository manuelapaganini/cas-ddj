{
 "cells": [
  {
   "cell_type": "markdown",
   "metadata": {},
   "source": [
    "# Exploring und Plotting 2"
   ]
  },
  {
   "cell_type": "markdown",
   "metadata": {},
   "source": [
    "**Inhalt:** Selbständige Übung in Gruppen\n",
    "\n",
    "**Nötige Skills:** Time Series\n",
    "\n",
    "**Lernziele:**\n",
    "- Selbständig Daten explorieren und Storyideen testen"
   ]
  },
  {
   "cell_type": "markdown",
   "metadata": {},
   "source": [
    "# Das Beispiel"
   ]
  },
  {
   "cell_type": "markdown",
   "metadata": {},
   "source": [
    "Börsenkurse aller Bluechips-Firmen an der Schweizer Börse.\n",
    "\n",
    "Korpus: https://www.six-group.com/exchanges/shares/explorer/swiss_blue_chips/closings_de.html\n",
    "\n",
    "Die Daten stammen von dieser Quelle: https://finance.yahoo.com/ und wurden zu einem File kompiliert.\n",
    "\n",
    "Kompilierungsfile: `dataprojects/Boersenkurse/Börsenkurse kompilieren.ipnyb`\n",
    "\n",
    "Kompilierte Daten: `dataprojects/Boersenkurse/smi_members.csv`"
   ]
  },
  {
   "cell_type": "markdown",
   "metadata": {},
   "source": [
    "## Vorbereitung"
   ]
  },
  {
   "cell_type": "markdown",
   "metadata": {},
   "source": [
    "Entscheiden Sie selbst, welche Libraries Sie brauchen!"
   ]
  },
  {
   "cell_type": "code",
   "execution_count": 2,
   "metadata": {},
   "outputs": [],
   "source": [
    "import pandas as pd"
   ]
  },
  {
   "cell_type": "code",
   "execution_count": 3,
   "metadata": {},
   "outputs": [],
   "source": [
    "%matplotlib inline"
   ]
  },
  {
   "cell_type": "code",
   "execution_count": 42,
   "metadata": {},
   "outputs": [],
   "source": [
    "import numpy as np"
   ]
  },
  {
   "cell_type": "code",
   "execution_count": 43,
   "metadata": {},
   "outputs": [],
   "source": [
    "from datetime import datetime"
   ]
  },
  {
   "cell_type": "code",
   "execution_count": 45,
   "metadata": {},
   "outputs": [],
   "source": [
    "from datetime import timedelta"
   ]
  },
  {
   "cell_type": "markdown",
   "metadata": {},
   "source": [
    "## Datenfile laden"
   ]
  },
  {
   "cell_type": "markdown",
   "metadata": {},
   "source": [
    "Wie ist die Datei strukturiert? Was müssen wir beim Laden beachten?\n",
    "\n",
    "Tipp: `index_col=0` verwenden."
   ]
  },
  {
   "cell_type": "code",
   "execution_count": 82,
   "metadata": {},
   "outputs": [],
   "source": [
    "df = pd.read_csv('dataprojects/Boersenkurse/smi_members.csv', index_col=0)"
   ]
  },
  {
   "cell_type": "code",
   "execution_count": 83,
   "metadata": {},
   "outputs": [],
   "source": [
    "#df = pd.read_csv('dataprojects/Boersenkurse/smi_members.csv')"
   ]
  },
  {
   "cell_type": "code",
   "execution_count": 84,
   "metadata": {},
   "outputs": [
    {
     "data": {
      "text/html": [
       "<div>\n",
       "<style scoped>\n",
       "    .dataframe tbody tr th:only-of-type {\n",
       "        vertical-align: middle;\n",
       "    }\n",
       "\n",
       "    .dataframe tbody tr th {\n",
       "        vertical-align: top;\n",
       "    }\n",
       "\n",
       "    .dataframe thead th {\n",
       "        text-align: right;\n",
       "    }\n",
       "</style>\n",
       "<table border=\"1\" class=\"dataframe\">\n",
       "  <thead>\n",
       "    <tr style=\"text-align: right;\">\n",
       "      <th></th>\n",
       "      <th>ABB LTD</th>\n",
       "      <th>ADECCO</th>\n",
       "      <th>ALCON</th>\n",
       "      <th>AMS</th>\n",
       "      <th>CLARIANT</th>\n",
       "      <th>CS GROUP</th>\n",
       "      <th>GEBERIT</th>\n",
       "      <th>GIVAUDAN</th>\n",
       "      <th>JULIUS BAER</th>\n",
       "      <th>KUEHNE+NAGEL INT</th>\n",
       "      <th>...</th>\n",
       "      <th>SIKA</th>\n",
       "      <th>SONOVA</th>\n",
       "      <th>SWATCH GROUP</th>\n",
       "      <th>SWISS LIFE HOLDING</th>\n",
       "      <th>SWISS RE</th>\n",
       "      <th>SWISSCOM</th>\n",
       "      <th>TEMENOS</th>\n",
       "      <th>UBS GROUP</th>\n",
       "      <th>VIFOR</th>\n",
       "      <th>ZURICH INSURANCE</th>\n",
       "    </tr>\n",
       "  </thead>\n",
       "  <tbody>\n",
       "    <tr>\n",
       "      <th>2014-10-13</th>\n",
       "      <td>19.65</td>\n",
       "      <td>60.400002</td>\n",
       "      <td>NaN</td>\n",
       "      <td>NaN</td>\n",
       "      <td>15.54</td>\n",
       "      <td>23.689699</td>\n",
       "      <td>289.799988</td>\n",
       "      <td>1461.0</td>\n",
       "      <td>39.500000</td>\n",
       "      <td>117.300003</td>\n",
       "      <td>...</td>\n",
       "      <td>51.849998</td>\n",
       "      <td>143.899994</td>\n",
       "      <td>436.100006</td>\n",
       "      <td>211.899994</td>\n",
       "      <td>73.650002</td>\n",
       "      <td>531.5</td>\n",
       "      <td>32.000000</td>\n",
       "      <td>15.30</td>\n",
       "      <td>74.449997</td>\n",
       "      <td>279.000000</td>\n",
       "    </tr>\n",
       "    <tr>\n",
       "      <th>2014-10-14</th>\n",
       "      <td>19.76</td>\n",
       "      <td>60.700001</td>\n",
       "      <td>NaN</td>\n",
       "      <td>NaN</td>\n",
       "      <td>15.58</td>\n",
       "      <td>23.689699</td>\n",
       "      <td>294.399994</td>\n",
       "      <td>1478.0</td>\n",
       "      <td>39.770000</td>\n",
       "      <td>118.400002</td>\n",
       "      <td>...</td>\n",
       "      <td>52.716702</td>\n",
       "      <td>138.399994</td>\n",
       "      <td>435.299988</td>\n",
       "      <td>211.100006</td>\n",
       "      <td>73.050003</td>\n",
       "      <td>530.0</td>\n",
       "      <td>32.500000</td>\n",
       "      <td>15.33</td>\n",
       "      <td>75.000000</td>\n",
       "      <td>277.600006</td>\n",
       "    </tr>\n",
       "    <tr>\n",
       "      <th>2014-10-15</th>\n",
       "      <td>19.16</td>\n",
       "      <td>58.849998</td>\n",
       "      <td>NaN</td>\n",
       "      <td>NaN</td>\n",
       "      <td>15.16</td>\n",
       "      <td>22.817499</td>\n",
       "      <td>288.000000</td>\n",
       "      <td>1458.0</td>\n",
       "      <td>37.459999</td>\n",
       "      <td>115.900002</td>\n",
       "      <td>...</td>\n",
       "      <td>51.799999</td>\n",
       "      <td>134.600006</td>\n",
       "      <td>429.500000</td>\n",
       "      <td>205.699997</td>\n",
       "      <td>72.050003</td>\n",
       "      <td>515.5</td>\n",
       "      <td>32.200001</td>\n",
       "      <td>14.73</td>\n",
       "      <td>73.900002</td>\n",
       "      <td>270.399994</td>\n",
       "    </tr>\n",
       "    <tr>\n",
       "      <th>2014-10-16</th>\n",
       "      <td>19.26</td>\n",
       "      <td>59.500000</td>\n",
       "      <td>NaN</td>\n",
       "      <td>NaN</td>\n",
       "      <td>15.06</td>\n",
       "      <td>22.292299</td>\n",
       "      <td>288.000000</td>\n",
       "      <td>1466.0</td>\n",
       "      <td>37.509998</td>\n",
       "      <td>117.099998</td>\n",
       "      <td>...</td>\n",
       "      <td>51.783298</td>\n",
       "      <td>133.699997</td>\n",
       "      <td>431.500000</td>\n",
       "      <td>200.500000</td>\n",
       "      <td>71.050003</td>\n",
       "      <td>507.5</td>\n",
       "      <td>31.650000</td>\n",
       "      <td>14.50</td>\n",
       "      <td>72.849998</td>\n",
       "      <td>265.899994</td>\n",
       "    </tr>\n",
       "    <tr>\n",
       "      <th>2014-10-17</th>\n",
       "      <td>19.40</td>\n",
       "      <td>60.950001</td>\n",
       "      <td>NaN</td>\n",
       "      <td>NaN</td>\n",
       "      <td>15.38</td>\n",
       "      <td>22.751900</td>\n",
       "      <td>297.200012</td>\n",
       "      <td>1494.0</td>\n",
       "      <td>39.119999</td>\n",
       "      <td>117.500000</td>\n",
       "      <td>...</td>\n",
       "      <td>53.333302</td>\n",
       "      <td>138.399994</td>\n",
       "      <td>438.500000</td>\n",
       "      <td>208.500000</td>\n",
       "      <td>71.699997</td>\n",
       "      <td>515.5</td>\n",
       "      <td>32.500000</td>\n",
       "      <td>15.05</td>\n",
       "      <td>75.849998</td>\n",
       "      <td>271.899994</td>\n",
       "    </tr>\n",
       "  </tbody>\n",
       "</table>\n",
       "<p>5 rows × 30 columns</p>\n",
       "</div>"
      ],
      "text/plain": [
       "            ABB LTD     ADECCO  ALCON  AMS  CLARIANT   CS GROUP     GEBERIT  \\\n",
       "2014-10-13    19.65  60.400002    NaN  NaN     15.54  23.689699  289.799988   \n",
       "2014-10-14    19.76  60.700001    NaN  NaN     15.58  23.689699  294.399994   \n",
       "2014-10-15    19.16  58.849998    NaN  NaN     15.16  22.817499  288.000000   \n",
       "2014-10-16    19.26  59.500000    NaN  NaN     15.06  22.292299  288.000000   \n",
       "2014-10-17    19.40  60.950001    NaN  NaN     15.38  22.751900  297.200012   \n",
       "\n",
       "            GIVAUDAN  JULIUS BAER  KUEHNE+NAGEL INT  ...       SIKA  \\\n",
       "2014-10-13    1461.0    39.500000        117.300003  ...  51.849998   \n",
       "2014-10-14    1478.0    39.770000        118.400002  ...  52.716702   \n",
       "2014-10-15    1458.0    37.459999        115.900002  ...  51.799999   \n",
       "2014-10-16    1466.0    37.509998        117.099998  ...  51.783298   \n",
       "2014-10-17    1494.0    39.119999        117.500000  ...  53.333302   \n",
       "\n",
       "                SONOVA  SWATCH GROUP  SWISS LIFE HOLDING   SWISS RE  SWISSCOM  \\\n",
       "2014-10-13  143.899994    436.100006          211.899994  73.650002     531.5   \n",
       "2014-10-14  138.399994    435.299988          211.100006  73.050003     530.0   \n",
       "2014-10-15  134.600006    429.500000          205.699997  72.050003     515.5   \n",
       "2014-10-16  133.699997    431.500000          200.500000  71.050003     507.5   \n",
       "2014-10-17  138.399994    438.500000          208.500000  71.699997     515.5   \n",
       "\n",
       "              TEMENOS  UBS GROUP      VIFOR  ZURICH INSURANCE  \n",
       "2014-10-13  32.000000      15.30  74.449997        279.000000  \n",
       "2014-10-14  32.500000      15.33  75.000000        277.600006  \n",
       "2014-10-15  32.200001      14.73  73.900002        270.399994  \n",
       "2014-10-16  31.650000      14.50  72.849998        265.899994  \n",
       "2014-10-17  32.500000      15.05  75.849998        271.899994  \n",
       "\n",
       "[5 rows x 30 columns]"
      ]
     },
     "execution_count": 84,
     "metadata": {},
     "output_type": "execute_result"
    }
   ],
   "source": [
    "\n",
    "df.head()"
   ]
  },
  {
   "cell_type": "code",
   "execution_count": 85,
   "metadata": {},
   "outputs": [
    {
     "data": {
      "text/plain": [
       "ABB LTD               float64\n",
       "ADECCO                float64\n",
       "ALCON                 float64\n",
       "AMS                   float64\n",
       "CLARIANT              float64\n",
       "CS GROUP              float64\n",
       "GEBERIT               float64\n",
       "GIVAUDAN              float64\n",
       "JULIUS BAER           float64\n",
       "KUEHNE+NAGEL INT      float64\n",
       "LAFARGEHOLCIM         float64\n",
       "LOGITECH              float64\n",
       "LONZA                 float64\n",
       "NESTLE                float64\n",
       "NOVARTIS              float64\n",
       "PARTNERS GROUP        float64\n",
       "RICHEMONT             float64\n",
       "ROCHE                 float64\n",
       "SCHINDLER             float64\n",
       "SGS                   float64\n",
       "SIKA                  float64\n",
       "SONOVA                float64\n",
       "SWATCH GROUP          float64\n",
       "SWISS LIFE HOLDING    float64\n",
       "SWISS RE              float64\n",
       "SWISSCOM              float64\n",
       "TEMENOS               float64\n",
       "UBS GROUP             float64\n",
       "VIFOR                 float64\n",
       "ZURICH INSURANCE      float64\n",
       "dtype: object"
      ]
     },
     "execution_count": 85,
     "metadata": {},
     "output_type": "execute_result"
    }
   ],
   "source": [
    "df.index =pd.to_datetime(df.index)\n",
    "\n",
    "df.dtypes"
   ]
  },
  {
   "cell_type": "code",
   "execution_count": 87,
   "metadata": {},
   "outputs": [],
   "source": [
    "#df['New Date'] = pd.to_datetime(df['Unnamed: 0'], format='%Y-%m-%d')\n",
    "#df.dtypes"
   ]
  },
  {
   "cell_type": "markdown",
   "metadata": {},
   "source": [
    "## Daten checken"
   ]
  },
  {
   "cell_type": "markdown",
   "metadata": {},
   "source": [
    "**Länge, Spalten, Integrität**"
   ]
  },
  {
   "cell_type": "code",
   "execution_count": 88,
   "metadata": {},
   "outputs": [
    {
     "name": "stdout",
     "output_type": "stream",
     "text": [
      "<class 'pandas.core.frame.DataFrame'>\n",
      "DatetimeIndex: 1255 entries, 2014-10-13 to 2019-10-11\n",
      "Data columns (total 30 columns):\n",
      "ABB LTD               1255 non-null float64\n",
      "ADECCO                1255 non-null float64\n",
      "ALCON                 123 non-null float64\n",
      "AMS                   129 non-null float64\n",
      "CLARIANT              1249 non-null float64\n",
      "CS GROUP              1255 non-null float64\n",
      "GEBERIT               1255 non-null float64\n",
      "GIVAUDAN              1255 non-null float64\n",
      "JULIUS BAER           1254 non-null float64\n",
      "KUEHNE+NAGEL INT      1255 non-null float64\n",
      "LAFARGEHOLCIM         1255 non-null float64\n",
      "LOGITECH              129 non-null float64\n",
      "LONZA                 1255 non-null float64\n",
      "NESTLE                1255 non-null float64\n",
      "NOVARTIS              1255 non-null float64\n",
      "PARTNERS GROUP        1255 non-null float64\n",
      "RICHEMONT             1255 non-null float64\n",
      "ROCHE                 1255 non-null float64\n",
      "SCHINDLER             1254 non-null float64\n",
      "SGS                   1255 non-null float64\n",
      "SIKA                  1255 non-null float64\n",
      "SONOVA                1255 non-null float64\n",
      "SWATCH GROUP          1255 non-null float64\n",
      "SWISS LIFE HOLDING    1255 non-null float64\n",
      "SWISS RE              1254 non-null float64\n",
      "SWISSCOM              1255 non-null float64\n",
      "TEMENOS               1255 non-null float64\n",
      "UBS GROUP             1255 non-null float64\n",
      "VIFOR                 1255 non-null float64\n",
      "ZURICH INSURANCE      1255 non-null float64\n",
      "dtypes: float64(30)\n",
      "memory usage: 303.9 KB\n"
     ]
    }
   ],
   "source": [
    "df.info()"
   ]
  },
  {
   "cell_type": "code",
   "execution_count": 122,
   "metadata": {},
   "outputs": [],
   "source": [
    "df_new = df['2019-04-08':][{'AMS','LOGITECH','ALCON'}]"
   ]
  },
  {
   "cell_type": "code",
   "execution_count": 123,
   "metadata": {},
   "outputs": [
    {
     "data": {
      "text/html": [
       "<div>\n",
       "<style scoped>\n",
       "    .dataframe tbody tr th:only-of-type {\n",
       "        vertical-align: middle;\n",
       "    }\n",
       "\n",
       "    .dataframe tbody tr th {\n",
       "        vertical-align: top;\n",
       "    }\n",
       "\n",
       "    .dataframe thead th {\n",
       "        text-align: right;\n",
       "    }\n",
       "</style>\n",
       "<table border=\"1\" class=\"dataframe\">\n",
       "  <thead>\n",
       "    <tr style=\"text-align: right;\">\n",
       "      <th></th>\n",
       "      <th>ALCON</th>\n",
       "      <th>AMS</th>\n",
       "      <th>LOGITECH</th>\n",
       "    </tr>\n",
       "  </thead>\n",
       "  <tbody>\n",
       "    <tr>\n",
       "      <th>2019-04-08</th>\n",
       "      <td>NaN</td>\n",
       "      <td>31.639999</td>\n",
       "      <td>40.430000</td>\n",
       "    </tr>\n",
       "    <tr>\n",
       "      <th>2019-04-09</th>\n",
       "      <td>NaN</td>\n",
       "      <td>32.279999</td>\n",
       "      <td>40.360001</td>\n",
       "    </tr>\n",
       "    <tr>\n",
       "      <th>2019-04-10</th>\n",
       "      <td>NaN</td>\n",
       "      <td>31.660000</td>\n",
       "      <td>40.959999</td>\n",
       "    </tr>\n",
       "    <tr>\n",
       "      <th>2019-04-11</th>\n",
       "      <td>NaN</td>\n",
       "      <td>31.700001</td>\n",
       "      <td>40.869999</td>\n",
       "    </tr>\n",
       "    <tr>\n",
       "      <th>2019-04-12</th>\n",
       "      <td>NaN</td>\n",
       "      <td>32.700001</td>\n",
       "      <td>41.240002</td>\n",
       "    </tr>\n",
       "  </tbody>\n",
       "</table>\n",
       "</div>"
      ],
      "text/plain": [
       "            ALCON        AMS   LOGITECH\n",
       "2019-04-08    NaN  31.639999  40.430000\n",
       "2019-04-09    NaN  32.279999  40.360001\n",
       "2019-04-10    NaN  31.660000  40.959999\n",
       "2019-04-11    NaN  31.700001  40.869999\n",
       "2019-04-12    NaN  32.700001  41.240002"
      ]
     },
     "execution_count": 123,
     "metadata": {},
     "output_type": "execute_result"
    }
   ],
   "source": [
    "df_new.head()"
   ]
  },
  {
   "cell_type": "code",
   "execution_count": 112,
   "metadata": {},
   "outputs": [],
   "source": [
    "# Index als Datum\n",
    "#df['New Date'] = pd.to_datetime(df['Date'], format='%d.%m.%Y')\n",
    "#values['name'] = values.index.strftime('%B - %Y')\n",
    "#df['New Date'] = pd.to_datetime('index', format='%d.%m.%Y')"
   ]
  },
  {
   "cell_type": "code",
   "execution_count": null,
   "metadata": {},
   "outputs": [],
   "source": [
    "\n",
    "\n"
   ]
  },
  {
   "cell_type": "code",
   "execution_count": 113,
   "metadata": {},
   "outputs": [
    {
     "data": {
      "text/plain": [
       "<matplotlib.axes._subplots.AxesSubplot at 0x11acba390>"
      ]
     },
     "execution_count": 113,
     "metadata": {},
     "output_type": "execute_result"
    },
    {
     "data": {
      "image/png": "[encoded data removed]",
      "text/plain": [
       "<Figure size 432x288 with 1 Axes>"
      ]
     },
     "metadata": {
      "needs_background": "light"
     },
     "output_type": "display_data"
    }
   ],
   "source": [
    "df_new.plot()"
   ]
  },
  {
   "cell_type": "code",
   "execution_count": null,
   "metadata": {},
   "outputs": [],
   "source": []
  },
  {
   "cell_type": "markdown",
   "metadata": {},
   "source": [
    "## Explorieren"
   ]
  },
  {
   "cell_type": "markdown",
   "metadata": {},
   "source": [
    "Ihr Ziel ist, aus den Börsendaten eine einfache Story zu generieren.\n",
    "\n",
    "Überlegen Sie sich dazu:\n",
    "- Was sind mögliche interessante Fragen?\n",
    "- Welche Auswertungen sind nötig, um die Fragen zu beanworten?\n",
    "- Wie stellen Sie die Resultate mittels Grafiken dar?\n",
    "\n",
    "Arbeiten Sie in Gruppen, um ein Ergebnis zu erarbeiten!"
   ]
  },
  {
   "cell_type": "code",
   "execution_count": 114,
   "metadata": {},
   "outputs": [
    {
     "data": {
      "text/html": [
       "<div>\n",
       "<style scoped>\n",
       "    .dataframe tbody tr th:only-of-type {\n",
       "        vertical-align: middle;\n",
       "    }\n",
       "\n",
       "    .dataframe tbody tr th {\n",
       "        vertical-align: top;\n",
       "    }\n",
       "\n",
       "    .dataframe thead th {\n",
       "        text-align: right;\n",
       "    }\n",
       "</style>\n",
       "<table border=\"1\" class=\"dataframe\">\n",
       "  <thead>\n",
       "    <tr style=\"text-align: right;\">\n",
       "      <th></th>\n",
       "      <th>ALCON</th>\n",
       "      <th>AMS</th>\n",
       "      <th>LOGITECH</th>\n",
       "    </tr>\n",
       "  </thead>\n",
       "  <tbody>\n",
       "    <tr>\n",
       "      <th>2019-04-08</th>\n",
       "      <td>NaN</td>\n",
       "      <td>NaN</td>\n",
       "      <td>NaN</td>\n",
       "    </tr>\n",
       "    <tr>\n",
       "      <th>2019-04-09</th>\n",
       "      <td>NaN</td>\n",
       "      <td>0.020228</td>\n",
       "      <td>-0.001731</td>\n",
       "    </tr>\n",
       "    <tr>\n",
       "      <th>2019-04-10</th>\n",
       "      <td>NaN</td>\n",
       "      <td>-0.019207</td>\n",
       "      <td>0.014866</td>\n",
       "    </tr>\n",
       "    <tr>\n",
       "      <th>2019-04-11</th>\n",
       "      <td>NaN</td>\n",
       "      <td>0.001263</td>\n",
       "      <td>-0.002197</td>\n",
       "    </tr>\n",
       "    <tr>\n",
       "      <th>2019-04-12</th>\n",
       "      <td>NaN</td>\n",
       "      <td>0.031546</td>\n",
       "      <td>0.009053</td>\n",
       "    </tr>\n",
       "  </tbody>\n",
       "</table>\n",
       "</div>"
      ],
      "text/plain": [
       "            ALCON       AMS  LOGITECH\n",
       "2019-04-08    NaN       NaN       NaN\n",
       "2019-04-09    NaN  0.020228 -0.001731\n",
       "2019-04-10    NaN -0.019207  0.014866\n",
       "2019-04-11    NaN  0.001263 -0.002197\n",
       "2019-04-12    NaN  0.031546  0.009053"
      ]
     },
     "execution_count": 114,
     "metadata": {},
     "output_type": "execute_result"
    }
   ],
   "source": [
    "df_new.pct_change().head()"
   ]
  },
  {
   "cell_type": "code",
   "execution_count": 115,
   "metadata": {},
   "outputs": [
    {
     "data": {
      "text/html": [
       "<div>\n",
       "<style scoped>\n",
       "    .dataframe tbody tr th:only-of-type {\n",
       "        vertical-align: middle;\n",
       "    }\n",
       "\n",
       "    .dataframe tbody tr th {\n",
       "        vertical-align: top;\n",
       "    }\n",
       "\n",
       "    .dataframe thead th {\n",
       "        text-align: right;\n",
       "    }\n",
       "</style>\n",
       "<table border=\"1\" class=\"dataframe\">\n",
       "  <thead>\n",
       "    <tr style=\"text-align: right;\">\n",
       "      <th></th>\n",
       "      <th>ALCON</th>\n",
       "      <th>AMS</th>\n",
       "      <th>LOGITECH</th>\n",
       "    </tr>\n",
       "  </thead>\n",
       "  <tbody>\n",
       "    <tr>\n",
       "      <th>2019-04-01</th>\n",
       "      <td>57.488000</td>\n",
       "      <td>34.388000</td>\n",
       "      <td>41.440666</td>\n",
       "    </tr>\n",
       "    <tr>\n",
       "      <th>2019-05-01</th>\n",
       "      <td>60.273333</td>\n",
       "      <td>40.956667</td>\n",
       "      <td>38.637620</td>\n",
       "    </tr>\n",
       "    <tr>\n",
       "      <th>2019-06-01</th>\n",
       "      <td>58.466315</td>\n",
       "      <td>33.751579</td>\n",
       "      <td>37.597895</td>\n",
       "    </tr>\n",
       "    <tr>\n",
       "      <th>2019-07-01</th>\n",
       "      <td>59.748261</td>\n",
       "      <td>44.531739</td>\n",
       "      <td>39.480001</td>\n",
       "    </tr>\n",
       "    <tr>\n",
       "      <th>2019-08-01</th>\n",
       "      <td>58.459524</td>\n",
       "      <td>42.734286</td>\n",
       "      <td>38.601429</td>\n",
       "    </tr>\n",
       "    <tr>\n",
       "      <th>2019-09-01</th>\n",
       "      <td>59.132000</td>\n",
       "      <td>44.630476</td>\n",
       "      <td>40.680476</td>\n",
       "    </tr>\n",
       "    <tr>\n",
       "      <th>2019-10-01</th>\n",
       "      <td>56.412222</td>\n",
       "      <td>43.736666</td>\n",
       "      <td>40.262222</td>\n",
       "    </tr>\n",
       "  </tbody>\n",
       "</table>\n",
       "</div>"
      ],
      "text/plain": [
       "                ALCON        AMS   LOGITECH\n",
       "2019-04-01  57.488000  34.388000  41.440666\n",
       "2019-05-01  60.273333  40.956667  38.637620\n",
       "2019-06-01  58.466315  33.751579  37.597895\n",
       "2019-07-01  59.748261  44.531739  39.480001\n",
       "2019-08-01  58.459524  42.734286  38.601429\n",
       "2019-09-01  59.132000  44.630476  40.680476\n",
       "2019-10-01  56.412222  43.736666  40.262222"
      ]
     },
     "execution_count": 115,
     "metadata": {},
     "output_type": "execute_result"
    }
   ],
   "source": [
    "df_new.resample('MS').mean()"
   ]
  },
  {
   "cell_type": "code",
   "execution_count": 116,
   "metadata": {},
   "outputs": [
    {
     "data": {
      "text/plain": [
       "<matplotlib.axes._subplots.AxesSubplot at 0x11adeacc0>"
      ]
     },
     "execution_count": 116,
     "metadata": {},
     "output_type": "execute_result"
    },
    {
     "data": {
      "image/png": "[encoded data removed]",
      "text/plain": [
       "<Figure size 432x288 with 1 Axes>"
      ]
     },
     "metadata": {
      "needs_background": "light"
     },
     "output_type": "display_data"
    }
   ],
   "source": [
    "df_new.resample('MS').mean().plot()"
   ]
  },
  {
   "cell_type": "code",
   "execution_count": 117,
   "metadata": {},
   "outputs": [
    {
     "data": {
      "text/html": [
       "<div>\n",
       "<style scoped>\n",
       "    .dataframe tbody tr th:only-of-type {\n",
       "        vertical-align: middle;\n",
       "    }\n",
       "\n",
       "    .dataframe tbody tr th {\n",
       "        vertical-align: top;\n",
       "    }\n",
       "\n",
       "    .dataframe thead th {\n",
       "        text-align: right;\n",
       "    }\n",
       "</style>\n",
       "<table border=\"1\" class=\"dataframe\">\n",
       "  <thead>\n",
       "    <tr style=\"text-align: right;\">\n",
       "      <th></th>\n",
       "      <th>ALCON</th>\n",
       "      <th>AMS</th>\n",
       "      <th>LOGITECH</th>\n",
       "    </tr>\n",
       "  </thead>\n",
       "  <tbody>\n",
       "    <tr>\n",
       "      <th>2019-12-31</th>\n",
       "      <td>55.080002</td>\n",
       "      <td>31.639999</td>\n",
       "      <td>40.43</td>\n",
       "    </tr>\n",
       "  </tbody>\n",
       "</table>\n",
       "</div>"
      ],
      "text/plain": [
       "                ALCON        AMS  LOGITECH\n",
       "2019-12-31  55.080002  31.639999     40.43"
      ]
     },
     "execution_count": 117,
     "metadata": {},
     "output_type": "execute_result"
    }
   ],
   "source": [
    "df_new.resample('A').first()"
   ]
  },
  {
   "cell_type": "code",
   "execution_count": 118,
   "metadata": {},
   "outputs": [
    {
     "data": {
      "text/html": [
       "<div>\n",
       "<style scoped>\n",
       "    .dataframe tbody tr th:only-of-type {\n",
       "        vertical-align: middle;\n",
       "    }\n",
       "\n",
       "    .dataframe tbody tr th {\n",
       "        vertical-align: top;\n",
       "    }\n",
       "\n",
       "    .dataframe thead th {\n",
       "        text-align: right;\n",
       "    }\n",
       "</style>\n",
       "<table border=\"1\" class=\"dataframe\">\n",
       "  <thead>\n",
       "    <tr style=\"text-align: right;\">\n",
       "      <th></th>\n",
       "      <th>ALCON</th>\n",
       "      <th>AMS</th>\n",
       "      <th>LOGITECH</th>\n",
       "    </tr>\n",
       "  </thead>\n",
       "  <tbody>\n",
       "    <tr>\n",
       "      <th>2019-12-31</th>\n",
       "      <td>56.200001</td>\n",
       "      <td>44.259998</td>\n",
       "      <td>41.299999</td>\n",
       "    </tr>\n",
       "  </tbody>\n",
       "</table>\n",
       "</div>"
      ],
      "text/plain": [
       "                ALCON        AMS   LOGITECH\n",
       "2019-12-31  56.200001  44.259998  41.299999"
      ]
     },
     "execution_count": 118,
     "metadata": {},
     "output_type": "execute_result"
    }
   ],
   "source": [
    "df_new.resample('A').last()"
   ]
  },
  {
   "cell_type": "code",
   "execution_count": 119,
   "metadata": {},
   "outputs": [
    {
     "data": {
      "text/html": [
       "<div>\n",
       "<style scoped>\n",
       "    .dataframe tbody tr th:only-of-type {\n",
       "        vertical-align: middle;\n",
       "    }\n",
       "\n",
       "    .dataframe tbody tr th {\n",
       "        vertical-align: top;\n",
       "    }\n",
       "\n",
       "    .dataframe thead th {\n",
       "        text-align: right;\n",
       "    }\n",
       "</style>\n",
       "<table border=\"1\" class=\"dataframe\">\n",
       "  <thead>\n",
       "    <tr style=\"text-align: right;\">\n",
       "      <th></th>\n",
       "      <th>ALCON</th>\n",
       "      <th>AMS</th>\n",
       "      <th>LOGITECH</th>\n",
       "    </tr>\n",
       "  </thead>\n",
       "  <tbody>\n",
       "    <tr>\n",
       "      <th>2019-12-31</th>\n",
       "      <td>2.033404</td>\n",
       "      <td>39.886218</td>\n",
       "      <td>2.151865</td>\n",
       "    </tr>\n",
       "  </tbody>\n",
       "</table>\n",
       "</div>"
      ],
      "text/plain": [
       "               ALCON        AMS  LOGITECH\n",
       "2019-12-31  2.033404  39.886218  2.151865"
      ]
     },
     "execution_count": 119,
     "metadata": {},
     "output_type": "execute_result"
    }
   ],
   "source": [
    "#Prozentuale Veränderung\n",
    "\n",
    "df_new.resample('A').last()/df_new.resample('A').first()*100-100\n"
   ]
  },
  {
   "cell_type": "code",
   "execution_count": 125,
   "metadata": {},
   "outputs": [
    {
     "data": {
      "text/plain": [
       "<matplotlib.axes._subplots.AxesSubplot at 0x11b07f8d0>"
      ]
     },
     "execution_count": 125,
     "metadata": {},
     "output_type": "execute_result"
    },
    {
     "data": {
      "image/png": "[encoded data removed]",
      "text/plain": [
       "<Figure size 432x288 with 1 Axes>"
      ]
     },
     "metadata": {
      "needs_background": "light"
     },
     "output_type": "display_data"
    }
   ],
   "source": [
    "(df_new.resample('A').last()/df_new.resample('A').first()*100-100).plot(kind='barh', title =\"So performten die Börsen-Newbies\")"
   ]
  },
  {
   "cell_type": "code",
   "execution_count": null,
   "metadata": {},
   "outputs": [],
   "source": []
  },
  {
   "cell_type": "code",
   "execution_count": null,
   "metadata": {},
   "outputs": [],
   "source": []
  },
  {
   "cell_type": "code",
   "execution_count": null,
   "metadata": {},
   "outputs": [],
   "source": []
  },
  {
   "cell_type": "code",
   "execution_count": null,
   "metadata": {},
   "outputs": [],
   "source": []
  },
  {
   "cell_type": "code",
   "execution_count": null,
   "metadata": {},
   "outputs": [],
   "source": []
  },
  {
   "cell_type": "code",
   "execution_count": null,
   "metadata": {},
   "outputs": [],
   "source": []
  },
  {
   "cell_type": "code",
   "execution_count": null,
   "metadata": {},
   "outputs": [],
   "source": []
  },
  {
   "cell_type": "code",
   "execution_count": null,
   "metadata": {},
   "outputs": [],
   "source": []
  },
  {
   "cell_type": "code",
   "execution_count": null,
   "metadata": {},
   "outputs": [],
   "source": []
  },
  {
   "cell_type": "code",
   "execution_count": null,
   "metadata": {},
   "outputs": [],
   "source": []
  },
  {
   "cell_type": "code",
   "execution_count": null,
   "metadata": {},
   "outputs": [],
   "source": []
  },
  {
   "cell_type": "code",
   "execution_count": null,
   "metadata": {},
   "outputs": [],
   "source": []
  },
  {
   "cell_type": "code",
   "execution_count": null,
   "metadata": {},
   "outputs": [],
   "source": []
  },
  {
   "cell_type": "markdown",
   "metadata": {},
   "source": [
    "## Die Story\n",
    "Wählen Sie eine ihrer Fragen aus, die Sie bearbeitet haben.\n",
    "- Drei bis vier Sätze, welche die Story zusammenfassen\n",
    "- eine oder mehrere Grafiken, die das Ergebnis illustrieren"
   ]
  },
  {
   "cell_type": "code",
   "execution_count": null,
   "metadata": {},
   "outputs": [],
   "source": []
  },
  {
   "cell_type": "code",
   "execution_count": null,
   "metadata": {},
   "outputs": [],
   "source": []
  },
  {
   "cell_type": "code",
   "execution_count": null,
   "metadata": {},
   "outputs": [],
   "source": []
  },
  {
   "cell_type": "code",
   "execution_count": null,
   "metadata": {},
   "outputs": [],
   "source": []
  },
  {
   "cell_type": "code",
   "execution_count": null,
   "metadata": {},
   "outputs": [],
   "source": []
  },
  {
   "cell_type": "code",
   "execution_count": null,
   "metadata": {},
   "outputs": [],
   "source": []
  },
  {
   "cell_type": "code",
   "execution_count": null,
   "metadata": {},
   "outputs": [],
   "source": []
  },
  {
   "cell_type": "code",
   "execution_count": null,
   "metadata": {},
   "outputs": [],
   "source": []
  }
 ],
 "metadata": {
  "kernelspec": {
   "display_name": "Python 3",
   "language": "python",
   "name": "python3"
  },
  "language_info": {
   "codemirror_mode": {
    "name": "ipython",
    "version": 3
   },
   "file_extension": ".py",
   "mimetype": "text/x-python",
   "name": "python",
   "nbconvert_exporter": "python",
   "pygments_lexer": "ipython3",
   "version": "3.7.3"
  }
 },
 "nbformat": 4,
 "nbformat_minor": 2
}
