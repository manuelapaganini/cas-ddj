{
 "cells": [
  {
   "cell_type": "markdown",
   "metadata": {},
   "source": [
    "# Dateien\n",
    "Dateien sind sind sehr praktisch. Mit ihnen kann man neue Daten einlesen und abspeichern. Wie geht das eigentlich mit Python?"
   ]
  },
  {
   "cell_type": "markdown",
   "metadata": {},
   "source": [
    "## Eine Textdatei lesen und ihren Inhalt ausgeben"
   ]
  },
  {
   "cell_type": "code",
   "execution_count": 10,
   "metadata": {},
   "outputs": [
    {
     "name": "stdout",
     "output_type": "stream",
     "text": [
      "Hallo Leute.\n",
      "Ich bin eine wunderschöne weitere Zeile.\n"
     ]
    }
   ],
   "source": [
    "# Wir öffnen die Datei lesen.txt zum Lesen (\"r\") und speichern ihren Inhalt in die Variable file\n",
    "file = open(\"lesen.txt\", \"r\")\n",
    "\n",
    "# Wir gehen alle Zeilen nacheinander durch\n",
    "# In der txt-Datei stehen für uns nicht sichtbare Zeilenumbruchszeichen, durch die jeweils das Ende einer Zeile markiert ist\n",
    "for line in file:\n",
    "    # Eine Zeile ohne Zeilenumbruch ausgeben\n",
    "    print(line.strip())\n",
    "file.close()"
   ]
  },
  {
   "cell_type": "markdown",
   "metadata": {},
   "source": [
    "## In eine Textdatei schreiben\n",
    "In eine Textdatei zu schreiben ist fast genauso einfach wie sie zu lesen:"
   ]
  },
  {
   "cell_type": "code",
   "execution_count": 2,
   "metadata": {},
   "outputs": [],
   "source": [
    "# Wir öffnen eine Datei zum Schreiben (\"w\": write)\n",
    "file = open(\"schreiben.txt\", \"w\")\n",
    "\n",
    "students = [\"Max\", \"Monika\", \"Erik\", \"Franziska\"]\n",
    "\n",
    "# Wir loopen mit einer for-Schleife durch die Liste students\n",
    "for student in students:\n",
    "    # Mit der write-Methode schreiben wir den aktuellen String student und einen Zeilenumbruch in das file-Objekt\n",
    "    file.write(student + \"\\n\")\n",
    "\n",
    "# Abschließend müssen wir die Datei wieder schließen\n",
    "file.close()"
   ]
  },
  {
   "cell_type": "markdown",
   "metadata": {},
   "source": [
    "## Dateien öffnen mit with\n",
    "Wenn wir Dateien mit einer with-Konstruktion öffnen, dann brauchen wir sie nicht mehr explizit mit der close()-Methode schließen."
   ]
  },
  {
   "cell_type": "code",
   "execution_count": 12,
   "metadata": {},
   "outputs": [
    {
     "name": "stdout",
     "output_type": "stream",
     "text": [
      "Hallo Leute.\n",
      "Ich bin eine wunderschöne weitere Zeile.\n"
     ]
    }
   ],
   "source": [
    "with open(\"lesen.txt\", \"r\") as file:\n",
    "    for line in file:\n",
    "        print(line.strip())"
   ]
  },
  {
   "cell_type": "markdown",
   "metadata": {},
   "source": [
    "## CSV-Datei lesen\n",
    "CSV steht für comma separated values. Auch solche csv-Dateien können wir mit Python auslesen."
   ]
  },
  {
   "cell_type": "code",
   "execution_count": 4,
   "metadata": {},
   "outputs": [
    {
     "name": "stdout",
     "output_type": "stream",
     "text": [
      "Muenchen: 1800000\n",
      "Berlin: 3000000\n",
      "Budapest: 2000000\n"
     ]
    }
   ],
   "source": [
    "with open(\"datei.csv\") as file:\n",
    "    for line in file:\n",
    "        data = line.split(\";\")\n",
    "        print(data[0] + \": \" + data[1])"
   ]
  },
  {
   "cell_type": "markdown",
   "metadata": {},
   "source": [
    "## CSV-Datei lesen (und Daten überspringen)\n",
    "\n",
    "CSV Dateien sind genauso dateien wie jede andere auch. Für sie ist es ganz z.B. ganz praktisch wenn du Zeilen überspringen kannst. "
   ]
  },
  {
   "cell_type": "code",
   "execution_count": 6,
   "metadata": {},
   "outputs": [
    {
     "name": "stdout",
     "output_type": "stream",
     "text": [
      "['Berlin', '3000000', 'BER\\n']\n"
     ]
    }
   ],
   "source": [
    "with open(\"datei.csv\") as file:\n",
    "    for line in file:\n",
    "        data = line.split(\";\")\n",
    "        \n",
    "        if int(data[1]) < 2000000:\n",
    "            continue\n",
    "        \n",
    "        if data[2] == \"BUD\":\n",
    "            continue\n",
    "        \n",
    "        print(data)"
   ]
  },
  {
   "cell_type": "markdown",
   "metadata": {},
   "source": [
    "## Übung\n",
    "- Zum ersten mal können wir endlich mit einem \"echten\" Datensatz arbeiten!\n",
    "- Besorgt euch die datei https://data.stadt-zuerich.ch/dataset/pd-stapo-hundenamen/resource/8bf2127d-c354-4834-8590-9666cbd6e160\n",
    "- Ihr findet sie auch im Ordner 20151001_hundenamen.csv\n",
    "- Findet heraus wie oft der Hundename \"Aaron\" zwischen 2000 - 2012 gebraucht wurde. "
   ]
  },
  {
   "cell_type": "code",
   "execution_count": 8,
   "metadata": {},
   "outputs": [
    {
     "name": "stdout",
     "output_type": "stream",
     "text": [
      "True\n"
     ]
    }
   ],
   "source": [
    "#Hinweis 1:\n",
    "n = \"1975\"\n",
    "print(int(n) < 1990)"
   ]
  },
  {
   "cell_type": "code",
   "execution_count": 9,
   "metadata": {},
   "outputs": [
    {
     "name": "stdout",
     "output_type": "stream",
     "text": [
      "1990\n",
      "1992\n"
     ]
    }
   ],
   "source": [
    "# Hinweis 2:\n",
    "jahre = [\"Year\", \"1990\", \"1992\"]\n",
    "\n",
    "for jahr in jahre:\n",
    "    if jahr == \"Year\":\n",
    "        continue\n",
    "    print(int(jahr))"
   ]
  },
  {
   "cell_type": "code",
   "execution_count": 40,
   "metadata": {},
   "outputs": [],
   "source": [
    "# unused stuff"
   ]
  },
  {
   "cell_type": "code",
   "execution_count": 26,
   "metadata": {},
   "outputs": [
    {
     "name": "stdout",
     "output_type": "stream",
     "text": [
      "Es gibt 4 Hunde mit dem Namen Aaron, die zwischen 200 und 2012 geboren sind.\n",
      "Es gibt 4 Hunde mit dem Namen Aaron, die zwischen 200 und 2012 geboren sind.\n"
     ]
    }
   ],
   "source": [
    "#aaron_dict = {}\n",
    "aaron_list = []\n",
    "\n",
    "with open(\"hundenamen_net.csv\", \"r\") as file:\n",
    "    total_aaron = 0\n",
    "    for line in file:\n",
    "        data = line.split(\",\")\n",
    "        if data[1] == \"GEBURTSJAHR_HUND\":\n",
    "            continue        \n",
    "        # check year_list for timespan AND check for lines with data[0] == \"Aaron\"\n",
    "        if int(data[1]) >= 2000 and int(data[1]) <= 2012 and data[0] == \"Aaron\":\n",
    "            #add item to list\n",
    "            total_aaron += 1\n",
    "            aaron_list.append(data[1])\n",
    "\n",
    "print(\"Es gibt\", len(aaron_list), \"Hunde mit dem Namen Aaron, die zwischen 200 und 2012 geboren sind.\")\n",
    "print(\"Es gibt\", total_aaron, \"Hunde mit dem Namen Aaron, die zwischen 200 und 2012 geboren sind.\")\n",
    "\n",
    "\n",
    "\n",
    "    "
   ]
  },
  {
   "cell_type": "code",
   "execution_count": 5,
   "metadata": {},
   "outputs": [],
   "source": [
    "# Sample-Lösung"
   ]
  },
  {
   "cell_type": "code",
   "execution_count": 1,
   "metadata": {},
   "outputs": [
    {
     "name": "stdout",
     "output_type": "stream",
     "text": [
      "\"Aaron\" / 2011\n",
      "\n",
      "Zwischen 2000 und 2012 wurden 1 Hunde auf den Namen Aaron getauft.\n",
      "\"Aaron\" / 2005\n",
      "\n",
      "Zwischen 2000 und 2012 wurden 2 Hunde auf den Namen Aaron getauft.\n",
      "\"Aaron\" / 2011\n",
      "\n",
      "Zwischen 2000 und 2012 wurden 3 Hunde auf den Namen Aaron getauft.\n",
      "\"Aaron\" / 2005\n",
      "\n",
      "Zwischen 2000 und 2012 wurden 4 Hunde auf den Namen Aaron getauft.\n"
     ]
    }
   ],
   "source": [
    "#Hier die Zürcher Aaröner:\n",
    "### Datei öffnen\n",
    "with open(\"20151001_hundenamen.csv\") as file:    \n",
    "    total_dog = 0    \n",
    "    for line in file:        \n",
    "        data = line.split(\",\")        \n",
    "        ## 1. Zeile mit Header, direkt weiterspringen, um Fehler zu vermeiden mit dem int(Jahr)\n",
    "        if data[1] == \"GEBURTSJAHR_HUND\":\n",
    "           continue        ## Suche Aaron in den gewünschten Jahren        \n",
    "        dogname = data[0]        ## suche in Kleinbuchstaben, um schreibfehler auszuschalten\n",
    "        if \"aaron\" in dogname.lower():            \n",
    "            if int(data[1]) >= 2000 and int(data[1]) <= 2012:                \n",
    "                total_dog = total_dog + 1            \n",
    "                print(data[0] + \" / \" + data[1])    \n",
    "                print()\n",
    "                print(\"Zwischen 2000 und 2012 wurden \" + str(total_dog) + \" Hunde auf den Namen Aaron getauft.\")\n"
   ]
  },
  {
   "cell_type": "code",
   "execution_count": null,
   "metadata": {},
   "outputs": [],
   "source": [
    "1"
   ]
  }
 ],
 "metadata": {
  "kernelspec": {
   "display_name": "Python 3",
   "language": "python",
   "name": "python3"
  },
  "language_info": {
   "codemirror_mode": {
    "name": "ipython",
    "version": 3
   },
   "file_extension": ".py",
   "mimetype": "text/x-python",
   "name": "python",
   "nbconvert_exporter": "python",
   "pygments_lexer": "ipython3",
   "version": "3.7.3"
  }
 },
 "nbformat": 4,
 "nbformat_minor": 2
}
