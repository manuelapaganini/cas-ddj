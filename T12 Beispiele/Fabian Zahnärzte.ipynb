{
 "cells": [
  {
   "cell_type": "markdown",
   "metadata": {},
   "source": [
    "# Übung Zahnärzte"
   ]
  },
  {
   "cell_type": "code",
   "execution_count": 30,
   "metadata": {},
   "outputs": [],
   "source": [
    "import requests\n",
    "from bs4 import BeautifulSoup \n"
   ]
  },
  {
   "cell_type": "markdown",
   "metadata": {},
   "source": [
    " "
   ]
  },
  {
   "cell_type": "code",
   "execution_count": null,
   "metadata": {},
   "outputs": [],
   "source": [
    "# Swens Lösung\n",
    "\n",
    "url_re = requests.get(url)\n",
    "page_content = url_re.text\n",
    "\n",
    "file = open('file_text.html', 'w')\n",
    "file.write(page_content)\n",
    "file.close()"
   ]
  },
  {
   "cell_type": "code",
   "execution_count": null,
   "metadata": {},
   "outputs": [],
   "source": [
    "# Barny's Lösung\n",
    "\n",
    "r = requests.get('https://www.zahnarztvergleich.ch/zahnarzt.php?p=20&geschlecht=0')\n",
    "r = r.text.encode('utf-8')"
   ]
  },
  {
   "cell_type": "code",
   "execution_count": null,
   "metadata": {},
   "outputs": [],
   "source": [
    "\n",
    "\n",
    "with open (\"test.html\", \"wb\") as file:\n",
    "    file.write(r)\n",
    "    file.close()"
   ]
  },
  {
   "cell_type": "code",
   "execution_count": 32,
   "metadata": {},
   "outputs": [
    {
     "name": "stdout",
     "output_type": "stream",
     "text": [
      "https://www.zahnarztvergleich.ch/zahnarzt.php?p=20&geschlecht=0\n",
      "https://www.zahnarztvergleich.ch/zahnarzt.php?p=30&geschlecht=0\n",
      "https://www.zahnarztvergleich.ch/zahnarzt.php?p=40&geschlecht=0\n",
      "https://www.zahnarztvergleich.ch/zahnarzt.php?p=50&geschlecht=0\n",
      "https://www.zahnarztvergleich.ch/zahnarzt.php?p=60&geschlecht=0\n"
     ]
    }
   ],
   "source": [
    "for page in range(2,7):\n",
    "    url_anfang = 'https://www.zahnarztvergleich.ch/zahnarzt.php?p='\n",
    "    url_ende = str(page)+'0&geschlecht=0'\n",
    "    url = url_anfang + url_ende\n",
    "    \n",
    "    print(url)\n",
    "    \n",
    "    r = requests.get(url)\n",
    "    page_content = r.text\n",
    "\n",
    "    file = open('pages_zahnärzte/'+str(page)+'.html', 'w')\n",
    "    file.write(page_content)\n",
    "    file.close()"
   ]
  },
  {
   "cell_type": "code",
   "execution_count": null,
   "metadata": {},
   "outputs": [],
   "source": [
    "\n"
   ]
  }
 ],
 "metadata": {
  "kernelspec": {
   "display_name": "Python 3",
   "language": "python",
   "name": "python3"
  },
  "language_info": {
   "codemirror_mode": {
    "name": "ipython",
    "version": 3
   },
   "file_extension": ".py",
   "mimetype": "text/x-python",
   "name": "python",
   "nbconvert_exporter": "python",
   "pygments_lexer": "ipython3",
   "version": "3.7.3"
  }
 },
 "nbformat": 4,
 "nbformat_minor": 2
}
