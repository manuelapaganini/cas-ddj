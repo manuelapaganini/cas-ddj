{
 "cells": [
  {
   "cell_type": "markdown",
   "metadata": {},
   "source": [
    "# BeautifulSoup in schön"
   ]
  },
  {
   "cell_type": "code",
   "execution_count": 1,
   "metadata": {},
   "outputs": [],
   "source": [
    "import requests\n",
    "from bs4 import BeautifulSoup\n",
    "import pandas as pd"
   ]
  },
  {
   "cell_type": "code",
   "execution_count": 12,
   "metadata": {},
   "outputs": [
    {
     "name": "stdout",
     "output_type": "stream",
     "text": [
      "scraping page 1\n",
      "scraping page 2\n",
      "scraping page 3\n",
      "scraping page 4\n",
      "scraping page 5\n",
      "scraping page 6\n",
      "scraping page 7\n",
      "scraping page 8\n",
      "scraping page 9\n",
      "scraping page 10\n",
      "scraping page 11\n",
      "scraping page 12\n",
      "scraping page 13\n",
      "scraping page 14\n",
      "scraping page 15\n",
      "scraping page 16\n",
      "scraping page 17\n",
      "scraping page 18\n",
      "scraping page 19\n",
      "scraping page 20\n",
      "scraping page 21\n",
      "scraping page 22\n",
      "scraping page 23\n",
      "scraping page 24\n",
      "scraping page 25\n",
      "scraping page 26\n",
      "scraping page 27\n",
      "scraping page 28\n",
      "scraping page 29\n",
      "scraping page 30\n",
      "scraping page 31\n",
      "scraping page 32\n",
      "scraping page 33\n",
      "scraping page 34\n",
      "scraping page 35\n",
      "scraping page 36\n",
      "scraping page 37\n",
      "scraping page 38\n",
      "scraping page 39\n",
      "scraping page 40\n"
     ]
    }
   ],
   "source": [
    "# Zum noch zum Funktionieren bringen. \n",
    "url_anfang = 'https://kr-geschaefte.zug.ch/gast/geschaefte?commit=Filtern&geschaeft_filter%5Babgeschlossen_bis%5D=&geschaeft_filter%5Babgeschlossen_von%5D=&geschaeft_filter%5Barten_refs%5D%5B%5D=&geschaeft_filter%5Beingereicht_bis%5D=&geschaeft_filter%5Beingereicht_von%5D=&geschaeft_filter%5Bfrist_bis%5D=&geschaeft_filter%5Bhistorische_staende_refs%5D%5B%5D=&geschaeft_filter%5Bkommissionen_refs%5D%5B%5D=&geschaeft_filter%5Bstaende_refs%5D%5B%5D=&geschaeft_filter%5Bstatus_ids%5D%5B%5D=haengig&geschaeft_filter%5Bstatus_ids%5D%5B%5D=abgeschlossen&geschaeft_filter%5Bstatus_ids%5D%5B%5D=&geschaeft_filter%5Btitel%5D=&geschaeft_filter%5Bzustaendig_refs%5D%5B%5D=&page='\n",
    "url_ende = '&utf8=%E2%9C%93'\n",
    "\n",
    "alle_seiten = []\n",
    "\n",
    "def create_mini_dict(cell):\n",
    "    td_list = cell.find_all('td')\n",
    "    href = td_list[0].find('a')['href']\n",
    "    text = td_list[1].text\n",
    "    stand = td_list[2].text\n",
    "    zuständig = td_list[3].text\n",
    "    geschäft = td_list[4].text\n",
    "    status = td_list[5].text\n",
    "\n",
    "    mini_dict ={\"Link\": href,\n",
    "                \"text\": text,\n",
    "                \"stand\": stand,\n",
    "                \"Zuständig\": zuständig,\n",
    "                \"Geschäft\": geschäft,\n",
    "                \"Status\":status}\n",
    "    return mini_dict\n",
    "\n",
    "for page in range(1, 41):\n",
    "    r = requests.get(url_anfang+str(page)+url_ende)\n",
    "    soup = BeautifulSoup(r.content, 'html.parser') \n",
    "    tr_list = soup.find_all(\"tr\")[2:]\n",
    "    print(\"scraping page \" + str(page))\n",
    "    \n",
    "\n",
    "    for line in tr_list:\n",
    "        mini_var = create_mini_dict(line)    \n",
    "        alle_seiten.append(mini_var)    \n",
    "    "
   ]
  },
  {
   "cell_type": "code",
   "execution_count": 14,
   "metadata": {},
   "outputs": [],
   "source": [
    "pd.DataFrame(alle_seiten).to_csv(\"zug_geschäfte\")"
   ]
  },
  {
   "cell_type": "code",
   "execution_count": null,
   "metadata": {},
   "outputs": [],
   "source": []
  },
  {
   "cell_type": "code",
   "execution_count": null,
   "metadata": {},
   "outputs": [],
   "source": [
    "df = pd.DataFrame(alle_seiten)"
   ]
  }
 ],
 "metadata": {
  "kernelspec": {
   "display_name": "Python 3",
   "language": "python",
   "name": "python3"
  },
  "language_info": {
   "codemirror_mode": {
    "name": "ipython",
    "version": 3
   },
   "file_extension": ".py",
   "mimetype": "text/x-python",
   "name": "python",
   "nbconvert_exporter": "python",
   "pygments_lexer": "ipython3",
   "version": "3.7.3"
  }
 },
 "nbformat": 4,
 "nbformat_minor": 2
}
