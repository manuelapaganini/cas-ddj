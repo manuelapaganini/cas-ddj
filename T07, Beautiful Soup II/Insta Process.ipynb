{
 "cells": [
  {
   "cell_type": "markdown",
   "metadata": {},
   "source": [
    "# Insta"
   ]
  },
  {
   "cell_type": "code",
   "execution_count": 23,
   "metadata": {},
   "outputs": [],
   "source": [
    "import pandas as pd\n",
    "\n",
    "file = open(\"Insta_Follower.csv\", \"r\")\n",
    "\n",
    "new_list = []\n",
    "\n",
    "for line in file:\n",
    "        data = line.split(\";\")\n",
    "        if \"Profilbild\" in data[0]:\n",
    "            pass\n",
    "        else:\n",
    "            mini_dict = {\"Benutzername\": line}\n",
    "            new_list.append(mini_dict)\n",
    "            \n",
    "\n",
    "pd.DataFrame(new_list).to_csv('insta_processed.csv')"
   ]
  },
  {
   "cell_type": "code",
   "execution_count": null,
   "metadata": {},
   "outputs": [],
   "source": []
  }
 ],
 "metadata": {
  "kernelspec": {
   "display_name": "Python 3",
   "language": "python",
   "name": "python3"
  },
  "language_info": {
   "codemirror_mode": {
    "name": "ipython",
    "version": 3
   },
   "file_extension": ".py",
   "mimetype": "text/x-python",
   "name": "python",
   "nbconvert_exporter": "python",
   "pygments_lexer": "ipython3",
   "version": "3.7.3"
  }
 },
 "nbformat": 4,
 "nbformat_minor": 2
}
